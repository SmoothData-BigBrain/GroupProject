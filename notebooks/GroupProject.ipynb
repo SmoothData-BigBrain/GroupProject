{
 "cells": [
  {
   "cell_type": "code",
   "execution_count": 5,
   "id": "89f623d2-4751-4a3d-b23d-238c3f1dc3cd",
   "metadata": {},
   "outputs": [],
   "source": [
    "import seaborn as sns\n",
    "import pandas as pd\n",
    "import numpy as np\n",
    "import matplotlib.pyplot as plt\n",
    "import os\n",
    "import glob\n",
    "\n",
    "# importing util.py \n",
    "import util\n",
    "\n",
    "from pyspark import SparkContext\n",
    "from pyspark.sql import SparkSession\n",
    "from pyspark.sql import functions as F\n",
    "from pyspark.sql.functions import col, isnan, when, count, isnull"
   ]
  },
  {
   "cell_type": "code",
   "execution_count": null,
   "id": "af4a84d5-2483-4b67-84d2-65a223f78f60",
   "metadata": {},
   "outputs": [],
   "source": [
    "# import sys\n",
    "# sys.path.append('notebooks/util.py')\n",
    "# print(sys.path)"
   ]
  },
  {
   "cell_type": "code",
   "execution_count": 2,
   "id": "be20b08e-6429-49ec-95cc-3de833a90d98",
   "metadata": {},
   "outputs": [
    {
     "name": "stdout",
     "output_type": "stream",
     "text": [
      "CSV files already exist in ../data/airlines/. Skipping data download.\n"
     ]
    }
   ],
   "source": [
    "data_directory = '../data/airlines/'\n",
    "util.check_and_fetch_data(data_directory)"
   ]
  },
  {
   "cell_type": "code",
   "execution_count": 3,
   "id": "40e41cd7-f31e-46cd-bcf1-138b597e7944",
   "metadata": {},
   "outputs": [
    {
     "name": "stderr",
     "output_type": "stream",
     "text": [
      "25/04/29 18:49:05 WARN Utils: Your hostname, Mihirs-MacBook-Pro.local resolves to a loopback address: 127.0.0.1; using 192.168.1.7 instead (on interface en0)\n",
      "25/04/29 18:49:05 WARN Utils: Set SPARK_LOCAL_IP if you need to bind to another address\n",
      "Setting default log level to \"WARN\".\n",
      "To adjust logging level use sc.setLogLevel(newLevel). For SparkR, use setLogLevel(newLevel).\n",
      "25/04/29 18:49:06 WARN NativeCodeLoader: Unable to load native-hadoop library for your platform... using builtin-java classes where applicable\n"
     ]
    }
   ],
   "source": [
    "# Uncomment the below code block if the Optimized spark config is not sufficient for your machine \n",
    "# spark = SparkSession.builder \\\n",
    "#     .appName(\"Flight Data Analysis\") \\\n",
    "#     .config(\"spark.sql.debug.maxToStringFields\", 1000) \\\n",
    "#     .getOrCreate()\n",
    "\n",
    "# spark.sparkContext.setLogLevel(\"ERROR\")\n",
    "# ---------\n",
    "\n",
    "\n",
    "# keep the following code for the optimized SparkSession builder for our dataset size\n",
    "# Create a Spark session with optimized configurations\n",
    "spark = SparkSession.builder \\\n",
    "    .appName(\"Flight Data Analysis\") \\\n",
    "    .config(\"spark.sql.debug.maxToStringFields\", 1000) \\\n",
    "    .config(\"spark.sql.shuffle.partitions\", 1000) \\\n",
    "    .config(\"spark.executor.memory\", \"8g\") \\\n",
    "    .config(\"spark.driver.memory\", \"4g\") \\\n",
    "    .config(\"spark.executor.cores\", \"4\") \\\n",
    "    .config(\"spark.sql.autoBroadcastJoinThreshold\", \"100MB\") \\\n",
    "    .getOrCreate()\n",
    "\n",
    "\n",
    "# Don't comment out the below lines\n",
    "# Set the log level\n",
    "spark.sparkContext.setLogLevel(\"ERROR\")"
   ]
  },
  {
   "cell_type": "code",
   "execution_count": 6,
   "id": "07d57f5c-651e-40f1-90fd-5fd30ce2fa18",
   "metadata": {},
   "outputs": [
    {
     "name": "stderr",
     "output_type": "stream",
     "text": [
      "                                                                                "
     ]
    }
   ],
   "source": [
    "# os.getcwd()\n",
    "home_dir = os.path.expanduser('~')\n",
    "folder_path = os.path.join(home_dir, 'Desktop/GroupProject/data/airlines/archive/raw')\n",
    "# folder_path = '~/Desktop/GroupProject/data/archive/raw'\n",
    "csv_files = glob.glob(os.path.join(folder_path, '*.csv'))\n",
    "df = spark.read.csv(csv_files,\n",
    "                       sep = ',',\n",
    "                       inferSchema = True,\n",
    "                       header = True)\n"
   ]
  },
  {
   "cell_type": "code",
   "execution_count": 7,
   "id": "35740a54-1abf-4d8b-9840-ebd4b670f67d",
   "metadata": {},
   "outputs": [
    {
     "name": "stderr",
     "output_type": "stream",
     "text": [
      "                                                                                "
     ]
    },
    {
     "data": {
      "text/plain": [
       "29193782"
      ]
     },
     "execution_count": 7,
     "metadata": {},
     "output_type": "execute_result"
    }
   ],
   "source": [
    "num_entries = df.count()\n",
    "num_entries"
   ]
  },
  {
   "cell_type": "code",
   "execution_count": 8,
   "id": "bbc98c34-1dc1-45ee-921e-cb7c2534331d",
   "metadata": {},
   "outputs": [
    {
     "name": "stderr",
     "output_type": "stream",
     "text": [
      "[Stage 7:======================================================>(115 + 1) / 116]"
     ]
    },
    {
     "name": "stdout",
     "output_type": "stream",
     "text": [
      "{'Year': 29193782, 'Quarter': 29193782, 'Month': 29193782, 'DayofMonth': 29193782, 'DayOfWeek': 29193782, 'FlightDate': 29193782, 'Marketing_Airline_Network': 29193782, 'Operated_or_Branded_Code_Share_Partners': 29193782, 'DOT_ID_Marketing_Airline': 29193782, 'IATA_Code_Marketing_Airline': 29193782, 'Flight_Number_Marketing_Airline': 29193782, 'Originally_Scheduled_Code_Share_Airline': 3873, 'DOT_ID_Originally_Scheduled_Code_Share_Airline': 3873, 'IATA_Code_Originally_Scheduled_Code_Share_Airline': 3873, 'Flight_Num_Originally_Scheduled_Code_Share_Airline': 3873, 'Operating_Airline ': 29193782, 'DOT_ID_Operating_Airline': 29193782, 'IATA_Code_Operating_Airline': 29193782, 'Tail_Number': 28926171, 'Flight_Number_Operating_Airline': 29193782, 'OriginAirportID': 29193782, 'OriginAirportSeqID': 29193782, 'OriginCityMarketID': 29193782, 'Origin': 29193782, 'OriginCityName': 29193782, 'OriginState': 29193782, 'OriginStateFips': 29193782, 'OriginStateName': 29193782, 'OriginWac': 29193782, 'DestAirportID': 29193782, 'DestAirportSeqID': 29193782, 'DestCityMarketID': 29193782, 'Dest': 29193782, 'DestCityName': 29193782, 'DestState': 29193782, 'DestStateFips': 29193782, 'DestStateName': 29193782, 'DestWac': 29193782, 'CRSDepTime': 29193782, 'DepTime': 28432130, 'DepDelay': 28430698, 'DepDelayMinutes': 28430698, 'DepDel15': 28430698, 'DepartureDelayGroups': 28430698, 'DepTimeBlk': 29193782, 'TaxiOut': 28413221, 'WheelsOff': 28413231, 'WheelsOn': 28400649, 'TaxiIn': 28400639, 'CRSArrTime': 29193782, 'ArrTime': 28407605, 'ArrDelay': 28347599, 'ArrDelayMinutes': 28347599, 'ArrDel15': 28347599, 'ArrivalDelayGroups': 28347599, 'ArrTimeBlk': 29193782, 'Cancelled': 29193782, 'CancellationCode': 777267, 'Diverted': 29193782, 'CRSElapsedTime': 29193760, 'ActualElapsedTime': 28348145, 'AirTime': 28341221, 'Flights': 29193782, 'Distance': 29193782, 'DistanceGroup': 29193782, 'CarrierDelay': 5006771, 'WeatherDelay': 5006768, 'NASDelay': 5006768, 'SecurityDelay': 5006768, 'LateAircraftDelay': 5006768, 'FirstDepTime': 183136, 'TotalAddGTime': 183116, 'LongestAddGTime': 183117, 'DivAirportLandings': 29193692, 'DivReachedDest': 68349, 'DivActualElapsedTime': 59393, 'DivArrDelay': 59451, 'DivDistance': 68337, 'Div1Airport': 72164, 'Div1AirportID': 72164, 'Div1AirportSeqID': 72164, 'Div1WheelsOn': 72136, 'Div1TotalGTime': 72137, 'Div1LongestGTime': 72137, 'Div1WheelsOff': 59793, 'Div1TailNum': 59812, 'Div2Airport': 607, 'Div2AirportID': 612, 'Div2AirportSeqID': 612, 'Div2WheelsOn': 607, 'Div2TotalGTime': 607, 'Div2LongestGTime': 607, 'Div2WheelsOff': 240, 'Div2TailNum': 240, 'Div3Airport': 4, 'Div3AirportID': 4, 'Div3AirportSeqID': 4, 'Div3WheelsOn': 4, 'Div3TotalGTime': 4, 'Div3LongestGTime': 4, 'Div3WheelsOff': 1, 'Div3TailNum': 1, 'Div4Airport': 0, 'Div4AirportID': 0, 'Div4AirportSeqID': 0, 'Div4WheelsOn': 0, 'Div4TotalGTime': 0, 'Div4LongestGTime': 0, 'Div4WheelsOff': 0, 'Div4TailNum': 0, 'Div5Airport': 0, 'Div5AirportID': 0, 'Div5AirportSeqID': 0, 'Div5WheelsOn': 0, 'Div5TotalGTime': 0, 'Div5LongestGTime': 0, 'Div5WheelsOff': 0, 'Div5TailNum': 0, 'Duplicate': 29193782, '_c119': 0}\n"
     ]
    },
    {
     "name": "stderr",
     "output_type": "stream",
     "text": [
      "                                                                                "
     ]
    }
   ],
   "source": [
    "null_counts = df.select([count(col(c)).alias(c) for c in df.columns]).collect()[0].asDict()\n",
    "print(null_counts)"
   ]
  },
  {
   "cell_type": "code",
   "execution_count": 10,
   "id": "8a226561-f033-41d1-a543-c186e73fc152",
   "metadata": {},
   "outputs": [
    {
     "name": "stdout",
     "output_type": "stream",
     "text": [
      "['Year', 'Quarter', 'Month', 'DayofMonth', 'DayOfWeek', 'FlightDate', 'Marketing_Airline_Network', 'Operated_or_Branded_Code_Share_Partners', 'DOT_ID_Marketing_Airline', 'IATA_Code_Marketing_Airline', 'Flight_Number_Marketing_Airline', 'Operating_Airline ', 'DOT_ID_Operating_Airline', 'IATA_Code_Operating_Airline', 'Tail_Number', 'Flight_Number_Operating_Airline', 'OriginAirportID', 'OriginAirportSeqID', 'OriginCityMarketID', 'Origin', 'OriginCityName', 'OriginState', 'OriginStateFips', 'OriginStateName', 'OriginWac', 'DestAirportID', 'DestAirportSeqID', 'DestCityMarketID', 'Dest', 'DestCityName', 'DestState', 'DestStateFips', 'DestStateName', 'DestWac', 'CRSDepTime', 'DepTime', 'DepDelay', 'DepDelayMinutes', 'DepDel15', 'DepartureDelayGroups', 'DepTimeBlk', 'TaxiOut', 'WheelsOff', 'WheelsOn', 'TaxiIn', 'CRSArrTime', 'ArrTime', 'ArrDelay', 'ArrDelayMinutes', 'ArrDel15', 'ArrivalDelayGroups', 'ArrTimeBlk', 'Cancelled', 'Diverted', 'CRSElapsedTime', 'ActualElapsedTime', 'AirTime', 'Flights', 'Distance', 'DistanceGroup', 'DivAirportLandings', 'Duplicate']\n"
     ]
    }
   ],
   "source": [
    "columns_with_few_nulls = [col_name for col_name, count_val in null_counts.items() if count_val > 0.9*num_entries]\n",
    "#columns_with_no_nulls = [col_name for col_name, count_val in null_counts.items() if count_val != 0]\n",
    "print(columns_with_few_nulls)\n",
    "#print(columns_with_all_nulls)\n",
    "#df.select(*columns_with_nulls).show()"
   ]
  },
  {
   "cell_type": "code",
   "execution_count": 11,
   "id": "04dfc3df-a68b-426b-8401-bfbd6fe09ee9",
   "metadata": {},
   "outputs": [
    {
     "name": "stdout",
     "output_type": "stream",
     "text": [
      "+----+-------+-----+----------+---------+----------+-------------------------+---------------------------------------+------------------------+---------------------------+\n",
      "|Year|Quarter|Month|DayofMonth|DayOfWeek|FlightDate|Marketing_Airline_Network|Operated_or_Branded_Code_Share_Partners|DOT_ID_Marketing_Airline|IATA_Code_Marketing_Airline|\n",
      "+----+-------+-----+----------+---------+----------+-------------------------+---------------------------------------+------------------------+---------------------------+\n",
      "|2020|      4|   10|        15|        4|2020-10-15|                       UA|                           UA_CODESHARE|                   19977|                         UA|\n",
      "|2020|      4|   10|        23|        5|2020-10-23|                       UA|                           UA_CODESHARE|                   19977|                         UA|\n",
      "|2020|      4|   10|        20|        2|2020-10-20|                       UA|                           UA_CODESHARE|                   19977|                         UA|\n",
      "|2020|      4|   10|        20|        2|2020-10-20|                       UA|                           UA_CODESHARE|                   19977|                         UA|\n",
      "|2020|      4|   10|        17|        6|2020-10-17|                       UA|                           UA_CODESHARE|                   19977|                         UA|\n",
      "|2020|      4|   10|        17|        6|2020-10-17|                       UA|                           UA_CODESHARE|                   19977|                         UA|\n",
      "|2020|      4|   10|        12|        1|2020-10-12|                       UA|                           UA_CODESHARE|                   19977|                         UA|\n",
      "|2020|      4|   10|        12|        1|2020-10-12|                       UA|                           UA_CODESHARE|                   19977|                         UA|\n",
      "|2020|      4|   10|        23|        5|2020-10-23|                       UA|                           UA_CODESHARE|                   19977|                         UA|\n",
      "|2020|      4|   10|        24|        6|2020-10-24|                       UA|                           UA_CODESHARE|                   19977|                         UA|\n",
      "|2020|      4|   10|        15|        4|2020-10-15|                       UA|                           UA_CODESHARE|                   19977|                         UA|\n",
      "|2020|      4|   10|        20|        2|2020-10-20|                       UA|                           UA_CODESHARE|                   19977|                         UA|\n",
      "|2020|      4|   10|        20|        2|2020-10-20|                       UA|                           UA_CODESHARE|                   19977|                         UA|\n",
      "|2020|      4|   10|        20|        2|2020-10-20|                       UA|                           UA_CODESHARE|                   19977|                         UA|\n",
      "|2020|      4|   10|        15|        4|2020-10-15|                       UA|                           UA_CODESHARE|                   19977|                         UA|\n",
      "|2020|      4|   10|        12|        1|2020-10-12|                       UA|                           UA_CODESHARE|                   19977|                         UA|\n",
      "|2020|      4|   10|        16|        5|2020-10-16|                       UA|                           UA_CODESHARE|                   19977|                         UA|\n",
      "|2020|      4|   10|        24|        6|2020-10-24|                       UA|                           UA_CODESHARE|                   19977|                         UA|\n",
      "|2020|      4|   10|        23|        5|2020-10-23|                       UA|                           UA_CODESHARE|                   19977|                         UA|\n",
      "|2020|      4|   10|        12|        1|2020-10-12|                       UA|                           UA_CODESHARE|                   19977|                         UA|\n",
      "+----+-------+-----+----------+---------+----------+-------------------------+---------------------------------------+------------------------+---------------------------+\n",
      "only showing top 20 rows\n",
      "\n"
     ]
    }
   ],
   "source": [
    "newdf = df.select(columns_with_few_nulls)\n",
    "newdf.select(newdf.columns[0:10]).show()"
   ]
  },
  {
   "cell_type": "code",
   "execution_count": null,
   "id": "4984a017-d287-4271-a46e-75a4f6069ee0",
   "metadata": {},
   "outputs": [],
   "source": [
    "newdf.select(newdf.columns[10:19]).show()"
   ]
  },
  {
   "cell_type": "code",
   "execution_count": null,
   "id": "a7c131ea-1371-442f-a13b-e20fef619f96",
   "metadata": {},
   "outputs": [],
   "source": [
    "newdf.select(newdf.columns[19:33]).show()"
   ]
  },
  {
   "cell_type": "code",
   "execution_count": null,
   "id": "560f9315-25d8-4014-9d29-ad13d882340f",
   "metadata": {},
   "outputs": [],
   "source": [
    "newdf.select(newdf.columns[33:50]).show()"
   ]
  },
  {
   "cell_type": "code",
   "execution_count": null,
   "id": "ede22348-c44c-442d-a28d-c54149a9d1a3",
   "metadata": {},
   "outputs": [],
   "source": [
    "newdf.select(newdf.columns[50:62]).show()"
   ]
  },
  {
   "cell_type": "code",
   "execution_count": 13,
   "id": "533bed13-34fe-4b6a-b198-bd4e4061d0fe",
   "metadata": {},
   "outputs": [
    {
     "name": "stderr",
     "output_type": "stream",
     "text": [
      "[Stage 12:=================================================>    (107 + 9) / 116]"
     ]
    },
    {
     "name": "stdout",
     "output_type": "stream",
     "text": [
      "{'Marketing_Airline_Network': 29193782, 'Operated_or_Branded_Code_Share_Partners': 29193782, 'IATA_Code_Marketing_Airline': 29193782, 'Operating_Airline ': 29193782, 'IATA_Code_Operating_Airline': 29193782}\n"
     ]
    },
    {
     "name": "stderr",
     "output_type": "stream",
     "text": [
      "                                                                                "
     ]
    }
   ],
   "source": [
    "repeat_cols = [\"Marketing_Airline_Network\", \"Operated_or_Branded_Code_Share_Partners\", \"IATA_Code_Marketing_Airline\", \"Operating_Airline \", \"IATA_Code_Operating_Airline\"]\n",
    "print(newdf.select([count(col(c)).alias(c) for c in repeat_cols]).collect()[0].asDict())"
   ]
  },
  {
   "cell_type": "code",
   "execution_count": 14,
   "id": "49c159cf-e0ed-4518-bf66-f720cca4d5a8",
   "metadata": {},
   "outputs": [
    {
     "name": "stderr",
     "output_type": "stream",
     "text": [
      "[Stage 15:=====================================================>(115 + 1) / 116]"
     ]
    },
    {
     "name": "stdout",
     "output_type": "stream",
     "text": [
      "39\n"
     ]
    },
    {
     "name": "stderr",
     "output_type": "stream",
     "text": [
      "                                                                                "
     ]
    }
   ],
   "source": [
    "print(newdf.select(repeat_cols).distinct().count())"
   ]
  },
  {
   "cell_type": "code",
   "execution_count": 12,
   "id": "f6ed8394-1381-429b-ac3c-80b52c520c8c",
   "metadata": {},
   "outputs": [
    {
     "name": "stdout",
     "output_type": "stream",
     "text": [
      "+----+-----+----------+------+--------------------+--------------------+--------+--------+---------+--------------+-----------------+\n",
      "|Year|Month|DayofMonth|Origin|      OriginCityName|        DestCityName|DepDelay|ArrDelay|Cancelled|CRSElapsedTime|ActualElapsedTime|\n",
      "+----+-----+----------+------+--------------------+--------------------+--------+--------+---------+--------------+-----------------+\n",
      "|2020|   10|        15|   CLT|       Charlotte, NC|      Washington, DC|    -1.0|    19.0|      0.0|          96.0|            116.0|\n",
      "|2020|   10|        23|   PIT|      Pittsburgh, PA|         Houston, TX|    -4.0|    16.0|      0.0|         193.0|            213.0|\n",
      "|2020|   10|        20|   SDF|      Louisville, KY|         Houston, TX|     0.0|    32.0|      0.0|         150.0|            182.0|\n",
      "|2020|   10|        20|   LIT|     Little Rock, AR|         Houston, TX|    -1.0|    29.0|      0.0|          99.0|            129.0|\n",
      "|2020|   10|        17|   IAD|      Washington, DC|Sarasota/Bradento...|    83.0|    70.0|      0.0|         149.0|            136.0|\n",
      "|2020|   10|        17|   SRQ|Sarasota/Bradento...|      Washington, DC|    90.0|    77.0|      0.0|         141.0|            128.0|\n",
      "|2020|   10|        12|   IAH|         Houston, TX|Dallas/Fort Worth...|    -1.0|    26.0|      0.0|          79.0|            106.0|\n",
      "|2020|   10|        12|   DTW|         Detroit, MI|      Washington, DC|   -10.0|    16.0|      0.0|          89.0|            115.0|\n",
      "|2020|   10|        23|   CHS|      Charleston, SC|         Houston, TX|    -6.0|    36.0|      0.0|         163.0|            205.0|\n",
      "|2020|   10|        24|   IAD|      Washington, DC|    Jacksonville, FL|    59.0|    50.0|      0.0|         127.0|            118.0|\n",
      "|2020|   10|        15|   BNA|       Nashville, TN|         Houston, TX|    37.0|    20.0|      0.0|         138.0|            121.0|\n",
      "|2020|   10|        20|   SRQ|Sarasota/Bradento...|      Washington, DC|   517.0|   497.0|      0.0|         141.0|            121.0|\n",
      "|2020|   10|        20|   MCI|     Kansas City, MO|         Houston, TX|    -3.0|    29.0|      0.0|         130.0|            162.0|\n",
      "|2020|   10|        20|   IND|    Indianapolis, IN|         Houston, TX|    -2.0|    36.0|      0.0|         151.0|            189.0|\n",
      "|2020|   10|        15|   IAH|         Houston, TX|Dallas/Fort Worth...|    -3.0|    34.0|      0.0|          79.0|            116.0|\n",
      "|2020|   10|        12|   CLE|       Cleveland, OH|      Washington, DC|    -4.0|    16.0|      0.0|          78.0|             98.0|\n",
      "|2020|   10|        16|   CMH|        Columbus, OH|         Houston, TX|    -5.0|    19.0|      0.0|         177.0|            201.0|\n",
      "|2020|   10|        24|   IAH|         Houston, TX|    Jacksonville, FL|    -1.0|    20.0|      0.0|         138.0|            159.0|\n",
      "|2020|   10|        23|   IAH|         Houston, TX|    Fayetteville, AR|    17.0|    64.0|      0.0|          97.0|            144.0|\n",
      "|2020|   10|        12|   SAV|        Savannah, GA|      Washington, DC|    -3.0|    15.0|      0.0|         101.0|            119.0|\n",
      "+----+-----+----------+------+--------------------+--------------------+--------+--------+---------+--------------+-----------------+\n",
      "only showing top 20 rows\n",
      "\n"
     ]
    }
   ],
   "source": [
    "cols_to_keep = [\"Year\", \"Month\", \"DayofMonth\", \"Origin\", \"OriginCityName\", \"DestCityName\", \"DepDelay\", \"ArrDelay\", \"Cancelled\", \"CRSElapsedTime\", \"ActualElapsedTime\"]\n",
    "my_df = newdf.select(cols_to_keep)\n",
    "my_df.show()"
   ]
  },
  {
   "cell_type": "markdown",
   "id": "592d62d5-2d3d-48ec-929b-0427d1f3b30f",
   "metadata": {},
   "source": [
    "## Which Origin Cities had the most delayed flights?"
   ]
  },
  {
   "cell_type": "code",
   "execution_count": null,
   "id": "1286ba36-aade-4551-a29b-ad5bd5647f19",
   "metadata": {},
   "outputs": [],
   "source": [
    "count_delay = my_df.select([\"Origin\", \"DepDelay\"]).groupBy(\"Origin\")\\\n",
    "        .agg(count(F.when(col(\"DepDelay\") > 0, 1)).alias(\"DelayCount\"), \n",
    "             count(F.when(col(\"DepDelay\") < 0, 1)).alias(\"EarlyCount\"),\n",
    "            count(\"*\").alias(\"TotalCount\")).orderBy(col(\"TotalCount\").desc())\n",
    "pandas_delay = count_delay.toPandas()"
   ]
  },
  {
   "cell_type": "code",
   "execution_count": null,
   "id": "601ba217-a37f-484a-9c80-e11017cb7fd9",
   "metadata": {},
   "outputs": [],
   "source": [
    "pdf = pandas_delay.copy()\n",
    "pdf[\"OnTimeCount\"] = pdf[\"TotalCount\"] - pdf[\"DelayCount\"] - pdf[\"EarlyCount\"]"
   ]
  },
  {
   "cell_type": "code",
   "execution_count": null,
   "id": "c48fe210-a7d8-4bba-98ca-575e46bbb5e8",
   "metadata": {},
   "outputs": [],
   "source": [
    "top_20 = pdf.head(20)\n",
    "top_20"
   ]
  },
  {
   "cell_type": "code",
   "execution_count": null,
   "id": "0920fa31-f3bc-4ab1-b651-276377055d9c",
   "metadata": {},
   "outputs": [],
   "source": [
    "count_delay = my_df.select([\"Origin\", \"DepDelay\"]).groupBy(\"Origin\")\\\n",
    "        .agg(count(F.when(col(\"DepDelay\") > 0, 1)).alias(\"DelayCount\"), \n",
    "             count(F.when(col(\"DepDelay\") < 0, 1)).alias(\"EarlyCount\"),\n",
    "            count(\"*\").alias(\"TotalCount\")).orderBy(col(\"TotalCount\").desc())\n",
    "pandas_delay = count_delay.toPandas()# Assuming pdf has these columns: OriginCity, DelayedFlights, EarlyFlights, OnTimeFlights\n",
    "\n",
    "# Bar positions\n",
    "cities = top_20[\"Origin\"]\n",
    "x = np.arange(len(cities))\n",
    "\n",
    "# Heights\n",
    "early = top_20[\"EarlyCount\"]\n",
    "on_time = top_20[\"OnTimeCount\"]\n",
    "delayed = top_20[\"DelayCount\"]\n",
    "\n",
    "# Plot\n",
    "plt.figure(figsize=(12, 6))\n",
    "plt.bar(x, early, label=\"Early\", color=\"green\")\n",
    "plt.bar(x, on_time, bottom=early, label=\"On Time\", color=\"gray\")\n",
    "plt.bar(x, delayed, bottom=early + on_time, label=\"Delayed\", color=\"red\")\n",
    "\n",
    "# Labels and formatting\n",
    "plt.xticks(x, cities, rotation=45)\n",
    "plt.ylabel(\"Number of Flights\")\n",
    "plt.title(\"Flight Status by Origin City (Top 20)\")\n",
    "plt.legend(title=\"Flight Status\")\n",
    "plt.tight_layout()\n",
    "plt.show()"
   ]
  },
  {
   "cell_type": "code",
   "execution_count": null,
   "id": "871d865b-bdc0-4351-baec-9b6b2730cb81",
   "metadata": {},
   "outputs": [],
   "source": [
    "year_delay = my_df.select([\"Year\", \"DepDelay\"]).groupBy(\"Origin\")\\\n",
    "        .agg(count(F.when(col(\"DepDelay\") > 0, 1)).alias(\"DelayCount\"), \n",
    "             count(F.when(col(\"DepDelay\") < 0, 1)).alias(\"EarlyCount\"),\n",
    "            count(\"*\").alias(\"TotalCount\")).orderBy(col(\"TotalCount\").desc())\n",
    "pandas_year_delay = count_delay.toPandas()"
   ]
  },
  {
   "cell_type": "code",
   "execution_count": null,
   "id": "ace54170-ec83-4707-8750-011b5e51397f",
   "metadata": {},
   "outputs": [],
   "source": []
  }
 ],
 "metadata": {
  "kernelspec": {
   "display_name": "Python 3 (ipykernel)",
   "language": "python",
   "name": "python3"
  },
  "language_info": {
   "codemirror_mode": {
    "name": "ipython",
    "version": 3
   },
   "file_extension": ".py",
   "mimetype": "text/x-python",
   "name": "python",
   "nbconvert_exporter": "python",
   "pygments_lexer": "ipython3",
   "version": "3.9.6"
  }
 },
 "nbformat": 4,
 "nbformat_minor": 5
}
