{
 "cells": [
  {
   "cell_type": "code",
   "execution_count": 1,
   "id": "1d8cc60b-8fd9-4a6a-b979-c114ba13dd8f",
   "metadata": {},
   "outputs": [],
   "source": [
    "from pyspark import SparkContext\n",
    "from pyspark.sql import SparkSession"
   ]
  },
  {
   "cell_type": "code",
   "execution_count": 2,
   "id": "f6ab8167-b027-4ed9-b731-a7b89df5aef4",
   "metadata": {},
   "outputs": [],
   "source": [
    "from pyspark.sql import functions as F\n",
    "from pyspark.sql.functions import col, isnan, when, count, isnull"
   ]
  },
  {
   "cell_type": "code",
   "execution_count": 3,
   "id": "033ab181-107c-4f77-a3ad-652f6c3ed218",
   "metadata": {},
   "outputs": [],
   "source": [
    "import seaborn as sns\n",
    "import pandas as pd\n",
    "import numpy as np\n",
    "import matplotlib.pyplot as plt"
   ]
  },
  {
   "cell_type": "code",
   "execution_count": 4,
   "id": "40e41cd7-f31e-46cd-bcf1-138b597e7944",
   "metadata": {},
   "outputs": [
    {
     "name": "stderr",
     "output_type": "stream",
     "text": [
      "25/04/25 14:54:18 WARN Utils: Your hostname, Mihirs-MacBook-Pro.local resolves to a loopback address: 127.0.0.1; using 192.168.1.7 instead (on interface en0)\n",
      "25/04/25 14:54:18 WARN Utils: Set SPARK_LOCAL_IP if you need to bind to another address\n",
      "Setting default log level to \"WARN\".\n",
      "To adjust logging level use sc.setLogLevel(newLevel). For SparkR, use setLogLevel(newLevel).\n",
      "25/04/25 14:54:18 WARN NativeCodeLoader: Unable to load native-hadoop library for your platform... using builtin-java classes where applicable\n"
     ]
    }
   ],
   "source": [
    "spark = SparkSession.builder \\\n",
    "    .appName(\"Flight Data Analysis\") \\\n",
    "    .getOrCreate()\n",
    "\n",
    "spark.conf.set(\"spark.sql.debug.maxToStringFields\", 1000)\n",
    "spark.sparkContext.setLogLevel(\"ERROR\")"
   ]
  },
  {
   "cell_type": "code",
   "execution_count": 5,
   "id": "07d57f5c-651e-40f1-90fd-5fd30ce2fa18",
   "metadata": {},
   "outputs": [
    {
     "name": "stderr",
     "output_type": "stream",
     "text": [
      "                                                                                "
     ]
    }
   ],
   "source": [
    "import glob\n",
    "import os\n",
    "os.getcwd()\n",
    "home_dir = os.path.expanduser('~')\n",
    "folder_path = os.path.join(home_dir, 'Desktop/GroupProject/data/archive/raw')\n",
    "# folder_path = '~/Desktop/GroupProject/data/archive/raw'\n",
    "csv_files = glob.glob(os.path.join(folder_path, '*.csv'))\n",
    "df = spark.read.csv(csv_files,\n",
    "                       sep = ',',\n",
    "                       inferSchema = True,\n",
    "                       header = True)\n"
   ]
  },
  {
   "cell_type": "code",
   "execution_count": 6,
   "id": "35740a54-1abf-4d8b-9840-ebd4b670f67d",
   "metadata": {},
   "outputs": [],
   "source": [
    "num_entries = 29193782"
   ]
  },
  {
   "cell_type": "code",
   "execution_count": 7,
   "id": "bbc98c34-1dc1-45ee-921e-cb7c2534331d",
   "metadata": {},
   "outputs": [
    {
     "name": "stderr",
     "output_type": "stream",
     "text": [
      "[Stage 4:======================================================>(115 + 1) / 116]"
     ]
    },
    {
     "name": "stdout",
     "output_type": "stream",
     "text": [
      "{'Year': 29193782, 'Quarter': 29193782, 'Month': 29193782, 'DayofMonth': 29193782, 'DayOfWeek': 29193782, 'FlightDate': 29193782, 'Marketing_Airline_Network': 29193782, 'Operated_or_Branded_Code_Share_Partners': 29193782, 'DOT_ID_Marketing_Airline': 29193782, 'IATA_Code_Marketing_Airline': 29193782, 'Flight_Number_Marketing_Airline': 29193782, 'Originally_Scheduled_Code_Share_Airline': 3873, 'DOT_ID_Originally_Scheduled_Code_Share_Airline': 3873, 'IATA_Code_Originally_Scheduled_Code_Share_Airline': 3873, 'Flight_Num_Originally_Scheduled_Code_Share_Airline': 3873, 'Operating_Airline ': 29193782, 'DOT_ID_Operating_Airline': 29193782, 'IATA_Code_Operating_Airline': 29193782, 'Tail_Number': 28926171, 'Flight_Number_Operating_Airline': 29193782, 'OriginAirportID': 29193782, 'OriginAirportSeqID': 29193782, 'OriginCityMarketID': 29193782, 'Origin': 29193782, 'OriginCityName': 29193782, 'OriginState': 29193782, 'OriginStateFips': 29193782, 'OriginStateName': 29193782, 'OriginWac': 29193782, 'DestAirportID': 29193782, 'DestAirportSeqID': 29193782, 'DestCityMarketID': 29193782, 'Dest': 29193782, 'DestCityName': 29193782, 'DestState': 29193782, 'DestStateFips': 29193782, 'DestStateName': 29193782, 'DestWac': 29193782, 'CRSDepTime': 29193782, 'DepTime': 28432130, 'DepDelay': 28430698, 'DepDelayMinutes': 28430698, 'DepDel15': 28430698, 'DepartureDelayGroups': 28430698, 'DepTimeBlk': 29193782, 'TaxiOut': 28413221, 'WheelsOff': 28413231, 'WheelsOn': 28400649, 'TaxiIn': 28400639, 'CRSArrTime': 29193782, 'ArrTime': 28407605, 'ArrDelay': 28347599, 'ArrDelayMinutes': 28347599, 'ArrDel15': 28347599, 'ArrivalDelayGroups': 28347599, 'ArrTimeBlk': 29193782, 'Cancelled': 29193782, 'CancellationCode': 777267, 'Diverted': 29193782, 'CRSElapsedTime': 29193760, 'ActualElapsedTime': 28348145, 'AirTime': 28341221, 'Flights': 29193782, 'Distance': 29193782, 'DistanceGroup': 29193782, 'CarrierDelay': 5006771, 'WeatherDelay': 5006768, 'NASDelay': 5006768, 'SecurityDelay': 5006768, 'LateAircraftDelay': 5006768, 'FirstDepTime': 183136, 'TotalAddGTime': 183116, 'LongestAddGTime': 183117, 'DivAirportLandings': 29193692, 'DivReachedDest': 68349, 'DivActualElapsedTime': 59393, 'DivArrDelay': 59451, 'DivDistance': 68337, 'Div1Airport': 72164, 'Div1AirportID': 72164, 'Div1AirportSeqID': 72164, 'Div1WheelsOn': 72136, 'Div1TotalGTime': 72137, 'Div1LongestGTime': 72137, 'Div1WheelsOff': 59793, 'Div1TailNum': 59812, 'Div2Airport': 607, 'Div2AirportID': 612, 'Div2AirportSeqID': 612, 'Div2WheelsOn': 607, 'Div2TotalGTime': 607, 'Div2LongestGTime': 607, 'Div2WheelsOff': 240, 'Div2TailNum': 240, 'Div3Airport': 4, 'Div3AirportID': 4, 'Div3AirportSeqID': 4, 'Div3WheelsOn': 4, 'Div3TotalGTime': 4, 'Div3LongestGTime': 4, 'Div3WheelsOff': 1, 'Div3TailNum': 1, 'Div4Airport': 0, 'Div4AirportID': 0, 'Div4AirportSeqID': 0, 'Div4WheelsOn': 0, 'Div4TotalGTime': 0, 'Div4LongestGTime': 0, 'Div4WheelsOff': 0, 'Div4TailNum': 0, 'Div5Airport': 0, 'Div5AirportID': 0, 'Div5AirportSeqID': 0, 'Div5WheelsOn': 0, 'Div5TotalGTime': 0, 'Div5LongestGTime': 0, 'Div5WheelsOff': 0, 'Div5TailNum': 0, 'Duplicate': 29193782, '_c119': 0}\n"
     ]
    },
    {
     "name": "stderr",
     "output_type": "stream",
     "text": [
      "                                                                                "
     ]
    }
   ],
   "source": [
    "null_counts = df.select([count(col(c)).alias(c) for c in df.columns]).collect()[0].asDict()\n",
    "print(null_counts)"
   ]
  },
  {
   "cell_type": "code",
   "execution_count": null,
   "id": "8a226561-f033-41d1-a543-c186e73fc152",
   "metadata": {},
   "outputs": [],
   "source": [
    "columns_with_few_nulls = [col_name for col_name, count_val in null_counts.items() if count_val > 0.9*num_entries]\n",
    "#columns_with_no_nulls = [col_name for col_name, count_val in null_counts.items() if count_val != 0]\n",
    "print(columns_with_few_nulls)\n",
    "#print(columns_with_all_nulls)\n",
    "#df.select(*columns_with_nulls).show()"
   ]
  },
  {
   "cell_type": "code",
   "execution_count": null,
   "id": "04dfc3df-a68b-426b-8401-bfbd6fe09ee9",
   "metadata": {},
   "outputs": [],
   "source": [
    "newdf = df.select(columns_with_few_nulls)\n",
    "newdf.select(newdf.columns[0:10]).show()"
   ]
  },
  {
   "cell_type": "code",
   "execution_count": null,
   "id": "4984a017-d287-4271-a46e-75a4f6069ee0",
   "metadata": {},
   "outputs": [],
   "source": [
    "newdf.select(newdf.columns[10:19]).show()"
   ]
  },
  {
   "cell_type": "code",
   "execution_count": null,
   "id": "a7c131ea-1371-442f-a13b-e20fef619f96",
   "metadata": {},
   "outputs": [],
   "source": [
    "newdf.select(newdf.columns[19:33]).show()"
   ]
  },
  {
   "cell_type": "code",
   "execution_count": null,
   "id": "560f9315-25d8-4014-9d29-ad13d882340f",
   "metadata": {},
   "outputs": [],
   "source": [
    "newdf.select(newdf.columns[33:50]).show()"
   ]
  },
  {
   "cell_type": "code",
   "execution_count": null,
   "id": "ede22348-c44c-442d-a28d-c54149a9d1a3",
   "metadata": {},
   "outputs": [],
   "source": [
    "newdf.select(newdf.columns[50:62]).show()"
   ]
  },
  {
   "cell_type": "code",
   "execution_count": null,
   "id": "533bed13-34fe-4b6a-b198-bd4e4061d0fe",
   "metadata": {},
   "outputs": [],
   "source": [
    "repeat_cols = [\"Marketing_Airline_Network\", \"Operated_or_Branded_Code_Share_Partners\", \"IATA_Code_Marketing_Airline\", \"Operating_Airline \", \"IATA_Code_Operating_Airline\"]\n",
    "print(newdf.select([count(col(c)).alias(c) for c in repeat_cols]).collect()[0].asDict())"
   ]
  },
  {
   "cell_type": "code",
   "execution_count": null,
   "id": "49c159cf-e0ed-4518-bf66-f720cca4d5a8",
   "metadata": {},
   "outputs": [],
   "source": [
    "print(newdf.select(repeat_cols).distinct().count())"
   ]
  },
  {
   "cell_type": "code",
   "execution_count": null,
   "id": "f6ed8394-1381-429b-ac3c-80b52c520c8c",
   "metadata": {},
   "outputs": [],
   "source": [
    "cols_to_keep = [\"Year\", \"Month\", \"DayofMonth\", \"Origin\", \"OriginCityName\", \"DestCityName\", \"DepDelay\", \"ArrDelay\", \"Cancelled\", \"CRSElapsedTime\", \"ActualElapsedTime\"]\n",
    "my_df = newdf.select(cols_to_keep)\n",
    "my_df.show()"
   ]
  },
  {
   "cell_type": "markdown",
   "id": "592d62d5-2d3d-48ec-929b-0427d1f3b30f",
   "metadata": {},
   "source": [
    "## Which Origin Cities had the most delayed flights?"
   ]
  },
  {
   "cell_type": "code",
   "execution_count": null,
   "id": "1286ba36-aade-4551-a29b-ad5bd5647f19",
   "metadata": {},
   "outputs": [],
   "source": [
    "count_delay = my_df.select([\"Origin\", \"DepDelay\"]).groupBy(\"Origin\")\\\n",
    "        .agg(count(F.when(col(\"DepDelay\") > 0, 1)).alias(\"DelayCount\"), \n",
    "             count(F.when(col(\"DepDelay\") < 0, 1)).alias(\"EarlyCount\"),\n",
    "            count(\"*\").alias(\"TotalCount\")).orderBy(col(\"TotalCount\").desc())\n",
    "pandas_delay = count_delay.toPandas()"
   ]
  },
  {
   "cell_type": "code",
   "execution_count": null,
   "id": "601ba217-a37f-484a-9c80-e11017cb7fd9",
   "metadata": {},
   "outputs": [],
   "source": [
    "pdf = pandas_delay.copy()\n",
    "pdf[\"OnTimeCount\"] = pdf[\"TotalCount\"] - pdf[\"DelayCount\"] - pdf[\"EarlyCount\"]"
   ]
  },
  {
   "cell_type": "code",
   "execution_count": null,
   "id": "c48fe210-a7d8-4bba-98ca-575e46bbb5e8",
   "metadata": {},
   "outputs": [],
   "source": [
    "top_20 = pdf.head(20)\n",
    "top_20"
   ]
  },
  {
   "cell_type": "code",
   "execution_count": null,
   "id": "0920fa31-f3bc-4ab1-b651-276377055d9c",
   "metadata": {},
   "outputs": [],
   "source": [
    "count_delay = my_df.select([\"Origin\", \"DepDelay\"]).groupBy(\"Origin\")\\\n",
    "        .agg(count(F.when(col(\"DepDelay\") > 0, 1)).alias(\"DelayCount\"), \n",
    "             count(F.when(col(\"DepDelay\") < 0, 1)).alias(\"EarlyCount\"),\n",
    "            count(\"*\").alias(\"TotalCount\")).orderBy(col(\"TotalCount\").desc())\n",
    "pandas_delay = count_delay.toPandas()# Assuming pdf has these columns: OriginCity, DelayedFlights, EarlyFlights, OnTimeFlights\n",
    "\n",
    "# Bar positions\n",
    "cities = top_20[\"Origin\"]\n",
    "x = np.arange(len(cities))\n",
    "\n",
    "# Heights\n",
    "early = top_20[\"EarlyCount\"]\n",
    "on_time = top_20[\"OnTimeCount\"]\n",
    "delayed = top_20[\"DelayCount\"]\n",
    "\n",
    "# Plot\n",
    "plt.figure(figsize=(12, 6))\n",
    "plt.bar(x, early, label=\"Early\", color=\"green\")\n",
    "plt.bar(x, on_time, bottom=early, label=\"On Time\", color=\"gray\")\n",
    "plt.bar(x, delayed, bottom=early + on_time, label=\"Delayed\", color=\"red\")\n",
    "\n",
    "# Labels and formatting\n",
    "plt.xticks(x, cities, rotation=45)\n",
    "plt.ylabel(\"Number of Flights\")\n",
    "plt.title(\"Flight Status by Origin City (Top 20)\")\n",
    "plt.legend(title=\"Flight Status\")\n",
    "plt.tight_layout()\n",
    "plt.show()"
   ]
  },
  {
   "cell_type": "code",
   "execution_count": null,
   "id": "871d865b-bdc0-4351-baec-9b6b2730cb81",
   "metadata": {},
   "outputs": [],
   "source": [
    "year_delay = my_df.select([\"Year\", \"DepDelay\"]).groupBy(\"Origin\")\\\n",
    "        .agg(count(F.when(col(\"DepDelay\") > 0, 1)).alias(\"DelayCount\"), \n",
    "             count(F.when(col(\"DepDelay\") < 0, 1)).alias(\"EarlyCount\"),\n",
    "            count(\"*\").alias(\"TotalCount\")).orderBy(col(\"TotalCount\").desc())\n",
    "pandas_year_delay = count_delay.toPandas()"
   ]
  },
  {
   "cell_type": "code",
   "execution_count": null,
   "id": "ace54170-ec83-4707-8750-011b5e51397f",
   "metadata": {},
   "outputs": [],
   "source": []
  }
 ],
 "metadata": {
  "kernelspec": {
   "display_name": "Python 3",
   "language": "python",
   "name": "python3"
  },
  "language_info": {
   "codemirror_mode": {
    "name": "ipython",
    "version": 3
   },
   "file_extension": ".py",
   "mimetype": "text/x-python",
   "name": "python",
   "nbconvert_exporter": "python",
   "pygments_lexer": "ipython3",
   "version": "3.12.1"
  }
 },
 "nbformat": 4,
 "nbformat_minor": 5
}
