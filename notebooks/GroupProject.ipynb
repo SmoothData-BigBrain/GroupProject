{
 "cells": [
  {
   "cell_type": "markdown",
   "id": "263d72e9-c4b6-4e1e-9c8f-ee3c0e44b16e",
   "metadata": {},
   "source": [
    "# Group Project Milestone 2: Data Exploration & Initial PreProcessing\n",
    "\n",
    "In this assignment you will need to:\n",
    "\n",
    "1. Create a GitHub ID\n",
    "2. Create a GitHub Repository (Public or Private it is up to you. In the end it will have to be Public) and add your group members as collaborators\n",
    "3. Perform the data exploration step (i.e. evaluate your data, # of observations, details about your data distributions, scales, missing data, column descriptions) Note: For image data you can still describe your data by the number of classes, # of images, plot example classes of the image, size of images, are sizes uniform? Do they need to be cropped? normalized? etc.\n",
    "4. Plot your data. For tabular data, you will need to run scatters, for image data, you will need to plot your example classes.\n",
    "5. How will you preprocess your data? You should explain this in your README.md file and link your Jupyter notebook to it. All code and  Jupyter notebooks have be uploaded to your repo.\n",
    "6. You must also include in your Jupyter Notebook, a link for data download and environment setup requirements: \n",
    "\n",
    "\n",
    "!wget !unzip like functions as well as !pip install functions for non standard libraries not available in colab are required to be in the top section of your jupyter lab notebook. Or having the data on GitHub (you will need the academic license for GitHub to do this, larger datasets will require a link to external storage)."
   ]
  },
  {
   "cell_type": "markdown",
   "id": "b43e3dd4-fca0-4421-9ce5-d68e001a4cd8",
   "metadata": {
    "jp-MarkdownHeadingCollapsed": true
   },
   "source": [
    "## GitHub ID\n",
    "\n",
    "https://github.com/SmoothData-BigBrain"
   ]
  },
  {
   "cell_type": "markdown",
   "id": "88642e35-73bb-4077-acc6-184563785bc6",
   "metadata": {
    "jp-MarkdownHeadingCollapsed": true
   },
   "source": [
    "## Dataset link\n",
    "\n",
    "https://www.kaggle.com/datasets/robikscube/flight-delay-dataset-20182022"
   ]
  },
  {
   "cell_type": "markdown",
   "id": "28d757d7-5d93-4e03-b350-a04fc12a5d31",
   "metadata": {},
   "source": [
    "## Setup for spark and data\n",
    "\n",
    "Perform the data exploration step (i.e. evaluate your data, # of observations, details about your data distributions, scales, missing data, column descriptions) Note: For image data you can still describe your data by the number of classes, # of images, plot example classes of the image, size of images, are sizes uniform? Do they need to be cropped? normalized? etc."
   ]
  },
  {
   "cell_type": "markdown",
   "id": "25a03d6c-1a93-4b54-8ecf-596818ee30e4",
   "metadata": {},
   "source": [
    "### Import libraries"
   ]
  },
  {
   "cell_type": "code",
   "execution_count": 4,
   "id": "271da376-11a6-4fa6-935b-f45b210b763e",
   "metadata": {},
   "outputs": [
    {
     "name": "stdout",
     "output_type": "stream",
     "text": [
      "pandas==2.2.3\n",
      "seaborn==0.13.2\n",
      "plotly==6.1.1\n",
      "pyspark==3.5.5\n",
      "matplotlib==3.9.4\n",
      "numpy==1.26.4\n"
     ]
    }
   ],
   "source": [
    "# Install everything inside the 'requirements.txt' file before running this notebook\n",
    "!pip install -r ../requirements.txt"
   ]
  },
  {
   "cell_type": "code",
   "execution_count": 2,
   "id": "1d8cc60b-8fd9-4a6a-b979-c114ba13dd8f",
   "metadata": {},
   "outputs": [
    {
     "name": "stderr",
     "output_type": "stream",
     "text": [
      "/Users/mihir/Library/Python/3.9/lib/python/site-packages/urllib3/__init__.py:35: NotOpenSSLWarning: urllib3 v2 only supports OpenSSL 1.1.1+, currently the 'ssl' module is compiled with 'LibreSSL 2.8.3'. See: https://github.com/urllib3/urllib3/issues/3020\n",
      "  warnings.warn(\n"
     ]
    }
   ],
   "source": [
    "import seaborn as sns\n",
    "import pandas as pd\n",
    "import numpy as np\n",
    "import matplotlib.pyplot as plt\n",
    "import os\n",
    "import glob\n",
    "import util\n",
    "\n",
    "\n",
    "from pyspark import SparkContext\n",
    "from pyspark.sql import functions as F\n",
    "from pyspark.sql import SparkSession, Row\n",
    "from pyspark.sql.functions import col, isnan, when, count, isnull, sum, concat_ws, coalesce, lit, avg, rand, round\n",
    "\n",
    "import seaborn as sns\n",
    "import pandas as pd\n",
    "import numpy as np\n",
    "import matplotlib.pyplot as plt"
   ]
  },
  {
   "cell_type": "markdown",
   "id": "863f162f-b363-4c17-b226-356b1582e8e0",
   "metadata": {},
   "source": [
    "### Creat Spark session"
   ]
  },
  {
   "cell_type": "code",
   "execution_count": 3,
   "id": "40e41cd7-f31e-46cd-bcf1-138b597e7944",
   "metadata": {},
   "outputs": [
    {
     "name": "stderr",
     "output_type": "stream",
     "text": [
      "25/05/22 14:32:52 WARN Utils: Your hostname, Mihirs-MacBook-Pro.local resolves to a loopback address: 127.0.0.1; using 192.168.1.8 instead (on interface en0)\n",
      "25/05/22 14:32:52 WARN Utils: Set SPARK_LOCAL_IP if you need to bind to another address\n",
      "Setting default log level to \"WARN\".\n",
      "To adjust logging level use sc.setLogLevel(newLevel). For SparkR, use setLogLevel(newLevel).\n",
      "25/05/22 14:32:52 WARN NativeCodeLoader: Unable to load native-hadoop library for your platform... using builtin-java classes where applicable\n"
     ]
    }
   ],
   "source": [
    "# spark = SparkSession.builder \\\n",
    "#     .appName(\"Flight Data Analysis\") \\\n",
    "#     .getOrCreate()\n",
    "\n",
    "# spark.conf.set(\"spark.sql.debug.maxToStringFields\", 1000)\n",
    "# spark.sparkContext.setLogLevel(\"ERROR\")\n",
    "\n",
    "### Mihirs machine spark setting\n",
    "spark = SparkSession.builder \\\n",
    "    .appName(\"Flight Data Analysis\") \\\n",
    "    .master(\"local[*]\") \\\n",
    "    .config(\"spark.driver.memory\", \"12g\") \\\n",
    "    .config(\"spark.executor.memory\", \"12g\") \\\n",
    "    .config(\"spark.sql.shuffle.partitions\", \"100\") \\\n",
    "    .config(\"spark.sql.debug.maxToStringFields\", \"1000\") \\\n",
    "    .getOrCreate()"
   ]
  },
  {
   "cell_type": "markdown",
   "id": "3feb895f-738d-486f-8d67-4e7a1ff8251f",
   "metadata": {},
   "source": [
    "### Read in data files\n",
    "\n",
    "> **Note: Update the home_dir and download_path variables before running this cell block**"
   ]
  },
  {
   "cell_type": "code",
   "execution_count": 4,
   "id": "03c2de02-6753-4c6d-a5cf-d724eba5828e",
   "metadata": {},
   "outputs": [
    {
     "name": "stdout",
     "output_type": "stream",
     "text": [
      "CSV files already exist in /Users/mihir/Desktop/GroupProject/data/archive/raw/. Skipping data download.\n"
     ]
    }
   ],
   "source": [
    "# home_dir = os.path.expanduser('~')\n",
    "# path_for_Nam = 'C:/GitGroupProject/GroupProject' # comment this later\n",
    "# download_path = os.path.join(path_for_Nam,'/data/') # comment this later\n",
    "\n",
    "# download_path = os.path.join('/workspaces/GroupProject/data/') # Uncomment this later\n",
    "\n",
    "home_dir = os.path.expanduser('~')\n",
    "local_download_path = os.path.join(home_dir, 'Desktop/GroupProject/data/')\n",
    "file_id = '1tch7xbFIgBtXKXa16E4QCpVKedUExfO3'  # My File ID for airlines.zip on GDrive \n",
    "util.check_and_fetch_data(file_id, local_download_path)"
   ]
  },
  {
   "cell_type": "code",
   "execution_count": 5,
   "id": "bcf04e58-8767-4dd4-ae08-f790b0920c48",
   "metadata": {},
   "outputs": [],
   "source": [
    "# folder_path = '~/Desktop/GroupProject/data/archive/raw'\n",
    "# path_for_Nam = 'C:/GitGroupProject/GroupProject'\n",
    "# home_dir = os.path.expanduser('~')\n",
    "# download_path = os.path.join(home_dir, 'Desktop/GroupProject/data/')\n",
    "\n",
    "# download_path = os.path.join(path_for_Nam, '/data/')\n",
    "# Nam_local = 'C:/lecture-notebooks/GroupProject/data/archive/raw' # comment this later\n",
    "\n",
    "# csv_files = glob.glob(f\"{Nam_local}/*.csv\") # comment this later\n",
    "\n",
    "### *****************\n",
    "# Do we want to keep this spark.read.csv or just use parquet files from the start? \n",
    "# This would avoid running this, then saving to parquet, and reading parquet files into df again\n",
    "### *****************\n",
    "# csv_files = glob.glob(f\"{local_download_path}archive/raw/*.csv\") #Uncomment this later\n",
    "# df = spark.read.csv(csv_files,\n",
    "#                        sep = ',',\n",
    "#                        inferSchema = True,\n",
    "#                        header = True)\n",
    "\n",
    "# df.printSchema()"
   ]
  },
  {
   "cell_type": "code",
   "execution_count": 4,
   "id": "80859ac5-2131-4275-bd26-2f8bf88e1de5",
   "metadata": {},
   "outputs": [],
   "source": [
    "# write out combined single csv file - why? \n",
    "# df.coalesce(1).write.csv(\"combined_file_csv\", header=True) # Uncomment this later\n",
    "# df.write.mode(\"overwrite\").parquet(\"combined_files\")\n",
    "df = spark.read.parquet(\"combined_files\")"
   ]
  },
  {
   "cell_type": "code",
   "execution_count": 5,
   "id": "5dbe9348-4801-4a17-b8a2-a6b3d27b2c8b",
   "metadata": {},
   "outputs": [],
   "source": [
    "col_des = spark.read.csv('flights_column_des.csv', sep = ',', inferSchema = True, header = True)"
   ]
  },
  {
   "cell_type": "markdown",
   "id": "c52b9cd5-ec4f-4234-ab63-62fcb7d2475f",
   "metadata": {},
   "source": [
    "## Explore Dataset"
   ]
  },
  {
   "cell_type": "markdown",
   "id": "0f1dbdd3-0278-4743-b6eb-fd8f912fe390",
   "metadata": {},
   "source": [
    "### Get dataset shape"
   ]
  },
  {
   "cell_type": "code",
   "execution_count": 6,
   "id": "bbc98c34-1dc1-45ee-921e-cb7c2534331d",
   "metadata": {},
   "outputs": [
    {
     "name": "stdout",
     "output_type": "stream",
     "text": [
      "Shape of the DataFrame: (29193782, 120)\n"
     ]
    }
   ],
   "source": [
    "# get df shape\n",
    "num_entries = df.count()\n",
    "num_cols = len(df.columns)\n",
    "print(f\"Shape of the DataFrame: ({num_entries}, {num_cols})\")"
   ]
  },
  {
   "cell_type": "markdown",
   "id": "7ead44d9-dd3c-44f0-b34b-bd7eee5f9400",
   "metadata": {},
   "source": [
    "### Explore null values"
   ]
  },
  {
   "cell_type": "markdown",
   "id": "892ad7f6-6fca-49b6-a39c-fda420eaf2c7",
   "metadata": {},
   "source": [
    "#### Computing non-null counts as percentages"
   ]
  },
  {
   "cell_type": "code",
   "execution_count": 7,
   "id": "60addd02-eed0-42b9-8aea-20ef522d7115",
   "metadata": {},
   "outputs": [
    {
     "name": "stderr",
     "output_type": "stream",
     "text": [
      "[Stage 6:================================================>        (11 + 2) / 13]"
     ]
    },
    {
     "name": "stdout",
     "output_type": "stream",
     "text": [
      "Year: 100.00% non-null\n",
      "Quarter: 100.00% non-null\n",
      "Month: 100.00% non-null\n",
      "DayofMonth: 100.00% non-null\n",
      "DayOfWeek: 100.00% non-null\n",
      "FlightDate: 100.00% non-null\n",
      "Marketing_Airline_Network: 100.00% non-null\n",
      "Operated_or_Branded_Code_Share_Partners: 100.00% non-null\n",
      "DOT_ID_Marketing_Airline: 100.00% non-null\n",
      "IATA_Code_Marketing_Airline: 100.00% non-null\n",
      "Flight_Number_Marketing_Airline: 100.00% non-null\n",
      "Operating_Airline : 100.00% non-null\n",
      "DOT_ID_Operating_Airline: 100.00% non-null\n",
      "IATA_Code_Operating_Airline: 100.00% non-null\n",
      "Flight_Number_Operating_Airline: 100.00% non-null\n",
      "OriginAirportID: 100.00% non-null\n",
      "OriginAirportSeqID: 100.00% non-null\n",
      "OriginCityMarketID: 100.00% non-null\n",
      "Origin: 100.00% non-null\n",
      "OriginCityName: 100.00% non-null\n",
      "OriginState: 100.00% non-null\n",
      "OriginStateFips: 100.00% non-null\n",
      "OriginStateName: 100.00% non-null\n",
      "OriginWac: 100.00% non-null\n",
      "DestAirportID: 100.00% non-null\n",
      "DestAirportSeqID: 100.00% non-null\n",
      "DestCityMarketID: 100.00% non-null\n",
      "Dest: 100.00% non-null\n",
      "DestCityName: 100.00% non-null\n",
      "DestState: 100.00% non-null\n",
      "DestStateFips: 100.00% non-null\n",
      "DestStateName: 100.00% non-null\n",
      "DestWac: 100.00% non-null\n",
      "CRSDepTime: 100.00% non-null\n",
      "DepTimeBlk: 100.00% non-null\n",
      "CRSArrTime: 100.00% non-null\n",
      "ArrTimeBlk: 100.00% non-null\n",
      "Cancelled: 100.00% non-null\n",
      "Diverted: 100.00% non-null\n",
      "Flights: 100.00% non-null\n",
      "Distance: 100.00% non-null\n",
      "DistanceGroup: 100.00% non-null\n",
      "Duplicate: 100.00% non-null\n",
      "CRSElapsedTime: 100.00% non-null\n",
      "DivAirportLandings: 100.00% non-null\n",
      "Tail_Number: 99.08% non-null\n",
      "DepTime: 97.39% non-null\n",
      "DepDelay: 97.39% non-null\n",
      "DepDelayMinutes: 97.39% non-null\n",
      "DepDel15: 97.39% non-null\n",
      "DepartureDelayGroups: 97.39% non-null\n",
      "WheelsOff: 97.33% non-null\n",
      "TaxiOut: 97.33% non-null\n",
      "ArrTime: 97.31% non-null\n",
      "WheelsOn: 97.28% non-null\n",
      "TaxiIn: 97.28% non-null\n",
      "ActualElapsedTime: 97.10% non-null\n",
      "ArrDelay: 97.10% non-null\n",
      "ArrDelayMinutes: 97.10% non-null\n",
      "ArrDel15: 97.10% non-null\n",
      "ArrivalDelayGroups: 97.10% non-null\n",
      "AirTime: 97.08% non-null\n",
      "CarrierDelay: 17.15% non-null\n",
      "WeatherDelay: 17.15% non-null\n",
      "NASDelay: 17.15% non-null\n",
      "SecurityDelay: 17.15% non-null\n",
      "LateAircraftDelay: 17.15% non-null\n",
      "CancellationCode: 2.66% non-null\n",
      "FirstDepTime: 0.63% non-null\n",
      "LongestAddGTime: 0.63% non-null\n",
      "TotalAddGTime: 0.63% non-null\n",
      "Div1Airport: 0.25% non-null\n",
      "Div1AirportID: 0.25% non-null\n",
      "Div1AirportSeqID: 0.25% non-null\n",
      "Div1TotalGTime: 0.25% non-null\n",
      "Div1LongestGTime: 0.25% non-null\n",
      "Div1WheelsOn: 0.25% non-null\n",
      "DivReachedDest: 0.23% non-null\n",
      "DivDistance: 0.23% non-null\n",
      "Div1TailNum: 0.20% non-null\n",
      "Div1WheelsOff: 0.20% non-null\n",
      "DivArrDelay: 0.20% non-null\n",
      "DivActualElapsedTime: 0.20% non-null\n",
      "Originally_Scheduled_Code_Share_Airline: 0.01% non-null\n",
      "DOT_ID_Originally_Scheduled_Code_Share_Airline: 0.01% non-null\n",
      "IATA_Code_Originally_Scheduled_Code_Share_Airline: 0.01% non-null\n",
      "Flight_Num_Originally_Scheduled_Code_Share_Airline: 0.01% non-null\n",
      "Div2AirportID: 0.00% non-null\n",
      "Div2AirportSeqID: 0.00% non-null\n",
      "Div2Airport: 0.00% non-null\n",
      "Div2WheelsOn: 0.00% non-null\n",
      "Div2TotalGTime: 0.00% non-null\n",
      "Div2LongestGTime: 0.00% non-null\n",
      "Div2WheelsOff: 0.00% non-null\n",
      "Div2TailNum: 0.00% non-null\n",
      "Div3Airport: 0.00% non-null\n",
      "Div3AirportID: 0.00% non-null\n",
      "Div3AirportSeqID: 0.00% non-null\n",
      "Div3WheelsOn: 0.00% non-null\n",
      "Div3TotalGTime: 0.00% non-null\n",
      "Div3LongestGTime: 0.00% non-null\n",
      "Div3WheelsOff: 0.00% non-null\n",
      "Div3TailNum: 0.00% non-null\n",
      "Div4Airport: 0.00% non-null\n",
      "Div4AirportID: 0.00% non-null\n",
      "Div4AirportSeqID: 0.00% non-null\n",
      "Div4WheelsOn: 0.00% non-null\n",
      "Div4TotalGTime: 0.00% non-null\n",
      "Div4LongestGTime: 0.00% non-null\n",
      "Div4WheelsOff: 0.00% non-null\n",
      "Div4TailNum: 0.00% non-null\n",
      "Div5Airport: 0.00% non-null\n",
      "Div5AirportID: 0.00% non-null\n",
      "Div5AirportSeqID: 0.00% non-null\n",
      "Div5WheelsOn: 0.00% non-null\n",
      "Div5TotalGTime: 0.00% non-null\n",
      "Div5LongestGTime: 0.00% non-null\n",
      "Div5WheelsOff: 0.00% non-null\n",
      "Div5TailNum: 0.00% non-null\n",
      "_c119: 0.00% non-null\n"
     ]
    },
    {
     "name": "stderr",
     "output_type": "stream",
     "text": [
      "                                                                                "
     ]
    }
   ],
   "source": [
    "non_null_counts = df.select([count(col(c)).alias(c) for c in df.columns]).collect()[0].asDict()\n",
    "\n",
    "# Calculate non-null percentages\n",
    "non_null_percentages = {\n",
    "    col_name: (count_val / num_entries) * 100\n",
    "    for col_name, count_val in non_null_counts.items()\n",
    "}\n",
    "\n",
    "sorted_columns = sorted(non_null_percentages.items(), key=lambda x: x[1], reverse=True)\n",
    "\n",
    "for col_name, pct in sorted_columns:\n",
    "    print(f\"{col_name}: {pct:.2f}% non-null\")"
   ]
  },
  {
   "cell_type": "markdown",
   "id": "2587bb8f-7c94-4206-abbf-6892a1946f81",
   "metadata": {},
   "source": [
    "#### Subset dataset\n",
    "removing columns with <90% null values"
   ]
  },
  {
   "cell_type": "code",
   "execution_count": 8,
   "id": "7a6026b7-cf26-4ba0-aad3-ed786cca2cc5",
   "metadata": {},
   "outputs": [
    {
     "name": "stdout",
     "output_type": "stream",
     "text": [
      "+----+-------+-----+----------+---------+----------+-------------------------+---------------------------------------+\n",
      "|Year|Quarter|Month|DayofMonth|DayOfWeek|FlightDate|Marketing_Airline_Network|Operated_or_Branded_Code_Share_Partners|\n",
      "+----+-------+-----+----------+---------+----------+-------------------------+---------------------------------------+\n",
      "|2021|      3|    7|        15|        4|2021-07-15|                       AS|                                     AS|\n",
      "|2021|      3|    7|        15|        4|2021-07-15|                       AS|                                     AS|\n",
      "|2021|      3|    7|        15|        4|2021-07-15|                       AS|                                     AS|\n",
      "|2021|      3|    7|        15|        4|2021-07-15|                       AS|                                     AS|\n",
      "|2021|      3|    7|        15|        4|2021-07-15|                       AS|                                     AS|\n",
      "+----+-------+-----+----------+---------+----------+-------------------------+---------------------------------------+\n",
      "only showing top 5 rows\n",
      "\n"
     ]
    }
   ],
   "source": [
    "columns_above_90 = [col_name for col_name, pct in non_null_percentages.items() if pct >= 90]\n",
    "filtered_df = df.select(columns_above_90)\n",
    "filtered_df.select(filtered_df.columns[:8]).show(5)"
   ]
  },
  {
   "cell_type": "code",
   "execution_count": 9,
   "id": "e3c44dab-7784-4664-a50a-39a53641cda1",
   "metadata": {},
   "outputs": [],
   "source": [
    "# Strip the extra spaces from col names \n",
    "for c in filtered_df.columns:\n",
    "    filtered_df = filtered_df.withColumnRenamed(c, c.strip())"
   ]
  },
  {
   "cell_type": "code",
   "execution_count": 10,
   "id": "44a120f4-61e3-4e38-ad52-0b21fb368318",
   "metadata": {},
   "outputs": [
    {
     "name": "stdout",
     "output_type": "stream",
     "text": [
      "Shape of the Filtered DataFrame removing cols w/ <90% non-null values: (29193782, 62)\n"
     ]
    }
   ],
   "source": [
    "# get filtered df shape\n",
    "filtered_num_rows = filtered_df.count()\n",
    "filtered_num_cols = len(filtered_df.columns)\n",
    "print(f\"Shape of the Filtered DataFrame removing cols w/ <90% non-null values: ({filtered_num_rows}, {filtered_num_cols})\")"
   ]
  },
  {
   "cell_type": "code",
   "execution_count": 11,
   "id": "60fc3021-969e-4854-8e82-5b93325dcbcd",
   "metadata": {},
   "outputs": [
    {
     "name": "stdout",
     "output_type": "stream",
     "text": [
      "root\n",
      " |-- Year: integer (nullable = true)\n",
      " |-- Quarter: integer (nullable = true)\n",
      " |-- Month: integer (nullable = true)\n",
      " |-- DayofMonth: integer (nullable = true)\n",
      " |-- DayOfWeek: integer (nullable = true)\n",
      " |-- FlightDate: date (nullable = true)\n",
      " |-- Marketing_Airline_Network: string (nullable = true)\n",
      " |-- Operated_or_Branded_Code_Share_Partners: string (nullable = true)\n",
      " |-- DOT_ID_Marketing_Airline: integer (nullable = true)\n",
      " |-- IATA_Code_Marketing_Airline: string (nullable = true)\n",
      " |-- Flight_Number_Marketing_Airline: integer (nullable = true)\n",
      " |-- Operating_Airline: string (nullable = true)\n",
      " |-- DOT_ID_Operating_Airline: integer (nullable = true)\n",
      " |-- IATA_Code_Operating_Airline: string (nullable = true)\n",
      " |-- Tail_Number: string (nullable = true)\n",
      " |-- Flight_Number_Operating_Airline: integer (nullable = true)\n",
      " |-- OriginAirportID: integer (nullable = true)\n",
      " |-- OriginAirportSeqID: integer (nullable = true)\n",
      " |-- OriginCityMarketID: integer (nullable = true)\n",
      " |-- Origin: string (nullable = true)\n",
      " |-- OriginCityName: string (nullable = true)\n",
      " |-- OriginState: string (nullable = true)\n",
      " |-- OriginStateFips: integer (nullable = true)\n",
      " |-- OriginStateName: string (nullable = true)\n",
      " |-- OriginWac: integer (nullable = true)\n",
      " |-- DestAirportID: integer (nullable = true)\n",
      " |-- DestAirportSeqID: integer (nullable = true)\n",
      " |-- DestCityMarketID: integer (nullable = true)\n",
      " |-- Dest: string (nullable = true)\n",
      " |-- DestCityName: string (nullable = true)\n",
      " |-- DestState: string (nullable = true)\n",
      " |-- DestStateFips: integer (nullable = true)\n",
      " |-- DestStateName: string (nullable = true)\n",
      " |-- DestWac: integer (nullable = true)\n",
      " |-- CRSDepTime: integer (nullable = true)\n",
      " |-- DepTime: integer (nullable = true)\n",
      " |-- DepDelay: double (nullable = true)\n",
      " |-- DepDelayMinutes: double (nullable = true)\n",
      " |-- DepDel15: double (nullable = true)\n",
      " |-- DepartureDelayGroups: integer (nullable = true)\n",
      " |-- DepTimeBlk: string (nullable = true)\n",
      " |-- TaxiOut: double (nullable = true)\n",
      " |-- WheelsOff: integer (nullable = true)\n",
      " |-- WheelsOn: integer (nullable = true)\n",
      " |-- TaxiIn: double (nullable = true)\n",
      " |-- CRSArrTime: integer (nullable = true)\n",
      " |-- ArrTime: integer (nullable = true)\n",
      " |-- ArrDelay: double (nullable = true)\n",
      " |-- ArrDelayMinutes: double (nullable = true)\n",
      " |-- ArrDel15: double (nullable = true)\n",
      " |-- ArrivalDelayGroups: integer (nullable = true)\n",
      " |-- ArrTimeBlk: string (nullable = true)\n",
      " |-- Cancelled: double (nullable = true)\n",
      " |-- Diverted: double (nullable = true)\n",
      " |-- CRSElapsedTime: double (nullable = true)\n",
      " |-- ActualElapsedTime: double (nullable = true)\n",
      " |-- AirTime: double (nullable = true)\n",
      " |-- Flights: double (nullable = true)\n",
      " |-- Distance: double (nullable = true)\n",
      " |-- DistanceGroup: integer (nullable = true)\n",
      " |-- DivAirportLandings: integer (nullable = true)\n",
      " |-- Duplicate: string (nullable = true)\n",
      "\n"
     ]
    }
   ],
   "source": [
    "filtered_df.printSchema()"
   ]
  },
  {
   "cell_type": "code",
   "execution_count": 12,
   "id": "cc94a931-7d70-460f-845f-ebf903d055a3",
   "metadata": {},
   "outputs": [],
   "source": [
    "# delete the master df since we won't need it anymore at all\n",
    "del df"
   ]
  },
  {
   "cell_type": "code",
   "execution_count": null,
   "id": "01e0fafa-5968-4614-8d88-875119f399ca",
   "metadata": {},
   "outputs": [],
   "source": [
    "# save filtered df to not have to redo code later\n",
    "#filtered_df.coalesce(1).write.mode(\"overwrite\").option(\"header\", True).csv(\"filtered_df_temp\")\n",
    "\n",
    "# # read in already filtered_df saved previously\n",
    "# filtered_df = spark.read.csv('part-00000-b248588c-b561-414a-ba2c-bc77825e455a-c000.csv', sep = ',', inferSchema = True, header = True)"
   ]
  },
  {
   "cell_type": "markdown",
   "id": "09ef213e",
   "metadata": {
    "jp-MarkdownHeadingCollapsed": true
   },
   "source": [
    "#### Discussion on null values\n",
    "Dataset consists of columns with >90% non-null values and then it drops down to 0-17% non-null. Dataset to be used for further exploration will only include columns with >90% non-null values for more robust analysis"
   ]
  },
  {
   "cell_type": "markdown",
   "id": "89a60fe8-5968-46dc-8b89-6d30f7f97ef6",
   "metadata": {
    "jp-MarkdownHeadingCollapsed": true
   },
   "source": [
    "### Remaining Column Descriptions"
   ]
  },
  {
   "cell_type": "code",
   "execution_count": null,
   "id": "0fc302c6-1c8d-474a-8b3a-eedbb2cff3aa",
   "metadata": {},
   "outputs": [],
   "source": [
    "# get all cols in filtered_df\n",
    "filtered_cols = filtered_df.columns \n",
    "\n",
    "# remove any white space\n",
    "filtered_cols = [str(c).strip() for c in filtered_cols]\n",
    "\n",
    "# subset column description dataframe for only columns in filtered dataset\n",
    "filtered_col_des = col_des.filter(col('column').isin(filtered_cols))"
   ]
  },
  {
   "cell_type": "code",
   "execution_count": null,
   "id": "39e0eb34-70f1-4c87-a7d1-575fab89b0c5",
   "metadata": {},
   "outputs": [],
   "source": [
    "# check df was filtered correctly, length & row count should match\n",
    "f_col_len = filtered_col_des.count()\n",
    "f_col_len"
   ]
  },
  {
   "cell_type": "code",
   "execution_count": null,
   "id": "3e9b65cc-65c0-458f-8669-f33cc3f960c9",
   "metadata": {},
   "outputs": [],
   "source": [
    "# View all column descriptions in filtered dataframe\n",
    "# Full data col description is in \"../data/README.md\"\n",
    "filtered_col_des.show(n=f_col_len, truncate=False)"
   ]
  },
  {
   "cell_type": "markdown",
   "id": "2fc67605-0fba-46ec-b337-358d30e82339",
   "metadata": {
    "jp-MarkdownHeadingCollapsed": true
   },
   "source": [
    "## Dataset Statistics & Distributions"
   ]
  },
  {
   "cell_type": "code",
   "execution_count": null,
   "id": "c8010c2b-e810-4c3d-bd64-6653b9f5d63b",
   "metadata": {},
   "outputs": [],
   "source": [
    "# get data type for each column\n",
    "for name, dtype in filtered_df.dtypes:\n",
    "    print(f\"{name}: {dtype}\")"
   ]
  },
  {
   "cell_type": "code",
   "execution_count": null,
   "id": "139371c8-8fcb-4638-a3ed-56cbf475727b",
   "metadata": {},
   "outputs": [],
   "source": [
    "non_string_cols = [col_name for col_name, dtype in filtered_df.dtypes if dtype != 'string']"
   ]
  },
  {
   "cell_type": "code",
   "execution_count": null,
   "id": "d10722ce-b5c3-4735-a49d-86032ece9115",
   "metadata": {},
   "outputs": [],
   "source": [
    "# subset column description dataframe for only non-string\n",
    "non_string_col_des = filtered_col_des.filter(col('column').isin(non_string_cols))\n",
    "non_string_col_des.show(n=non_string_col_des.count(), truncate=False)"
   ]
  },
  {
   "cell_type": "markdown",
   "id": "ac44c139-4bdb-4771-9a9b-1e0be2ea4635",
   "metadata": {},
   "source": [
    "### Discussion on skewed data distributions\n",
    "\n",
    "When taking a look at the columns with the most amount of skew in the data distribution, columns that are ID inidicators or Flight numbers do not make sense to further investigations of data distributions. Although these are numerical values, they represent categorical variables as opposed to continuous. \n",
    "\n",
    "Columns with 'ID','Number', 'Origin', 'Dest' in the column name will be removed from statistical analysis to remove these categorical variables "
   ]
  },
  {
   "cell_type": "code",
   "execution_count": null,
   "id": "094db735-e065-47b8-b634-2a7b570891af",
   "metadata": {},
   "outputs": [],
   "source": [
    "cont_col_des = non_string_col_des.filter(\n",
    "    ~non_string_col_des['column'].rlike('Dest|Origin|ID|Number|FlightDate')\n",
    ")\n",
    "cont_col_des.show(n=cont_col_des.count(), truncate=False)"
   ]
  },
  {
   "cell_type": "code",
   "execution_count": null,
   "id": "7f447eb1-f02c-4630-b549-e17ba5c22874",
   "metadata": {},
   "outputs": [],
   "source": [
    "# get statistics for all continuous variables\n",
    "cont_cols = [row['column'] for row in cont_col_des.select('column').collect()]\n",
    "\n",
    "describe_df = filtered_df.select(cont_cols).describe()\n",
    "\n",
    "# compute Q1, Median, Q3 for each column\n",
    "stats = {\n",
    "    \"25%\": {},\n",
    "    \"50%\": {},\n",
    "    \"75%\": {}\n",
    "}\n",
    "\n",
    "for col_name in cont_cols:\n",
    "    q1, median, q3 = filtered_df.approxQuantile(col_name, [0.25, 0.5, 0.75], 0.01)\n",
    "    stats[\"25%\"][col_name] = str(q1)\n",
    "    stats[\"50%\"][col_name] = str(median)\n",
    "    stats[\"75%\"][col_name] = str(q3)\n",
    "\n",
    "# convert new rows to df rows\n",
    "new_rows = [Row(summary=stat_name, **cols) for stat_name, cols in stats.items()]\n",
    "quartile_df = spark.createDataFrame(new_rows)\n",
    "\n",
    "# append the new rows to describe_df\n",
    "full_summary_df = describe_df.unionByName(quartile_df)"
   ]
  },
  {
   "cell_type": "code",
   "execution_count": null,
   "id": "4fa81d22-37f7-4b68-80d6-d04e4bac3cf7",
   "metadata": {},
   "outputs": [],
   "source": [
    "# append the new rows to describe_df\n",
    "full_summary_df = describe_df.unionByName(quartile_df)"
   ]
  },
  {
   "cell_type": "code",
   "execution_count": null,
   "id": "407891b4-f3e8-40a5-a9fa-570a30abc424",
   "metadata": {},
   "outputs": [],
   "source": [
    "# convert and save as parquet\n",
    "# full_summary_df.to_parquet(\"full_summary_df\", index=False)\n",
    "full_summary_df.write.mode(\"overwrite\").parquet(\"full_summary_df\")"
   ]
  },
  {
   "cell_type": "code",
   "execution_count": null,
   "id": "910780ae-036c-4734-8d7c-9b09bef8c032",
   "metadata": {},
   "outputs": [],
   "source": [
    "full_summary_df = spark.read.parquet(\"full_summary_df\")"
   ]
  },
  {
   "cell_type": "code",
   "execution_count": null,
   "id": "0d044b40-76f0-4546-92f9-d5d923193c72",
   "metadata": {},
   "outputs": [],
   "source": [
    "full_summary_df.select(full_summary_df.columns[:6]).show(truncate=False)"
   ]
  },
  {
   "cell_type": "code",
   "execution_count": null,
   "id": "ce22dad0-0fda-4167-a939-1e555d30da1b",
   "metadata": {},
   "outputs": [],
   "source": [
    "# view df columns\n",
    "full_summary_df.select(full_summary_df.columns[11:17]).show(truncate=False)"
   ]
  },
  {
   "cell_type": "markdown",
   "id": "fdc35b0f-0d14-42fb-aca4-a1b71fa2c667",
   "metadata": {},
   "source": [
    "### Explore skewed data\n",
    "\n",
    "mean > median, data is right-skewed (longer tail on the right)\n",
    "median < mean, data is left-skewed (longer tail on the left)\n",
    "\n",
    "This code is to find top 20 features with largest skews. These features will then be plotted in histograms\n",
    "\n",
    "The purpose of doing this is to understand if there are any outliers in the dataset that may be worth removing from the dataset prior to applying ML methods"
   ]
  },
  {
   "cell_type": "markdown",
   "id": "d1b3acce-c99b-40b9-95a0-bde8890a30d0",
   "metadata": {},
   "source": [
    "### Explore data distributions"
   ]
  },
  {
   "cell_type": "code",
   "execution_count": null,
   "id": "56419c4f-626b-4dc2-893f-9040acd940a6",
   "metadata": {},
   "outputs": [],
   "source": [
    "# get mean and median rows as dicts\n",
    "mean_row = full_summary_df.filter(col(\"summary\") == \"mean\").collect()[0].asDict()\n",
    "median_row = full_summary_df.filter(col(\"summary\") == \"50%\").collect()[0].asDict()\n",
    "\n",
    "# skip the 'summary' key\n",
    "cols = [col for col in mean_row.keys() if col != \"summary\"]\n",
    "\n",
    "# build rows of (column, absolute_diff, skew direction)\n",
    "result_rows = []\n",
    "for c in cols: # for each col\n",
    "    mean_val = float(mean_row[c]) # get mean\n",
    "    median_val = float(median_row[c]) # get median\n",
    "    diff = __builtins__.abs(mean_val - median_val) # get abs difference\n",
    "    skew = \"right\" if mean_val > median_val else \"left\" if mean_val < median_val else \"none\" # get skew direction\n",
    "    result_rows.append(Row(column=c, absolute_diff=diff, skew=skew)) # aggregate\n",
    "\n",
    "# create df\n",
    "diff_df = spark.createDataFrame(result_rows)\n",
    "\n",
    "# get top 20\n",
    "top_skewed = diff_df.orderBy(col(\"absolute_diff\").desc()).limit(20)\n",
    "\n",
    "top_skewed.show(truncate=False)\n"
   ]
  },
  {
   "cell_type": "code",
   "execution_count": null,
   "id": "086edcdb-8a88-49f5-aedc-694077773bfb",
   "metadata": {},
   "outputs": [],
   "source": [
    "# get all cols in filtered_df\n",
    "skewed_cols = [row['column'] for row in top_skewed.select('column').collect()]\n",
    "\n",
    "# remove any white space\n",
    "skewed_cols = [str(c).strip() for c in skewed_cols]\n",
    "\n",
    "# subset column description dataframe for only columns in filtered dataset\n",
    "skewed_col_des = col_des.filter(col('column').isin(skewed_cols))"
   ]
  },
  {
   "cell_type": "code",
   "execution_count": null,
   "id": "7774476a-fa3d-4d39-b880-c42e17a85f28",
   "metadata": {},
   "outputs": [],
   "source": [
    "skewed_col_des.show(n=skewed_col_des.count(), truncate=False)"
   ]
  },
  {
   "cell_type": "code",
   "execution_count": null,
   "id": "c7cd615b-04cb-4267-bd3f-f12200da0d43",
   "metadata": {
    "scrolled": true
   },
   "outputs": [],
   "source": [
    "# list of columns from 'top_skewed'\n",
    "columns_to_plot = [row['column'] for row in top_skewed.collect()]\n",
    "\n",
    "# filter the columns that exist in filtered_df\n",
    "valid_columns = [col for col in columns_to_plot if col in filtered_df.columns]\n",
    "\n",
    "# plot histograms for each column\n",
    "n_cols = 4  # 4 histograms per row\n",
    "n_rows = (len(valid_columns) + n_cols - 1) // n_cols  # calculate num rows needed\n",
    "\n",
    "fig, axes = plt.subplots(n_rows, n_cols, figsize=(20, n_rows * 5))\n",
    "\n",
    "# flatten axes for easier indexing\n",
    "axes = axes.flatten()\n",
    "\n",
    "# loop through cols and plot\n",
    "for i, column in enumerate(valid_columns):\n",
    "    hist = filtered_df.select(column).rdd.flatMap(lambda x: x).histogram(20)  # 20 bins\n",
    "\n",
    "    bin_edges, bin_counts = hist\n",
    "\n",
    "    # plot the histogram using the bin edges and counts\n",
    "    axes[i].bar(bin_edges[:-1], bin_counts, width=(bin_edges[1] - bin_edges[0]), edgecolor='black')\n",
    "\n",
    "    # set axes & title\n",
    "    axes[i].set_title(f\"Histogram of {column}\")\n",
    "    axes[i].set_xlabel('Value')\n",
    "    axes[i].set_ylabel('Frequency')\n",
    "\n",
    "# turn off any unused subplots\n",
    "for i in range(len(valid_columns), len(axes)):\n",
    "    axes[i].axis('off')\n",
    "\n",
    "# need to update to add labels for axis \n",
    "plt.tight_layout()\n",
    "plt.show()"
   ]
  },
  {
   "cell_type": "markdown",
   "id": "5265a98b-d34a-4bf0-be25-150481e74fd4",
   "metadata": {},
   "source": [
    "### Discussion\n",
    "\n",
    "The distance column, majority of flights in this dataset have a distance <1000 miles. With a few outliers ranging from 3000-5000 miles. \n",
    "\n",
    "Wheels On & Wheels Off time and CRSDepTime & DepTime columns have a few outliers at 0:00-4:00am, majority of times are listed between 5:00 & 23:59\n",
    "\n",
    "The majority of TaxiOut and TaxiIn times are around 0 (or <50minutes). However, there are outliers sitting at ~1300 & 300 minutes respectively. "
   ]
  },
  {
   "cell_type": "markdown",
   "id": "043f7534-aaa3-4a11-b303-4a94c75bf79f",
   "metadata": {
    "jp-MarkdownHeadingCollapsed": true
   },
   "source": [
    "## Questions to analyze data with"
   ]
  },
  {
   "cell_type": "markdown",
   "id": "e09a6c97-5cb6-4897-9f92-865985101252",
   "metadata": {},
   "source": [
    "### Which Origin Cities had the most delayed flights?"
   ]
  },
  {
   "cell_type": "code",
   "execution_count": null,
   "id": "4affc1df-26b5-4def-a19b-d8740631b79a",
   "metadata": {},
   "outputs": [],
   "source": [
    "count_delay = filtered_df.select([\"Origin\", \"DepDelay\"]).groupBy(\"Origin\")\\\n",
    "        .agg(count(F.when(col(\"DepDelay\") > 0, 1)).alias(\"DelayCount\"), \n",
    "             count(F.when(col(\"DepDelay\") < 0, 1)).alias(\"EarlyCount\"),\n",
    "            count(\"*\").alias(\"TotalCount\")).orderBy(col(\"TotalCount\").desc())\n",
    "pandas_delay = count_delay.toPandas()# Assuming pdf has these columns: OriginCity, DelayedFlights, EarlyFlights, OnTimeFlights\n",
    "\n",
    "pdf = pandas_delay.copy()\n",
    "pdf[\"OnTimeCount\"] = pdf[\"TotalCount\"] - pdf[\"DelayCount\"] - pdf[\"EarlyCount\"]\n",
    "top_20 = pdf.head(20)\n",
    "\n",
    "# Bar positions\n",
    "cities = top_20[\"Origin\"]\n",
    "x = np.arange(len(cities))\n",
    "\n",
    "# Heights\n",
    "early = top_20[\"EarlyCount\"]\n",
    "on_time = top_20[\"OnTimeCount\"]\n",
    "delayed = top_20[\"DelayCount\"]\n",
    "\n",
    "# Plot\n",
    "plt.figure(figsize=(12, 6))\n",
    "plt.bar(x, early, label=\"Early\", color=\"green\")\n",
    "plt.bar(x, on_time, bottom=early, label=\"On Time\", color=\"gray\")\n",
    "plt.bar(x, delayed, bottom=early + on_time, label=\"Delayed\", color=\"red\")\n",
    "\n",
    "# Labels and formatting\n",
    "plt.xticks(x, cities, rotation=45)\n",
    "plt.ylabel(\"Number of Flights\")\n",
    "plt.title(\"Flight Status by Origin City (Top 20)\")\n",
    "plt.legend(title=\"Flight Status\")\n",
    "plt.tight_layout()\n",
    "plt.show()"
   ]
  },
  {
   "cell_type": "markdown",
   "id": "3c41dc78-d0bc-4d48-ac2e-9629dac7ff1c",
   "metadata": {},
   "source": [
    "#### Discussion\n",
    "The plot above shows a stacked bar chart of the origin cities with the 20 highest total flight counts. The bars are stacked according to early departures (green), on time departures (grey), and delayed departures (red) and are organized in descending order starting at the left. From this plot, the overall trend suggests that the majority of flights are early and only a small proportion of flights are actually on time. The origin city with the seemingly largest proportion of delayed departures is Denver and, speaking as someone from Colorado, I can personally attest to this."
   ]
  },
  {
   "cell_type": "markdown",
   "id": "26f3f67a-f47e-48dd-90d9-b25cf3beebf6",
   "metadata": {
    "jp-MarkdownHeadingCollapsed": true
   },
   "source": [
    "### Which years had the most delayed flights?"
   ]
  },
  {
   "cell_type": "code",
   "execution_count": null,
   "id": "7c0cb107-82c8-4ef5-a286-b71f118439fc",
   "metadata": {},
   "outputs": [],
   "source": [
    "year_delay = filtered_df.select([\"Year\", \"DepDelay\"]).groupBy(\"Year\")\\\n",
    "        .agg(count(F.when(col(\"DepDelay\") > 0, 1)).alias(\"DelayCount\"), \n",
    "             count(F.when(col(\"DepDelay\") < 0, 1)).alias(\"EarlyCount\"),\n",
    "            count(\"*\").alias(\"TotalCount\")).orderBy(col(\"Year\"))\n",
    "pandas_year_delay = year_delay.toPandas()\n",
    "\n",
    "pydf = pandas_year_delay.copy()\n",
    "pydf[\"OnTimeCount\"] = pydf[\"TotalCount\"] - pydf[\"DelayCount\"] - pydf[\"EarlyCount\"]\n",
    "year_counts = pydf\n",
    "\n",
    "# Bar positions\n",
    "years = year_counts[\"Year\"]\n",
    "x = np.arange(len(years))\n",
    "\n",
    "# Heights\n",
    "early = year_counts[\"EarlyCount\"]\n",
    "on_time = year_counts[\"OnTimeCount\"]\n",
    "delayed = year_counts[\"DelayCount\"]\n",
    "\n",
    "# Plot\n",
    "plt.figure(figsize=(12, 6))\n",
    "plt.bar(x, early, label=\"Early\", color=\"green\")\n",
    "plt.bar(x, on_time, bottom=early, label=\"On Time\", color=\"gray\")\n",
    "plt.bar(x, delayed, bottom=early + on_time, label=\"Delayed\", color=\"red\")\n",
    "\n",
    "# Labels and formatting\n",
    "plt.xticks(x, years)\n",
    "plt.ylabel(\"Number of Flights\")\n",
    "plt.title(\"Flight Status by Year\")\n",
    "plt.legend(title=\"Flight Status\")\n",
    "plt.tight_layout()\n",
    "plt.show()"
   ]
  },
  {
   "cell_type": "markdown",
   "id": "0d8a5456-6f33-4b29-bde5-f9a7a859606d",
   "metadata": {},
   "source": [
    "#### Discussion\n",
    "Similar to the first bar chart, we also present a stacked bar chart depicting the overall flight count per year between 2018 and 2022. The scale of this plot is in the millions of flights and 2019 appears to have a much higher overall flight count than the other years. Surprisingly, 2020 had the fewest amount of delayed departures by far even though it had a similar amount of overall flights. This could very well have something to do with the emergence of COVID during the beginning of that year, but it would be interesting to look closer at flight trends during that time."
   ]
  },
  {
   "cell_type": "markdown",
   "id": "789371f0-c9c8-41e5-af2d-81077ffaaa9f",
   "metadata": {
    "jp-MarkdownHeadingCollapsed": true
   },
   "source": [
    "### Which months had the most delayed flights?"
   ]
  },
  {
   "cell_type": "code",
   "execution_count": null,
   "id": "9a11f36a-d220-4de2-bffd-3eb1e4d8d252",
   "metadata": {
    "scrolled": true
   },
   "outputs": [],
   "source": [
    "month_delay = filtered_df.select([\"Month\", \"DepDelay\"]).groupBy(\"Month\")\\\n",
    "        .agg(count(F.when(col(\"DepDelay\") > 0, 1)).alias(\"DelayCount\"), \n",
    "             count(F.when(col(\"DepDelay\") < 0, 1)).alias(\"EarlyCount\"),\n",
    "            count(\"*\").alias(\"TotalCount\")).orderBy(col(\"Month\"))\n",
    "pandas_month_delay = month_delay.toPandas()\n",
    "\n",
    "pmdf = pandas_month_delay.copy()\n",
    "pmdf[\"OnTimeCount\"] = pmdf[\"TotalCount\"] - pmdf[\"DelayCount\"] - pmdf[\"EarlyCount\"]\n",
    "month_counts = pmdf\n",
    "\n",
    "# Bar positions\n",
    "months = month_counts[\"Month\"]\n",
    "x = np.arange(len(months))\n",
    "\n",
    "# Heights\n",
    "early = month_counts[\"EarlyCount\"]\n",
    "on_time = month_counts[\"OnTimeCount\"]\n",
    "delayed = month_counts[\"DelayCount\"]\n",
    "\n",
    "# Plot\n",
    "plt.figure(figsize=(12, 6))\n",
    "plt.bar(x, early, label=\"Early\", color=\"green\")\n",
    "plt.bar(x, on_time, bottom=early, label=\"On Time\", color=\"gray\")\n",
    "plt.bar(x, delayed, bottom=early + on_time, label=\"Delayed\", color=\"red\")\n",
    "\n",
    "# Labels and formatting\n",
    "plt.xticks(x, months)\n",
    "plt.ylabel(\"Number of Flights\")\n",
    "plt.title(\"Flight Status by Month\")\n",
    "plt.legend(title=\"Flight Status\")\n",
    "plt.tight_layout()\n",
    "plt.show()"
   ]
  },
  {
   "cell_type": "markdown",
   "id": "bc6ed815-f3a6-4501-894b-112627c95bc2",
   "metadata": {},
   "source": [
    "#### Discussion\n",
    "Continuing with the bar charts, the above chart depicts departure status as proportions of the total number of flights per month starting with January at 1. Intuitively, one might expect there to be more delayed flights during the winter months December-March. However, this graph depicts that there is really no discernible difference in delayed departures during that time, with the largest proportion of delayed flights actually coming in June. Keep in mind this is only looking at departures, so other statuses could have different outcomes, but it is interesting to note."
   ]
  },
  {
   "cell_type": "markdown",
   "id": "6e4ea3b3",
   "metadata": {
    "jp-MarkdownHeadingCollapsed": true
   },
   "source": [
    "### Which routes had the most delays?"
   ]
  },
  {
   "cell_type": "code",
   "execution_count": null,
   "id": "4272a44c-1062-4c86-9576-ac7e3551cc53",
   "metadata": {},
   "outputs": [],
   "source": [
    "year_delay = filtered_df.select([\"Year\", \"DepDelay\"]).groupBy(\"Year\")\\\n",
    "        .agg(count(F.when(col(\"DepDelay\") > 0, 1)).alias(\"DelayCount\"), \n",
    "             count(F.when(col(\"DepDelay\") < 0, 1)).alias(\"EarlyCount\"),\n",
    "            count(\"*\").alias(\"TotalCount\")).orderBy(col(\"TotalCount\").desc())\n",
    "pandas_year_delay = count_delay.toPandas()"
   ]
  },
  {
   "cell_type": "code",
   "execution_count": null,
   "id": "ac2d5a7e-528f-4f36-8740-1d3c8600f2f3",
   "metadata": {},
   "outputs": [],
   "source": [
    "cols_to_keep_2 = [\"Operating_Airline\", \"Origin\", \"Dest\", \"ArrDelayMinutes\", \"DepDelayMinutes\", \"Distance\", \"OriginCityName\", \"DestCityName\"]\n",
    "df2 = filtered_df.select(cols_to_keep_2)"
   ]
  },
  {
   "cell_type": "code",
   "execution_count": null,
   "id": "5ed5ef3f",
   "metadata": {},
   "outputs": [],
   "source": [
    "# group by origin and city, then calculating the total average delay between the cities\n",
    "route_delays = df2.groupBy(\"OriginCityName\", \"DestCityName\") \\\n",
    "    .agg(\n",
    "        (F.avg(\"DepDelayMinutes\") + F.avg(\"ArrDelayMinutes\")).alias(\"AvgTotalDelay\")\n",
    "    ) \\\n",
    "    .orderBy(F.col(\"AvgTotalDelay\").desc())"
   ]
  },
  {
   "cell_type": "code",
   "execution_count": null,
   "id": "5ac38afd",
   "metadata": {},
   "outputs": [],
   "source": [
    "# convert to pandas\n",
    "route_delays_pd = route_delays.limit(10).toPandas()"
   ]
  },
  {
   "cell_type": "code",
   "execution_count": null,
   "id": "d5cd5e53-8fdb-48ce-8d14-6406a21ce58c",
   "metadata": {},
   "outputs": [],
   "source": [
    "route_delays_pd.head()"
   ]
  },
  {
   "cell_type": "code",
   "execution_count": null,
   "id": "50cd4d81",
   "metadata": {},
   "outputs": [],
   "source": [
    "# combining origin and dest for visual purposes \n",
    "route_delays_pd['Route'] = route_delays_pd['OriginCityName'] + ' to ' + route_delays_pd['DestCityName']"
   ]
  },
  {
   "cell_type": "code",
   "execution_count": null,
   "id": "b2bc7146",
   "metadata": {},
   "outputs": [],
   "source": [
    "# plot\n",
    "plt.figure(figsize=(14, 8))\n",
    "sns.barplot(x='AvgTotalDelay', y='Route', data=route_delays_pd)\n",
    "plt.title('Top 10 Most Delayed Flight Routes')\n",
    "plt.xlabel('Average Total Delay in Minutes')\n",
    "plt.ylabel('Route (Origin to Destination)')\n",
    "plt.xticks(rotation=0)\n",
    "plt.show()"
   ]
  },
  {
   "cell_type": "markdown",
   "id": "d5ab4a04-a76d-4d2f-8f79-c55edc4c17aa",
   "metadata": {
    "jp-MarkdownHeadingCollapsed": true
   },
   "source": [
    "#### Discussion\n",
    "This bar plot shows the top 10 most delayed flight routes ranked by the average total delay, which is the combined sum of both departure and arrival delays. The x-axis represents the total average delay in minutes, while the y-axis displays the origin and destination cities. We note that the route with the most significant delay, Bend/Redmond, OR to Medford, OR, occurs within the same state, with an average total delay of around 2200 minutes or 36 hours which is significantly higher than the other routes. Additionally, most of the other delayed flights seem to occur when the flights are approximately halfway across the country. Further analysis could explore how the amount of delayed flights on each route correlates with the average total delay."
   ]
  },
  {
   "cell_type": "markdown",
   "id": "425647c9",
   "metadata": {},
   "source": [
    "### Which airlines experience the most delays?"
   ]
  },
  {
   "cell_type": "code",
   "execution_count": null,
   "id": "25bde894",
   "metadata": {},
   "outputs": [],
   "source": [
    "# combining departure delay and arrival delay to one column\n",
    "df2 = df2.withColumn('TotalDelay', F.col('DepDelayMinutes') + F.col('ArrDelayMinutes'))"
   ]
  },
  {
   "cell_type": "code",
   "execution_count": null,
   "id": "856c9c22",
   "metadata": {},
   "outputs": [],
   "source": [
    "# renaming airline codes to their respective names\n",
    "airline_mapping = {\n",
    "    'AX': 'Trans States Airlines',\n",
    "    'C5': 'Commutair/Champlain Enterprises Inc.',\n",
    "    'G7': 'GoJet Airlines/United Express',\n",
    "    'ZW': 'Air Wisconsin Airlines Corp',\n",
    "    'EV': 'ExpressJet Airlines inc.',\n",
    "    'B6': 'JetBlue Airways',\n",
    "    'YV': 'Mesa Airlines Inc.',\n",
    "    'OO': 'Skywest Airlines Inc',\n",
    "    'F9': 'Frontier Airlines Inc',\n",
    "    'G4': 'Allegiant Air'\n",
    "}"
   ]
  },
  {
   "cell_type": "code",
   "execution_count": null,
   "id": "9e21f13b",
   "metadata": {},
   "outputs": [],
   "source": [
    "# selecting only delays that are over 0\n",
    "delayed_flights = df2.filter(df2['TotalDelay'] > 0)"
   ]
  },
  {
   "cell_type": "code",
   "execution_count": null,
   "id": "0990ab41-5067-4225-975c-c903ddf19505",
   "metadata": {},
   "outputs": [],
   "source": [
    "# delayed_flights.printSchema()"
   ]
  },
  {
   "cell_type": "code",
   "execution_count": null,
   "id": "9704ab78",
   "metadata": {},
   "outputs": [],
   "source": [
    "# group by airline, then calculating the total average delay\n",
    "total_delay = delayed_flights.groupBy(\"Operating_Airline\").agg(\n",
    "    F.avg(\"TotalDelay\").alias(\"TotalDelayMinutes\")\n",
    ").orderBy(F.col(\"TotalDelayMinutes\").desc())"
   ]
  },
  {
   "cell_type": "code",
   "execution_count": null,
   "id": "8b878004",
   "metadata": {},
   "outputs": [],
   "source": [
    "# convert to pandas\n",
    "total_delay_pd = total_delay.limit(10).toPandas()"
   ]
  },
  {
   "cell_type": "code",
   "execution_count": null,
   "id": "53a2164a",
   "metadata": {},
   "outputs": [],
   "source": [
    "total_delay_pd['Operating_Airline_Name'] = total_delay_pd['Operating_Airline'].map(airline_mapping)"
   ]
  },
  {
   "cell_type": "code",
   "execution_count": null,
   "id": "08d634d6",
   "metadata": {},
   "outputs": [],
   "source": [
    "total_delay_pd.head(10)"
   ]
  },
  {
   "cell_type": "code",
   "execution_count": null,
   "id": "2b00a6fb",
   "metadata": {},
   "outputs": [],
   "source": [
    "# plot\n",
    "plt.figure(figsize=(12, 8))\n",
    "sns.barplot(x=\"TotalDelayMinutes\", y=\"Operating_Airline\", data=total_delay_pd)\n",
    "plt.title('Top 10 Airlines with the Most Delay in Minutes')\n",
    "plt.xlabel('Average Total Delay in Minutes')\n",
    "plt.ylabel('Airline')\n",
    "plt.show()"
   ]
  },
  {
   "cell_type": "markdown",
   "id": "c4cabfc8-4de4-443e-bac0-8580f478ede2",
   "metadata": {},
   "source": [
    "#### Discussion\n",
    "This bar plot illustrates the top 10 airlines with the highest average total delay, measured in minutes. The x-axis represents the total average delay, while the y-axis lists the airlines. It’s clear from the plot that certain airlines, such as Trans States Airlines and Commutair, experience somewhat higher delays than others with their total delays averaging over 100 minutes or a little over 1.5 hours. Further analysis could focus on the specific factors contributing to delays within these airlines, such as location, weather, or operational challenges. "
   ]
  },
  {
   "cell_type": "markdown",
   "id": "44a26667",
   "metadata": {},
   "source": [
    "### Do flights with a longer distance have longer departure delays?"
   ]
  },
  {
   "cell_type": "code",
   "execution_count": null,
   "id": "caf50580",
   "metadata": {},
   "outputs": [],
   "source": [
    "# convert to pandas\n",
    "distance_delays_sample_pd = df2.select(\"Distance\", \"DepDelayMinutes\").sample(withReplacement=False, fraction=0.3, seed=42).toPandas()\n"
   ]
  },
  {
   "cell_type": "code",
   "execution_count": null,
   "id": "8484f124",
   "metadata": {},
   "outputs": [],
   "source": [
    "# convert to numeric to prevent error\n",
    "distance_delays_sample_pd['Distance'] = pd.to_numeric(distance_delays_sample_pd['Distance'], errors='coerce')\n",
    "distance_delays_sample_pd['DepDelayMinutes'] = pd.to_numeric(distance_delays_sample_pd['DepDelayMinutes'], errors='coerce')"
   ]
  },
  {
   "cell_type": "code",
   "execution_count": null,
   "id": "26e3064f",
   "metadata": {},
   "outputs": [],
   "source": [
    "# removing any NaNs and 0 values\n",
    "distance_delays_sample_pd = distance_delays_sample_pd.dropna(subset=['Distance', 'DepDelayMinutes'])\n",
    "distance_delays_sample_pd = distance_delays_sample_pd[(distance_delays_sample_pd['Distance'] > 0) & (distance_delays_sample_pd['DepDelayMinutes'] > 0)]"
   ]
  },
  {
   "cell_type": "code",
   "execution_count": null,
   "id": "1b30dd5c",
   "metadata": {},
   "outputs": [],
   "source": [
    "# plot\n",
    "plt.figure(figsize=(12, 8))\n",
    "sns.scatterplot(x='Distance', y='DepDelayMinutes', data= distance_delays_sample_pd, alpha=0.6)\n",
    "plt.title('Flight Distance vs Departure Delay')\n",
    "plt.xlabel('Flight Distance in Miles')\n",
    "plt.ylabel('Departure Delay in Minutes')\n",
    "plt.show()"
   ]
  },
  {
   "cell_type": "markdown",
   "id": "e96cc4ea-ea94-41c6-954c-03499416a6ac",
   "metadata": {},
   "source": [
    "#### Discussion\n",
    "This scatter plot compares flight distance and departure delay, with flight distance being on the x-axis and departure delay on the y-axis. It is only a sample of the whole dataset, and shows that there’s no clear correlation between the distance and delay. However, we can somewhat see that there is a slightly negative correlation where shorter flights have longer delays and longer flights have shorter delays. Further analysis could explore how specific factors contribute to delays, especially for shorter flights."
   ]
  },
  {
   "cell_type": "markdown",
   "id": "cb9c5d09-ad6a-468f-851b-b45f143e261a",
   "metadata": {},
   "source": [
    "### Checking delayed and cancelled flights Group By by operating airlines and time"
   ]
  },
  {
   "cell_type": "markdown",
   "id": "c992ae14-976c-44a0-bed8-1001fa18301c",
   "metadata": {},
   "source": [
    "The following columns were manually chosen after reading column description on Kaggle."
   ]
  },
  {
   "cell_type": "code",
   "execution_count": null,
   "id": "41ecfd8d-6ef2-4f25-8d2d-8907059bc2aa",
   "metadata": {},
   "outputs": [],
   "source": [
    "cols_to_check = ['Marketing_Airline_Network', 'Operating_Airline', 'Origin', 'Dest', 'DepDel15', 'DepDelay', 'ArrDel15', 'ArrDelay',\\\n",
    "                 'Cancelled', 'CarrierDelay', 'WeatherDelay', 'NASDelay', 'SecurityDelay', 'LateAircraftDelay',\\\n",
    "                 'Distance', 'Year', 'Month', 'DayofMonth', 'FlightDate', 'Flight_Number_Operating_Airline']\n",
    "print(f'col_to_check = {len(cols_to_check)}')\n",
    "# Check to see if interested columns is in columns_with_few_nulls\n",
    "removed_col = []\n",
    "my_cols = []\n",
    "for c in cols_to_check:\n",
    "    if c in filtered_df.columns:\n",
    "        my_cols.append(c)\n",
    "    else:\n",
    "        removed_col.append(c)\n",
    "\n",
    "print('Chosen columns:')\n",
    "print(my_cols)\n",
    "print()\n",
    "print('Rejected columns:')\n",
    "print(removed_col)"
   ]
  },
  {
   "cell_type": "code",
   "execution_count": null,
   "id": "277c08e3-227b-485a-935f-83b889b504e6",
   "metadata": {},
   "outputs": [],
   "source": [
    "# Filter out a subset of columns to do data analysis\n",
    "Nam_df = filtered_df.select(my_cols)"
   ]
  },
  {
   "cell_type": "markdown",
   "id": "4bf8401c-ac80-43e5-a73a-f4c97b1e3890",
   "metadata": {},
   "source": [
    "Cancelled flights have nulls values in other columns!"
   ]
  },
  {
   "cell_type": "code",
   "execution_count": null,
   "id": "76698145-d6d0-4ac0-b36d-ab7aa82e4752",
   "metadata": {},
   "outputs": [],
   "source": [
    "cols_to_check = ['DepDel15', 'DepDelay', 'ArrDel15', 'ArrDelay']\n",
    "print('There are entries where Cancelled column will have value of 1 (canceled) while other columns might be null')\n",
    "for c in cols_to_check:\n",
    "    num_to_display = Nam_df.where(isnull(col(c)) & (col('Cancelled') == 1)).count()\n",
    "    print(f'Number of entries where {c} column is null but Cancelled is 1: {num_to_display}')"
   ]
  },
  {
   "cell_type": "markdown",
   "id": "fa3ab495-d2f2-490d-aa05-ef7cf4f2885d",
   "metadata": {},
   "source": [
    "Since I intend to do data exploration with cancelled flights, it is not a good idea for me to do dropna() on the dataset as I will lose data for those flights."
   ]
  },
  {
   "cell_type": "code",
   "execution_count": null,
   "id": "f074bb8f-64f3-43fe-9f5a-63e85e6868a9",
   "metadata": {},
   "outputs": [],
   "source": [
    "# check number of flights that are delayed by more 15 minutes and cancelled flights\n",
    "num_delayed = Nam_df.where(col('DepDel15') == 1).count()\n",
    "num_cancelled = Nam_df.where(col('Cancelled') == 1).count()\n",
    "print(f'Number of flights that were delayed by more than 15 minutes: {num_delayed}')\n",
    "print(f'Number of flights that were cancelled: {num_cancelled}')"
   ]
  },
  {
   "cell_type": "markdown",
   "id": "d1bd7e5d-894a-4f18-a440-acefbb3d8785",
   "metadata": {},
   "source": [
    "#### Group by operating airline data analysis"
   ]
  },
  {
   "cell_type": "code",
   "execution_count": null,
   "id": "a6fb0bf2-2622-4ed9-a0e3-7b7260c2c614",
   "metadata": {},
   "outputs": [],
   "source": [
    "# aggregate by operating airline and turn into Pandas dataframe\n",
    "airline_flights = Nam_df.groupBy(col('Operating_Airline')).agg(F.sum(col('DepDel15')).alias('DelayedFlights'),\n",
    "                                                               F.sum(col('Cancelled')).alias('CancelledFlights'),\n",
    "                                                               F.count('*').alias('TotalFlights'))\n",
    "airline_flights_pd = airline_flights.toPandas()\n",
    "airline_flights_pd['DelayedPercentage'] = airline_flights_pd['DelayedFlights'] / airline_flights_pd['TotalFlights']\n",
    "airline_flights_pd['CancelledPercentage'] = airline_flights_pd['CancelledFlights'] / airline_flights_pd['TotalFlights']\n",
    "airline_flights_pd.head(5)"
   ]
  },
  {
   "cell_type": "code",
   "execution_count": null,
   "id": "a9d1961e-4871-4b2c-bc6c-45738307cd85",
   "metadata": {},
   "outputs": [],
   "source": [
    "# Graph number of delayed flights by airlines\n",
    "airline_flights_pd = airline_flights_pd.sort_values(by = 'DelayedFlights', axis = 0, ascending = True)\n",
    "fig, ax = plt.subplots(figsize=(10, 10))\n",
    "percentage_barplot = sns.barplot(data = airline_flights_pd, x = 'Operating_Airline', y = 'DelayedFlights')\n",
    "plt.title('Number of delayed flights by Operating Airline')\n",
    "plt.xlabel('')\n",
    "plt.ylabel('')"
   ]
  },
  {
   "cell_type": "code",
   "execution_count": null,
   "id": "a017b96b-7e89-4928-bd7d-cb5ab53eadd6",
   "metadata": {},
   "outputs": [],
   "source": [
    "# Graph delay flight percentage by airline\n",
    "airline_flights_pd = airline_flights_pd.sort_values(by = 'DelayedPercentage', axis = 0, ascending = True)\n",
    "fig, ax = plt.subplots(figsize=(10, 10))\n",
    "percentage_barplot = sns.barplot(data = airline_flights_pd, x = 'Operating_Airline', y = 'DelayedPercentage')\n",
    "plt.title('Percentage of delayed flights by Operating Airline')\n",
    "plt.xlabel('')\n",
    "plt.ylabel('')"
   ]
  },
  {
   "cell_type": "code",
   "execution_count": null,
   "id": "dfc87dcf-acea-4248-991f-4ac13f32ff8b",
   "metadata": {},
   "outputs": [],
   "source": [
    "# Graph number of cancelled flights by airlines\n",
    "airline_flights_pd = airline_flights_pd.sort_values(by = 'CancelledFlights', axis = 0, ascending = True)\n",
    "fig, ax = plt.subplots(figsize=(10, 10))\n",
    "sns.barplot(data = airline_flights_pd, x = 'Operating_Airline', y = 'CancelledFlights')\n",
    "plt.title('Number of cancelled flights by Operating Airline')\n",
    "plt.xlabel('')\n",
    "plt.ylabel('')"
   ]
  },
  {
   "cell_type": "code",
   "execution_count": null,
   "id": "69b9acda-ca0a-4a91-9157-a26481115591",
   "metadata": {},
   "outputs": [],
   "source": [
    "# Graph peracentage of cancelled flights by airlines\n",
    "airline_flights_pd = airline_flights_pd.sort_values(by = 'CancelledPercentage', axis = 0, ascending = True)\n",
    "fig, ax = plt.subplots(figsize=(10, 10))\n",
    "sns.barplot(data = airline_flights_pd, x = 'Operating_Airline', y = 'CancelledPercentage')\n",
    "plt.title('Percentage of cancelled flights by Operating Airline')\n",
    "plt.xlabel('')\n",
    "plt.ylabel('')"
   ]
  },
  {
   "cell_type": "markdown",
   "id": "21105ab1-d942-49fb-9a8c-fea16cd91449",
   "metadata": {},
   "source": [
    "#### Group by time data analysis"
   ]
  },
  {
   "cell_type": "code",
   "execution_count": null,
   "id": "713a8ee0-a6b3-4b6c-a223-e381b543721e",
   "metadata": {},
   "outputs": [],
   "source": [
    "# Group by Year and Month and turn into Pandas df\n",
    "time_agg = Nam_df.groupBy('Year', 'Month').agg(F.sum(col('DepDel15')).alias('DelayedFlights'),\n",
    "                                              F.sum(col('Cancelled')).alias('CancelledFlights'),\n",
    "                                              F.count('*').alias('TotalFlights'))\n",
    "time_agg_pd = time_agg.toPandas()\n",
    "time_agg_pd['DelayedPercentage'] = time_agg_pd['DelayedFlights'] / time_agg_pd['TotalFlights']\n",
    "time_agg_pd['CancelledPercentage'] = time_agg_pd['CancelledFlights'] / time_agg_pd['TotalFlights']\n",
    "time_agg_pd.head(5)"
   ]
  },
  {
   "cell_type": "code",
   "execution_count": null,
   "id": "793de5b8-9350-4663-b46e-87cc74471a71",
   "metadata": {},
   "outputs": [],
   "source": [
    "# Graph number of flights overtime\n",
    "colors = ['red', 'blue', 'green', 'purple', 'gold']\n",
    "fig, ax = plt.subplots(figsize=(10, 10))\n",
    "barplot = sns.lineplot(data = time_agg_pd, x = 'Month', y = 'TotalFlights', hue = 'Year', palette = colors)\n",
    "plt.title('Number of monthly flights over the year')\n",
    "plt.ylabel('')\n",
    "plt.legend(loc = 'upper right', bbox_to_anchor = (1.15, 1), title = 'Year')"
   ]
  },
  {
   "cell_type": "code",
   "execution_count": null,
   "id": "e991c337-a0a3-4453-86b9-ff0023d9138f",
   "metadata": {},
   "outputs": [],
   "source": [
    "# Graph percentage of delayed flights over time\n",
    "colors = ['red', 'blue', 'green', 'purple', 'gold']\n",
    "fig, ax = plt.subplots(figsize=(10, 10))\n",
    "barplot = sns.lineplot(data = time_agg_pd, x = 'Month', y = 'DelayedPercentage', hue = 'Year', palette = colors)\n",
    "plt.title('Percentage of delayed monthly flights over the year')\n",
    "plt.ylabel('')\n",
    "plt.legend(loc = 'upper right', bbox_to_anchor = (1.15, 1), title = 'Year')"
   ]
  },
  {
   "cell_type": "code",
   "execution_count": null,
   "id": "563e8562-992e-41eb-ad62-7dcda34cd125",
   "metadata": {},
   "outputs": [],
   "source": [
    "# Graph percentage of cancelled flights over time\n",
    "colors = ['red', 'blue', 'green', 'purple', 'gold']\n",
    "fig, ax = plt.subplots(figsize=(10, 10))\n",
    "barplot = sns.lineplot(data = time_agg_pd, x = 'Month', y = 'CancelledPercentage', hue = 'Year', palette = colors)\n",
    "plt.title('Percentage of cancelled monthly flights over the year')\n",
    "plt.ylabel('')\n",
    "plt.legend(loc = 'upper right', bbox_to_anchor = (1.15, 1), title = 'Year')"
   ]
  },
  {
   "cell_type": "markdown",
   "id": "5f0a6eee-1b8a-4c02-adf2-24f6b931ef7c",
   "metadata": {},
   "source": [
    "#### Discussion"
   ]
  },
  {
   "cell_type": "markdown",
   "id": "8e85723b-87bb-4c69-b23b-fe5463d19723",
   "metadata": {
    "jp-MarkdownHeadingCollapsed": true
   },
   "source": [
    "**<u>Data cleaning</u>**\n",
    "\n",
    "Thanks to the team's work, we can learn that the majority of columns in our dataset contains a large number of NaN. We are able to quickly filter out those columns and focus on the others.\n",
    "My analysis focused on delayed and cancelled flights. I learned that entries of cancelled flights will have nulls in other columns making a simple dropna() not a viable data cleaning method.\n",
    "If we are to work with cancelled flights, we have to find away to fill in the nulls of other columns."
   ]
  },
  {
   "cell_type": "markdown",
   "id": "50186cea-70e9-497f-8c18-2f8f67213c5a",
   "metadata": {
    "jp-MarkdownHeadingCollapsed": true
   },
   "source": [
    "**<u>Aggregated by operating airlines</u>**\n",
    "\n",
    "Despite how miserable air travelling is, flights are seldomly late. About 10 - 25% of flights are at least 15 minutes late to depart. From the graph, I would say that an average of about 15% of flights operated by any airlines are late to depart.\n",
    "\n",
    "Airlines are keen to keep their flights operational cancelling less than 5% of their total scheduled flights. This makes sense as cancellation results in not only loss of revenue but also compensation of damages and potential loss of opportunities.\n",
    "\n",
    "Airline denoted by KS (Peninsula Airways) stood out to me. They do not serve a lot of flights. But their delayed and cancelled metrics are area of improvement to say the least."
   ]
  },
  {
   "cell_type": "markdown",
   "id": "0311efc1-0aaf-4e47-a987-127511ebc4dc",
   "metadata": {},
   "source": [
    "**<u>Aggregated by time</u>**\n",
    "\n",
    "Acknowledgement: I understand that the airline industry was heavy affected by COVID-19 and that the industry is recovering to pre-pandemic numbers.\n",
    "\n",
    "Overall, it seems that February tends to be a slow month for the airline industry. The summer months are busy. The holiday months of September - December are only slight less busy than the summer months. People are more likely to travel in the second half of the year.\n",
    "\n",
    "The data for 2018 flights stood out to me. The year started with fewer flights than 2021 and 2022 (post COVID-19 years) but then suddenly gained 300,000 flights for the summer months. This indicates to me that there is a potential socio/economical/geopolitical event happening and/or issue with data collection.\n",
    "\n",
    "Delayed flights are likely to happen during peak of the traveling seasons contributing to the misery of air travelling. February is an interesting month as customers are not travelling but flights pick up an increase in chance of being delayed. My guess is that flight crews and ground crews are burned out from the holiday season and their performance is decreased.\n",
    "\n",
    "As for cancelled flights, there is a gigantic mountain that sits in the middle of the graph. Almost half of scheduled flights for April of 2020 are cancelled. I wonder what happened."
   ]
  },
  {
   "cell_type": "markdown",
   "id": "af7c98f1-497e-4124-8493-540c33c10671",
   "metadata": {},
   "source": [
    "# Group Project Milestone 3: Data PreProcessing & First Model\n",
    "\n",
    "In this assignment you will need to:\n",
    "\n",
    "1. Finish major preprocessing, this includes scaling and/or transforming your data, imputing your data, encoding your data, feature expansion, Feature expansion (example is taking features and generating new features by transforming via polynomial, log multiplication of features).\n",
    "\n",
    "2. Train your first model\n",
    "\n",
    "3. Evaluate your model compare training vs test error\n",
    "\n",
    "4. Where does your model fit in the fitting graph.\n",
    "\n",
    "5. What are the next models you are thinking of and why?\n",
    "\n",
    "6. Update your README.md to include your new work and updates you have all added. Make sure to upload all code and notebooks. Provide links in your README.md\n",
    "\n",
    "7. Conclusion section: What is the conclusion of your 1st model? What can be done to possibly improve it?\n",
    "\n",
    "Note: For supervised learning, include example ground truth and predictions for train, validation, and test\n"
   ]
  },
  {
   "cell_type": "markdown",
   "id": "0ce7e796-2f89-453c-969e-e445a6853859",
   "metadata": {},
   "source": [
    "## 1. PreProcessing Finalization"
   ]
  },
  {
   "cell_type": "markdown",
   "id": "56784b5a-57a9-4821-846b-820176b005fb",
   "metadata": {},
   "source": [
    "### Handling Missing Data\n",
    "\n",
    "- Columns with >10% of null values are excluded from analysis\n",
    "- Columns that pass this criteria but still have null values range from 1-3% of null values\n",
    "- Most columns that remain in the dataset have no null values"
   ]
  },
  {
   "cell_type": "markdown",
   "id": "a699adc7-c690-486a-8036-2c4e76844386",
   "metadata": {},
   "source": [
    "#### Columns with null values present\n",
    "- Tail_Number: 99.08% non-null\n",
    "- DepTime: 97.39% non-null\n",
    "- DepDelay: 97.39% non-null\n",
    "- DepDelayMinutes: 97.39% non-null\n",
    "- DepDel15: 97.39% non-null\n",
    "- DepartureDelayGroups: 97.39% non-null\n",
    "- WheelsOff: 97.33% non-null\n",
    "- TaxiOut: 97.33% non-null\n",
    "- ArrTime: 97.31% non-null\n",
    "- WheelsOn: 97.28% non-null\n",
    "- TaxiIn: 97.28% non-null\n",
    "- ActualElapsedTime: 97.10% non-null\n",
    "- ArrDelay: 97.10% non-null\n",
    "- ArrDelayMinutes: 97.10% non-null\n",
    "- ArrDel15: 97.10% non-null\n",
    "- ArrivalDelayGroups: 97.10% non-null\n",
    "- AirTime: 97.08% non-null"
   ]
  },
  {
   "cell_type": "markdown",
   "id": "dbdd0bd2-5487-43a3-812f-46a9b482647f",
   "metadata": {},
   "source": [
    "#### Missing values are likely due to cancelled flights. Check if this is true. How do we want to handle missing data where the flight was cancelled?\n",
    "\n",
    "- Check if NA values fall under columns where df['Cancelled'] == 1"
   ]
  },
  {
   "cell_type": "markdown",
   "id": "fb02603b-1261-4cca-bb12-173b576efb2f",
   "metadata": {},
   "source": [
    "#### Missing Data Imputation - MissForest"
   ]
  },
  {
   "cell_type": "markdown",
   "id": "db2e9440-bd90-4797-b2bb-ddc82381ce04",
   "metadata": {},
   "source": [
    "### Removal of Redundant Features\n",
    "\n",
    "- FlightDate is already parsed out in Year, Quarter, Month, DayofMonth, DayofWeek columns"
   ]
  },
  {
   "cell_type": "code",
   "execution_count": null,
   "id": "75181bb5-cce0-44aa-805e-f14a121f2410",
   "metadata": {},
   "outputs": [],
   "source": []
  },
  {
   "cell_type": "markdown",
   "id": "04774059-95a0-40ba-b363-1ad3957bc4a3",
   "metadata": {},
   "source": [
    "### Indexing Categorical Variables - StringIndexer"
   ]
  },
  {
   "cell_type": "code",
   "execution_count": null,
   "id": "9b34aa57-8b4f-44e8-a7c0-b345a4a95ec6",
   "metadata": {},
   "outputs": [],
   "source": []
  },
  {
   "cell_type": "markdown",
   "id": "fffc6d82-f367-4074-bc81-f8797c6d832c",
   "metadata": {},
   "source": [
    "### Feature Expansion Ideas\n",
    "\n",
    "- Combine Origin & Dest into one feature (Route)\n",
    "- Ratio features AirTime/Distance\n",
    "- Log transformation of skewed numeric features - recommended 'Distance' had a >3 fold increase in skew magnitude out of top 20 skewed features"
   ]
  },
  {
   "cell_type": "code",
   "execution_count": 27,
   "id": "e836670b-3985-42a8-82ee-cf694cf6ccc2",
   "metadata": {},
   "outputs": [],
   "source": [
    "spark.catalog.clearCache()"
   ]
  },
  {
   "cell_type": "code",
   "execution_count": 33,
   "id": "0eed1055-97e9-467b-977a-6761f7065450",
   "metadata": {},
   "outputs": [
    {
     "name": "stdout",
     "output_type": "stream",
     "text": [
      "root\n",
      " |-- route: string (nullable = false)\n",
      " |-- Year: integer (nullable = true)\n",
      " |-- Quarter: integer (nullable = true)\n",
      " |-- Month: integer (nullable = true)\n",
      " |-- DayofMonth: integer (nullable = true)\n",
      " |-- DayOfWeek: integer (nullable = true)\n",
      " |-- FlightDate: date (nullable = true)\n",
      " |-- Marketing_Airline_Network: string (nullable = true)\n",
      " |-- Operated_or_Branded_Code_Share_Partners: string (nullable = true)\n",
      " |-- DOT_ID_Marketing_Airline: integer (nullable = true)\n",
      " |-- IATA_Code_Marketing_Airline: string (nullable = true)\n",
      " |-- Flight_Number_Marketing_Airline: integer (nullable = true)\n",
      " |-- Operating_Airline: string (nullable = true)\n",
      " |-- DOT_ID_Operating_Airline: integer (nullable = true)\n",
      " |-- IATA_Code_Operating_Airline: string (nullable = true)\n",
      " |-- Tail_Number: string (nullable = true)\n",
      " |-- Flight_Number_Operating_Airline: integer (nullable = true)\n",
      " |-- OriginAirportID: integer (nullable = true)\n",
      " |-- OriginAirportSeqID: integer (nullable = true)\n",
      " |-- OriginCityMarketID: integer (nullable = true)\n",
      " |-- Origin: string (nullable = true)\n",
      " |-- OriginCityName: string (nullable = true)\n",
      " |-- OriginState: string (nullable = true)\n",
      " |-- OriginStateFips: integer (nullable = true)\n",
      " |-- OriginStateName: string (nullable = true)\n",
      " |-- OriginWac: integer (nullable = true)\n",
      " |-- DestAirportID: integer (nullable = true)\n",
      " |-- DestAirportSeqID: integer (nullable = true)\n",
      " |-- DestCityMarketID: integer (nullable = true)\n",
      " |-- Dest: string (nullable = true)\n",
      " |-- DestCityName: string (nullable = true)\n",
      " |-- DestState: string (nullable = true)\n",
      " |-- DestStateFips: integer (nullable = true)\n",
      " |-- DestStateName: string (nullable = true)\n",
      " |-- DestWac: integer (nullable = true)\n",
      " |-- CRSDepTime: integer (nullable = true)\n",
      " |-- DepTime: integer (nullable = true)\n",
      " |-- DepDelay: double (nullable = true)\n",
      " |-- DepDelayMinutes: double (nullable = true)\n",
      " |-- DepDel15: double (nullable = true)\n",
      " |-- DepartureDelayGroups: integer (nullable = true)\n",
      " |-- DepTimeBlk: string (nullable = true)\n",
      " |-- TaxiOut: double (nullable = true)\n",
      " |-- WheelsOff: integer (nullable = true)\n",
      " |-- WheelsOn: integer (nullable = true)\n",
      " |-- TaxiIn: double (nullable = true)\n",
      " |-- CRSArrTime: integer (nullable = true)\n",
      " |-- ArrTime: integer (nullable = true)\n",
      " |-- ArrDelay: double (nullable = true)\n",
      " |-- ArrDelayMinutes: double (nullable = true)\n",
      " |-- ArrDel15: double (nullable = true)\n",
      " |-- ArrivalDelayGroups: integer (nullable = true)\n",
      " |-- ArrTimeBlk: string (nullable = true)\n",
      " |-- Cancelled: double (nullable = true)\n",
      " |-- Diverted: double (nullable = true)\n",
      " |-- CRSElapsedTime: double (nullable = true)\n",
      " |-- ActualElapsedTime: double (nullable = true)\n",
      " |-- AirTime: double (nullable = true)\n",
      " |-- Flights: double (nullable = true)\n",
      " |-- Distance: double (nullable = true)\n",
      " |-- DistanceGroup: integer (nullable = true)\n",
      " |-- DivAirportLandings: integer (nullable = true)\n",
      " |-- Duplicate: string (nullable = true)\n",
      " |-- avg_speed_mph: double (nullable = true)\n",
      "\n"
     ]
    }
   ],
   "source": [
    "\n",
    "filtered_df = filtered_df.drop(\"is_popular_route\")\n",
    "filtered_df.printSchema()"
   ]
  },
  {
   "cell_type": "code",
   "execution_count": 38,
   "id": "35168191-9127-4a9f-b7a7-8410a3c7b151",
   "metadata": {},
   "outputs": [
    {
     "name": "stderr",
     "output_type": "stream",
     "text": [
      "                                                                                "
     ]
    },
    {
     "name": "stdout",
     "output_type": "stream",
     "text": [
      "+---------+-------------+-----------+----------------+\n",
      "|route    |avg_speed_mph|num_flights|route_popularity|\n",
      "+---------+-------------+-----------+----------------+\n",
      "|JNU - SIT|259.0        |2782       |0               |\n",
      "|ONT - OAK|NULL         |8590       |1               |\n",
      "|PHX - BNA|497.0        |6166       |1               |\n",
      "|LAS - AMA|469.0        |1624       |0               |\n",
      "|SEA - LAS|430.0        |26350      |2               |\n",
      "|DFW - AUS|356.0        |14542      |1               |\n",
      "|BWI - ATL|403.0        |23063      |2               |\n",
      "|LGA - FLL|394.0        |17765      |2               |\n",
      "|MSP - MEM|420.0        |3548       |0               |\n",
      "|SDF - DTW|360.0        |4974       |0               |\n",
      "|TPA - MEM|423.0        |1070       |0               |\n",
      "|PDX - BZN|365.0        |1092       |0               |\n",
      "|GEG - SAN|440.0        |1583       |0               |\n",
      "|CMH - TPA|452.0        |4128       |0               |\n",
      "|IAD - ORD|392.0        |7822       |1               |\n",
      "|RDU - SLC|429.0        |1226       |0               |\n",
      "|VPS - BNA|365.0        |1257       |0               |\n",
      "|FLL - LGA|482.0        |17788      |2               |\n",
      "|CMH - MSP|387.0        |4940       |0               |\n",
      "|IND - MDW|278.0        |1264       |0               |\n",
      "+---------+-------------+-----------+----------------+\n",
      "\n",
      "Shape of the Filtered DataFrame removing cols w/ <90% non-null values: (29193782, 66)\n"
     ]
    },
    {
     "data": {
      "text/plain": [
       "DataFrame[route: string, Year: int, Quarter: int, Month: int, DayofMonth: int, DayOfWeek: int, FlightDate: date, Marketing_Airline_Network: string, Operated_or_Branded_Code_Share_Partners: string, DOT_ID_Marketing_Airline: int, IATA_Code_Marketing_Airline: string, Flight_Number_Marketing_Airline: int, Operating_Airline: string, DOT_ID_Operating_Airline: int, IATA_Code_Operating_Airline: string, Tail_Number: string, Flight_Number_Operating_Airline: int, OriginAirportID: int, OriginAirportSeqID: int, OriginCityMarketID: int, Origin: string, OriginCityName: string, OriginState: string, OriginStateFips: int, OriginStateName: string, OriginWac: int, DestAirportID: int, DestAirportSeqID: int, DestCityMarketID: int, Dest: string, DestCityName: string, DestState: string, DestStateFips: int, DestStateName: string, DestWac: int, CRSDepTime: int, DepTime: int, DepDelay: double, DepDelayMinutes: double, DepDel15: double, DepartureDelayGroups: int, DepTimeBlk: string, TaxiOut: double, WheelsOff: int, WheelsOn: int, TaxiIn: double, CRSArrTime: int, ArrTime: int, ArrDelay: double, ArrDelayMinutes: double, ArrDel15: double, ArrivalDelayGroups: int, ArrTimeBlk: string, Cancelled: double, Diverted: double, CRSElapsedTime: double, ActualElapsedTime: double, AirTime: double, Flights: double, Distance: double, DistanceGroup: int, DivAirportLandings: int, Duplicate: string, avg_speed_mph: double, num_flights: bigint, route_popularity: int]"
      ]
     },
     "execution_count": 38,
     "metadata": {},
     "output_type": "execute_result"
    }
   ],
   "source": [
    "from pyspark.sql import functions as F\n",
    "from pyspark.sql.window import Window\n",
    "\n",
    "# ─── Add \"route\" Column ─────────────────────────────────────────────\n",
    "# Format: \"Origin - Dest\", replacing nulls with \"Unknown\"\n",
    "filtered_df = filtered_df.withColumn(\n",
    "    \"route\",\n",
    "    F.concat_ws(\n",
    "        \" - \",\n",
    "        F.coalesce(F.col(\"Origin\"), F.lit(\"Unknown\")),\n",
    "        F.coalesce(F.col(\"Dest\"), F.lit(\"Unknown\"))\n",
    "    )\n",
    ")\n",
    "\n",
    "# ─── Add Average Speed (mph) ─────────────────────────────────────────\n",
    "# Formula: (Distance / AirTime) * 60, rounded to nearest integer\n",
    "filtered_df = filtered_df.withColumn(\n",
    "    \"avg_speed_mph\",\n",
    "    F.when(\n",
    "        F.col(\"AirTime\").isNotNull() & (F.col(\"AirTime\") != 0),\n",
    "        F.round((F.col(\"Distance\") / F.col(\"AirTime\")) * 60)\n",
    "    ).otherwise(None)\n",
    ")\n",
    "\n",
    "# ─── Add num_flights Using Window Function ───────────────────────────\n",
    "# Counts how many times each route appears, without using join\n",
    "route_window = Window.partitionBy(\"route\")\n",
    "filtered_df = filtered_df.withColumn(\n",
    "    \"num_flights\",\n",
    "    F.count(\"*\").over(route_window)\n",
    ")\n",
    "\n",
    "# ─── Monthly Route Count (for EDA only, optional) ────────────────────\n",
    "monthly_counts = filtered_df.groupBy(\"route\", \"Month\").count()\n",
    "\n",
    "# ─── Add route_popularity Bucket ─────────────────────────────────────\n",
    "# 0 = low (<5000), 1 = med (5K–15K), 2 = high (>15K)\n",
    "filtered_df = filtered_df.withColumn(\n",
    "    \"route_popularity\",\n",
    "    F.when(F.col(\"num_flights\") < 5000, 0)\n",
    "     .when(F.col(\"num_flights\") < 15000, 1)\n",
    "     .otherwise(2)\n",
    ")\n",
    "\n",
    "# ─── Preview Random Sample of Final Feature Columns ──────────────────\n",
    "sample_cols = [\"route\", \"avg_speed_mph\", \"num_flights\", \"route_popularity\"]\n",
    "filtered_df.select(sample_cols) \\\n",
    "    .orderBy(F.rand(seed=42)) \\\n",
    "    .limit(20) \\\n",
    "    .show(truncate=False)\n",
    "\n",
    "# ─── DataFrame Shape Summary ─────────────────────────────────────────\n",
    "num_rows = filtered_df.count()\n",
    "num_cols = len(filtered_df.columns)\n",
    "print(f\"Shape of the filtered DataFrame: ({num_rows}, {num_cols})\")\n",
    "\n",
    "# ─── Optional: Unpersist if it was cached earlier ────────────────────\n",
    "filtered_df.unpersist()"
   ]
  },
  {
   "cell_type": "code",
   "execution_count": 53,
   "id": "a231de2a-e83c-40f1-98ec-f7f8c9275062",
   "metadata": {},
   "outputs": [],
   "source": [
    "# https://plotly.com/python/lines-on-maps/\n",
    "airport_cols = ['AirportID', 'Name', 'City', 'Country', 'IATA', 'ICAO',\n",
    "                'Latitude', 'Longitude', 'Altitude', 'Timezone', 'DST',\n",
    "                'Tz database time zone', 'Type', 'Source']\n",
    "\n",
    "airport_df = pd.read_csv(\n",
    "    \"https://raw.githubusercontent.com/jpatokal/openflights/master/data/airports.dat\",\n",
    "    header=None, names=airport_cols\n",
    ")\n",
    "\n",
    "airport_coords = airport_df[['IATA', 'Latitude', 'Longitude']].dropna()\n",
    "airport_coords = airport_coords[airport_coords['IATA'].str.len() == 3]  # Keep valid codes\n",
    "\n",
    "top_routes_pd = (\n",
    "    filtered_df.groupBy(\"route\", \"Origin\", \"Dest\")\n",
    "    .agg(F.count(\"*\").alias(\"num_flights\"))\n",
    "    .orderBy(F.desc(\"num_flights\"))\n",
    "    .limit(1000)\n",
    "    .toPandas()\n",
    ")\n",
    "\n",
    "# Join lat/lon for Origin and Dest\n",
    "top_routes_pd = top_routes_pd.merge(airport_coords, left_on=\"Origin\", right_on=\"IATA\") \\\n",
    "                             .rename(columns={\"Latitude\": \"Origin_Lat\", \"Longitude\": \"Origin_Lon\"}) \\\n",
    "                             .drop(\"IATA\", axis=1)\n",
    "\n",
    "top_routes_pd = top_routes_pd.merge(airport_coords, left_on=\"Dest\", right_on=\"IATA\") \\\n",
    "                             .rename(columns={\"Latitude\": \"Dest_Lat\", \"Longitude\": \"Dest_Lon\"}) \\\n",
    "                             .drop(\"IATA\", axis=1)"
   ]
  },
  {
   "cell_type": "code",
   "execution_count": 75,
   "id": "5d2f801c-2374-4553-befd-fe254b02ad9f",
   "metadata": {},
   "outputs": [
    {
     "data": {
      "text/html": [
       "<div>            <script src=\"https://cdnjs.cloudflare.com/ajax/libs/mathjax/2.7.5/MathJax.js?config=TeX-AMS-MML_SVG\"></script><script type=\"text/javascript\">if (window.MathJax && window.MathJax.Hub && window.MathJax.Hub.Config) {window.MathJax.Hub.Config({SVG: {font: \"STIX-Web\"}});}</script>                    <div id=\"46641ed4-093a-4a7b-b69d-791735d0b532\" class=\"plotly-graph-div\" style=\"height:800px; width:100%;\"></div>            <script type=\"text/javascript\">                window.PLOTLYENV=window.PLOTLYENV || {};                                if (document.getElementById(\"46641ed4-093a-4a7b-b69d-791735d0b532\")) {                    Plotly.newPlot(                        \"46641ed4-093a-4a7b-b69d-791735d0b532\",                        [{\"hoverinfo\":\"text\",\"lat\":{\"dtype\":\"f8\",\"bdata\":\"AAAAYDvPQkApDATgo\\u002fhAQM0p+b9ACkJAzO7Jw0L9REA4xfw\\u002fe2NEQItx\\u002fiYUUjVAgy9MpgrmNEAI5gkA5VFEQIdvYd14uUdABz3+f1rLRkAAAAAg7W08QH2utmJ\\u002f0UBAIQAAIEzuQ0AAAAAgl7dAQOm4GtmVEjpAAAAAQOpkRECQC\\u002fdfoS5FQPd14JwRbUNAAAAA4FjPR0A91\\u002ffhIL0zQCnMe5xprkJAAAAA4KNYRECyGACg5l1AQAAAACDb+TVA\\u002f\\u002f\\u002f\\u002fv1KWTkCTAgtgynJAQAAAAGC6+TtAAAAAIA\\u002fLOUA3iUFg5XBGQAAAAOAvG0VAAAAA4AJZQ0Dp1f9\\u002ffHAyQPXb14FzlkNAtrxyvW1sQEANa\\u002fDfOKU9QAAAAGCa70NAAAAAoAH8PUAAAACgrbgzQAAAAGBkm0FAY+5aQj7IRUAAAACg7w9CQMlVLH5T3EJA3bWEfNDbQ0AAAACAT\\u002f49QAAAAEBV8EFAAAAAYH1+PkB69f8fP4ZDQAowLH++\\u002f0NAFQQAoLK0REABAADAyjE+QIHOpE3VX0NAEqW9wRemQ0DAFf1ffdZAQP\\u002f\\u002f\\u002f989eUVA5lUAAL5wRUCLHAFg5XhDQAAAAICwGUFAAAAAQOiRRUAAAABA5q46QCfYf52b5ERAAAAAYKrAQkAwFABApnJBQAAAAGBEiTpAAAAAgOK\\u002fQ0D\\u002f\\u002f\\u002f8fWsREQMQKt3wkZ0NAZVr2f+k+REAAAACgoIg9QAAAAAArB0FAAAAAwOEhR0AAAADggfNDQAAAAGBthUFAJ777XwVzQEDXEvJBz6ZEQHwqpz0lhUFAETY8vVIWQ0AAAAAgUbJBQIdo+D9VEEBAmPEAYIYgRkD\\u002f\\u002f\\u002f\\u002ffPfFEQLIZ+R8NyEBAAAAAoDPqQEDKAgBgCSFGQAAAAMCEhEFAAAAA4PIPRkC+8gegpM4\\u002fQJKY+z9ieEVA73b3387nQUAAAADAFz5GQAAAAEDmXkZAAAAAIGUZQkAAAADAhAxCQGZn0TsVJEJAAAAAAKMiQUA5AADAMHk+QAAAAECCckJAggQAYADXQEAAAADA5S9FQOUSAABdXUFAAAAAwDuORUAAAABg3A5AQAAAAKAq+EBAelT835GcQ0DvAQDgLfhEQAAAAOBYr0BAQzT8nyo0UEAqMwggc59CQL4G8T8BLTpALe7\\u002fX9UnQEAAAAAArARDQAAAAGDVt0FAAAAAIDiPRUAAAACgR\\u002fE\\u002fQAAAAOA4ZTtA+fP\\u002f\\u002f37KRUCj\\u002ff9fZJNCQAAAAKC9EUNAvv\\u002f\\u002fv49RQUCLbOf7qalCQORLqODw1EBAAAAA4DjFO0Ck3f\\u002f\\u002fMxE\\u002fQJQ0f0xrWz5AXW3F\\u002frJ7PkAAAACAaLlEQP9Z8+Mv00JAKgKc3sXdREClAACgxBhEQAAAAEDIX0VA\"},\"locationmode\":\"USA-states\",\"lon\":{\"dtype\":\"f8\",\"bdata\":\"AAAAAACYXsA5V96fHJpdwKe+4l+6yVzA7lpCPuj5VcBcOf+f2HdSwIVBmUaTvWPASRCugMKNY8BexgOA2XFSwOIhjJ\\u002fGk17AWUEdoEWmXsAAAACgxlNUwKKYvAFmG1XAEwEAYBIrWsAAAACgxABcwCoCnN7FCVTAAAAAgJf+W8BOJQNAVcBRwBGKraBpQlPA\\u002f\\u002f\\u002f\\u002f\\u002fyxiXcAvM2yUdYFjwOI8nMB0e17AAAAAAMyKUsBVkP\\u002f\\u002fKExdwAAAACDZ6mPAAAAAQN+\\u002fYsCwy\\u002fCfbkJYwAAAAAAgolTAAAAAQJkSVMD+CwQBMk5XwAAAACCe1lTAAQAAANNlXsBs\\u002ff9\\u002fHYBQwPTAx2DFKlPA\\u002fvDz34M2WMBexgOA2dFXwAAAACBuz1LAAAAAgNnVV8AAAABAiWFjwAAAAMBbPFTAg8DKoUUOXcAAAACgZ6tVwIjYYOEkjl7ACTauf9eSVcAAAAAgg5BWwAAAAGBmslPAAAAAgAZsVMBr+v8\\u002fvSpVwHIVi98UuVTAGAoAIGN2VMAAAACg32pYwAAbECGul1bAgqs8gbCtV8BYA+8\\u002fjXddwAAAAOBh+VXAxxP\\u002ff3VhVcCQtALgK11TwP\\u002f\\u002f\\u002f9\\u002f5ll3AAAAAoJlVVsAAAABAHgZUwGOa6V4n8FXAAAAAAHZUU8CUAgCAAo5UwAAAAEBVcFTAAAAA4CbxXcAAAABAcGpXwB6oUx7dLFrAXWAD4OcOVMABAABAEZ5YwP\\u002f\\u002f\\u002f792Zl3AAAAAwJ3HXcAAAACgCg5VwAAAAECCflbARBwEgJcCVMAB323eOPlXwM6OVN\\u002f5plrAyXa+nxpvVcD\\u002f\\u002f\\u002f\\u002ffcWZYwJ3I\\u002fj\\u002fvTFTAdjbkn5lJXsAAAADAfe1WwIzB\\u002fV85sFXA\\u002f\\u002f\\u002f\\u002fv3IgXcDH\\u002fP\\u002ffOCFWwAAAAAALTVXAAAAAYJHNXsAufDMgMZhawLNA\\u002fV\\u002fcrlPAbmcEwJ3\\u002fVMAAAABgSwhWwAAAAMBCZVXAAAAAoNb4V8AAAADA\\u002fPtTwFNYqaCik1fAAAAAQMR5U8Dq\\u002f\\u002f8\\u002f8ctVwAAAAIDgDFPASgEAQGm7U8D\\u002f\\u002f\\u002f8\\u002f37dewFj5\\u002f99aDlfAAAAAoM0GU8AAAABgObxbwAAAAOClR1TAbmcEwJ23WsBLBACAuStSwAAAAGC6fVTAGun7X2R7YsCFhP\\u002ff3lhXwLkX+z9Fj1jA3AAAgNuEVsAAAAAgxyZVwAAAAOCsolTAAAAAoAhrU8AAAACg7YxZwAAAAEB7o1TA2v3\\u002fP3svWMAESQCAQfBawAAAAGD8nFPADQAAQJuxVcDmWrQAbf5TwBmrzf+rdFnAAAAAoBNgWMBn9P+\\u002fDHVYwPQxHxDoclXAkNjuHqChVcAAAADgeqBWwKJ9rOC3W1jA+gj84efaUcDcAACA2zBTwAAAAABPc1LA\"},\"marker\":{\"color\":\"blue\",\"line\":{\"color\":\"rgba(68, 68, 68, 0)\",\"width\":1},\"size\":4},\"mode\":\"markers\",\"name\":\"Airports\",\"text\":[\"SFO\",\"LAX\",\"LAS\",\"ORD\",\"LGA\",\"HNL\",\"OGG\",\"JFK\",\"SEA\",\"PDX\",\"MCO\",\"ATL\",\"DEN\",\"PHX\",\"FLL\",\"SLC\",\"BOS\",\"DCA\",\"GEG\",\"KOA\",\"SJC\",\"EWR\",\"SAN\",\"LIH\",\"ANC\",\"DFW\",\"TPA\",\"MIA\",\"MSP\",\"DTW\",\"SMF\",\"SJU\",\"BWI\",\"DAL\",\"HOU\",\"PHL\",\"IAH\",\"ITO\",\"CLT\",\"BOI\",\"BNA\",\"OAK\",\"IND\",\"MSY\",\"RDU\",\"JAX\",\"CVG\",\"CMH\",\"CLE\",\"AUS\",\"STL\",\"MCI\",\"SNA\",\"MKE\",\"GRR\",\"IAD\",\"BUR\",\"MSN\",\"PBI\",\"MDW\",\"RIC\",\"GSP\",\"RSW\",\"RNO\",\"DSM\",\"COS\",\"PIT\",\"SAT\",\"ONT\",\"PSC\",\"DAY\",\"MEM\",\"CHS\",\"OMA\",\"ABQ\",\"SDF\",\"OKC\",\"SAV\",\"RDM\",\"CID\",\"BHM\",\"PSP\",\"ATW\",\"CHA\",\"EUG\",\"ELP\",\"BUF\",\"TYS\",\"GRB\",\"TVC\",\"TUL\",\"GSO\",\"XNA\",\"ILM\",\"PNS\",\"ORF\",\"MYR\",\"MFR\",\"LIT\",\"SYR\",\"TUS\",\"CAE\",\"ASE\",\"BDL\",\"AGS\",\"FAI\",\"SGF\",\"MFE\",\"JAN\",\"LEX\",\"AVL\",\"ROC\",\"MAF\",\"SRQ\",\"FSD\",\"DRO\",\"CHO\",\"HSV\",\"ROA\",\"LBB\",\"CRP\",\"GRK\",\"ECP\",\"VPS\",\"MLI\",\"ICT\",\"PVD\",\"MDT\",\"ALB\"],\"type\":\"scattergeo\"},{\"lat\":[37.61899948120117,33.94250107],\"line\":{\"color\":\"red\",\"width\":1},\"locationmode\":\"USA-states\",\"lon\":[-122.375,-118.4079971],\"mode\":\"lines\",\"name\":\"SFO \\u2192 LAX\",\"opacity\":1.0,\"type\":\"scattergeo\"},{\"lat\":[33.94250107,37.61899948120117],\"line\":{\"color\":\"red\",\"width\":1},\"locationmode\":\"USA-states\",\"lon\":[-118.4079971,-122.375],\"mode\":\"lines\",\"name\":\"LAX \\u2192 SFO\",\"opacity\":0.9998220767205181,\"type\":\"scattergeo\"},{\"lat\":[33.94250107,36.08010101],\"line\":{\"color\":\"red\",\"width\":1},\"locationmode\":\"USA-states\",\"lon\":[-118.4079971,-115.1520004],\"mode\":\"lines\",\"name\":\"LAX \\u2192 LAS\",\"opacity\":0.7947477047896947,\"type\":\"scattergeo\"},{\"lat\":[36.08010101,33.94250107],\"line\":{\"color\":\"red\",\"width\":1},\"locationmode\":\"USA-states\",\"lon\":[-115.1520004,-118.4079971],\"mode\":\"lines\",\"name\":\"LAS \\u2192 LAX\",\"opacity\":0.7930930182905132,\"type\":\"scattergeo\"},{\"lat\":[41.9786,40.77719879],\"line\":{\"color\":\"red\",\"width\":1},\"locationmode\":\"USA-states\",\"lon\":[-87.9048,-73.87259674],\"mode\":\"lines\",\"name\":\"ORD \\u2192 LGA\",\"opacity\":0.7893388370934453,\"type\":\"scattergeo\"},{\"lat\":[40.77719879,41.9786],\"line\":{\"color\":\"red\",\"width\":1},\"locationmode\":\"USA-states\",\"lon\":[-73.87259674,-87.9048],\"mode\":\"lines\",\"name\":\"LGA \\u2192 ORD\",\"opacity\":0.7888762365667924,\"type\":\"scattergeo\"},{\"lat\":[21.32062,20.8986],\"line\":{\"color\":\"red\",\"width\":1},\"locationmode\":\"USA-states\",\"lon\":[-157.924228,-156.429993],\"mode\":\"lines\",\"name\":\"HNL \\u2192 OGG\",\"opacity\":0.7245925556899865,\"type\":\"scattergeo\"},{\"lat\":[20.8986,21.32062],\"line\":{\"color\":\"red\",\"width\":1},\"locationmode\":\"USA-states\",\"lon\":[-156.429993,-157.924228],\"mode\":\"lines\",\"name\":\"OGG \\u2192 HNL\",\"opacity\":0.7245391787061419,\"type\":\"scattergeo\"},{\"lat\":[33.94250107,40.63980103],\"line\":{\"color\":\"red\",\"width\":1},\"locationmode\":\"USA-states\",\"lon\":[-118.4079971,-73.77890015],\"mode\":\"lines\",\"name\":\"LAX \\u2192 JFK\",\"opacity\":0.7184719948758096,\"type\":\"scattergeo\"},{\"lat\":[40.63980103,33.94250107],\"line\":{\"color\":\"red\",\"width\":1},\"locationmode\":\"USA-states\",\"lon\":[-73.77890015,-118.4079971],\"mode\":\"lines\",\"name\":\"JFK \\u2192 LAX\",\"opacity\":0.717297701231229,\"type\":\"scattergeo\"},{\"lat\":[47.449001,45.58869934],\"line\":{\"color\":\"red\",\"width\":1},\"locationmode\":\"USA-states\",\"lon\":[-122.308998,-122.5979996],\"mode\":\"lines\",\"name\":\"SEA \\u2192 PDX\",\"opacity\":0.6616432994092947,\"type\":\"scattergeo\"},{\"lat\":[45.58869934,47.449001],\"line\":{\"color\":\"red\",\"width\":1},\"locationmode\":\"USA-states\",\"lon\":[-122.5979996,-122.308998],\"mode\":\"lines\",\"name\":\"PDX \\u2192 SEA\",\"opacity\":0.6606469290441962,\"type\":\"scattergeo\"},{\"lat\":[33.94250107,47.449001],\"line\":{\"color\":\"red\",\"width\":1},\"locationmode\":\"USA-states\",\"lon\":[-118.4079971,-122.308998],\"mode\":\"lines\",\"name\":\"LAX \\u2192 SEA\",\"opacity\":0.6119849121058999,\"type\":\"scattergeo\"},{\"lat\":[47.449001,33.94250107],\"line\":{\"color\":\"red\",\"width\":1},\"locationmode\":\"USA-states\",\"lon\":[-122.308998,-118.4079971],\"mode\":\"lines\",\"name\":\"SEA \\u2192 LAX\",\"opacity\":0.6117180271866771,\"type\":\"scattergeo\"},{\"lat\":[28.429399490356445,33.6367],\"line\":{\"color\":\"red\",\"width\":1},\"locationmode\":\"USA-states\",\"lon\":[-81.30899810791016,-84.428101],\"mode\":\"lines\",\"name\":\"MCO \\u2192 ATL\",\"opacity\":0.5989075510639812,\"type\":\"scattergeo\"},{\"lat\":[33.6367,28.429399490356445],\"line\":{\"color\":\"red\",\"width\":1},\"locationmode\":\"USA-states\",\"lon\":[-84.428101,-81.30899810791016],\"mode\":\"lines\",\"name\":\"ATL \\u2192 MCO\",\"opacity\":0.5978044267311935,\"type\":\"scattergeo\"},{\"lat\":[39.861698150635,33.43429946899414],\"line\":{\"color\":\"red\",\"width\":1},\"locationmode\":\"USA-states\",\"lon\":[-104.672996521,-112.01200103759766],\"mode\":\"lines\",\"name\":\"DEN \\u2192 PHX\",\"opacity\":0.5837662799800726,\"type\":\"scattergeo\"},{\"lat\":[33.43429946899414,39.861698150635],\"line\":{\"color\":\"red\",\"width\":1},\"locationmode\":\"USA-states\",\"lon\":[-112.01200103759766,-104.672996521],\"mode\":\"lines\",\"name\":\"PHX \\u2192 DEN\",\"opacity\":0.5834460180770052,\"type\":\"scattergeo\"},{\"lat\":[47.449001,37.61899948120117],\"line\":{\"color\":\"red\",\"width\":1},\"locationmode\":\"USA-states\",\"lon\":[-122.308998,-122.375],\"mode\":\"lines\",\"name\":\"SEA \\u2192 SFO\",\"opacity\":0.5790513130738025,\"type\":\"scattergeo\"},{\"lat\":[37.61899948120117,47.449001],\"line\":{\"color\":\"red\",\"width\":1},\"locationmode\":\"USA-states\",\"lon\":[-122.375,-122.308998],\"mode\":\"lines\",\"name\":\"SFO \\u2192 SEA\",\"opacity\":0.5785531278912532,\"type\":\"scattergeo\"},{\"lat\":[39.861698150635,33.94250107],\"line\":{\"color\":\"red\",\"width\":1},\"locationmode\":\"USA-states\",\"lon\":[-104.672996521,-118.4079971],\"mode\":\"lines\",\"name\":\"DEN \\u2192 LAX\",\"opacity\":0.5734289374421749,\"type\":\"scattergeo\"},{\"lat\":[33.94250107,39.861698150635],\"line\":{\"color\":\"red\",\"width\":1},\"locationmode\":\"USA-states\",\"lon\":[-118.4079971,-104.672996521],\"mode\":\"lines\",\"name\":\"LAX \\u2192 DEN\",\"opacity\":0.5712938580883923,\"type\":\"scattergeo\"},{\"lat\":[26.072599,33.6367],\"line\":{\"color\":\"red\",\"width\":1},\"locationmode\":\"USA-states\",\"lon\":[-80.152702,-84.428101],\"mode\":\"lines\",\"name\":\"FLL \\u2192 ATL\",\"opacity\":0.5684115009607857,\"type\":\"scattergeo\"},{\"lat\":[33.6367,26.072599],\"line\":{\"color\":\"red\",\"width\":1},\"locationmode\":\"USA-states\",\"lon\":[-84.428101,-80.152702],\"mode\":\"lines\",\"name\":\"ATL \\u2192 FLL\",\"opacity\":0.5681979930254074,\"type\":\"scattergeo\"},{\"lat\":[33.94250107,33.43429946899414],\"line\":{\"color\":\"red\",\"width\":1},\"locationmode\":\"USA-states\",\"lon\":[-118.4079971,-112.01200103759766],\"mode\":\"lines\",\"name\":\"LAX \\u2192 PHX\",\"opacity\":0.5563483026119137,\"type\":\"scattergeo\"},{\"lat\":[33.43429946899414,33.94250107],\"line\":{\"color\":\"red\",\"width\":1},\"locationmode\":\"USA-states\",\"lon\":[-112.01200103759766,-118.4079971],\"mode\":\"lines\",\"name\":\"PHX \\u2192 LAX\",\"opacity\":0.5554053092306598,\"type\":\"scattergeo\"},{\"lat\":[40.78839874267578,39.861698150635],\"line\":{\"color\":\"red\",\"width\":1},\"locationmode\":\"USA-states\",\"lon\":[-111.97799682617188,-104.672996521],\"mode\":\"lines\",\"name\":\"SLC \\u2192 DEN\",\"opacity\":0.5460287524019642,\"type\":\"scattergeo\"},{\"lat\":[39.861698150635,40.78839874267578],\"line\":{\"color\":\"red\",\"width\":1},\"locationmode\":\"USA-states\",\"lon\":[-104.672996521,-111.97799682617188],\"mode\":\"lines\",\"name\":\"DEN \\u2192 SLC\",\"opacity\":0.5404597537541812,\"type\":\"scattergeo\"},{\"lat\":[42.36429977,38.8521],\"line\":{\"color\":\"red\",\"width\":1},\"locationmode\":\"USA-states\",\"lon\":[-71.00520325,-77.037697],\"mode\":\"lines\",\"name\":\"BOS \\u2192 DCA\",\"opacity\":0.5379688278414347,\"type\":\"scattergeo\"},{\"lat\":[40.77719879,33.6367],\"line\":{\"color\":\"red\",\"width\":1},\"locationmode\":\"USA-states\",\"lon\":[-73.87259674,-84.428101],\"mode\":\"lines\",\"name\":\"LGA \\u2192 ATL\",\"opacity\":0.5379154508575902,\"type\":\"scattergeo\"},{\"lat\":[33.6367,40.77719879],\"line\":{\"color\":\"red\",\"width\":1},\"locationmode\":\"USA-states\",\"lon\":[-84.428101,-73.87259674],\"mode\":\"lines\",\"name\":\"ATL \\u2192 LGA\",\"opacity\":0.5377731122340047,\"type\":\"scattergeo\"},{\"lat\":[38.8521,42.36429977],\"line\":{\"color\":\"red\",\"width\":1},\"locationmode\":\"USA-states\",\"lon\":[-77.037697,-71.00520325],\"mode\":\"lines\",\"name\":\"DCA \\u2192 BOS\",\"opacity\":0.5369190804924916,\"type\":\"scattergeo\"},{\"lat\":[36.08010101,39.861698150635],\"line\":{\"color\":\"red\",\"width\":1},\"locationmode\":\"USA-states\",\"lon\":[-115.1520004,-104.672996521],\"mode\":\"lines\",\"name\":\"LAS \\u2192 DEN\",\"opacity\":0.5347840011387089,\"type\":\"scattergeo\"},{\"lat\":[39.861698150635,36.08010101],\"line\":{\"color\":\"red\",\"width\":1},\"locationmode\":\"USA-states\",\"lon\":[-104.672996521,-115.1520004],\"mode\":\"lines\",\"name\":\"DEN \\u2192 LAS\",\"opacity\":0.5331293146395274,\"type\":\"scattergeo\"},{\"lat\":[47.449001,47.61989974975586],\"line\":{\"color\":\"red\",\"width\":1},\"locationmode\":\"USA-states\",\"lon\":[-122.308998,-117.53399658203124],\"mode\":\"lines\",\"name\":\"SEA \\u2192 GEG\",\"opacity\":0.5326845064408228,\"type\":\"scattergeo\"},{\"lat\":[47.61989974975586,47.449001],\"line\":{\"color\":\"red\",\"width\":1},\"locationmode\":\"USA-states\",\"lon\":[-117.53399658203124,-122.308998],\"mode\":\"lines\",\"name\":\"GEG \\u2192 SEA\",\"opacity\":0.5326133371290299,\"type\":\"scattergeo\"},{\"lat\":[19.738783,21.32062],\"line\":{\"color\":\"red\",\"width\":1},\"locationmode\":\"USA-states\",\"lon\":[-156.045603,-157.924228],\"mode\":\"lines\",\"name\":\"KOA \\u2192 HNL\",\"opacity\":0.5267418689061277,\"type\":\"scattergeo\"},{\"lat\":[21.32062,19.738783],\"line\":{\"color\":\"red\",\"width\":1},\"locationmode\":\"USA-states\",\"lon\":[-157.924228,-156.045603],\"mode\":\"lines\",\"name\":\"HNL \\u2192 KOA\",\"opacity\":0.522347163902925,\"type\":\"scattergeo\"},{\"lat\":[33.94250107,37.362598],\"line\":{\"color\":\"red\",\"width\":1},\"locationmode\":\"USA-states\",\"lon\":[-118.4079971,-121.929001],\"mode\":\"lines\",\"name\":\"LAX \\u2192 SJC\",\"opacity\":0.5182371361468935,\"type\":\"scattergeo\"},{\"lat\":[37.362598,33.94250107],\"line\":{\"color\":\"red\",\"width\":1},\"locationmode\":\"USA-states\",\"lon\":[-121.929001,-118.4079971],\"mode\":\"lines\",\"name\":\"SJC \\u2192 LAX\",\"opacity\":0.5171340118141058,\"type\":\"scattergeo\"},{\"lat\":[40.692501068115234,28.429399490356445],\"line\":{\"color\":\"red\",\"width\":1},\"locationmode\":\"USA-states\",\"lon\":[-74.168701171875,-81.30899810791016],\"mode\":\"lines\",\"name\":\"EWR \\u2192 MCO\",\"opacity\":0.5040210661162906,\"type\":\"scattergeo\"},{\"lat\":[28.429399490356445,40.692501068115234],\"line\":{\"color\":\"red\",\"width\":1},\"locationmode\":\"USA-states\",\"lon\":[-81.30899810791016,-74.168701171875],\"mode\":\"lines\",\"name\":\"MCO \\u2192 EWR\",\"opacity\":0.5038431428368088,\"type\":\"scattergeo\"},{\"lat\":[40.77719879,42.36429977],\"line\":{\"color\":\"red\",\"width\":1},\"locationmode\":\"USA-states\",\"lon\":[-73.87259674,-71.00520325],\"mode\":\"lines\",\"name\":\"LGA \\u2192 BOS\",\"opacity\":0.49992883068820726,\"type\":\"scattergeo\"},{\"lat\":[47.449001,61.17440032958984],\"line\":{\"color\":\"red\",\"width\":1},\"locationmode\":\"USA-states\",\"lon\":[-122.308998,-149.99600219726562],\"mode\":\"lines\",\"name\":\"SEA \\u2192 ANC\",\"opacity\":0.4987011600597822,\"type\":\"scattergeo\"},{\"lat\":[42.36429977,40.77719879],\"line\":{\"color\":\"red\",\"width\":1},\"locationmode\":\"USA-states\",\"lon\":[-71.00520325,-73.87259674],\"mode\":\"lines\",\"name\":\"BOS \\u2192 LGA\",\"opacity\":0.49854102910824855,\"type\":\"scattergeo\"},{\"lat\":[32.7336006165,37.61899948120117],\"line\":{\"color\":\"red\",\"width\":1},\"locationmode\":\"USA-states\",\"lon\":[-117.190002441,-122.375],\"mode\":\"lines\",\"name\":\"SAN \\u2192 SFO\",\"opacity\":0.49775816667852824,\"type\":\"scattergeo\"},{\"lat\":[37.61899948120117,32.7336006165],\"line\":{\"color\":\"red\",\"width\":1},\"locationmode\":\"USA-states\",\"lon\":[-122.375,-117.190002441],\"mode\":\"lines\",\"name\":\"SFO \\u2192 SAN\",\"opacity\":0.4965304960501032,\"type\":\"scattergeo\"},{\"lat\":[41.9786,33.94250107],\"line\":{\"color\":\"red\",\"width\":1},\"locationmode\":\"USA-states\",\"lon\":[-87.9048,-118.4079971],\"mode\":\"lines\",\"name\":\"ORD \\u2192 LAX\",\"opacity\":0.4949469788627144,\"type\":\"scattergeo\"},{\"lat\":[33.94250107,41.9786],\"line\":{\"color\":\"red\",\"width\":1},\"locationmode\":\"USA-states\",\"lon\":[-118.4079971,-87.9048],\"mode\":\"lines\",\"name\":\"LAX \\u2192 ORD\",\"opacity\":0.4944132090242687,\"type\":\"scattergeo\"},{\"lat\":[21.32062,21.97599983215332],\"line\":{\"color\":\"red\",\"width\":1},\"locationmode\":\"USA-states\",\"lon\":[-157.924228,-159.33900451660156],\"mode\":\"lines\",\"name\":\"HNL \\u2192 LIH\",\"opacity\":0.4937015159063412,\"type\":\"scattergeo\"},{\"lat\":[21.97599983215332,21.32062],\"line\":{\"color\":\"red\",\"width\":1},\"locationmode\":\"USA-states\",\"lon\":[-159.33900451660156,-157.924228],\"mode\":\"lines\",\"name\":\"LIH \\u2192 HNL\",\"opacity\":0.4936303465945484,\"type\":\"scattergeo\"},{\"lat\":[61.17440032958984,47.449001],\"line\":{\"color\":\"red\",\"width\":1},\"locationmode\":\"USA-states\",\"lon\":[-149.99600219726562,-122.308998],\"mode\":\"lines\",\"name\":\"ANC \\u2192 SEA\",\"opacity\":0.4901430503167034,\"type\":\"scattergeo\"},{\"lat\":[47.449001,39.861698150635],\"line\":{\"color\":\"red\",\"width\":1},\"locationmode\":\"USA-states\",\"lon\":[-122.308998,-104.672996521],\"mode\":\"lines\",\"name\":\"SEA \\u2192 DEN\",\"opacity\":0.48460963632481674,\"type\":\"scattergeo\"},{\"lat\":[33.6367,41.9786],\"line\":{\"color\":\"red\",\"width\":1},\"locationmode\":\"USA-states\",\"lon\":[-84.428101,-87.9048],\"mode\":\"lines\",\"name\":\"ATL \\u2192 ORD\",\"opacity\":0.48420041278200837,\"type\":\"scattergeo\"},{\"lat\":[39.861698150635,47.449001],\"line\":{\"color\":\"red\",\"width\":1},\"locationmode\":\"USA-states\",\"lon\":[-104.672996521,-122.308998],\"mode\":\"lines\",\"name\":\"DEN \\u2192 SEA\",\"opacity\":0.4841470357981638,\"type\":\"scattergeo\"},{\"lat\":[41.9786,33.6367],\"line\":{\"color\":\"red\",\"width\":1},\"locationmode\":\"USA-states\",\"lon\":[-87.9048,-84.428101],\"mode\":\"lines\",\"name\":\"ORD \\u2192 ATL\",\"opacity\":0.48411145114226745,\"type\":\"scattergeo\"},{\"lat\":[37.61899948120117,36.08010101],\"line\":{\"color\":\"red\",\"width\":1},\"locationmode\":\"USA-states\",\"lon\":[-122.375,-115.1520004],\"mode\":\"lines\",\"name\":\"SFO \\u2192 LAS\",\"opacity\":0.4826168955946196,\"type\":\"scattergeo\"},{\"lat\":[36.08010101,37.61899948120117],\"line\":{\"color\":\"red\",\"width\":1},\"locationmode\":\"USA-states\",\"lon\":[-115.1520004,-122.375],\"mode\":\"lines\",\"name\":\"LAS \\u2192 SFO\",\"opacity\":0.4813714326382464,\"type\":\"scattergeo\"},{\"lat\":[33.94250107,32.896801],\"line\":{\"color\":\"red\",\"width\":1},\"locationmode\":\"USA-states\",\"lon\":[-118.4079971,-97.038002],\"mode\":\"lines\",\"name\":\"LAX \\u2192 DFW\",\"opacity\":0.4774571204896449,\"type\":\"scattergeo\"},{\"lat\":[32.896801,33.94250107],\"line\":{\"color\":\"red\",\"width\":1},\"locationmode\":\"USA-states\",\"lon\":[-97.038002,-118.4079971],\"mode\":\"lines\",\"name\":\"DFW \\u2192 LAX\",\"opacity\":0.4768699736673546,\"type\":\"scattergeo\"},{\"lat\":[36.08010101,47.449001],\"line\":{\"color\":\"red\",\"width\":1},\"locationmode\":\"USA-states\",\"lon\":[-115.1520004,-122.308998],\"mode\":\"lines\",\"name\":\"LAS \\u2192 SEA\",\"opacity\":0.46955732688064905,\"type\":\"scattergeo\"},{\"lat\":[47.449001,36.08010101],\"line\":{\"color\":\"red\",\"width\":1},\"locationmode\":\"USA-states\",\"lon\":[-122.308998,-115.1520004],\"mode\":\"lines\",\"name\":\"SEA \\u2192 LAS\",\"opacity\":0.46882784143477335,\"type\":\"scattergeo\"},{\"lat\":[41.9786,38.8521],\"line\":{\"color\":\"red\",\"width\":1},\"locationmode\":\"USA-states\",\"lon\":[-87.9048,-77.037697],\"mode\":\"lines\",\"name\":\"ORD \\u2192 DCA\",\"opacity\":0.46815173297274215,\"type\":\"scattergeo\"},{\"lat\":[38.8521,41.9786],\"line\":{\"color\":\"red\",\"width\":1},\"locationmode\":\"USA-states\",\"lon\":[-77.037697,-87.9048],\"mode\":\"lines\",\"name\":\"DCA \\u2192 ORD\",\"opacity\":0.46799160202120843,\"type\":\"scattergeo\"},{\"lat\":[32.896801,41.9786],\"line\":{\"color\":\"red\",\"width\":1},\"locationmode\":\"USA-states\",\"lon\":[-97.038002,-87.9048],\"mode\":\"lines\",\"name\":\"DFW \\u2192 ORD\",\"opacity\":0.46315208881930114,\"type\":\"scattergeo\"},{\"lat\":[41.9786,39.861698150635],\"line\":{\"color\":\"red\",\"width\":1},\"locationmode\":\"USA-states\",\"lon\":[-87.9048,-104.672996521],\"mode\":\"lines\",\"name\":\"ORD \\u2192 DEN\",\"opacity\":0.46263611130880367,\"type\":\"scattergeo\"},{\"lat\":[39.861698150635,41.9786],\"line\":{\"color\":\"red\",\"width\":1},\"locationmode\":\"USA-states\",\"lon\":[-104.672996521,-87.9048],\"mode\":\"lines\",\"name\":\"DEN \\u2192 ORD\",\"opacity\":0.4617464949113942,\"type\":\"scattergeo\"},{\"lat\":[27.975500106811523,33.6367],\"line\":{\"color\":\"red\",\"width\":1},\"locationmode\":\"USA-states\",\"lon\":[-82.533203125,-84.428101],\"mode\":\"lines\",\"name\":\"TPA \\u2192 ATL\",\"opacity\":0.4613372713685859,\"type\":\"scattergeo\"},{\"lat\":[33.6367,27.975500106811523],\"line\":{\"color\":\"red\",\"width\":1},\"locationmode\":\"USA-states\",\"lon\":[-84.428101,-82.533203125],\"mode\":\"lines\",\"name\":\"ATL \\u2192 TPA\",\"opacity\":0.4606611629065547,\"type\":\"scattergeo\"},{\"lat\":[41.9786,32.896801],\"line\":{\"color\":\"red\",\"width\":1},\"locationmode\":\"USA-states\",\"lon\":[-87.9048,-97.038002],\"mode\":\"lines\",\"name\":\"ORD \\u2192 DFW\",\"opacity\":0.460501031955021,\"type\":\"scattergeo\"},{\"lat\":[42.36429977,41.9786],\"line\":{\"color\":\"red\",\"width\":1},\"locationmode\":\"USA-states\",\"lon\":[-71.00520325,-87.9048],\"mode\":\"lines\",\"name\":\"BOS \\u2192 ORD\",\"opacity\":0.45808127535406734,\"type\":\"scattergeo\"},{\"lat\":[41.9786,42.36429977],\"line\":{\"color\":\"red\",\"width\":1},\"locationmode\":\"USA-states\",\"lon\":[-87.9048,-71.00520325],\"mode\":\"lines\",\"name\":\"ORD \\u2192 BOS\",\"opacity\":0.4576364671553626,\"type\":\"scattergeo\"},{\"lat\":[33.6367,25.79319953918457],\"line\":{\"color\":\"red\",\"width\":1},\"locationmode\":\"USA-states\",\"lon\":[-84.428101,-80.29060363769531],\"mode\":\"lines\",\"name\":\"ATL \\u2192 MIA\",\"opacity\":0.4484734182620454,\"type\":\"scattergeo\"},{\"lat\":[25.79319953918457,33.6367],\"line\":{\"color\":\"red\",\"width\":1},\"locationmode\":\"USA-states\",\"lon\":[-80.29060363769531,-84.428101],\"mode\":\"lines\",\"name\":\"MIA \\u2192 ATL\",\"opacity\":0.4480108177353925,\"type\":\"scattergeo\"},{\"lat\":[33.43429946899414,47.449001],\"line\":{\"color\":\"red\",\"width\":1},\"locationmode\":\"USA-states\",\"lon\":[-112.01200103759766,-122.308998],\"mode\":\"lines\",\"name\":\"PHX \\u2192 SEA\",\"opacity\":0.4464628852039001,\"type\":\"scattergeo\"},{\"lat\":[47.449001,33.43429946899414],\"line\":{\"color\":\"red\",\"width\":1},\"locationmode\":\"USA-states\",\"lon\":[-122.308998,-112.01200103759766],\"mode\":\"lines\",\"name\":\"SEA \\u2192 PHX\",\"opacity\":0.44632054658031456,\"type\":\"scattergeo\"},{\"lat\":[44.882,41.9786],\"line\":{\"color\":\"red\",\"width\":1},\"locationmode\":\"USA-states\",\"lon\":[-93.221802,-87.9048],\"mode\":\"lines\",\"name\":\"MSP \\u2192 ORD\",\"opacity\":0.44235285744786845,\"type\":\"scattergeo\"},{\"lat\":[41.9786,44.882],\"line\":{\"color\":\"red\",\"width\":1},\"locationmode\":\"USA-states\",\"lon\":[-87.9048,-93.221802],\"mode\":\"lines\",\"name\":\"ORD \\u2192 MSP\",\"opacity\":0.4419792185609565,\"type\":\"scattergeo\"},{\"lat\":[40.63980103,37.61899948120117],\"line\":{\"color\":\"red\",\"width\":1},\"locationmode\":\"USA-states\",\"lon\":[-73.77890015,-122.375],\"mode\":\"lines\",\"name\":\"JFK \\u2192 SFO\",\"opacity\":0.44018219343818943,\"type\":\"scattergeo\"},{\"lat\":[37.61899948120117,40.63980103],\"line\":{\"color\":\"red\",\"width\":1},\"locationmode\":\"USA-states\",\"lon\":[-122.375,-73.77890015],\"mode\":\"lines\",\"name\":\"SFO \\u2192 JFK\",\"opacity\":0.4401288164543449,\"type\":\"scattergeo\"},{\"lat\":[33.6367,40.692501068115234],\"line\":{\"color\":\"red\",\"width\":1},\"locationmode\":\"USA-states\",\"lon\":[-84.428101,-74.168701171875],\"mode\":\"lines\",\"name\":\"ATL \\u2192 EWR\",\"opacity\":0.425432353569141,\"type\":\"scattergeo\"},{\"lat\":[40.692501068115234,33.6367],\"line\":{\"color\":\"red\",\"width\":1},\"locationmode\":\"USA-states\",\"lon\":[-74.168701171875,-84.428101],\"mode\":\"lines\",\"name\":\"EWR \\u2192 ATL\",\"opacity\":0.4253433919294,\"type\":\"scattergeo\"},{\"lat\":[33.6367,39.861698150635],\"line\":{\"color\":\"red\",\"width\":1},\"locationmode\":\"USA-states\",\"lon\":[-84.428101,-104.672996521],\"mode\":\"lines\",\"name\":\"ATL \\u2192 DEN\",\"opacity\":0.42468507579531706,\"type\":\"scattergeo\"},{\"lat\":[42.212398529052734,41.9786],\"line\":{\"color\":\"red\",\"width\":1},\"locationmode\":\"USA-states\",\"lon\":[-83.35340118408203,-87.9048],\"mode\":\"lines\",\"name\":\"DTW \\u2192 ORD\",\"opacity\":0.42375987474201127,\"type\":\"scattergeo\"},{\"lat\":[41.9786,42.212398529052734],\"line\":{\"color\":\"red\",\"width\":1},\"locationmode\":\"USA-states\",\"lon\":[-87.9048,-83.35340118408203],\"mode\":\"lines\",\"name\":\"ORD \\u2192 DTW\",\"opacity\":0.42358195146252936,\"type\":\"scattergeo\"},{\"lat\":[33.6367,32.896801],\"line\":{\"color\":\"red\",\"width\":1},\"locationmode\":\"USA-states\",\"lon\":[-84.428101,-97.038002],\"mode\":\"lines\",\"name\":\"ATL \\u2192 DFW\",\"opacity\":0.4227457120489645,\"type\":\"scattergeo\"},{\"lat\":[32.896801,33.6367],\"line\":{\"color\":\"red\",\"width\":1},\"locationmode\":\"USA-states\",\"lon\":[-97.038002,-84.428101],\"mode\":\"lines\",\"name\":\"DFW \\u2192 ATL\",\"opacity\":0.4227279197210163,\"type\":\"scattergeo\"},{\"lat\":[33.94250107,38.69540023803711],\"line\":{\"color\":\"red\",\"width\":1},\"locationmode\":\"USA-states\",\"lon\":[-118.4079971,-121.59100341796876],\"mode\":\"lines\",\"name\":\"LAX \\u2192 SMF\",\"opacity\":0.4216247953882286,\"type\":\"scattergeo\"},{\"lat\":[38.69540023803711,33.94250107],\"line\":{\"color\":\"red\",\"width\":1},\"locationmode\":\"USA-states\",\"lon\":[-121.59100341796876,-118.4079971],\"mode\":\"lines\",\"name\":\"SMF \\u2192 LAX\",\"opacity\":0.42110881787773113,\"type\":\"scattergeo\"},{\"lat\":[39.861698150635,33.6367],\"line\":{\"color\":\"red\",\"width\":1},\"locationmode\":\"USA-states\",\"lon\":[-104.672996521,-84.428101],\"mode\":\"lines\",\"name\":\"DEN \\u2192 ATL\",\"opacity\":0.4209664792541456,\"type\":\"scattergeo\"},{\"lat\":[33.6367,38.8521],\"line\":{\"color\":\"red\",\"width\":1},\"locationmode\":\"USA-states\",\"lon\":[-84.428101,-77.037697],\"mode\":\"lines\",\"name\":\"ATL \\u2192 DCA\",\"opacity\":0.4158778734609636,\"type\":\"scattergeo\"},{\"lat\":[38.8521,33.6367],\"line\":{\"color\":\"red\",\"width\":1},\"locationmode\":\"USA-states\",\"lon\":[-77.037697,-84.428101],\"mode\":\"lines\",\"name\":\"DCA \\u2192 ATL\",\"opacity\":0.4152907266386734,\"type\":\"scattergeo\"},{\"lat\":[28.429399490356445,18.4393997192],\"line\":{\"color\":\"red\",\"width\":1},\"locationmode\":\"USA-states\",\"lon\":[-81.30899810791016,-66.0018005371],\"mode\":\"lines\",\"name\":\"MCO \\u2192 SJU\",\"opacity\":0.4144900718810049,\"type\":\"scattergeo\"},{\"lat\":[18.4393997192,28.429399490356445],\"line\":{\"color\":\"red\",\"width\":1},\"locationmode\":\"USA-states\",\"lon\":[-66.0018005371,-81.30899810791016],\"mode\":\"lines\",\"name\":\"SJU \\u2192 MCO\",\"opacity\":0.4139740943705074,\"type\":\"scattergeo\"},{\"lat\":[39.861698150635,32.896801],\"line\":{\"color\":\"red\",\"width\":1},\"locationmode\":\"USA-states\",\"lon\":[-104.672996521,-97.038002],\"mode\":\"lines\",\"name\":\"DEN \\u2192 DFW\",\"opacity\":0.4137605864351292,\"type\":\"scattergeo\"},{\"lat\":[32.896801,39.861698150635],\"line\":{\"color\":\"red\",\"width\":1},\"locationmode\":\"USA-states\",\"lon\":[-97.038002,-104.672996521],\"mode\":\"lines\",\"name\":\"DFW \\u2192 DEN\",\"opacity\":0.41073589068393707,\"type\":\"scattergeo\"},{\"lat\":[39.1754,33.6367],\"line\":{\"color\":\"red\",\"width\":1},\"locationmode\":\"USA-states\",\"lon\":[-76.668297,-84.428101],\"mode\":\"lines\",\"name\":\"BWI \\u2192 ATL\",\"opacity\":0.41034445946907694,\"type\":\"scattergeo\"},{\"lat\":[33.6367,39.1754],\"line\":{\"color\":\"red\",\"width\":1},\"locationmode\":\"USA-states\",\"lon\":[-84.428101,-76.668297],\"mode\":\"lines\",\"name\":\"ATL \\u2192 BWI\",\"opacity\":0.4102910824852324,\"type\":\"scattergeo\"},{\"lat\":[32.847099,29.64539909],\"line\":{\"color\":\"red\",\"width\":1},\"locationmode\":\"USA-states\",\"lon\":[-96.851799,-95.27890015],\"mode\":\"lines\",\"name\":\"DAL \\u2192 HOU\",\"opacity\":0.4059853391217707,\"type\":\"scattergeo\"},{\"lat\":[29.64539909,32.847099],\"line\":{\"color\":\"red\",\"width\":1},\"locationmode\":\"USA-states\",\"lon\":[-95.27890015,-96.851799],\"mode\":\"lines\",\"name\":\"HOU \\u2192 DAL\",\"opacity\":0.4054871539392214,\"type\":\"scattergeo\"},{\"lat\":[39.87189865112305,33.6367],\"line\":{\"color\":\"red\",\"width\":1},\"locationmode\":\"USA-states\",\"lon\":[-75.24109649658203,-84.428101],\"mode\":\"lines\",\"name\":\"PHL \\u2192 ATL\",\"opacity\":0.4026403814675112,\"type\":\"scattergeo\"},{\"lat\":[37.362598,32.7336006165],\"line\":{\"color\":\"red\",\"width\":1},\"locationmode\":\"USA-states\",\"lon\":[-121.929001,-117.190002441],\"mode\":\"lines\",\"name\":\"SJC \\u2192 SAN\",\"opacity\":0.40256921215571845,\"type\":\"scattergeo\"},{\"lat\":[33.6367,39.87189865112305],\"line\":{\"color\":\"red\",\"width\":1},\"locationmode\":\"USA-states\",\"lon\":[-84.428101,-75.24109649658203],\"mode\":\"lines\",\"name\":\"ATL \\u2192 PHL\",\"opacity\":0.4025158351718739,\"type\":\"scattergeo\"},{\"lat\":[32.7336006165,37.362598],\"line\":{\"color\":\"red\",\"width\":1},\"locationmode\":\"USA-states\",\"lon\":[-117.190002441,-121.929001],\"mode\":\"lines\",\"name\":\"SAN \\u2192 SJC\",\"opacity\":0.4014305031670344,\"type\":\"scattergeo\"},{\"lat\":[28.429399490356445,39.87189865112305],\"line\":{\"color\":\"red\",\"width\":1},\"locationmode\":\"USA-states\",\"lon\":[-81.30899810791016,-75.24109649658203],\"mode\":\"lines\",\"name\":\"MCO \\u2192 PHL\",\"opacity\":0.40020283253860933,\"type\":\"scattergeo\"},{\"lat\":[39.87189865112305,28.429399490356445],\"line\":{\"color\":\"red\",\"width\":1},\"locationmode\":\"USA-states\",\"lon\":[-75.24109649658203,-81.30899810791016],\"mode\":\"lines\",\"name\":\"PHL \\u2192 MCO\",\"opacity\":0.4001494555547648,\"type\":\"scattergeo\"},{\"lat\":[29.984399795532227,32.896801],\"line\":{\"color\":\"red\",\"width\":1},\"locationmode\":\"USA-states\",\"lon\":[-95.34140014648438,-97.038002],\"mode\":\"lines\",\"name\":\"IAH \\u2192 DFW\",\"opacity\":0.39988257063554195,\"type\":\"scattergeo\"},{\"lat\":[32.896801,29.984399795532227],\"line\":{\"color\":\"red\",\"width\":1},\"locationmode\":\"USA-states\",\"lon\":[-97.038002,-95.34140014648438],\"mode\":\"lines\",\"name\":\"DFW \\u2192 IAH\",\"opacity\":0.39986477830759376,\"type\":\"scattergeo\"},{\"lat\":[33.6367,33.94250107],\"line\":{\"color\":\"red\",\"width\":1},\"locationmode\":\"USA-states\",\"lon\":[-84.428101,-118.4079971],\"mode\":\"lines\",\"name\":\"ATL \\u2192 LAX\",\"opacity\":0.3968044979005053,\"type\":\"scattergeo\"},{\"lat\":[39.861698150635,44.882],\"line\":{\"color\":\"red\",\"width\":1},\"locationmode\":\"USA-states\",\"lon\":[-104.672996521,-93.221802],\"mode\":\"lines\",\"name\":\"DEN \\u2192 MSP\",\"opacity\":0.39655540530923067,\"type\":\"scattergeo\"},{\"lat\":[40.692501068115234,26.072599],\"line\":{\"color\":\"red\",\"width\":1},\"locationmode\":\"USA-states\",\"lon\":[-74.168701171875,-80.152702],\"mode\":\"lines\",\"name\":\"EWR \\u2192 FLL\",\"opacity\":0.3963596897018006,\"type\":\"scattergeo\"},{\"lat\":[26.072599,40.692501068115234],\"line\":{\"color\":\"red\",\"width\":1},\"locationmode\":\"USA-states\",\"lon\":[-80.152702,-74.168701171875],\"mode\":\"lines\",\"name\":\"FLL \\u2192 EWR\",\"opacity\":0.3963596897018006,\"type\":\"scattergeo\"},{\"lat\":[21.32062,19.721399307250977],\"line\":{\"color\":\"red\",\"width\":1},\"locationmode\":\"USA-states\",\"lon\":[-157.924228,-155.04800415039062],\"mode\":\"lines\",\"name\":\"HNL \\u2192 ITO\",\"opacity\":0.39618176642231867,\"type\":\"scattergeo\"},{\"lat\":[44.882,39.861698150635],\"line\":{\"color\":\"red\",\"width\":1},\"locationmode\":\"USA-states\",\"lon\":[-93.221802,-104.672996521],\"mode\":\"lines\",\"name\":\"MSP \\u2192 DEN\",\"opacity\":0.39547007330439116,\"type\":\"scattergeo\"},{\"lat\":[33.94250107,33.6367],\"line\":{\"color\":\"red\",\"width\":1},\"locationmode\":\"USA-states\",\"lon\":[-118.4079971,-84.428101],\"mode\":\"lines\",\"name\":\"LAX \\u2192 ATL\",\"opacity\":0.39547007330439116,\"type\":\"scattergeo\"},{\"lat\":[19.721399307250977,21.32062],\"line\":{\"color\":\"red\",\"width\":1},\"locationmode\":\"USA-states\",\"lon\":[-155.04800415039062,-157.924228],\"mode\":\"lines\",\"name\":\"ITO \\u2192 HNL\",\"opacity\":0.3917158921073233,\"type\":\"scattergeo\"},{\"lat\":[33.43429946899414,36.08010101],\"line\":{\"color\":\"red\",\"width\":1},\"locationmode\":\"USA-states\",\"lon\":[-112.01200103759766,-115.1520004],\"mode\":\"lines\",\"name\":\"PHX \\u2192 LAS\",\"opacity\":0.3916269304675824,\"type\":\"scattergeo\"},{\"lat\":[36.08010101,33.43429946899414],\"line\":{\"color\":\"red\",\"width\":1},\"locationmode\":\"USA-states\",\"lon\":[-115.1520004,-112.01200103759766],\"mode\":\"lines\",\"name\":\"LAS \\u2192 PHX\",\"opacity\":0.3914667995160487,\"type\":\"scattergeo\"},{\"lat\":[33.94250107,40.78839874267578],\"line\":{\"color\":\"red\",\"width\":1},\"locationmode\":\"USA-states\",\"lon\":[-118.4079971,-111.97799682617188],\"mode\":\"lines\",\"name\":\"LAX \\u2192 SLC\",\"opacity\":0.39027471354352006,\"type\":\"scattergeo\"},{\"lat\":[35.2140007019043,33.6367],\"line\":{\"color\":\"red\",\"width\":1},\"locationmode\":\"USA-states\",\"lon\":[-80.94309997558594,-84.428101],\"mode\":\"lines\",\"name\":\"CLT \\u2192 ATL\",\"opacity\":0.3893495124902142,\"type\":\"scattergeo\"},{\"lat\":[33.6367,35.2140007019043],\"line\":{\"color\":\"red\",\"width\":1},\"locationmode\":\"USA-states\",\"lon\":[-84.428101,-80.94309997558594],\"mode\":\"lines\",\"name\":\"ATL \\u2192 CLT\",\"opacity\":0.38890470429150953,\"type\":\"scattergeo\"},{\"lat\":[40.78839874267578,33.94250107],\"line\":{\"color\":\"red\",\"width\":1},\"locationmode\":\"USA-states\",\"lon\":[-111.97799682617188,-118.4079971],\"mode\":\"lines\",\"name\":\"SLC \\u2192 LAX\",\"opacity\":0.388477688420753,\"type\":\"scattergeo\"},{\"lat\":[37.61899948120117,39.861698150635],\"line\":{\"color\":\"red\",\"width\":1},\"locationmode\":\"USA-states\",\"lon\":[-122.375,-104.672996521],\"mode\":\"lines\",\"name\":\"SFO \\u2192 DEN\",\"opacity\":0.3879617109102555,\"type\":\"scattergeo\"},{\"lat\":[39.861698150635,37.61899948120117],\"line\":{\"color\":\"red\",\"width\":1},\"locationmode\":\"USA-states\",\"lon\":[-104.672996521,-122.375],\"mode\":\"lines\",\"name\":\"DEN \\u2192 SFO\",\"opacity\":0.3862358550992812,\"type\":\"scattergeo\"},{\"lat\":[36.08010101,32.7336006165],\"line\":{\"color\":\"red\",\"width\":1},\"locationmode\":\"USA-states\",\"lon\":[-115.1520004,-117.190002441],\"mode\":\"lines\",\"name\":\"LAS \\u2192 SAN\",\"opacity\":0.3849548074870116,\"type\":\"scattergeo\"},{\"lat\":[33.94250107,21.32062],\"line\":{\"color\":\"red\",\"width\":1},\"locationmode\":\"USA-states\",\"lon\":[-118.4079971,-157.924228],\"mode\":\"lines\",\"name\":\"LAX \\u2192 HNL\",\"opacity\":0.3847768842075297,\"type\":\"scattergeo\"},{\"lat\":[41.9786,37.61899948120117],\"line\":{\"color\":\"red\",\"width\":1},\"locationmode\":\"USA-states\",\"lon\":[-87.9048,-122.375],\"mode\":\"lines\",\"name\":\"ORD \\u2192 SFO\",\"opacity\":0.38472350722368515,\"type\":\"scattergeo\"},{\"lat\":[37.61899948120117,41.9786],\"line\":{\"color\":\"red\",\"width\":1},\"locationmode\":\"USA-states\",\"lon\":[-122.375,-87.9048],\"mode\":\"lines\",\"name\":\"SFO \\u2192 ORD\",\"opacity\":0.38408298341755037,\"type\":\"scattergeo\"},{\"lat\":[21.32062,33.94250107],\"line\":{\"color\":\"red\",\"width\":1},\"locationmode\":\"USA-states\",\"lon\":[-157.924228,-118.4079971],\"mode\":\"lines\",\"name\":\"HNL \\u2192 LAX\",\"opacity\":0.3837093445306384,\"type\":\"scattergeo\"},{\"lat\":[47.449001,43.5644],\"line\":{\"color\":\"red\",\"width\":1},\"locationmode\":\"USA-states\",\"lon\":[-122.308998,-116.223],\"mode\":\"lines\",\"name\":\"SEA \\u2192 BOI\",\"opacity\":0.38269518183759166,\"type\":\"scattergeo\"},{\"lat\":[43.5644,47.449001],\"line\":{\"color\":\"red\",\"width\":1},\"locationmode\":\"USA-states\",\"lon\":[-116.223,-122.308998],\"mode\":\"lines\",\"name\":\"BOI \\u2192 SEA\",\"opacity\":0.38262401252579886,\"type\":\"scattergeo\"},{\"lat\":[32.7336006165,36.08010101],\"line\":{\"color\":\"red\",\"width\":1},\"locationmode\":\"USA-states\",\"lon\":[-117.190002441,-115.1520004],\"mode\":\"lines\",\"name\":\"SAN \\u2192 LAS\",\"opacity\":0.382161411999146,\"type\":\"scattergeo\"},{\"lat\":[32.7336006165,38.69540023803711],\"line\":{\"color\":\"red\",\"width\":1},\"locationmode\":\"USA-states\",\"lon\":[-117.190002441,-121.59100341796876],\"mode\":\"lines\",\"name\":\"SAN \\u2192 SMF\",\"opacity\":0.37883424667283466,\"type\":\"scattergeo\"},{\"lat\":[38.69540023803711,32.7336006165],\"line\":{\"color\":\"red\",\"width\":1},\"locationmode\":\"USA-states\",\"lon\":[-121.59100341796876,-117.190002441],\"mode\":\"lines\",\"name\":\"SMF \\u2192 SAN\",\"opacity\":0.3787808696889901,\"type\":\"scattergeo\"},{\"lat\":[47.449001,37.362598],\"line\":{\"color\":\"red\",\"width\":1},\"locationmode\":\"USA-states\",\"lon\":[-122.308998,-121.929001],\"mode\":\"lines\",\"name\":\"SEA \\u2192 SJC\",\"opacity\":0.3762899437762437,\"type\":\"scattergeo\"},{\"lat\":[39.87189865112305,42.36429977],\"line\":{\"color\":\"red\",\"width\":1},\"locationmode\":\"USA-states\",\"lon\":[-75.24109649658203,-71.00520325],\"mode\":\"lines\",\"name\":\"PHL \\u2192 BOS\",\"opacity\":0.37621877446445096,\"type\":\"scattergeo\"},{\"lat\":[37.362598,47.449001],\"line\":{\"color\":\"red\",\"width\":1},\"locationmode\":\"USA-states\",\"lon\":[-121.929001,-122.308998],\"mode\":\"lines\",\"name\":\"SJC \\u2192 SEA\",\"opacity\":0.37614760515265816,\"type\":\"scattergeo\"},{\"lat\":[42.36429977,39.87189865112305],\"line\":{\"color\":\"red\",\"width\":1},\"locationmode\":\"USA-states\",\"lon\":[-71.00520325,-75.24109649658203],\"mode\":\"lines\",\"name\":\"BOS \\u2192 PHL\",\"opacity\":0.37534695039498966,\"type\":\"scattergeo\"},{\"lat\":[38.8521,40.77719879],\"line\":{\"color\":\"red\",\"width\":1},\"locationmode\":\"USA-states\",\"lon\":[-77.037697,-73.87259674],\"mode\":\"lines\",\"name\":\"DCA \\u2192 LGA\",\"opacity\":0.3718062771333001,\"type\":\"scattergeo\"},{\"lat\":[42.36429977,33.6367],\"line\":{\"color\":\"red\",\"width\":1},\"locationmode\":\"USA-states\",\"lon\":[-71.00520325,-84.428101],\"mode\":\"lines\",\"name\":\"BOS \\u2192 ATL\",\"opacity\":0.3710945840153726,\"type\":\"scattergeo\"},{\"lat\":[33.6367,42.36429977],\"line\":{\"color\":\"red\",\"width\":1},\"locationmode\":\"USA-states\",\"lon\":[-84.428101,-71.00520325],\"mode\":\"lines\",\"name\":\"ATL \\u2192 BOS\",\"opacity\":0.3710056223756316,\"type\":\"scattergeo\"},{\"lat\":[40.77719879,38.8521],\"line\":{\"color\":\"red\",\"width\":1},\"locationmode\":\"USA-states\",\"lon\":[-73.87259674,-77.037697],\"mode\":\"lines\",\"name\":\"LGA \\u2192 DCA\",\"opacity\":0.3702583446018077,\"type\":\"scattergeo\"},{\"lat\":[32.896801,40.77719879],\"line\":{\"color\":\"red\",\"width\":1},\"locationmode\":\"USA-states\",\"lon\":[-97.038002,-73.87259674],\"mode\":\"lines\",\"name\":\"DFW \\u2192 LGA\",\"opacity\":0.36976015941925844,\"type\":\"scattergeo\"},{\"lat\":[40.77719879,32.896801],\"line\":{\"color\":\"red\",\"width\":1},\"locationmode\":\"USA-states\",\"lon\":[-73.87259674,-97.038002],\"mode\":\"lines\",\"name\":\"LGA \\u2192 DFW\",\"opacity\":0.3696000284677247,\"type\":\"scattergeo\"},{\"lat\":[33.94250107,45.58869934],\"line\":{\"color\":\"red\",\"width\":1},\"locationmode\":\"USA-states\",\"lon\":[-118.4079971,-122.5979996],\"mode\":\"lines\",\"name\":\"LAX \\u2192 PDX\",\"opacity\":0.36750053376983843,\"type\":\"scattergeo\"},{\"lat\":[45.58869934,33.94250107],\"line\":{\"color\":\"red\",\"width\":1},\"locationmode\":\"USA-states\",\"lon\":[-122.5979996,-118.4079971],\"mode\":\"lines\",\"name\":\"PDX \\u2192 LAX\",\"opacity\":0.36639740943705074,\"type\":\"scattergeo\"},{\"lat\":[41.9786,33.43429946899414],\"line\":{\"color\":\"red\",\"width\":1},\"locationmode\":\"USA-states\",\"lon\":[-87.9048,-112.01200103759766],\"mode\":\"lines\",\"name\":\"ORD \\u2192 PHX\",\"opacity\":0.363123621094584,\"type\":\"scattergeo\"},{\"lat\":[33.43429946899414,41.9786],\"line\":{\"color\":\"red\",\"width\":1},\"locationmode\":\"USA-states\",\"lon\":[-112.01200103759766,-87.9048],\"mode\":\"lines\",\"name\":\"PHX \\u2192 ORD\",\"opacity\":0.36307024411073946,\"type\":\"scattergeo\"},{\"lat\":[47.449001,41.9786],\"line\":{\"color\":\"red\",\"width\":1},\"locationmode\":\"USA-states\",\"lon\":[-122.308998,-87.9048],\"mode\":\"lines\",\"name\":\"SEA \\u2192 ORD\",\"opacity\":0.3593694398975162,\"type\":\"scattergeo\"},{\"lat\":[41.9786,47.449001],\"line\":{\"color\":\"red\",\"width\":1},\"locationmode\":\"USA-states\",\"lon\":[-87.9048,-122.308998],\"mode\":\"lines\",\"name\":\"ORD \\u2192 SEA\",\"opacity\":0.35929827058572344,\"type\":\"scattergeo\"},{\"lat\":[28.429399490356445,39.1754],\"line\":{\"color\":\"red\",\"width\":1},\"locationmode\":\"USA-states\",\"lon\":[-81.30899810791016,-76.668297],\"mode\":\"lines\",\"name\":\"MCO \\u2192 BWI\",\"opacity\":0.3588712547149669,\"type\":\"scattergeo\"},{\"lat\":[40.78839874267578,33.43429946899414],\"line\":{\"color\":\"red\",\"width\":1},\"locationmode\":\"USA-states\",\"lon\":[-111.97799682617188,-112.01200103759766],\"mode\":\"lines\",\"name\":\"SLC \\u2192 PHX\",\"opacity\":0.3587289160913814,\"type\":\"scattergeo\"},{\"lat\":[29.984399795532227,39.861698150635],\"line\":{\"color\":\"red\",\"width\":1},\"locationmode\":\"USA-states\",\"lon\":[-95.34140014648438,-104.672996521],\"mode\":\"lines\",\"name\":\"IAH \\u2192 DEN\",\"opacity\":0.3583552772044694,\"type\":\"scattergeo\"},{\"lat\":[47.449001,38.69540023803711],\"line\":{\"color\":\"red\",\"width\":1},\"locationmode\":\"USA-states\",\"lon\":[-122.308998,-121.59100341796876],\"mode\":\"lines\",\"name\":\"SEA \\u2192 SMF\",\"opacity\":0.35819514625293575,\"type\":\"scattergeo\"},{\"lat\":[33.43429946899414,40.78839874267578],\"line\":{\"color\":\"red\",\"width\":1},\"locationmode\":\"USA-states\",\"lon\":[-112.01200103759766,-111.97799682617188],\"mode\":\"lines\",\"name\":\"PHX \\u2192 SLC\",\"opacity\":0.3581595615970394,\"type\":\"scattergeo\"},{\"lat\":[39.861698150635,29.984399795532227],\"line\":{\"color\":\"red\",\"width\":1},\"locationmode\":\"USA-states\",\"lon\":[-104.672996521,-95.34140014648438],\"mode\":\"lines\",\"name\":\"DEN \\u2192 IAH\",\"opacity\":0.35769696107038645,\"type\":\"scattergeo\"},{\"lat\":[38.69540023803711,47.449001],\"line\":{\"color\":\"red\",\"width\":1},\"locationmode\":\"USA-states\",\"lon\":[-121.59100341796876,-122.308998],\"mode\":\"lines\",\"name\":\"SMF \\u2192 SEA\",\"opacity\":0.3571453989039926,\"type\":\"scattergeo\"},{\"lat\":[32.896801,36.08010101],\"line\":{\"color\":\"red\",\"width\":1},\"locationmode\":\"USA-states\",\"lon\":[-97.038002,-115.1520004],\"mode\":\"lines\",\"name\":\"DFW \\u2192 LAS\",\"opacity\":0.3560244822432567,\"type\":\"scattergeo\"},{\"lat\":[36.08010101,32.896801],\"line\":{\"color\":\"red\",\"width\":1},\"locationmode\":\"USA-states\",\"lon\":[-115.1520004,-97.038002],\"mode\":\"lines\",\"name\":\"LAS \\u2192 DFW\",\"opacity\":0.3558821436196712,\"type\":\"scattergeo\"},{\"lat\":[39.1754,28.429399490356445],\"line\":{\"color\":\"red\",\"width\":1},\"locationmode\":\"USA-states\",\"lon\":[-76.668297,-81.30899810791016],\"mode\":\"lines\",\"name\":\"BWI \\u2192 MCO\",\"opacity\":0.3556864280122411,\"type\":\"scattergeo\"},{\"lat\":[32.7336006165,33.43429946899414],\"line\":{\"color\":\"red\",\"width\":1},\"locationmode\":\"USA-states\",\"lon\":[-117.190002441,-112.01200103759766],\"mode\":\"lines\",\"name\":\"SAN \\u2192 PHX\",\"opacity\":0.3546544729912462,\"type\":\"scattergeo\"},{\"lat\":[29.984399795532227,33.94250107],\"line\":{\"color\":\"red\",\"width\":1},\"locationmode\":\"USA-states\",\"lon\":[-95.34140014648438,-118.4079971],\"mode\":\"lines\",\"name\":\"IAH \\u2192 LAX\",\"opacity\":0.35452992669560884,\"type\":\"scattergeo\"},{\"lat\":[33.94250107,29.984399795532227],\"line\":{\"color\":\"red\",\"width\":1},\"locationmode\":\"USA-states\",\"lon\":[-118.4079971,-95.34140014648438],\"mode\":\"lines\",\"name\":\"LAX \\u2192 IAH\",\"opacity\":0.35451213436766066,\"type\":\"scattergeo\"},{\"lat\":[29.984399795532227,41.9786],\"line\":{\"color\":\"red\",\"width\":1},\"locationmode\":\"USA-states\",\"lon\":[-95.34140014648438,-87.9048],\"mode\":\"lines\",\"name\":\"IAH \\u2192 ORD\",\"opacity\":0.3542986264322824,\"type\":\"scattergeo\"},{\"lat\":[33.43429946899414,32.7336006165],\"line\":{\"color\":\"red\",\"width\":1},\"locationmode\":\"USA-states\",\"lon\":[-112.01200103759766,-117.190002441],\"mode\":\"lines\",\"name\":\"PHX \\u2192 SAN\",\"opacity\":0.35371147960999216,\"type\":\"scattergeo\"},{\"lat\":[41.9786,29.984399795532227],\"line\":{\"color\":\"red\",\"width\":1},\"locationmode\":\"USA-states\",\"lon\":[-87.9048,-95.34140014648438],\"mode\":\"lines\",\"name\":\"ORD \\u2192 IAH\",\"opacity\":0.3534801793466657,\"type\":\"scattergeo\"},{\"lat\":[40.63980103,42.36429977],\"line\":{\"color\":\"red\",\"width\":1},\"locationmode\":\"USA-states\",\"lon\":[-73.77890015,-71.00520325],\"mode\":\"lines\",\"name\":\"JFK \\u2192 BOS\",\"opacity\":0.3500640523806135,\"type\":\"scattergeo\"},{\"lat\":[42.36429977,40.63980103],\"line\":{\"color\":\"red\",\"width\":1},\"locationmode\":\"USA-states\",\"lon\":[-71.00520325,-73.77890015],\"mode\":\"lines\",\"name\":\"BOS \\u2192 JFK\",\"opacity\":0.3488007970962921,\"type\":\"scattergeo\"},{\"lat\":[33.6367,29.984399795532227],\"line\":{\"color\":\"red\",\"width\":1},\"locationmode\":\"USA-states\",\"lon\":[-84.428101,-95.34140014648438],\"mode\":\"lines\",\"name\":\"ATL \\u2192 IAH\",\"opacity\":0.3474663725001779,\"type\":\"scattergeo\"},{\"lat\":[29.984399795532227,33.6367],\"line\":{\"color\":\"red\",\"width\":1},\"locationmode\":\"USA-states\",\"lon\":[-95.34140014648438,-84.428101],\"mode\":\"lines\",\"name\":\"IAH \\u2192 ATL\",\"opacity\":0.34744858017222974,\"type\":\"scattergeo\"},{\"lat\":[36.1245002746582,41.9786],\"line\":{\"color\":\"red\",\"width\":1},\"locationmode\":\"USA-states\",\"lon\":[-86.6781997680664,-87.9048],\"mode\":\"lines\",\"name\":\"BNA \\u2192 ORD\",\"opacity\":0.34630987118354567,\"type\":\"scattergeo\"},{\"lat\":[41.9786,36.1245002746582],\"line\":{\"color\":\"red\",\"width\":1},\"locationmode\":\"USA-states\",\"lon\":[-87.9048,-86.6781997680664],\"mode\":\"lines\",\"name\":\"ORD \\u2192 BNA\",\"opacity\":0.3462209095438047,\"type\":\"scattergeo\"},{\"lat\":[42.212398529052734,33.6367],\"line\":{\"color\":\"red\",\"width\":1},\"locationmode\":\"USA-states\",\"lon\":[-83.35340118408203,-84.428101],\"mode\":\"lines\",\"name\":\"DTW \\u2192 ATL\",\"opacity\":0.3461853248879083,\"type\":\"scattergeo\"},{\"lat\":[33.6367,42.212398529052734],\"line\":{\"color\":\"red\",\"width\":1},\"locationmode\":\"USA-states\",\"lon\":[-84.428101,-83.35340118408203],\"mode\":\"lines\",\"name\":\"ATL \\u2192 DTW\",\"opacity\":0.34582947832894456,\"type\":\"scattergeo\"},{\"lat\":[40.692501068115234,37.61899948120117],\"line\":{\"color\":\"red\",\"width\":1},\"locationmode\":\"USA-states\",\"lon\":[-74.168701171875,-122.375],\"mode\":\"lines\",\"name\":\"EWR \\u2192 SFO\",\"opacity\":0.34424596114155576,\"type\":\"scattergeo\"},{\"lat\":[37.61899948120117,40.692501068115234],\"line\":{\"color\":\"red\",\"width\":1},\"locationmode\":\"USA-states\",\"lon\":[-122.375,-74.168701171875],\"mode\":\"lines\",\"name\":\"SFO \\u2192 EWR\",\"opacity\":0.3439790762223329,\"type\":\"scattergeo\"},{\"lat\":[40.77719879,25.79319953918457],\"line\":{\"color\":\"red\",\"width\":1},\"locationmode\":\"USA-states\",\"lon\":[-73.87259674,-80.29060363769531],\"mode\":\"lines\",\"name\":\"LGA \\u2192 MIA\",\"opacity\":0.34314283680876806,\"type\":\"scattergeo\"},{\"lat\":[25.79319953918457,40.77719879],\"line\":{\"color\":\"red\",\"width\":1},\"locationmode\":\"USA-states\",\"lon\":[-80.29060363769531,-73.87259674],\"mode\":\"lines\",\"name\":\"MIA \\u2192 LGA\",\"opacity\":0.34285815956159704,\"type\":\"scattergeo\"},{\"lat\":[45.58869934,37.61899948120117],\"line\":{\"color\":\"red\",\"width\":1},\"locationmode\":\"USA-states\",\"lon\":[-122.5979996,-122.375],\"mode\":\"lines\",\"name\":\"PDX \\u2192 SFO\",\"opacity\":0.3421464664436695,\"type\":\"scattergeo\"},{\"lat\":[40.692501068115234,41.9786],\"line\":{\"color\":\"red\",\"width\":1},\"locationmode\":\"USA-states\",\"lon\":[-74.168701171875,-87.9048],\"mode\":\"lines\",\"name\":\"EWR \\u2192 ORD\",\"opacity\":0.34154152729343107,\"type\":\"scattergeo\"},{\"lat\":[37.61899948120117,45.58869934],\"line\":{\"color\":\"red\",\"width\":1},\"locationmode\":\"USA-states\",\"lon\":[-122.375,-122.5979996],\"mode\":\"lines\",\"name\":\"SFO \\u2192 PDX\",\"opacity\":0.3415237349654829,\"type\":\"scattergeo\"},{\"lat\":[39.861698150635,32.7336006165],\"line\":{\"color\":\"red\",\"width\":1},\"locationmode\":\"USA-states\",\"lon\":[-104.672996521,-117.190002441],\"mode\":\"lines\",\"name\":\"DEN \\u2192 SAN\",\"opacity\":0.3414881503095865,\"type\":\"scattergeo\"},{\"lat\":[32.7336006165,39.861698150635],\"line\":{\"color\":\"red\",\"width\":1},\"locationmode\":\"USA-states\",\"lon\":[-117.190002441,-104.672996521],\"mode\":\"lines\",\"name\":\"SAN \\u2192 DEN\",\"opacity\":0.3413280193580528,\"type\":\"scattergeo\"},{\"lat\":[37.721298,33.94250107],\"line\":{\"color\":\"red\",\"width\":1},\"locationmode\":\"USA-states\",\"lon\":[-122.221001,-118.4079971],\"mode\":\"lines\",\"name\":\"OAK \\u2192 LAX\",\"opacity\":0.3369511066827984,\"type\":\"scattergeo\"},{\"lat\":[41.9786,28.429399490356445],\"line\":{\"color\":\"red\",\"width\":1},\"locationmode\":\"USA-states\",\"lon\":[-87.9048,-81.30899810791016],\"mode\":\"lines\",\"name\":\"ORD \\u2192 MCO\",\"opacity\":0.33679097573126465,\"type\":\"scattergeo\"},{\"lat\":[33.94250107,37.721298],\"line\":{\"color\":\"red\",\"width\":1},\"locationmode\":\"USA-states\",\"lon\":[-118.4079971,-122.221001],\"mode\":\"lines\",\"name\":\"LAX \\u2192 OAK\",\"opacity\":0.33657746779588643,\"type\":\"scattergeo\"},{\"lat\":[36.08010101,41.9786],\"line\":{\"color\":\"red\",\"width\":1},\"locationmode\":\"USA-states\",\"lon\":[-115.1520004,-87.9048],\"mode\":\"lines\",\"name\":\"LAS \\u2192 ORD\",\"opacity\":0.3364173368443527,\"type\":\"scattergeo\"},{\"lat\":[28.429399490356445,41.9786],\"line\":{\"color\":\"red\",\"width\":1},\"locationmode\":\"USA-states\",\"lon\":[-81.30899810791016,-87.9048],\"mode\":\"lines\",\"name\":\"MCO \\u2192 ORD\",\"opacity\":0.33638175218845634,\"type\":\"scattergeo\"},{\"lat\":[41.9786,36.08010101],\"line\":{\"color\":\"red\",\"width\":1},\"locationmode\":\"USA-states\",\"lon\":[-87.9048,-115.1520004],\"mode\":\"lines\",\"name\":\"ORD \\u2192 LAS\",\"opacity\":0.3363105828766636,\"type\":\"scattergeo\"},{\"lat\":[41.9786,40.692501068115234],\"line\":{\"color\":\"red\",\"width\":1},\"locationmode\":\"USA-states\",\"lon\":[-87.9048,-74.168701171875],\"mode\":\"lines\",\"name\":\"ORD \\u2192 EWR\",\"opacity\":0.33586577467795886,\"type\":\"scattergeo\"},{\"lat\":[42.36429977,40.692501068115234],\"line\":{\"color\":\"red\",\"width\":1},\"locationmode\":\"USA-states\",\"lon\":[-71.00520325,-74.168701171875],\"mode\":\"lines\",\"name\":\"BOS \\u2192 EWR\",\"opacity\":0.3345313500818447,\"type\":\"scattergeo\"},{\"lat\":[40.692501068115234,42.36429977],\"line\":{\"color\":\"red\",\"width\":1},\"locationmode\":\"USA-states\",\"lon\":[-74.168701171875,-71.00520325],\"mode\":\"lines\",\"name\":\"EWR \\u2192 BOS\",\"opacity\":0.3341399188669846,\"type\":\"scattergeo\"},{\"lat\":[33.94250107,40.692501068115234],\"line\":{\"color\":\"red\",\"width\":1},\"locationmode\":\"USA-states\",\"lon\":[-118.4079971,-74.168701171875],\"mode\":\"lines\",\"name\":\"LAX \\u2192 EWR\",\"opacity\":0.3340153725713472,\"type\":\"scattergeo\"},{\"lat\":[40.692501068115234,33.94250107],\"line\":{\"color\":\"red\",\"width\":1},\"locationmode\":\"USA-states\",\"lon\":[-74.168701171875,-118.4079971],\"mode\":\"lines\",\"name\":\"EWR \\u2192 LAX\",\"opacity\":0.3339264109316063,\"type\":\"scattergeo\"},{\"lat\":[41.9786,39.7173],\"line\":{\"color\":\"red\",\"width\":1},\"locationmode\":\"USA-states\",\"lon\":[-87.9048,-86.294403],\"mode\":\"lines\",\"name\":\"ORD \\u2192 IND\",\"opacity\":0.333712902996228,\"type\":\"scattergeo\"},{\"lat\":[39.7173,41.9786],\"line\":{\"color\":\"red\",\"width\":1},\"locationmode\":\"USA-states\",\"lon\":[-86.294403,-87.9048],\"mode\":\"lines\",\"name\":\"IND \\u2192 ORD\",\"opacity\":0.3334104334211088,\"type\":\"scattergeo\"},{\"lat\":[35.2140007019043,40.77719879],\"line\":{\"color\":\"red\",\"width\":1},\"locationmode\":\"USA-states\",\"lon\":[-80.94309997558594,-73.87259674],\"mode\":\"lines\",\"name\":\"CLT \\u2192 LGA\",\"opacity\":0.33328588712547147,\"type\":\"scattergeo\"},{\"lat\":[40.77719879,35.2140007019043],\"line\":{\"color\":\"red\",\"width\":1},\"locationmode\":\"USA-states\",\"lon\":[-73.87259674,-80.94309997558594],\"mode\":\"lines\",\"name\":\"LGA \\u2192 CLT\",\"opacity\":0.33319692548573054,\"type\":\"scattergeo\"},{\"lat\":[36.08010101,33.6367],\"line\":{\"color\":\"red\",\"width\":1},\"locationmode\":\"USA-states\",\"lon\":[-115.1520004,-84.428101],\"mode\":\"lines\",\"name\":\"LAS \\u2192 ATL\",\"opacity\":0.3281439043484449,\"type\":\"scattergeo\"},{\"lat\":[33.6367,36.08010101],\"line\":{\"color\":\"red\",\"width\":1},\"locationmode\":\"USA-states\",\"lon\":[-84.428101,-115.1520004],\"mode\":\"lines\",\"name\":\"ATL \\u2192 LAS\",\"opacity\":0.32752117287025834,\"type\":\"scattergeo\"},{\"lat\":[37.721298,36.08010101],\"line\":{\"color\":\"red\",\"width\":1},\"locationmode\":\"USA-states\",\"lon\":[-122.221001,-115.1520004],\"mode\":\"lines\",\"name\":\"OAK \\u2192 LAS\",\"opacity\":0.32737883424667286,\"type\":\"scattergeo\"},{\"lat\":[33.43429946899414,37.61899948120117],\"line\":{\"color\":\"red\",\"width\":1},\"locationmode\":\"USA-states\",\"lon\":[-112.01200103759766,-122.375],\"mode\":\"lines\",\"name\":\"PHX \\u2192 SFO\",\"opacity\":0.3269518183759163,\"type\":\"scattergeo\"},{\"lat\":[29.99340057373047,33.6367],\"line\":{\"color\":\"red\",\"width\":1},\"locationmode\":\"USA-states\",\"lon\":[-90.25800323486328,-84.428101],\"mode\":\"lines\",\"name\":\"MSY \\u2192 ATL\",\"opacity\":0.3259732403387659,\"type\":\"scattergeo\"},{\"lat\":[41.9786,35.2140007019043],\"line\":{\"color\":\"red\",\"width\":1},\"locationmode\":\"USA-states\",\"lon\":[-87.9048,-80.94309997558594],\"mode\":\"lines\",\"name\":\"ORD \\u2192 CLT\",\"opacity\":0.3258309017151804,\"type\":\"scattergeo\"},{\"lat\":[37.61899948120117,33.43429946899414],\"line\":{\"color\":\"red\",\"width\":1},\"locationmode\":\"USA-states\",\"lon\":[-122.375,-112.01200103759766],\"mode\":\"lines\",\"name\":\"SFO \\u2192 PHX\",\"opacity\":0.3257419400754395,\"type\":\"scattergeo\"},{\"lat\":[33.6367,29.99340057373047],\"line\":{\"color\":\"red\",\"width\":1},\"locationmode\":\"USA-states\",\"lon\":[-84.428101,-90.25800323486328],\"mode\":\"lines\",\"name\":\"ATL \\u2192 MSY\",\"opacity\":0.3251547932531492,\"type\":\"scattergeo\"},{\"lat\":[36.08010101,37.721298],\"line\":{\"color\":\"red\",\"width\":1},\"locationmode\":\"USA-states\",\"lon\":[-115.1520004,-122.221001],\"mode\":\"lines\",\"name\":\"LAS \\u2192 OAK\",\"opacity\":0.3247633620382891,\"type\":\"scattergeo\"},{\"lat\":[32.7336006165,47.449001],\"line\":{\"color\":\"red\",\"width\":1},\"locationmode\":\"USA-states\",\"lon\":[-117.190002441,-122.308998],\"mode\":\"lines\",\"name\":\"SAN \\u2192 SEA\",\"opacity\":0.32325101416269303,\"type\":\"scattergeo\"},{\"lat\":[47.449001,32.7336006165],\"line\":{\"color\":\"red\",\"width\":1},\"locationmode\":\"USA-states\",\"lon\":[-122.308998,-117.190002441],\"mode\":\"lines\",\"name\":\"SEA \\u2192 SAN\",\"opacity\":0.32321542950679666,\"type\":\"scattergeo\"},{\"lat\":[33.6367,35.877601623535156],\"line\":{\"color\":\"red\",\"width\":1},\"locationmode\":\"USA-states\",\"lon\":[-84.428101,-78.7874984741211],\"mode\":\"lines\",\"name\":\"ATL \\u2192 RDU\",\"opacity\":0.3229485445875738,\"type\":\"scattergeo\"},{\"lat\":[35.877601623535156,33.6367],\"line\":{\"color\":\"red\",\"width\":1},\"locationmode\":\"USA-states\",\"lon\":[-78.7874984741211,-84.428101],\"mode\":\"lines\",\"name\":\"RDU \\u2192 ATL\",\"opacity\":0.3224859440609209,\"type\":\"scattergeo\"},{\"lat\":[35.2140007019043,41.9786],\"line\":{\"color\":\"red\",\"width\":1},\"locationmode\":\"USA-states\",\"lon\":[-80.94309997558594,-87.9048],\"mode\":\"lines\",\"name\":\"CLT \\u2192 ORD\",\"opacity\":0.320795672905843,\"type\":\"scattergeo\"},{\"lat\":[39.1754,26.072599],\"line\":{\"color\":\"red\",\"width\":1},\"locationmode\":\"USA-states\",\"lon\":[-76.668297,-80.152702],\"mode\":\"lines\",\"name\":\"BWI \\u2192 FLL\",\"opacity\":0.3188741014874386,\"type\":\"scattergeo\"},{\"lat\":[26.072599,39.1754],\"line\":{\"color\":\"red\",\"width\":1},\"locationmode\":\"USA-states\",\"lon\":[-80.152702,-76.668297],\"mode\":\"lines\",\"name\":\"FLL \\u2192 BWI\",\"opacity\":0.317023699380827,\"type\":\"scattergeo\"},{\"lat\":[26.072599,40.77719879],\"line\":{\"color\":\"red\",\"width\":1},\"locationmode\":\"USA-states\",\"lon\":[-80.152702,-73.87259674],\"mode\":\"lines\",\"name\":\"FLL \\u2192 LGA\",\"opacity\":0.3164899295423813,\"type\":\"scattergeo\"},{\"lat\":[30.49410057067871,33.6367],\"line\":{\"color\":\"red\",\"width\":1},\"locationmode\":\"USA-states\",\"lon\":[-81.68789672851562,-84.428101],\"mode\":\"lines\",\"name\":\"JAX \\u2192 ATL\",\"opacity\":0.316365383246744,\"type\":\"scattergeo\"},{\"lat\":[40.77719879,26.072599],\"line\":{\"color\":\"red\",\"width\":1},\"locationmode\":\"USA-states\",\"lon\":[-73.87259674,-80.152702],\"mode\":\"lines\",\"name\":\"LGA \\u2192 FLL\",\"opacity\":0.316080705999573,\"type\":\"scattergeo\"},{\"lat\":[33.6367,30.49410057067871],\"line\":{\"color\":\"red\",\"width\":1},\"locationmode\":\"USA-states\",\"lon\":[-84.428101,-81.68789672851562],\"mode\":\"lines\",\"name\":\"ATL \\u2192 JAX\",\"opacity\":0.3157426517685574,\"type\":\"scattergeo\"},{\"lat\":[42.36429977,33.94250107],\"line\":{\"color\":\"red\",\"width\":1},\"locationmode\":\"USA-states\",\"lon\":[-71.00520325,-118.4079971],\"mode\":\"lines\",\"name\":\"BOS \\u2192 LAX\",\"opacity\":0.31437264251654684,\"type\":\"scattergeo\"},{\"lat\":[39.0488014221,41.9786],\"line\":{\"color\":\"red\",\"width\":1},\"locationmode\":\"USA-states\",\"lon\":[-84.6678009033,-87.9048],\"mode\":\"lines\",\"name\":\"CVG \\u2192 ORD\",\"opacity\":0.31424809622090955,\"type\":\"scattergeo\"},{\"lat\":[41.9786,39.0488014221],\"line\":{\"color\":\"red\",\"width\":1},\"locationmode\":\"USA-states\",\"lon\":[-87.9048,-84.6678009033],\"mode\":\"lines\",\"name\":\"ORD \\u2192 CVG\",\"opacity\":0.31423030389296136,\"type\":\"scattergeo\"},{\"lat\":[33.94250107,42.36429977],\"line\":{\"color\":\"red\",\"width\":1},\"locationmode\":\"USA-states\",\"lon\":[-118.4079971,-71.00520325],\"mode\":\"lines\",\"name\":\"LAX \\u2192 BOS\",\"opacity\":0.3133762721514483,\"type\":\"scattergeo\"},{\"lat\":[41.9786,39.87189865112305],\"line\":{\"color\":\"red\",\"width\":1},\"locationmode\":\"USA-states\",\"lon\":[-87.9048,-75.24109649658203],\"mode\":\"lines\",\"name\":\"ORD \\u2192 PHL\",\"opacity\":0.31184613194790406,\"type\":\"scattergeo\"},{\"lat\":[39.87189865112305,41.9786],\"line\":{\"color\":\"red\",\"width\":1},\"locationmode\":\"USA-states\",\"lon\":[-75.24109649658203,-87.9048],\"mode\":\"lines\",\"name\":\"PHL \\u2192 ORD\",\"opacity\":0.31143690840509575,\"type\":\"scattergeo\"},{\"lat\":[40.63980103,28.429399490356445],\"line\":{\"color\":\"red\",\"width\":1},\"locationmode\":\"USA-states\",\"lon\":[-73.77890015,-81.30899810791016],\"mode\":\"lines\",\"name\":\"JFK \\u2192 MCO\",\"opacity\":0.3074870116005978,\"type\":\"scattergeo\"},{\"lat\":[41.9786,39.998001],\"line\":{\"color\":\"red\",\"width\":1},\"locationmode\":\"USA-states\",\"lon\":[-87.9048,-82.891899],\"mode\":\"lines\",\"name\":\"ORD \\u2192 CMH\",\"opacity\":0.3073268806490641,\"type\":\"scattergeo\"},{\"lat\":[39.998001,41.9786],\"line\":{\"color\":\"red\",\"width\":1},\"locationmode\":\"USA-states\",\"lon\":[-82.891899,-87.9048],\"mode\":\"lines\",\"name\":\"CMH \\u2192 ORD\",\"opacity\":0.30725571133727136,\"type\":\"scattergeo\"},{\"lat\":[28.429399490356445,40.63980103],\"line\":{\"color\":\"red\",\"width\":1},\"locationmode\":\"USA-states\",\"lon\":[-81.30899810791016,-73.77890015],\"mode\":\"lines\",\"name\":\"MCO \\u2192 JFK\",\"opacity\":0.3070422034018931,\"type\":\"scattergeo\"},{\"lat\":[41.9786,41.4117012024],\"line\":{\"color\":\"red\",\"width\":1},\"locationmode\":\"USA-states\",\"lon\":[-87.9048,-81.8498001099],\"mode\":\"lines\",\"name\":\"ORD \\u2192 CLE\",\"opacity\":0.3060992100206391,\"type\":\"scattergeo\"},{\"lat\":[41.4117012024,41.9786],\"line\":{\"color\":\"red\",\"width\":1},\"locationmode\":\"USA-states\",\"lon\":[-81.8498001099,-87.9048],\"mode\":\"lines\",\"name\":\"CLE \\u2192 ORD\",\"opacity\":0.30588570208526084,\"type\":\"scattergeo\"},{\"lat\":[39.861698150635,30.194499969482425],\"line\":{\"color\":\"red\",\"width\":1},\"locationmode\":\"USA-states\",\"lon\":[-104.672996521,-97.6698989868164],\"mode\":\"lines\",\"name\":\"DEN \\u2192 AUS\",\"opacity\":0.3048003700804213,\"type\":\"scattergeo\"},{\"lat\":[30.194499969482425,39.861698150635],\"line\":{\"color\":\"red\",\"width\":1},\"locationmode\":\"USA-states\",\"lon\":[-97.6698989868164,-104.672996521],\"mode\":\"lines\",\"name\":\"AUS \\u2192 DEN\",\"opacity\":0.3044267311935094,\"type\":\"scattergeo\"},{\"lat\":[41.9786,38.748697],\"line\":{\"color\":\"red\",\"width\":1},\"locationmode\":\"USA-states\",\"lon\":[-87.9048,-90.370003],\"mode\":\"lines\",\"name\":\"ORD \\u2192 STL\",\"opacity\":0.3038217920432709,\"type\":\"scattergeo\"},{\"lat\":[38.748697,41.9786],\"line\":{\"color\":\"red\",\"width\":1},\"locationmode\":\"USA-states\",\"lon\":[-90.370003,-87.9048],\"mode\":\"lines\",\"name\":\"STL \\u2192 ORD\",\"opacity\":0.30373283040353,\"type\":\"scattergeo\"},{\"lat\":[42.36429977,28.429399490356445],\"line\":{\"color\":\"red\",\"width\":1},\"locationmode\":\"USA-states\",\"lon\":[-71.00520325,-81.30899810791016],\"mode\":\"lines\",\"name\":\"BOS \\u2192 MCO\",\"opacity\":0.3033236068607217,\"type\":\"scattergeo\"},{\"lat\":[28.429399490356445,42.36429977],\"line\":{\"color\":\"red\",\"width\":1},\"locationmode\":\"USA-states\",\"lon\":[-81.30899810791016,-71.00520325],\"mode\":\"lines\",\"name\":\"MCO \\u2192 BOS\",\"opacity\":0.3032702298768771,\"type\":\"scattergeo\"},{\"lat\":[42.36429977,39.1754],\"line\":{\"color\":\"red\",\"width\":1},\"locationmode\":\"USA-states\",\"lon\":[-71.00520325,-76.668297],\"mode\":\"lines\",\"name\":\"BOS \\u2192 BWI\",\"opacity\":0.3025407444310014,\"type\":\"scattergeo\"},{\"lat\":[39.1754,42.36429977],\"line\":{\"color\":\"red\",\"width\":1},\"locationmode\":\"USA-states\",\"lon\":[-76.668297,-71.00520325],\"mode\":\"lines\",\"name\":\"BWI \\u2192 BOS\",\"opacity\":0.3022382748558821,\"type\":\"scattergeo\"},{\"lat\":[40.692501068115234,35.2140007019043],\"line\":{\"color\":\"red\",\"width\":1},\"locationmode\":\"USA-states\",\"lon\":[-74.168701171875,-80.94309997558594],\"mode\":\"lines\",\"name\":\"EWR \\u2192 CLT\",\"opacity\":0.2962956373211871,\"type\":\"scattergeo\"},{\"lat\":[35.2140007019043,40.692501068115234],\"line\":{\"color\":\"red\",\"width\":1},\"locationmode\":\"USA-states\",\"lon\":[-80.94309997558594,-74.168701171875],\"mode\":\"lines\",\"name\":\"CLT \\u2192 EWR\",\"opacity\":0.2962600526652907,\"type\":\"scattergeo\"},{\"lat\":[39.2976,39.861698150635],\"line\":{\"color\":\"red\",\"width\":1},\"locationmode\":\"USA-states\",\"lon\":[-94.713898,-104.672996521],\"mode\":\"lines\",\"name\":\"MCI \\u2192 DEN\",\"opacity\":0.2958330367945342,\"type\":\"scattergeo\"},{\"lat\":[25.79319953918457,40.63980103],\"line\":{\"color\":\"red\",\"width\":1},\"locationmode\":\"USA-states\",\"lon\":[-80.29060363769531,-73.77890015],\"mode\":\"lines\",\"name\":\"MIA \\u2192 JFK\",\"opacity\":0.29490783574122836,\"type\":\"scattergeo\"},{\"lat\":[39.861698150635,39.2976],\"line\":{\"color\":\"red\",\"width\":1},\"locationmode\":\"USA-states\",\"lon\":[-104.672996521,-94.713898],\"mode\":\"lines\",\"name\":\"DEN \\u2192 MCI\",\"opacity\":0.2948366664294356,\"type\":\"scattergeo\"},{\"lat\":[40.63980103,25.79319953918457],\"line\":{\"color\":\"red\",\"width\":1},\"locationmode\":\"USA-states\",\"lon\":[-73.77890015,-80.29060363769531],\"mode\":\"lines\",\"name\":\"JFK \\u2192 MIA\",\"opacity\":0.2947121201337983,\"type\":\"scattergeo\"},{\"lat\":[32.896801,28.429399490356445],\"line\":{\"color\":\"red\",\"width\":1},\"locationmode\":\"USA-states\",\"lon\":[-97.038002,-81.30899810791016],\"mode\":\"lines\",\"name\":\"DFW \\u2192 MCO\",\"opacity\":0.2940538039997153,\"type\":\"scattergeo\"},{\"lat\":[28.429399490356445,32.896801],\"line\":{\"color\":\"red\",\"width\":1},\"locationmode\":\"USA-states\",\"lon\":[-81.30899810791016,-97.038002],\"mode\":\"lines\",\"name\":\"MCO \\u2192 DFW\",\"opacity\":0.2936623727848552,\"type\":\"scattergeo\"},{\"lat\":[33.6367,44.882],\"line\":{\"color\":\"red\",\"width\":1},\"locationmode\":\"USA-states\",\"lon\":[-84.428101,-93.221802],\"mode\":\"lines\",\"name\":\"ATL \\u2192 MSP\",\"opacity\":0.29332431855383956,\"type\":\"scattergeo\"},{\"lat\":[44.882,33.6367],\"line\":{\"color\":\"red\",\"width\":1},\"locationmode\":\"USA-states\",\"lon\":[-93.221802,-84.428101],\"mode\":\"lines\",\"name\":\"MSP \\u2192 ATL\",\"opacity\":0.2931463952743577,\"type\":\"scattergeo\"},{\"lat\":[40.78839874267578,47.449001],\"line\":{\"color\":\"red\",\"width\":1},\"locationmode\":\"USA-states\",\"lon\":[-111.97799682617188,-122.308998],\"mode\":\"lines\",\"name\":\"SLC \\u2192 SEA\",\"opacity\":0.2915628780869689,\"type\":\"scattergeo\"},{\"lat\":[47.449001,40.78839874267578],\"line\":{\"color\":\"red\",\"width\":1},\"locationmode\":\"USA-states\",\"lon\":[-122.308998,-111.97799682617188],\"mode\":\"lines\",\"name\":\"SEA \\u2192 SLC\",\"opacity\":0.2915628780869689,\"type\":\"scattergeo\"},{\"lat\":[42.36429977,37.61899948120117],\"line\":{\"color\":\"red\",\"width\":1},\"locationmode\":\"USA-states\",\"lon\":[-71.00520325,-122.375],\"mode\":\"lines\",\"name\":\"BOS \\u2192 SFO\",\"opacity\":0.2904953384100776,\"type\":\"scattergeo\"},{\"lat\":[37.61899948120117,42.36429977],\"line\":{\"color\":\"red\",\"width\":1},\"locationmode\":\"USA-states\",\"lon\":[-122.375,-71.00520325],\"mode\":\"lines\",\"name\":\"SFO \\u2192 BOS\",\"opacity\":0.29040637677033665,\"type\":\"scattergeo\"},{\"lat\":[26.072599,40.63980103],\"line\":{\"color\":\"red\",\"width\":1},\"locationmode\":\"USA-states\",\"lon\":[-80.152702,-73.77890015],\"mode\":\"lines\",\"name\":\"FLL \\u2192 JFK\",\"opacity\":0.2898548146039428,\"type\":\"scattergeo\"},{\"lat\":[40.63980103,26.072599],\"line\":{\"color\":\"red\",\"width\":1},\"locationmode\":\"USA-states\",\"lon\":[-73.77890015,-80.152702],\"mode\":\"lines\",\"name\":\"JFK \\u2192 FLL\",\"opacity\":0.2898192299480464,\"type\":\"scattergeo\"},{\"lat\":[33.67570114,37.61899948120117],\"line\":{\"color\":\"red\",\"width\":1},\"locationmode\":\"USA-states\",\"lon\":[-117.8679962,-122.375],\"mode\":\"lines\",\"name\":\"SNA \\u2192 SFO\",\"opacity\":0.2882890897445022,\"type\":\"scattergeo\"},{\"lat\":[37.61899948120117,33.67570114],\"line\":{\"color\":\"red\",\"width\":1},\"locationmode\":\"USA-states\",\"lon\":[-122.375,-117.8679962],\"mode\":\"lines\",\"name\":\"SFO \\u2192 SNA\",\"opacity\":0.2882357127606576,\"type\":\"scattergeo\"},{\"lat\":[33.43429946899414,32.896801],\"line\":{\"color\":\"red\",\"width\":1},\"locationmode\":\"USA-states\",\"lon\":[-112.01200103759766,-97.038002],\"mode\":\"lines\",\"name\":\"PHX \\u2192 DFW\",\"opacity\":0.2880755818091239,\"type\":\"scattergeo\"},{\"lat\":[32.896801,33.43429946899414],\"line\":{\"color\":\"red\",\"width\":1},\"locationmode\":\"USA-states\",\"lon\":[-97.038002,-112.01200103759766],\"mode\":\"lines\",\"name\":\"DFW \\u2192 PHX\",\"opacity\":0.28803999715322753,\"type\":\"scattergeo\"},{\"lat\":[38.748697,39.861698150635],\"line\":{\"color\":\"red\",\"width\":1},\"locationmode\":\"USA-states\",\"lon\":[-90.370003,-104.672996521],\"mode\":\"lines\",\"name\":\"STL \\u2192 DEN\",\"opacity\":0.287986620169383,\"type\":\"scattergeo\"},{\"lat\":[33.6367,36.1245002746582],\"line\":{\"color\":\"red\",\"width\":1},\"locationmode\":\"USA-states\",\"lon\":[-84.428101,-86.6781997680664],\"mode\":\"lines\",\"name\":\"ATL \\u2192 BNA\",\"opacity\":0.287897658529642,\"type\":\"scattergeo\"},{\"lat\":[36.1245002746582,33.6367],\"line\":{\"color\":\"red\",\"width\":1},\"locationmode\":\"USA-states\",\"lon\":[-86.6781997680664,-84.428101],\"mode\":\"lines\",\"name\":\"BNA \\u2192 ATL\",\"opacity\":0.2874884349868337,\"type\":\"scattergeo\"},{\"lat\":[39.861698150635,38.748697],\"line\":{\"color\":\"red\",\"width\":1},\"locationmode\":\"USA-states\",\"lon\":[-104.672996521,-90.370003],\"mode\":\"lines\",\"name\":\"DEN \\u2192 STL\",\"opacity\":0.2873816810191445,\"type\":\"scattergeo\"},{\"lat\":[39.861698150635,28.429399490356445],\"line\":{\"color\":\"red\",\"width\":1},\"locationmode\":\"USA-states\",\"lon\":[-104.672996521,-81.30899810791016],\"mode\":\"lines\",\"name\":\"DEN \\u2192 MCO\",\"opacity\":0.28533556330510285,\"type\":\"scattergeo\"},{\"lat\":[41.9786,42.94720077514648],\"line\":{\"color\":\"red\",\"width\":1},\"locationmode\":\"USA-states\",\"lon\":[-87.9048,-87.89659881591797],\"mode\":\"lines\",\"name\":\"ORD \\u2192 MKE\",\"opacity\":0.2852999786492065,\"type\":\"scattergeo\"},{\"lat\":[42.94720077514648,41.9786],\"line\":{\"color\":\"red\",\"width\":1},\"locationmode\":\"USA-states\",\"lon\":[-87.89659881591797,-87.9048],\"mode\":\"lines\",\"name\":\"MKE \\u2192 ORD\",\"opacity\":0.2850864707138282,\"type\":\"scattergeo\"},{\"lat\":[33.43429946899414,33.67570114],\"line\":{\"color\":\"red\",\"width\":1},\"locationmode\":\"USA-states\",\"lon\":[-112.01200103759766,-117.8679962],\"mode\":\"lines\",\"name\":\"PHX \\u2192 SNA\",\"opacity\":0.2841078926766778,\"type\":\"scattergeo\"},{\"lat\":[33.67570114,33.43429946899414],\"line\":{\"color\":\"red\",\"width\":1},\"locationmode\":\"USA-states\",\"lon\":[-117.8679962,-112.01200103759766],\"mode\":\"lines\",\"name\":\"SNA \\u2192 PHX\",\"opacity\":0.2840901003487296,\"type\":\"scattergeo\"},{\"lat\":[41.9786,42.88079834],\"line\":{\"color\":\"red\",\"width\":1},\"locationmode\":\"USA-states\",\"lon\":[-87.9048,-85.52279663],\"mode\":\"lines\",\"name\":\"ORD \\u2192 GRR\",\"opacity\":0.2839655540530923,\"type\":\"scattergeo\"},{\"lat\":[42.88079834,41.9786],\"line\":{\"color\":\"red\",\"width\":1},\"locationmode\":\"USA-states\",\"lon\":[-85.52279663,-87.9048],\"mode\":\"lines\",\"name\":\"GRR \\u2192 ORD\",\"opacity\":0.28394776172514413,\"type\":\"scattergeo\"},{\"lat\":[33.6367,38.94449997],\"line\":{\"color\":\"red\",\"width\":1},\"locationmode\":\"USA-states\",\"lon\":[-84.428101,-77.45580292],\"mode\":\"lines\",\"name\":\"ATL \\u2192 IAD\",\"opacity\":0.2821151519464807,\"type\":\"scattergeo\"},{\"lat\":[38.94449997,33.6367],\"line\":{\"color\":\"red\",\"width\":1},\"locationmode\":\"USA-states\",\"lon\":[-77.45580292,-84.428101],\"mode\":\"lines\",\"name\":\"IAD \\u2192 ATL\",\"opacity\":0.2819016440111024,\"type\":\"scattergeo\"},{\"lat\":[28.429399490356445,39.861698150635],\"line\":{\"color\":\"red\",\"width\":1},\"locationmode\":\"USA-states\",\"lon\":[-81.30899810791016,-104.672996521],\"mode\":\"lines\",\"name\":\"MCO \\u2192 DEN\",\"opacity\":0.28184826702725785,\"type\":\"scattergeo\"},{\"lat\":[39.861698150635,40.77719879],\"line\":{\"color\":\"red\",\"width\":1},\"locationmode\":\"USA-states\",\"lon\":[-104.672996521,-73.87259674],\"mode\":\"lines\",\"name\":\"DEN \\u2192 LGA\",\"opacity\":0.2809942352857448,\"type\":\"scattergeo\"},{\"lat\":[40.77719879,39.861698150635],\"line\":{\"color\":\"red\",\"width\":1},\"locationmode\":\"USA-states\",\"lon\":[-73.87259674,-104.672996521],\"mode\":\"lines\",\"name\":\"LGA \\u2192 DEN\",\"opacity\":0.28088748131805563,\"type\":\"scattergeo\"},{\"lat\":[36.1245002746582,40.77719879],\"line\":{\"color\":\"red\",\"width\":1},\"locationmode\":\"USA-states\",\"lon\":[-86.6781997680664,-73.87259674],\"mode\":\"lines\",\"name\":\"BNA \\u2192 LGA\",\"opacity\":0.28014020354423175,\"type\":\"scattergeo\"},{\"lat\":[40.77719879,36.1245002746582],\"line\":{\"color\":\"red\",\"width\":1},\"locationmode\":\"USA-states\",\"lon\":[-73.87259674,-86.6781997680664],\"mode\":\"lines\",\"name\":\"LGA \\u2192 BNA\",\"opacity\":0.28012241121628356,\"type\":\"scattergeo\"},{\"lat\":[28.429399490356445,35.2140007019043],\"line\":{\"color\":\"red\",\"width\":1},\"locationmode\":\"USA-states\",\"lon\":[-81.30899810791016,-80.94309997558594],\"mode\":\"lines\",\"name\":\"MCO \\u2192 CLT\",\"opacity\":0.2789303252437549,\"type\":\"scattergeo\"},{\"lat\":[35.2140007019043,28.429399490356445],\"line\":{\"color\":\"red\",\"width\":1},\"locationmode\":\"USA-states\",\"lon\":[-80.94309997558594,-81.30899810791016],\"mode\":\"lines\",\"name\":\"CLT \\u2192 MCO\",\"opacity\":0.27884136360401396,\"type\":\"scattergeo\"},{\"lat\":[25.79319953918457,41.9786],\"line\":{\"color\":\"red\",\"width\":1},\"locationmode\":\"USA-states\",\"lon\":[-80.29060363769531,-87.9048],\"mode\":\"lines\",\"name\":\"MIA \\u2192 ORD\",\"opacity\":0.2783075937655683,\"type\":\"scattergeo\"},{\"lat\":[41.9786,25.79319953918457],\"line\":{\"color\":\"red\",\"width\":1},\"locationmode\":\"USA-states\",\"lon\":[-87.9048,-80.29060363769531],\"mode\":\"lines\",\"name\":\"ORD \\u2192 MIA\",\"opacity\":0.27804070884634546,\"type\":\"scattergeo\"},{\"lat\":[30.194499969482425,33.94250107],\"line\":{\"color\":\"red\",\"width\":1},\"locationmode\":\"USA-states\",\"lon\":[-97.6698989868164,-118.4079971],\"mode\":\"lines\",\"name\":\"AUS \\u2192 LAX\",\"opacity\":0.2776492776314853,\"type\":\"scattergeo\"},{\"lat\":[33.94250107,30.194499969482425],\"line\":{\"color\":\"red\",\"width\":1},\"locationmode\":\"USA-states\",\"lon\":[-118.4079971,-97.6698989868164],\"mode\":\"lines\",\"name\":\"LAX \\u2192 AUS\",\"opacity\":0.2776492776314853,\"type\":\"scattergeo\"},{\"lat\":[33.67570114,47.449001],\"line\":{\"color\":\"red\",\"width\":1},\"locationmode\":\"USA-states\",\"lon\":[-117.8679962,-122.308998],\"mode\":\"lines\",\"name\":\"SNA \\u2192 SEA\",\"opacity\":0.27740018504021063,\"type\":\"scattergeo\"},{\"lat\":[47.449001,33.67570114],\"line\":{\"color\":\"red\",\"width\":1},\"locationmode\":\"USA-states\",\"lon\":[-122.308998,-117.8679962],\"mode\":\"lines\",\"name\":\"SEA \\u2192 SNA\",\"opacity\":0.27716888477688423,\"type\":\"scattergeo\"},{\"lat\":[45.58869934,39.861698150635],\"line\":{\"color\":\"red\",\"width\":1},\"locationmode\":\"USA-states\",\"lon\":[-122.5979996,-104.672996521],\"mode\":\"lines\",\"name\":\"PDX \\u2192 DEN\",\"opacity\":0.27526510568642804,\"type\":\"scattergeo\"},{\"lat\":[42.36429977,35.2140007019043],\"line\":{\"color\":\"red\",\"width\":1},\"locationmode\":\"USA-states\",\"lon\":[-71.00520325,-80.94309997558594],\"mode\":\"lines\",\"name\":\"BOS \\u2192 CLT\",\"opacity\":0.2751405593907907,\"type\":\"scattergeo\"},{\"lat\":[29.64539909,33.6367],\"line\":{\"color\":\"red\",\"width\":1},\"locationmode\":\"USA-states\",\"lon\":[-95.27890015,-84.428101],\"mode\":\"lines\",\"name\":\"HOU \\u2192 ATL\",\"opacity\":0.27474912817593056,\"type\":\"scattergeo\"},{\"lat\":[39.861698150635,45.58869934],\"line\":{\"color\":\"red\",\"width\":1},\"locationmode\":\"USA-states\",\"lon\":[-104.672996521,-122.5979996],\"mode\":\"lines\",\"name\":\"DEN \\u2192 PDX\",\"opacity\":0.274606789552345,\"type\":\"scattergeo\"},{\"lat\":[35.2140007019043,42.36429977],\"line\":{\"color\":\"red\",\"width\":1},\"locationmode\":\"USA-states\",\"lon\":[-80.94309997558594,-71.00520325],\"mode\":\"lines\",\"name\":\"CLT \\u2192 BOS\",\"opacity\":0.27455341256850047,\"type\":\"scattergeo\"},{\"lat\":[34.20069885253906,37.721298],\"line\":{\"color\":\"red\",\"width\":1},\"locationmode\":\"USA-states\",\"lon\":[-118.35900115966795,-122.221001],\"mode\":\"lines\",\"name\":\"BUR \\u2192 OAK\",\"opacity\":0.2735214575475055,\"type\":\"scattergeo\"},{\"lat\":[37.721298,34.20069885253906],\"line\":{\"color\":\"red\",\"width\":1},\"locationmode\":\"USA-states\",\"lon\":[-122.221001,-118.35900115966795],\"mode\":\"lines\",\"name\":\"OAK \\u2192 BUR\",\"opacity\":0.2732545726282827,\"type\":\"scattergeo\"},{\"lat\":[33.6367,29.64539909],\"line\":{\"color\":\"red\",\"width\":1},\"locationmode\":\"USA-states\",\"lon\":[-84.428101,-95.27890015],\"mode\":\"lines\",\"name\":\"ATL \\u2192 HOU\",\"opacity\":0.2731122340046972,\"type\":\"scattergeo\"},{\"lat\":[25.79319953918457,40.692501068115234],\"line\":{\"color\":\"red\",\"width\":1},\"locationmode\":\"USA-states\",\"lon\":[-80.29060363769531,-74.168701171875],\"mode\":\"lines\",\"name\":\"MIA \\u2192 EWR\",\"opacity\":0.27062130809195073,\"type\":\"scattergeo\"},{\"lat\":[40.692501068115234,25.79319953918457],\"line\":{\"color\":\"red\",\"width\":1},\"locationmode\":\"USA-states\",\"lon\":[-74.168701171875,-80.29060363769531],\"mode\":\"lines\",\"name\":\"EWR \\u2192 MIA\",\"opacity\":0.2705679311081062,\"type\":\"scattergeo\"},{\"lat\":[29.984399795532227,40.77719879],\"line\":{\"color\":\"red\",\"width\":1},\"locationmode\":\"USA-states\",\"lon\":[-95.34140014648438,-73.87259674],\"mode\":\"lines\",\"name\":\"IAH \\u2192 LGA\",\"opacity\":0.2705323464522098,\"type\":\"scattergeo\"},{\"lat\":[40.77719879,29.984399795532227],\"line\":{\"color\":\"red\",\"width\":1},\"locationmode\":\"USA-states\",\"lon\":[-73.87259674,-95.34140014648438],\"mode\":\"lines\",\"name\":\"LGA \\u2192 IAH\",\"opacity\":0.27049676179631343,\"type\":\"scattergeo\"},{\"lat\":[37.362598,33.67570114],\"line\":{\"color\":\"red\",\"width\":1},\"locationmode\":\"USA-states\",\"lon\":[-121.929001,-117.8679962],\"mode\":\"lines\",\"name\":\"SJC \\u2192 SNA\",\"opacity\":0.27028325386093516,\"type\":\"scattergeo\"},{\"lat\":[39.861698150635,33.67570114],\"line\":{\"color\":\"red\",\"width\":1},\"locationmode\":\"USA-states\",\"lon\":[-104.672996521,-117.8679962],\"mode\":\"lines\",\"name\":\"DEN \\u2192 SNA\",\"opacity\":0.2697138993665931,\"type\":\"scattergeo\"},{\"lat\":[37.362598,36.08010101],\"line\":{\"color\":\"red\",\"width\":1},\"locationmode\":\"USA-states\",\"lon\":[-121.929001,-115.1520004],\"mode\":\"lines\",\"name\":\"SJC \\u2192 LAS\",\"opacity\":0.2695359760871112,\"type\":\"scattergeo\"},{\"lat\":[33.67570114,39.861698150635],\"line\":{\"color\":\"red\",\"width\":1},\"locationmode\":\"USA-states\",\"lon\":[-117.8679962,-104.672996521],\"mode\":\"lines\",\"name\":\"SNA \\u2192 DEN\",\"opacity\":0.2692690911678884,\"type\":\"scattergeo\"},{\"lat\":[33.67570114,37.362598],\"line\":{\"color\":\"red\",\"width\":1},\"locationmode\":\"USA-states\",\"lon\":[-117.8679962,-121.929001],\"mode\":\"lines\",\"name\":\"SNA \\u2192 SJC\",\"opacity\":0.26900220624866555,\"type\":\"scattergeo\"},{\"lat\":[36.08010101,37.362598],\"line\":{\"color\":\"red\",\"width\":1},\"locationmode\":\"USA-states\",\"lon\":[-115.1520004,-121.929001],\"mode\":\"lines\",\"name\":\"LAS \\u2192 SJC\",\"opacity\":0.2688064906412355,\"type\":\"scattergeo\"},{\"lat\":[43.13990020751953,41.9786],\"line\":{\"color\":\"red\",\"width\":1},\"locationmode\":\"USA-states\",\"lon\":[-89.3375015258789,-87.9048],\"mode\":\"lines\",\"name\":\"MSN \\u2192 ORD\",\"opacity\":0.2686463596897018,\"type\":\"scattergeo\"},{\"lat\":[41.9786,43.13990020751953],\"line\":{\"color\":\"red\",\"width\":1},\"locationmode\":\"USA-states\",\"lon\":[-87.9048,-89.3375015258789],\"mode\":\"lines\",\"name\":\"ORD \\u2192 MSN\",\"opacity\":0.26855739804996087,\"type\":\"scattergeo\"},{\"lat\":[42.212398529052734,40.77719879],\"line\":{\"color\":\"red\",\"width\":1},\"locationmode\":\"USA-states\",\"lon\":[-83.35340118408203,-73.87259674],\"mode\":\"lines\",\"name\":\"DTW \\u2192 LGA\",\"opacity\":0.2653369866913387,\"type\":\"scattergeo\"},{\"lat\":[40.77719879,42.212398529052734],\"line\":{\"color\":\"red\",\"width\":1},\"locationmode\":\"USA-states\",\"lon\":[-73.87259674,-83.35340118408203],\"mode\":\"lines\",\"name\":\"LGA \\u2192 DTW\",\"opacity\":0.2653191943633905,\"type\":\"scattergeo\"},{\"lat\":[38.69540023803711,36.08010101],\"line\":{\"color\":\"red\",\"width\":1},\"locationmode\":\"USA-states\",\"lon\":[-121.59100341796876,-115.1520004],\"mode\":\"lines\",\"name\":\"SMF \\u2192 LAS\",\"opacity\":0.2650167247882713,\"type\":\"scattergeo\"},{\"lat\":[40.78839874267578,36.08010101],\"line\":{\"color\":\"red\",\"width\":1},\"locationmode\":\"USA-states\",\"lon\":[-111.97799682617188,-115.1520004],\"mode\":\"lines\",\"name\":\"SLC \\u2192 LAS\",\"opacity\":0.26458970891751477,\"type\":\"scattergeo\"},{\"lat\":[28.429399490356445,42.212398529052734],\"line\":{\"color\":\"red\",\"width\":1},\"locationmode\":\"USA-states\",\"lon\":[-81.30899810791016,-83.35340118408203],\"mode\":\"lines\",\"name\":\"MCO \\u2192 DTW\",\"opacity\":0.26380684648779446,\"type\":\"scattergeo\"},{\"lat\":[42.212398529052734,28.429399490356445],\"line\":{\"color\":\"red\",\"width\":1},\"locationmode\":\"USA-states\",\"lon\":[-83.35340118408203,-81.30899810791016],\"mode\":\"lines\",\"name\":\"DTW \\u2192 MCO\",\"opacity\":0.26361113088036436,\"type\":\"scattergeo\"},{\"lat\":[36.08010101,38.69540023803711],\"line\":{\"color\":\"red\",\"width\":1},\"locationmode\":\"USA-states\",\"lon\":[-115.1520004,-121.59100341796876],\"mode\":\"lines\",\"name\":\"LAS \\u2192 SMF\",\"opacity\":0.2631663226816597,\"type\":\"scattergeo\"},{\"lat\":[36.08010101,40.78839874267578],\"line\":{\"color\":\"red\",\"width\":1},\"locationmode\":\"USA-states\",\"lon\":[-115.1520004,-111.97799682617188],\"mode\":\"lines\",\"name\":\"LAS \\u2192 SLC\",\"opacity\":0.2630773610419187,\"type\":\"scattergeo\"},{\"lat\":[33.6367,41.785999],\"line\":{\"color\":\"red\",\"width\":1},\"locationmode\":\"USA-states\",\"lon\":[-84.428101,-87.752403],\"mode\":\"lines\",\"name\":\"ATL \\u2192 MDW\",\"opacity\":0.2615828054942709,\"type\":\"scattergeo\"},{\"lat\":[42.212398529052734,40.692501068115234],\"line\":{\"color\":\"red\",\"width\":1},\"locationmode\":\"USA-states\",\"lon\":[-83.35340118408203,-74.168701171875],\"mode\":\"lines\",\"name\":\"DTW \\u2192 EWR\",\"opacity\":0.26131592057504804,\"type\":\"scattergeo\"},{\"lat\":[47.449001,32.896801],\"line\":{\"color\":\"red\",\"width\":1},\"locationmode\":\"USA-states\",\"lon\":[-122.308998,-97.038002],\"mode\":\"lines\",\"name\":\"SEA \\u2192 DFW\",\"opacity\":0.26129812824709986,\"type\":\"scattergeo\"},{\"lat\":[32.896801,47.449001],\"line\":{\"color\":\"red\",\"width\":1},\"locationmode\":\"USA-states\",\"lon\":[-97.038002,-122.308998],\"mode\":\"lines\",\"name\":\"DFW \\u2192 SEA\",\"opacity\":0.26120916660735893,\"type\":\"scattergeo\"},{\"lat\":[40.692501068115234,42.212398529052734],\"line\":{\"color\":\"red\",\"width\":1},\"locationmode\":\"USA-states\",\"lon\":[-74.168701171875,-83.35340118408203],\"mode\":\"lines\",\"name\":\"EWR \\u2192 DTW\",\"opacity\":0.2611557896235143,\"type\":\"scattergeo\"},{\"lat\":[26.68320083618164,33.6367],\"line\":{\"color\":\"red\",\"width\":1},\"locationmode\":\"USA-states\",\"lon\":[-80.09559631347656,-84.428101],\"mode\":\"lines\",\"name\":\"PBI \\u2192 ATL\",\"opacity\":0.2605508504732759,\"type\":\"scattergeo\"},{\"lat\":[41.785999,33.6367],\"line\":{\"color\":\"red\",\"width\":1},\"locationmode\":\"USA-states\",\"lon\":[-87.752403,-84.428101],\"mode\":\"lines\",\"name\":\"MDW \\u2192 ATL\",\"opacity\":0.2603907195217422,\"type\":\"scattergeo\"},{\"lat\":[33.6367,26.68320083618164],\"line\":{\"color\":\"red\",\"width\":1},\"locationmode\":\"USA-states\",\"lon\":[-84.428101,-80.09559631347656],\"mode\":\"lines\",\"name\":\"ATL \\u2192 PBI\",\"opacity\":0.260088249946623,\"type\":\"scattergeo\"},{\"lat\":[36.08010101,34.20069885253906],\"line\":{\"color\":\"red\",\"width\":1},\"locationmode\":\"USA-states\",\"lon\":[-115.1520004,-118.35900115966795],\"mode\":\"lines\",\"name\":\"LAS \\u2192 BUR\",\"opacity\":0.25973240338765924,\"type\":\"scattergeo\"},{\"lat\":[34.20069885253906,36.08010101],\"line\":{\"color\":\"red\",\"width\":1},\"locationmode\":\"USA-states\",\"lon\":[-118.35900115966795,-115.1520004],\"mode\":\"lines\",\"name\":\"BUR \\u2192 LAS\",\"opacity\":0.25959006476407376,\"type\":\"scattergeo\"},{\"lat\":[37.61899948120117,40.78839874267578],\"line\":{\"color\":\"red\",\"width\":1},\"locationmode\":\"USA-states\",\"lon\":[-122.375,-111.97799682617188],\"mode\":\"lines\",\"name\":\"SFO \\u2192 SLC\",\"opacity\":0.2588961639740944,\"type\":\"scattergeo\"},{\"lat\":[30.194499969482425,32.896801],\"line\":{\"color\":\"red\",\"width\":1},\"locationmode\":\"USA-states\",\"lon\":[-97.6698989868164,-97.038002],\"mode\":\"lines\",\"name\":\"AUS \\u2192 DFW\",\"opacity\":0.2588783716461462,\"type\":\"scattergeo\"},{\"lat\":[32.896801,30.194499969482425],\"line\":{\"color\":\"red\",\"width\":1},\"locationmode\":\"USA-states\",\"lon\":[-97.038002,-97.6698989868164],\"mode\":\"lines\",\"name\":\"DFW \\u2192 AUS\",\"opacity\":0.25873603302256065,\"type\":\"scattergeo\"},{\"lat\":[40.77719879,28.429399490356445],\"line\":{\"color\":\"red\",\"width\":1},\"locationmode\":\"USA-states\",\"lon\":[-73.87259674,-81.30899810791016],\"mode\":\"lines\",\"name\":\"LGA \\u2192 MCO\",\"opacity\":0.25873603302256065,\"type\":\"scattergeo\"},{\"lat\":[28.429399490356445,40.77719879],\"line\":{\"color\":\"red\",\"width\":1},\"locationmode\":\"USA-states\",\"lon\":[-81.30899810791016,-73.87259674],\"mode\":\"lines\",\"name\":\"MCO \\u2192 LGA\",\"opacity\":0.25832680947975234,\"type\":\"scattergeo\"},{\"lat\":[33.6367,39.7173],\"line\":{\"color\":\"red\",\"width\":1},\"locationmode\":\"USA-states\",\"lon\":[-84.428101,-86.294403],\"mode\":\"lines\",\"name\":\"ATL \\u2192 IND\",\"opacity\":0.25802433990463314,\"type\":\"scattergeo\"},{\"lat\":[40.692501068115234,29.984399795532227],\"line\":{\"color\":\"red\",\"width\":1},\"locationmode\":\"USA-states\",\"lon\":[-74.168701171875,-95.34140014648438],\"mode\":\"lines\",\"name\":\"EWR \\u2192 IAH\",\"opacity\":0.25800654757668495,\"type\":\"scattergeo\"},{\"lat\":[29.984399795532227,40.692501068115234],\"line\":{\"color\":\"red\",\"width\":1},\"locationmode\":\"USA-states\",\"lon\":[-95.34140014648438,-74.168701171875],\"mode\":\"lines\",\"name\":\"IAH \\u2192 EWR\",\"opacity\":0.25770407800156575,\"type\":\"scattergeo\"},{\"lat\":[39.7173,33.6367],\"line\":{\"color\":\"red\",\"width\":1},\"locationmode\":\"USA-states\",\"lon\":[-86.294403,-84.428101],\"mode\":\"lines\",\"name\":\"IND \\u2192 ATL\",\"opacity\":0.25752615472208384,\"type\":\"scattergeo\"},{\"lat\":[36.1245002746582,39.861698150635],\"line\":{\"color\":\"red\",\"width\":1},\"locationmode\":\"USA-states\",\"lon\":[-86.6781997680664,-104.672996521],\"mode\":\"lines\",\"name\":\"BNA \\u2192 DEN\",\"opacity\":0.2572770621308092,\"type\":\"scattergeo\"},{\"lat\":[33.6367,37.50519943237305],\"line\":{\"color\":\"red\",\"width\":1},\"locationmode\":\"USA-states\",\"lon\":[-84.428101,-77.3197021484375],\"mode\":\"lines\",\"name\":\"ATL \\u2192 RIC\",\"opacity\":0.2571169311792755,\"type\":\"scattergeo\"},{\"lat\":[37.50519943237305,33.6367],\"line\":{\"color\":\"red\",\"width\":1},\"locationmode\":\"USA-states\",\"lon\":[-77.3197021484375,-84.428101],\"mode\":\"lines\",\"name\":\"RIC \\u2192 ATL\",\"opacity\":0.2570991388513273,\"type\":\"scattergeo\"},{\"lat\":[30.194499969482425,33.6367],\"line\":{\"color\":\"red\",\"width\":1},\"locationmode\":\"USA-states\",\"lon\":[-97.6698989868164,-84.428101],\"mode\":\"lines\",\"name\":\"AUS \\u2192 ATL\",\"opacity\":0.25661874599672624,\"type\":\"scattergeo\"},{\"lat\":[33.6367,30.194499969482425],\"line\":{\"color\":\"red\",\"width\":1},\"locationmode\":\"USA-states\",\"lon\":[-84.428101,-97.6698989868164],\"mode\":\"lines\",\"name\":\"ATL \\u2192 AUS\",\"opacity\":0.2564764073731407,\"type\":\"scattergeo\"},{\"lat\":[32.896801,44.882],\"line\":{\"color\":\"red\",\"width\":1},\"locationmode\":\"USA-states\",\"lon\":[-97.038002,-93.221802],\"mode\":\"lines\",\"name\":\"DFW \\u2192 MSP\",\"opacity\":0.25613835314212513,\"type\":\"scattergeo\"},{\"lat\":[44.882,32.896801],\"line\":{\"color\":\"red\",\"width\":1},\"locationmode\":\"USA-states\",\"lon\":[-93.221802,-97.038002],\"mode\":\"lines\",\"name\":\"MSP \\u2192 DFW\",\"opacity\":0.25610276848622876,\"type\":\"scattergeo\"},{\"lat\":[32.896801,40.78839874267578],\"line\":{\"color\":\"red\",\"width\":1},\"locationmode\":\"USA-states\",\"lon\":[-97.038002,-111.97799682617188],\"mode\":\"lines\",\"name\":\"DFW \\u2192 SLC\",\"opacity\":0.2559604298626432,\"type\":\"scattergeo\"},{\"lat\":[40.78839874267578,32.896801],\"line\":{\"color\":\"red\",\"width\":1},\"locationmode\":\"USA-states\",\"lon\":[-111.97799682617188,-97.038002],\"mode\":\"lines\",\"name\":\"SLC \\u2192 DFW\",\"opacity\":0.25590705287879867,\"type\":\"scattergeo\"},{\"lat\":[32.896801,37.61899948120117],\"line\":{\"color\":\"red\",\"width\":1},\"locationmode\":\"USA-states\",\"lon\":[-97.038002,-122.375],\"mode\":\"lines\",\"name\":\"DFW \\u2192 SFO\",\"opacity\":0.25574692192726495,\"type\":\"scattergeo\"},{\"lat\":[37.61899948120117,32.896801],\"line\":{\"color\":\"red\",\"width\":1},\"locationmode\":\"USA-states\",\"lon\":[-122.375,-97.038002],\"mode\":\"lines\",\"name\":\"SFO \\u2192 DFW\",\"opacity\":0.25546224468009393,\"type\":\"scattergeo\"},{\"lat\":[33.67570114,36.08010101],\"line\":{\"color\":\"red\",\"width\":1},\"locationmode\":\"USA-states\",\"lon\":[-117.8679962,-115.1520004],\"mode\":\"lines\",\"name\":\"SNA \\u2192 LAS\",\"opacity\":0.25544445235214575,\"type\":\"scattergeo\"},{\"lat\":[39.861698150635,36.1245002746582],\"line\":{\"color\":\"red\",\"width\":1},\"locationmode\":\"USA-states\",\"lon\":[-104.672996521,-86.6781997680664],\"mode\":\"lines\",\"name\":\"DEN \\u2192 BNA\",\"opacity\":0.25544445235214575,\"type\":\"scattergeo\"},{\"lat\":[36.08010101,33.67570114],\"line\":{\"color\":\"red\",\"width\":1},\"locationmode\":\"USA-states\",\"lon\":[-115.1520004,-117.8679962],\"mode\":\"lines\",\"name\":\"LAS \\u2192 SNA\",\"opacity\":0.255088605793182,\"type\":\"scattergeo\"},{\"lat\":[40.78839874267578,37.61899948120117],\"line\":{\"color\":\"red\",\"width\":1},\"locationmode\":\"USA-states\",\"lon\":[-111.97799682617188,-122.375],\"mode\":\"lines\",\"name\":\"SLC \\u2192 SFO\",\"opacity\":0.2534517116219486,\"type\":\"scattergeo\"},{\"lat\":[32.896801,25.79319953918457],\"line\":{\"color\":\"red\",\"width\":1},\"locationmode\":\"USA-states\",\"lon\":[-97.038002,-80.29060363769531],\"mode\":\"lines\",\"name\":\"DFW \\u2192 MIA\",\"opacity\":0.2533983346381041,\"type\":\"scattergeo\"},{\"lat\":[44.882,33.43429946899414],\"line\":{\"color\":\"red\",\"width\":1},\"locationmode\":\"USA-states\",\"lon\":[-93.221802,-112.01200103759766],\"mode\":\"lines\",\"name\":\"MSP \\u2192 PHX\",\"opacity\":0.25322041135862217,\"type\":\"scattergeo\"},{\"lat\":[33.43429946899414,44.882],\"line\":{\"color\":\"red\",\"width\":1},\"locationmode\":\"USA-states\",\"lon\":[-112.01200103759766,-93.221802],\"mode\":\"lines\",\"name\":\"PHX \\u2192 MSP\",\"opacity\":0.2531670343747776,\"type\":\"scattergeo\"},{\"lat\":[25.79319953918457,32.896801],\"line\":{\"color\":\"red\",\"width\":1},\"locationmode\":\"USA-states\",\"lon\":[-80.29060363769531,-97.038002],\"mode\":\"lines\",\"name\":\"MIA \\u2192 DFW\",\"opacity\":0.2528467724717102,\"type\":\"scattergeo\"},{\"lat\":[37.362598,34.20069885253906],\"line\":{\"color\":\"red\",\"width\":1},\"locationmode\":\"USA-states\",\"lon\":[-121.929001,-118.35900115966795],\"mode\":\"lines\",\"name\":\"SJC \\u2192 BUR\",\"opacity\":0.25277560315991743,\"type\":\"scattergeo\"},{\"lat\":[34.20069885253906,37.362598],\"line\":{\"color\":\"red\",\"width\":1},\"locationmode\":\"USA-states\",\"lon\":[-118.35900115966795,-121.929001],\"mode\":\"lines\",\"name\":\"BUR \\u2192 SJC\",\"opacity\":0.2525087182406946,\"type\":\"scattergeo\"},{\"lat\":[28.429399490356445,29.984399795532227],\"line\":{\"color\":\"red\",\"width\":1},\"locationmode\":\"USA-states\",\"lon\":[-81.30899810791016,-95.34140014648438],\"mode\":\"lines\",\"name\":\"MCO \\u2192 IAH\",\"opacity\":0.25183260977866345,\"type\":\"scattergeo\"},{\"lat\":[36.08010101,39.49909973144531],\"line\":{\"color\":\"red\",\"width\":1},\"locationmode\":\"USA-states\",\"lon\":[-115.1520004,-119.76799774169922],\"mode\":\"lines\",\"name\":\"LAS \\u2192 RNO\",\"opacity\":0.2517614404668707,\"type\":\"scattergeo\"},{\"lat\":[29.984399795532227,28.429399490356445],\"line\":{\"color\":\"red\",\"width\":1},\"locationmode\":\"USA-states\",\"lon\":[-95.34140014648438,-81.30899810791016],\"mode\":\"lines\",\"name\":\"IAH \\u2192 MCO\",\"opacity\":0.25174364813892247,\"type\":\"scattergeo\"},{\"lat\":[33.6367,34.8956985474],\"line\":{\"color\":\"red\",\"width\":1},\"locationmode\":\"USA-states\",\"lon\":[-84.428101,-82.2189025879],\"mode\":\"lines\",\"name\":\"ATL \\u2192 GSP\",\"opacity\":0.25163689417123336,\"type\":\"scattergeo\"},{\"lat\":[34.8956985474,33.6367],\"line\":{\"color\":\"red\",\"width\":1},\"locationmode\":\"USA-states\",\"lon\":[-82.2189025879,-84.428101],\"mode\":\"lines\",\"name\":\"GSP \\u2192 ATL\",\"opacity\":0.2516191018432852,\"type\":\"scattergeo\"},{\"lat\":[38.69540023803711,39.861698150635],\"line\":{\"color\":\"red\",\"width\":1},\"locationmode\":\"USA-states\",\"lon\":[-121.59100341796876,-104.672996521],\"mode\":\"lines\",\"name\":\"SMF \\u2192 DEN\",\"opacity\":0.2511920859725286,\"type\":\"scattergeo\"},{\"lat\":[26.53619956970215,33.6367],\"line\":{\"color\":\"red\",\"width\":1},\"locationmode\":\"USA-states\",\"lon\":[-81.75520324707031,-84.428101],\"mode\":\"lines\",\"name\":\"RSW \\u2192 ATL\",\"opacity\":0.2508184470856167,\"type\":\"scattergeo\"},{\"lat\":[39.861698150635,38.69540023803711],\"line\":{\"color\":\"red\",\"width\":1},\"locationmode\":\"USA-states\",\"lon\":[-104.672996521,-121.59100341796876],\"mode\":\"lines\",\"name\":\"DEN \\u2192 SMF\",\"opacity\":0.2507650701017721,\"type\":\"scattergeo\"},{\"lat\":[33.6367,26.53619956970215],\"line\":{\"color\":\"red\",\"width\":1},\"locationmode\":\"USA-states\",\"lon\":[-84.428101,-81.75520324707031],\"mode\":\"lines\",\"name\":\"ATL \\u2192 RSW\",\"opacity\":0.2506227314781866,\"type\":\"scattergeo\"},{\"lat\":[39.49909973144531,36.08010101],\"line\":{\"color\":\"red\",\"width\":1},\"locationmode\":\"USA-states\",\"lon\":[-119.76799774169922,-115.1520004],\"mode\":\"lines\",\"name\":\"RNO \\u2192 LAS\",\"opacity\":0.2504626005266529,\"type\":\"scattergeo\"},{\"lat\":[41.9786,41.53400039672851],\"line\":{\"color\":\"red\",\"width\":1},\"locationmode\":\"USA-states\",\"lon\":[-87.9048,-93.66310119628906],\"mode\":\"lines\",\"name\":\"ORD \\u2192 DSM\",\"opacity\":0.2496619457689844,\"type\":\"scattergeo\"},{\"lat\":[38.748697,33.6367],\"line\":{\"color\":\"red\",\"width\":1},\"locationmode\":\"USA-states\",\"lon\":[-90.370003,-84.428101],\"mode\":\"lines\",\"name\":\"STL \\u2192 ATL\",\"opacity\":0.24925272222617606,\"type\":\"scattergeo\"},{\"lat\":[33.6367,38.748697],\"line\":{\"color\":\"red\",\"width\":1},\"locationmode\":\"USA-states\",\"lon\":[-84.428101,-90.370003],\"mode\":\"lines\",\"name\":\"ATL \\u2192 STL\",\"opacity\":0.24898583730695323,\"type\":\"scattergeo\"},{\"lat\":[41.9786,39.2976],\"line\":{\"color\":\"red\",\"width\":1},\"locationmode\":\"USA-states\",\"lon\":[-87.9048,-94.713898],\"mode\":\"lines\",\"name\":\"ORD \\u2192 MCI\",\"opacity\":0.24880791402747135,\"type\":\"scattergeo\"},{\"lat\":[39.2976,41.9786],\"line\":{\"color\":\"red\",\"width\":1},\"locationmode\":\"USA-states\",\"lon\":[-94.713898,-87.9048],\"mode\":\"lines\",\"name\":\"MCI \\u2192 ORD\",\"opacity\":0.24877232937157498,\"type\":\"scattergeo\"},{\"lat\":[29.984399795532227,36.08010101],\"line\":{\"color\":\"red\",\"width\":1},\"locationmode\":\"USA-states\",\"lon\":[-95.34140014648438,-115.1520004],\"mode\":\"lines\",\"name\":\"IAH \\u2192 LAS\",\"opacity\":0.2487545370436268,\"type\":\"scattergeo\"},{\"lat\":[36.08010101,29.984399795532227],\"line\":{\"color\":\"red\",\"width\":1},\"locationmode\":\"USA-states\",\"lon\":[-115.1520004,-95.34140014648438],\"mode\":\"lines\",\"name\":\"LAS \\u2192 IAH\",\"opacity\":0.24862999074798947,\"type\":\"scattergeo\"},{\"lat\":[35.877601623535156,40.77719879],\"line\":{\"color\":\"red\",\"width\":1},\"locationmode\":\"USA-states\",\"lon\":[-78.7874984741211,-73.87259674],\"mode\":\"lines\",\"name\":\"RDU \\u2192 LGA\",\"opacity\":0.24852323678030033,\"type\":\"scattergeo\"},{\"lat\":[40.77719879,35.877601623535156],\"line\":{\"color\":\"red\",\"width\":1},\"locationmode\":\"USA-states\",\"lon\":[-73.87259674,-78.7874984741211],\"mode\":\"lines\",\"name\":\"LGA \\u2192 RDU\",\"opacity\":0.24850544445235215,\"type\":\"scattergeo\"},{\"lat\":[33.6367,32.847099],\"line\":{\"color\":\"red\",\"width\":1},\"locationmode\":\"USA-states\",\"lon\":[-84.428101,-96.851799],\"mode\":\"lines\",\"name\":\"ATL \\u2192 DAL\",\"opacity\":0.24756245107109814,\"type\":\"scattergeo\"},{\"lat\":[45.58869934,36.08010101],\"line\":{\"color\":\"red\",\"width\":1},\"locationmode\":\"USA-states\",\"lon\":[-122.5979996,-115.1520004],\"mode\":\"lines\",\"name\":\"PDX \\u2192 LAS\",\"opacity\":0.24736673546366805,\"type\":\"scattergeo\"},{\"lat\":[41.785999,44.882],\"line\":{\"color\":\"red\",\"width\":1},\"locationmode\":\"USA-states\",\"lon\":[-87.752403,-93.221802],\"mode\":\"lines\",\"name\":\"MDW \\u2192 MSP\",\"opacity\":0.2471532275282898,\"type\":\"scattergeo\"},{\"lat\":[44.882,41.785999],\"line\":{\"color\":\"red\",\"width\":1},\"locationmode\":\"USA-states\",\"lon\":[-93.221802,-87.752403],\"mode\":\"lines\",\"name\":\"MSP \\u2192 MDW\",\"opacity\":0.2467084193295851,\"type\":\"scattergeo\"},{\"lat\":[41.53400039672851,41.9786],\"line\":{\"color\":\"red\",\"width\":1},\"locationmode\":\"USA-states\",\"lon\":[-93.66310119628906,-87.9048],\"mode\":\"lines\",\"name\":\"DSM \\u2192 ORD\",\"opacity\":0.2466550423457405,\"type\":\"scattergeo\"},{\"lat\":[32.847099,33.6367],\"line\":{\"color\":\"red\",\"width\":1},\"locationmode\":\"USA-states\",\"lon\":[-96.851799,-84.428101],\"mode\":\"lines\",\"name\":\"DAL \\u2192 ATL\",\"opacity\":0.24647711906625863,\"type\":\"scattergeo\"},{\"lat\":[42.212398529052734,32.896801],\"line\":{\"color\":\"red\",\"width\":1},\"locationmode\":\"USA-states\",\"lon\":[-83.35340118408203,-97.038002],\"mode\":\"lines\",\"name\":\"DTW \\u2192 DFW\",\"opacity\":0.24615685716319124,\"type\":\"scattergeo\"},{\"lat\":[33.43429946899414,38.69540023803711],\"line\":{\"color\":\"red\",\"width\":1},\"locationmode\":\"USA-states\",\"lon\":[-112.01200103759766,-121.59100341796876],\"mode\":\"lines\",\"name\":\"PHX \\u2192 SMF\",\"opacity\":0.24578321827627927,\"type\":\"scattergeo\"},{\"lat\":[32.896801,42.212398529052734],\"line\":{\"color\":\"red\",\"width\":1},\"locationmode\":\"USA-states\",\"lon\":[-97.038002,-83.35340118408203],\"mode\":\"lines\",\"name\":\"DFW \\u2192 DTW\",\"opacity\":0.24569425663653832,\"type\":\"scattergeo\"},{\"lat\":[32.7336006165,37.721298],\"line\":{\"color\":\"red\",\"width\":1},\"locationmode\":\"USA-states\",\"lon\":[-117.190002441,-122.221001],\"mode\":\"lines\",\"name\":\"SAN \\u2192 OAK\",\"opacity\":0.24544516404526368,\"type\":\"scattergeo\"},{\"lat\":[38.69540023803711,33.43429946899414],\"line\":{\"color\":\"red\",\"width\":1},\"locationmode\":\"USA-states\",\"lon\":[-121.59100341796876,-112.01200103759766],\"mode\":\"lines\",\"name\":\"SMF \\u2192 PHX\",\"opacity\":0.24500035584655896,\"type\":\"scattergeo\"},{\"lat\":[35.2140007019043,39.1754],\"line\":{\"color\":\"red\",\"width\":1},\"locationmode\":\"USA-states\",\"lon\":[-80.94309997558594,-76.668297],\"mode\":\"lines\",\"name\":\"CLT \\u2192 BWI\",\"opacity\":0.24498256351861078,\"type\":\"scattergeo\"},{\"lat\":[39.1754,35.2140007019043],\"line\":{\"color\":\"red\",\"width\":1},\"locationmode\":\"USA-states\",\"lon\":[-76.668297,-80.94309997558594],\"mode\":\"lines\",\"name\":\"BWI \\u2192 CLT\",\"opacity\":0.2441641164329941,\"type\":\"scattergeo\"},{\"lat\":[39.861698150635,38.805801],\"line\":{\"color\":\"red\",\"width\":1},\"locationmode\":\"USA-states\",\"lon\":[-104.672996521,-104.700996],\"mode\":\"lines\",\"name\":\"DEN \\u2192 COS\",\"opacity\":0.24379047754608213,\"type\":\"scattergeo\"},{\"lat\":[39.861698150635,38.94449997],\"line\":{\"color\":\"red\",\"width\":1},\"locationmode\":\"USA-states\",\"lon\":[-104.672996521,-77.45580292],\"mode\":\"lines\",\"name\":\"DEN \\u2192 IAD\",\"opacity\":0.24364813892249662,\"type\":\"scattergeo\"},{\"lat\":[37.721298,32.7336006165],\"line\":{\"color\":\"red\",\"width\":1},\"locationmode\":\"USA-states\",\"lon\":[-122.221001,-117.190002441],\"mode\":\"lines\",\"name\":\"OAK \\u2192 SAN\",\"opacity\":0.24359476193865207,\"type\":\"scattergeo\"},{\"lat\":[39.49909973144531,33.94250107],\"line\":{\"color\":\"red\",\"width\":1},\"locationmode\":\"USA-states\",\"lon\":[-119.76799774169922,-118.4079971],\"mode\":\"lines\",\"name\":\"RNO \\u2192 LAX\",\"opacity\":0.24354138495480748,\"type\":\"scattergeo\"},{\"lat\":[36.08010101,45.58869934],\"line\":{\"color\":\"red\",\"width\":1},\"locationmode\":\"USA-states\",\"lon\":[-115.1520004,-122.5979996],\"mode\":\"lines\",\"name\":\"LAS \\u2192 PDX\",\"opacity\":0.2432033307237919,\"type\":\"scattergeo\"},{\"lat\":[33.94250107,39.49909973144531],\"line\":{\"color\":\"red\",\"width\":1},\"locationmode\":\"USA-states\",\"lon\":[-118.4079971,-119.76799774169922],\"mode\":\"lines\",\"name\":\"LAX \\u2192 RNO\",\"opacity\":0.24313216141199914,\"type\":\"scattergeo\"},{\"lat\":[38.805801,39.861698150635],\"line\":{\"color\":\"red\",\"width\":1},\"locationmode\":\"USA-states\",\"lon\":[-104.700996,-104.672996521],\"mode\":\"lines\",\"name\":\"COS \\u2192 DEN\",\"opacity\":0.24311436908405096,\"type\":\"scattergeo\"},{\"lat\":[32.896801,35.2140007019043],\"line\":{\"color\":\"red\",\"width\":1},\"locationmode\":\"USA-states\",\"lon\":[-97.038002,-80.94309997558594],\"mode\":\"lines\",\"name\":\"DFW \\u2192 CLT\",\"opacity\":0.2430787844281546,\"type\":\"scattergeo\"},{\"lat\":[35.2140007019043,32.896801],\"line\":{\"color\":\"red\",\"width\":1},\"locationmode\":\"USA-states\",\"lon\":[-80.94309997558594,-97.038002],\"mode\":\"lines\",\"name\":\"CLT \\u2192 DFW\",\"opacity\":0.24297203046046545,\"type\":\"scattergeo\"},{\"lat\":[40.49150085,41.9786],\"line\":{\"color\":\"red\",\"width\":1},\"locationmode\":\"USA-states\",\"lon\":[-80.23290253,-87.9048],\"mode\":\"lines\",\"name\":\"PIT \\u2192 ORD\",\"opacity\":0.24167319052024766,\"type\":\"scattergeo\"},{\"lat\":[29.99340057373047,29.984399795532227],\"line\":{\"color\":\"red\",\"width\":1},\"locationmode\":\"USA-states\",\"lon\":[-90.25800323486328,-95.34140014648438],\"mode\":\"lines\",\"name\":\"MSY \\u2192 IAH\",\"opacity\":0.24160202120845492,\"type\":\"scattergeo\"},{\"lat\":[41.9786,40.49150085],\"line\":{\"color\":\"red\",\"width\":1},\"locationmode\":\"USA-states\",\"lon\":[-87.9048,-80.23290253],\"mode\":\"lines\",\"name\":\"ORD \\u2192 PIT\",\"opacity\":0.24158422888050674,\"type\":\"scattergeo\"},{\"lat\":[38.94449997,39.861698150635],\"line\":{\"color\":\"red\",\"width\":1},\"locationmode\":\"USA-states\",\"lon\":[-77.45580292,-104.672996521],\"mode\":\"lines\",\"name\":\"IAD \\u2192 DEN\",\"opacity\":0.24144189025692123,\"type\":\"scattergeo\"},{\"lat\":[29.984399795532227,29.99340057373047],\"line\":{\"color\":\"red\",\"width\":1},\"locationmode\":\"USA-states\",\"lon\":[-95.34140014648438,-90.25800323486328],\"mode\":\"lines\",\"name\":\"IAH \\u2192 MSY\",\"opacity\":0.24129955163333572,\"type\":\"scattergeo\"},{\"lat\":[34.20069885253906,33.43429946899414],\"line\":{\"color\":\"red\",\"width\":1},\"locationmode\":\"USA-states\",\"lon\":[-118.35900115966795,-112.01200103759766],\"mode\":\"lines\",\"name\":\"BUR \\u2192 PHX\",\"opacity\":0.2400362963490143,\"type\":\"scattergeo\"},{\"lat\":[42.36429977,26.072599],\"line\":{\"color\":\"red\",\"width\":1},\"locationmode\":\"USA-states\",\"lon\":[-71.00520325,-80.152702],\"mode\":\"lines\",\"name\":\"BOS \\u2192 FLL\",\"opacity\":0.23975161910184328,\"type\":\"scattergeo\"},{\"lat\":[26.072599,42.36429977],\"line\":{\"color\":\"red\",\"width\":1},\"locationmode\":\"USA-states\",\"lon\":[-80.152702,-71.00520325],\"mode\":\"lines\",\"name\":\"FLL \\u2192 BOS\",\"opacity\":0.2390933029677603,\"type\":\"scattergeo\"},{\"lat\":[33.43429946899414,34.20069885253906],\"line\":{\"color\":\"red\",\"width\":1},\"locationmode\":\"USA-states\",\"lon\":[-112.01200103759766,-118.35900115966795],\"mode\":\"lines\",\"name\":\"PHX \\u2192 BUR\",\"opacity\":0.23903992598391574,\"type\":\"scattergeo\"},{\"lat\":[33.43429946899414,34.055999755859375],\"line\":{\"color\":\"red\",\"width\":1},\"locationmode\":\"USA-states\",\"lon\":[-112.01200103759766,-117.60099792480467],\"mode\":\"lines\",\"name\":\"PHX \\u2192 ONT\",\"opacity\":0.23875524873674472,\"type\":\"scattergeo\"},{\"lat\":[35.2140007019043,42.212398529052734],\"line\":{\"color\":\"red\",\"width\":1},\"locationmode\":\"USA-states\",\"lon\":[-80.94309997558594,-83.35340118408203],\"mode\":\"lines\",\"name\":\"CLT \\u2192 DTW\",\"opacity\":0.23841719450572912,\"type\":\"scattergeo\"},{\"lat\":[42.212398529052734,36.08010101],\"line\":{\"color\":\"red\",\"width\":1},\"locationmode\":\"USA-states\",\"lon\":[-83.35340118408203,-115.1520004],\"mode\":\"lines\",\"name\":\"DTW \\u2192 LAS\",\"opacity\":0.23831044053803999,\"type\":\"scattergeo\"},{\"lat\":[42.212398529052734,35.2140007019043],\"line\":{\"color\":\"red\",\"width\":1},\"locationmode\":\"USA-states\",\"lon\":[-83.35340118408203,-80.94309997558594],\"mode\":\"lines\",\"name\":\"DTW \\u2192 CLT\",\"opacity\":0.23831044053803999,\"type\":\"scattergeo\"},{\"lat\":[36.08010101,42.212398529052734],\"line\":{\"color\":\"red\",\"width\":1},\"locationmode\":\"USA-states\",\"lon\":[-115.1520004,-83.35340118408203],\"mode\":\"lines\",\"name\":\"LAS \\u2192 DTW\",\"opacity\":0.23825706355419543,\"type\":\"scattergeo\"},{\"lat\":[29.533700942993164,32.896801],\"line\":{\"color\":\"red\",\"width\":1},\"locationmode\":\"USA-states\",\"lon\":[-98.46980285644533,-97.038002],\"mode\":\"lines\",\"name\":\"SAT \\u2192 DFW\",\"opacity\":0.2381503095865063,\"type\":\"scattergeo\"},{\"lat\":[32.896801,29.533700942993164],\"line\":{\"color\":\"red\",\"width\":1},\"locationmode\":\"USA-states\",\"lon\":[-97.038002,-98.46980285644533],\"mode\":\"lines\",\"name\":\"DFW \\u2192 SAT\",\"opacity\":0.23802576329086897,\"type\":\"scattergeo\"},{\"lat\":[38.8521,28.429399490356445],\"line\":{\"color\":\"red\",\"width\":1},\"locationmode\":\"USA-states\",\"lon\":[-77.037697,-81.30899810791016],\"mode\":\"lines\",\"name\":\"DCA \\u2192 MCO\",\"opacity\":0.23781225535549072,\"type\":\"scattergeo\"},{\"lat\":[37.721298,47.449001],\"line\":{\"color\":\"red\",\"width\":1},\"locationmode\":\"USA-states\",\"lon\":[-122.221001,-122.308998],\"mode\":\"lines\",\"name\":\"OAK \\u2192 SEA\",\"opacity\":0.23775887837164614,\"type\":\"scattergeo\"},{\"lat\":[28.429399490356445,38.8521],\"line\":{\"color\":\"red\",\"width\":1},\"locationmode\":\"USA-states\",\"lon\":[-81.30899810791016,-77.037697],\"mode\":\"lines\",\"name\":\"MCO \\u2192 DCA\",\"opacity\":0.23731407017294143,\"type\":\"scattergeo\"},{\"lat\":[26.68320083618164,40.692501068115234],\"line\":{\"color\":\"red\",\"width\":1},\"locationmode\":\"USA-states\",\"lon\":[-80.09559631347656,-74.168701171875],\"mode\":\"lines\",\"name\":\"PBI \\u2192 EWR\",\"opacity\":0.23729627784499324,\"type\":\"scattergeo\"},{\"lat\":[40.692501068115234,26.68320083618164],\"line\":{\"color\":\"red\",\"width\":1},\"locationmode\":\"USA-states\",\"lon\":[-74.168701171875,-80.09559631347656],\"mode\":\"lines\",\"name\":\"EWR \\u2192 PBI\",\"opacity\":0.23727848551704506,\"type\":\"scattergeo\"},{\"lat\":[47.449001,37.721298],\"line\":{\"color\":\"red\",\"width\":1},\"locationmode\":\"USA-states\",\"lon\":[-122.308998,-122.221001],\"mode\":\"lines\",\"name\":\"SEA \\u2192 OAK\",\"opacity\":0.23726069318909687,\"type\":\"scattergeo\"},{\"lat\":[34.055999755859375,33.43429946899414],\"line\":{\"color\":\"red\",\"width\":1},\"locationmode\":\"USA-states\",\"lon\":[-117.60099792480467,-112.01200103759766],\"mode\":\"lines\",\"name\":\"ONT \\u2192 PHX\",\"opacity\":0.23670913102270302,\"type\":\"scattergeo\"},{\"lat\":[33.6367,39.2976],\"line\":{\"color\":\"red\",\"width\":1},\"locationmode\":\"USA-states\",\"lon\":[-84.428101,-94.713898],\"mode\":\"lines\",\"name\":\"ATL \\u2192 MCI\",\"opacity\":0.2363888691196356,\"type\":\"scattergeo\"},{\"lat\":[18.4393997192,26.072599],\"line\":{\"color\":\"red\",\"width\":1},\"locationmode\":\"USA-states\",\"lon\":[-66.0018005371,-80.152702],\"mode\":\"lines\",\"name\":\"SJU \\u2192 FLL\",\"opacity\":0.23631769980784287,\"type\":\"scattergeo\"},{\"lat\":[26.072599,18.4393997192],\"line\":{\"color\":\"red\",\"width\":1},\"locationmode\":\"USA-states\",\"lon\":[-80.152702,-66.0018005371],\"mode\":\"lines\",\"name\":\"FLL \\u2192 SJU\",\"opacity\":0.2359262685929827,\"type\":\"scattergeo\"},{\"lat\":[46.26470184326172,47.449001],\"line\":{\"color\":\"red\",\"width\":1},\"locationmode\":\"USA-states\",\"lon\":[-119.11900329589844,-122.308998],\"mode\":\"lines\",\"name\":\"PSC \\u2192 SEA\",\"opacity\":0.2352857447868479,\"type\":\"scattergeo\"},{\"lat\":[47.449001,46.26470184326172],\"line\":{\"color\":\"red\",\"width\":1},\"locationmode\":\"USA-states\",\"lon\":[-122.308998,-119.11900329589844],\"mode\":\"lines\",\"name\":\"SEA \\u2192 PSC\",\"opacity\":0.23523236780300336,\"type\":\"scattergeo\"},{\"lat\":[39.2976,33.6367],\"line\":{\"color\":\"red\",\"width\":1},\"locationmode\":\"USA-states\",\"lon\":[-94.713898,-84.428101],\"mode\":\"lines\",\"name\":\"MCI \\u2192 ATL\",\"opacity\":0.2346630133086613,\"type\":\"scattergeo\"},{\"lat\":[29.984399795532227,42.212398529052734],\"line\":{\"color\":\"red\",\"width\":1},\"locationmode\":\"USA-states\",\"lon\":[-95.34140014648438,-83.35340118408203],\"mode\":\"lines\",\"name\":\"IAH \\u2192 DTW\",\"opacity\":0.2329549498256352,\"type\":\"scattergeo\"},{\"lat\":[42.212398529052734,29.984399795532227],\"line\":{\"color\":\"red\",\"width\":1},\"locationmode\":\"USA-states\",\"lon\":[-83.35340118408203,-95.34140014648438],\"mode\":\"lines\",\"name\":\"DTW \\u2192 IAH\",\"opacity\":0.23284819585794606,\"type\":\"scattergeo\"},{\"lat\":[41.9786,26.072599],\"line\":{\"color\":\"red\",\"width\":1},\"locationmode\":\"USA-states\",\"lon\":[-87.9048,-80.152702],\"mode\":\"lines\",\"name\":\"ORD \\u2192 FLL\",\"opacity\":0.23224325670770762,\"type\":\"scattergeo\"},{\"lat\":[26.072599,41.9786],\"line\":{\"color\":\"red\",\"width\":1},\"locationmode\":\"USA-states\",\"lon\":[-80.152702,-87.9048],\"mode\":\"lines\",\"name\":\"FLL \\u2192 ORD\",\"opacity\":0.23218987972386307,\"type\":\"scattergeo\"},{\"lat\":[41.9786,39.902400970458984],\"line\":{\"color\":\"red\",\"width\":1},\"locationmode\":\"USA-states\",\"lon\":[-87.9048,-84.21939849853516],\"mode\":\"lines\",\"name\":\"ORD \\u2192 DAY\",\"opacity\":0.23188741014874387,\"type\":\"scattergeo\"},{\"lat\":[39.902400970458984,41.9786],\"line\":{\"color\":\"red\",\"width\":1},\"locationmode\":\"USA-states\",\"lon\":[-84.21939849853516,-87.9048],\"mode\":\"lines\",\"name\":\"DAY \\u2192 ORD\",\"opacity\":0.23176286385310654,\"type\":\"scattergeo\"},{\"lat\":[33.43429946899414,33.6367],\"line\":{\"color\":\"red\",\"width\":1},\"locationmode\":\"USA-states\",\"lon\":[-112.01200103759766,-84.428101],\"mode\":\"lines\",\"name\":\"PHX \\u2192 ATL\",\"opacity\":0.23160273290157285,\"type\":\"scattergeo\"},{\"lat\":[42.36429977,35.877601623535156],\"line\":{\"color\":\"red\",\"width\":1},\"locationmode\":\"USA-states\",\"lon\":[-71.00520325,-78.7874984741211],\"mode\":\"lines\",\"name\":\"BOS \\u2192 RDU\",\"opacity\":0.23110454771902356,\"type\":\"scattergeo\"},{\"lat\":[35.877601623535156,42.36429977],\"line\":{\"color\":\"red\",\"width\":1},\"locationmode\":\"USA-states\",\"lon\":[-78.7874984741211,-71.00520325],\"mode\":\"lines\",\"name\":\"RDU \\u2192 BOS\",\"opacity\":0.2310333784072308,\"type\":\"scattergeo\"},{\"lat\":[41.9786,40.78839874267578],\"line\":{\"color\":\"red\",\"width\":1},\"locationmode\":\"USA-states\",\"lon\":[-87.9048,-111.97799682617188],\"mode\":\"lines\",\"name\":\"ORD \\u2192 SLC\",\"opacity\":0.23028610063340688,\"type\":\"scattergeo\"},{\"lat\":[41.4117012024,33.6367],\"line\":{\"color\":\"red\",\"width\":1},\"locationmode\":\"USA-states\",\"lon\":[-81.8498001099,-84.428101],\"mode\":\"lines\",\"name\":\"CLE \\u2192 ATL\",\"opacity\":0.23023272364956232,\"type\":\"scattergeo\"},{\"lat\":[37.61899948120117,29.984399795532227],\"line\":{\"color\":\"red\",\"width\":1},\"locationmode\":\"USA-states\",\"lon\":[-122.375,-95.34140014648438],\"mode\":\"lines\",\"name\":\"SFO \\u2192 IAH\",\"opacity\":0.23014376200982137,\"type\":\"scattergeo\"},{\"lat\":[40.78839874267578,41.9786],\"line\":{\"color\":\"red\",\"width\":1},\"locationmode\":\"USA-states\",\"lon\":[-111.97799682617188,-87.9048],\"mode\":\"lines\",\"name\":\"SLC \\u2192 ORD\",\"opacity\":0.23012596968187318,\"type\":\"scattergeo\"},{\"lat\":[35.04240036010742,33.6367],\"line\":{\"color\":\"red\",\"width\":1},\"locationmode\":\"USA-states\",\"lon\":[-89.97669982910156,-84.428101],\"mode\":\"lines\",\"name\":\"MEM \\u2192 ATL\",\"opacity\":0.23000142338623586,\"type\":\"scattergeo\"},{\"lat\":[33.6367,41.4117012024],\"line\":{\"color\":\"red\",\"width\":1},\"locationmode\":\"USA-states\",\"lon\":[-84.428101,-81.8498001099],\"mode\":\"lines\",\"name\":\"ATL \\u2192 CLE\",\"opacity\":0.2299658387303395,\"type\":\"scattergeo\"},{\"lat\":[33.6367,33.43429946899414],\"line\":{\"color\":\"red\",\"width\":1},\"locationmode\":\"USA-states\",\"lon\":[-84.428101,-112.01200103759766],\"mode\":\"lines\",\"name\":\"ATL \\u2192 PHX\",\"opacity\":0.22989466941854672,\"type\":\"scattergeo\"},{\"lat\":[33.6367,39.998001],\"line\":{\"color\":\"red\",\"width\":1},\"locationmode\":\"USA-states\",\"lon\":[-84.428101,-82.891899],\"mode\":\"lines\",\"name\":\"ATL \\u2192 CMH\",\"opacity\":0.22978791545085758,\"type\":\"scattergeo\"},{\"lat\":[33.6367,35.04240036010742],\"line\":{\"color\":\"red\",\"width\":1},\"locationmode\":\"USA-states\",\"lon\":[-84.428101,-89.97669982910156],\"mode\":\"lines\",\"name\":\"ATL \\u2192 MEM\",\"opacity\":0.22978791545085758,\"type\":\"scattergeo\"},{\"lat\":[40.77719879,38.748697],\"line\":{\"color\":\"red\",\"width\":1},\"locationmode\":\"USA-states\",\"lon\":[-73.87259674,-90.370003],\"mode\":\"lines\",\"name\":\"LGA \\u2192 STL\",\"opacity\":0.22950323820368657,\"type\":\"scattergeo\"},{\"lat\":[38.748697,40.77719879],\"line\":{\"color\":\"red\",\"width\":1},\"locationmode\":\"USA-states\",\"lon\":[-90.370003,-73.87259674],\"mode\":\"lines\",\"name\":\"STL \\u2192 LGA\",\"opacity\":0.22936089958010106,\"type\":\"scattergeo\"},{\"lat\":[39.998001,33.6367],\"line\":{\"color\":\"red\",\"width\":1},\"locationmode\":\"USA-states\",\"lon\":[-82.891899,-84.428101],\"mode\":\"lines\",\"name\":\"CMH \\u2192 ATL\",\"opacity\":0.22934310725215287,\"type\":\"scattergeo\"},{\"lat\":[33.43429946899414,37.362598],\"line\":{\"color\":\"red\",\"width\":1},\"locationmode\":\"USA-states\",\"lon\":[-112.01200103759766,-121.929001],\"mode\":\"lines\",\"name\":\"PHX \\u2192 SJC\",\"opacity\":0.2289872606931891,\"type\":\"scattergeo\"},{\"lat\":[41.785999,39.861698150635],\"line\":{\"color\":\"red\",\"width\":1},\"locationmode\":\"USA-states\",\"lon\":[-87.752403,-104.672996521],\"mode\":\"lines\",\"name\":\"MDW \\u2192 DEN\",\"opacity\":0.22872037577396626,\"type\":\"scattergeo\"},{\"lat\":[29.984399795532227,37.61899948120117],\"line\":{\"color\":\"red\",\"width\":1},\"locationmode\":\"USA-states\",\"lon\":[-95.34140014648438,-122.375],\"mode\":\"lines\",\"name\":\"IAH \\u2192 SFO\",\"opacity\":0.228506867838588,\"type\":\"scattergeo\"},{\"lat\":[39.861698150635,41.785999],\"line\":{\"color\":\"red\",\"width\":1},\"locationmode\":\"USA-states\",\"lon\":[-104.672996521,-87.752403],\"mode\":\"lines\",\"name\":\"DEN \\u2192 MDW\",\"opacity\":0.22783075937655684,\"type\":\"scattergeo\"},{\"lat\":[37.362598,33.43429946899414],\"line\":{\"color\":\"red\",\"width\":1},\"locationmode\":\"USA-states\",\"lon\":[-121.929001,-112.01200103759766],\"mode\":\"lines\",\"name\":\"SJC \\u2192 PHX\",\"opacity\":0.22733257419400754,\"type\":\"scattergeo\"},{\"lat\":[33.6367,32.89860153],\"line\":{\"color\":\"red\",\"width\":1},\"locationmode\":\"USA-states\",\"lon\":[-84.428101,-80.04049683],\"mode\":\"lines\",\"name\":\"ATL \\u2192 CHS\",\"opacity\":0.22715465091452566,\"type\":\"scattergeo\"},{\"lat\":[32.89860153,33.6367],\"line\":{\"color\":\"red\",\"width\":1},\"locationmode\":\"USA-states\",\"lon\":[-80.04049683,-84.428101],\"mode\":\"lines\",\"name\":\"CHS \\u2192 ATL\",\"opacity\":0.22711906625862927,\"type\":\"scattergeo\"},{\"lat\":[40.692501068115234,35.877601623535156],\"line\":{\"color\":\"red\",\"width\":1},\"locationmode\":\"USA-states\",\"lon\":[-74.168701171875,-78.7874984741211],\"mode\":\"lines\",\"name\":\"EWR \\u2192 RDU\",\"opacity\":0.2270656892747847,\"type\":\"scattergeo\"},{\"lat\":[35.877601623535156,40.692501068115234],\"line\":{\"color\":\"red\",\"width\":1},\"locationmode\":\"USA-states\",\"lon\":[-78.7874984741211,-74.168701171875],\"mode\":\"lines\",\"name\":\"RDU \\u2192 EWR\",\"opacity\":0.22699451996299197,\"type\":\"scattergeo\"},{\"lat\":[39.861698150635,41.3032],\"line\":{\"color\":\"red\",\"width\":1},\"locationmode\":\"USA-states\",\"lon\":[-104.672996521,-95.894096],\"mode\":\"lines\",\"name\":\"DEN \\u2192 OMA\",\"opacity\":0.22674542737171732,\"type\":\"scattergeo\"},{\"lat\":[35.2140007019043,38.94449997],\"line\":{\"color\":\"red\",\"width\":1},\"locationmode\":\"USA-states\",\"lon\":[-80.94309997558594,-77.45580292],\"mode\":\"lines\",\"name\":\"CLT \\u2192 IAD\",\"opacity\":0.22667425805992455,\"type\":\"scattergeo\"},{\"lat\":[32.7336006165,33.94250107],\"line\":{\"color\":\"red\",\"width\":1},\"locationmode\":\"USA-states\",\"lon\":[-117.190002441,-118.4079971],\"mode\":\"lines\",\"name\":\"SAN \\u2192 LAX\",\"opacity\":0.22656750409223542,\"type\":\"scattergeo\"},{\"lat\":[33.94250107,32.7336006165],\"line\":{\"color\":\"red\",\"width\":1},\"locationmode\":\"USA-states\",\"lon\":[-118.4079971,-117.190002441],\"mode\":\"lines\",\"name\":\"LAX \\u2192 SAN\",\"opacity\":0.22653191943633905,\"type\":\"scattergeo\"},{\"lat\":[20.8986,33.94250107],\"line\":{\"color\":\"red\",\"width\":1},\"locationmode\":\"USA-states\",\"lon\":[-156.429993,-118.4079971],\"mode\":\"lines\",\"name\":\"OGG \\u2192 LAX\",\"opacity\":0.2264607501245463,\"type\":\"scattergeo\"},{\"lat\":[33.94250107,20.8986],\"line\":{\"color\":\"red\",\"width\":1},\"locationmode\":\"USA-states\",\"lon\":[-118.4079971,-156.429993],\"mode\":\"lines\",\"name\":\"LAX \\u2192 OGG\",\"opacity\":0.22633620382890898,\"type\":\"scattergeo\"},{\"lat\":[27.975500106811523,41.9786],\"line\":{\"color\":\"red\",\"width\":1},\"locationmode\":\"USA-states\",\"lon\":[-82.533203125,-87.9048],\"mode\":\"lines\",\"name\":\"TPA \\u2192 ORD\",\"opacity\":0.22621165753327166,\"type\":\"scattergeo\"},{\"lat\":[41.9786,27.975500106811523],\"line\":{\"color\":\"red\",\"width\":1},\"locationmode\":\"USA-states\",\"lon\":[-87.9048,-82.533203125],\"mode\":\"lines\",\"name\":\"ORD \\u2192 TPA\",\"opacity\":0.22615828054942708,\"type\":\"scattergeo\"},{\"lat\":[41.4117012024,40.77719879],\"line\":{\"color\":\"red\",\"width\":1},\"locationmode\":\"USA-states\",\"lon\":[-81.8498001099,-73.87259674],\"mode\":\"lines\",\"name\":\"CLE \\u2192 LGA\",\"opacity\":0.225962564941997,\"type\":\"scattergeo\"},{\"lat\":[40.77719879,41.4117012024],\"line\":{\"color\":\"red\",\"width\":1},\"locationmode\":\"USA-states\",\"lon\":[-73.87259674,-81.8498001099],\"mode\":\"lines\",\"name\":\"LGA \\u2192 CLE\",\"opacity\":0.22592698028610064,\"type\":\"scattergeo\"},{\"lat\":[41.3032,39.861698150635],\"line\":{\"color\":\"red\",\"width\":1},\"locationmode\":\"USA-states\",\"lon\":[-95.894096,-104.672996521],\"mode\":\"lines\",\"name\":\"OMA \\u2192 DEN\",\"opacity\":0.22580243399046332,\"type\":\"scattergeo\"},{\"lat\":[39.1754,27.975500106811523],\"line\":{\"color\":\"red\",\"width\":1},\"locationmode\":\"USA-states\",\"lon\":[-76.668297,-82.533203125],\"mode\":\"lines\",\"name\":\"BWI \\u2192 TPA\",\"opacity\":0.22571347235072237,\"type\":\"scattergeo\"},{\"lat\":[39.861698150635,40.692501068115234],\"line\":{\"color\":\"red\",\"width\":1},\"locationmode\":\"USA-states\",\"lon\":[-104.672996521,-74.168701171875],\"mode\":\"lines\",\"name\":\"DEN \\u2192 EWR\",\"opacity\":0.2246815173297274,\"type\":\"scattergeo\"},{\"lat\":[40.692501068115234,27.975500106811523],\"line\":{\"color\":\"red\",\"width\":1},\"locationmode\":\"USA-states\",\"lon\":[-74.168701171875,-82.533203125],\"mode\":\"lines\",\"name\":\"EWR \\u2192 TPA\",\"opacity\":0.22405878585154082,\"type\":\"scattergeo\"},{\"lat\":[27.975500106811523,40.692501068115234],\"line\":{\"color\":\"red\",\"width\":1},\"locationmode\":\"USA-states\",\"lon\":[-82.533203125,-74.168701171875],\"mode\":\"lines\",\"name\":\"TPA \\u2192 EWR\",\"opacity\":0.22404099352359264,\"type\":\"scattergeo\"},{\"lat\":[39.861698150635,42.36429977],\"line\":{\"color\":\"red\",\"width\":1},\"locationmode\":\"USA-states\",\"lon\":[-104.672996521,-71.00520325],\"mode\":\"lines\",\"name\":\"DEN \\u2192 BOS\",\"opacity\":0.2234360543733542,\"type\":\"scattergeo\"},{\"lat\":[35.2140007019043,39.87189865112305],\"line\":{\"color\":\"red\",\"width\":1},\"locationmode\":\"USA-states\",\"lon\":[-80.94309997558594,-75.24109649658203],\"mode\":\"lines\",\"name\":\"CLT \\u2192 PHL\",\"opacity\":0.2232759234218205,\"type\":\"scattergeo\"},{\"lat\":[42.36429977,39.861698150635],\"line\":{\"color\":\"red\",\"width\":1},\"locationmode\":\"USA-states\",\"lon\":[-71.00520325,-104.672996521],\"mode\":\"lines\",\"name\":\"BOS \\u2192 DEN\",\"opacity\":0.2229912461746495,\"type\":\"scattergeo\"},{\"lat\":[39.87189865112305,35.2140007019043],\"line\":{\"color\":\"red\",\"width\":1},\"locationmode\":\"USA-states\",\"lon\":[-75.24109649658203,-80.94309997558594],\"mode\":\"lines\",\"name\":\"PHL \\u2192 CLT\",\"opacity\":0.2229734538467013,\"type\":\"scattergeo\"},{\"lat\":[27.975500106811523,39.1754],\"line\":{\"color\":\"red\",\"width\":1},\"locationmode\":\"USA-states\",\"lon\":[-82.533203125,-76.668297],\"mode\":\"lines\",\"name\":\"TPA \\u2192 BWI\",\"opacity\":0.22295566151875312,\"type\":\"scattergeo\"},{\"lat\":[42.212398529052734,39.861698150635],\"line\":{\"color\":\"red\",\"width\":1},\"locationmode\":\"USA-states\",\"lon\":[-83.35340118408203,-104.672996521],\"mode\":\"lines\",\"name\":\"DTW \\u2192 DEN\",\"opacity\":0.2226353996156857,\"type\":\"scattergeo\"},{\"lat\":[35.040199,33.43429946899414],\"line\":{\"color\":\"red\",\"width\":1},\"locationmode\":\"USA-states\",\"lon\":[-106.609001,-112.01200103759766],\"mode\":\"lines\",\"name\":\"ABQ \\u2192 PHX\",\"opacity\":0.2226353996156857,\"type\":\"scattergeo\"},{\"lat\":[32.847099,30.194499969482425],\"line\":{\"color\":\"red\",\"width\":1},\"locationmode\":\"USA-states\",\"lon\":[-96.851799,-97.6698989868164],\"mode\":\"lines\",\"name\":\"DAL \\u2192 AUS\",\"opacity\":0.22261760728773752,\"type\":\"scattergeo\"},{\"lat\":[39.861698150635,42.212398529052734],\"line\":{\"color\":\"red\",\"width\":1},\"locationmode\":\"USA-states\",\"lon\":[-104.672996521,-83.35340118408203],\"mode\":\"lines\",\"name\":\"DEN \\u2192 DTW\",\"opacity\":0.22240409935235927,\"type\":\"scattergeo\"},{\"lat\":[41.785999,36.08010101],\"line\":{\"color\":\"red\",\"width\":1},\"locationmode\":\"USA-states\",\"lon\":[-87.752403,-115.1520004],\"mode\":\"lines\",\"name\":\"MDW \\u2192 LAS\",\"opacity\":0.2217279908903281,\"type\":\"scattergeo\"},{\"lat\":[30.194499969482425,32.847099],\"line\":{\"color\":\"red\",\"width\":1},\"locationmode\":\"USA-states\",\"lon\":[-97.6698989868164,-96.851799],\"mode\":\"lines\",\"name\":\"AUS \\u2192 DAL\",\"opacity\":0.22156785993879438,\"type\":\"scattergeo\"},{\"lat\":[36.08010101,41.785999],\"line\":{\"color\":\"red\",\"width\":1},\"locationmode\":\"USA-states\",\"lon\":[-115.1520004,-87.752403],\"mode\":\"lines\",\"name\":\"LAS \\u2192 MDW\",\"opacity\":0.22156785993879438,\"type\":\"scattergeo\"},{\"lat\":[40.78839874267578,33.6367],\"line\":{\"color\":\"red\",\"width\":1},\"locationmode\":\"USA-states\",\"lon\":[-111.97799682617188,-84.428101],\"mode\":\"lines\",\"name\":\"SLC \\u2192 ATL\",\"opacity\":0.22151448295494983,\"type\":\"scattergeo\"},{\"lat\":[33.6367,40.78839874267578],\"line\":{\"color\":\"red\",\"width\":1},\"locationmode\":\"USA-states\",\"lon\":[-84.428101,-111.97799682617188],\"mode\":\"lines\",\"name\":\"ATL \\u2192 SLC\",\"opacity\":0.22147889829905346,\"type\":\"scattergeo\"},{\"lat\":[33.43429946899414,35.040199],\"line\":{\"color\":\"red\",\"width\":1},\"locationmode\":\"USA-states\",\"lon\":[-112.01200103759766,-106.609001],\"mode\":\"lines\",\"name\":\"PHX \\u2192 ABQ\",\"opacity\":0.2213899366593125,\"type\":\"scattergeo\"},{\"lat\":[38.94449997,35.2140007019043],\"line\":{\"color\":\"red\",\"width\":1},\"locationmode\":\"USA-states\",\"lon\":[-77.45580292,-80.94309997558594],\"mode\":\"lines\",\"name\":\"IAD \\u2192 CLT\",\"opacity\":0.22131876734751976,\"type\":\"scattergeo\"},{\"lat\":[40.63980103,35.2140007019043],\"line\":{\"color\":\"red\",\"width\":1},\"locationmode\":\"USA-states\",\"lon\":[-73.77890015,-80.94309997558594],\"mode\":\"lines\",\"name\":\"JFK \\u2192 CLT\",\"opacity\":0.2208917514767632,\"type\":\"scattergeo\"},{\"lat\":[35.2140007019043,40.63980103],\"line\":{\"color\":\"red\",\"width\":1},\"locationmode\":\"USA-states\",\"lon\":[-80.94309997558594,-73.77890015],\"mode\":\"lines\",\"name\":\"CLT \\u2192 JFK\",\"opacity\":0.2207672051811259,\"type\":\"scattergeo\"},{\"lat\":[40.77719879,40.49150085],\"line\":{\"color\":\"red\",\"width\":1},\"locationmode\":\"USA-states\",\"lon\":[-73.87259674,-80.23290253],\"mode\":\"lines\",\"name\":\"LGA \\u2192 PIT\",\"opacity\":0.2207494128531777,\"type\":\"scattergeo\"},{\"lat\":[40.49150085,40.77719879],\"line\":{\"color\":\"red\",\"width\":1},\"locationmode\":\"USA-states\",\"lon\":[-80.23290253,-73.87259674],\"mode\":\"lines\",\"name\":\"PIT \\u2192 LGA\",\"opacity\":0.22067824354138496,\"type\":\"scattergeo\"},{\"lat\":[29.533700942993164,32.847099],\"line\":{\"color\":\"red\",\"width\":1},\"locationmode\":\"USA-states\",\"lon\":[-98.46980285644533,-96.851799],\"mode\":\"lines\",\"name\":\"SAT \\u2192 DAL\",\"opacity\":0.22039356629421394,\"type\":\"scattergeo\"},{\"lat\":[32.847099,29.533700942993164],\"line\":{\"color\":\"red\",\"width\":1},\"locationmode\":\"USA-states\",\"lon\":[-96.851799,-98.46980285644533],\"mode\":\"lines\",\"name\":\"DAL \\u2192 SAT\",\"opacity\":0.22019785068678385,\"type\":\"scattergeo\"},{\"lat\":[40.63980103,33.6367],\"line\":{\"color\":\"red\",\"width\":1},\"locationmode\":\"USA-states\",\"lon\":[-73.77890015,-84.428101],\"mode\":\"lines\",\"name\":\"JFK \\u2192 ATL\",\"opacity\":0.21907693402604797,\"type\":\"scattergeo\"},{\"lat\":[33.6367,40.63980103],\"line\":{\"color\":\"red\",\"width\":1},\"locationmode\":\"USA-states\",\"lon\":[-84.428101,-73.77890015],\"mode\":\"lines\",\"name\":\"ATL \\u2192 JFK\",\"opacity\":0.21891680307451428,\"type\":\"scattergeo\"},{\"lat\":[41.9786,38.1744],\"line\":{\"color\":\"red\",\"width\":1},\"locationmode\":\"USA-states\",\"lon\":[-87.9048,-85.736],\"mode\":\"lines\",\"name\":\"ORD \\u2192 SDF\",\"opacity\":0.2188990107465661,\"type\":\"scattergeo\"},{\"lat\":[39.1754,41.9786],\"line\":{\"color\":\"red\",\"width\":1},\"locationmode\":\"USA-states\",\"lon\":[-76.668297,-87.9048],\"mode\":\"lines\",\"name\":\"BWI \\u2192 ORD\",\"opacity\":0.21888121841861788,\"type\":\"scattergeo\"},{\"lat\":[38.1744,41.9786],\"line\":{\"color\":\"red\",\"width\":1},\"locationmode\":\"USA-states\",\"lon\":[-85.736,-87.9048],\"mode\":\"lines\",\"name\":\"SDF \\u2192 ORD\",\"opacity\":0.21863212582734326,\"type\":\"scattergeo\"},{\"lat\":[41.9786,39.1754],\"line\":{\"color\":\"red\",\"width\":1},\"locationmode\":\"USA-states\",\"lon\":[-87.9048,-76.668297],\"mode\":\"lines\",\"name\":\"ORD \\u2192 BWI\",\"opacity\":0.21852537185965412,\"type\":\"scattergeo\"},{\"lat\":[32.896801,39.87189865112305],\"line\":{\"color\":\"red\",\"width\":1},\"locationmode\":\"USA-states\",\"lon\":[-97.038002,-75.24109649658203],\"mode\":\"lines\",\"name\":\"DFW \\u2192 PHL\",\"opacity\":0.21847199487580954,\"type\":\"scattergeo\"},{\"lat\":[18.4393997192,40.63980103],\"line\":{\"color\":\"red\",\"width\":1},\"locationmode\":\"USA-states\",\"lon\":[-66.0018005371,-73.77890015],\"mode\":\"lines\",\"name\":\"SJU \\u2192 JFK\",\"opacity\":0.21831186392427585,\"type\":\"scattergeo\"},{\"lat\":[39.861698150635,35.39310073852539],\"line\":{\"color\":\"red\",\"width\":1},\"locationmode\":\"USA-states\",\"lon\":[-104.672996521,-97.60070037841795],\"mode\":\"lines\",\"name\":\"DEN \\u2192 OKC\",\"opacity\":0.2182051099565867,\"type\":\"scattergeo\"},{\"lat\":[41.9786,41.3032],\"line\":{\"color\":\"red\",\"width\":1},\"locationmode\":\"USA-states\",\"lon\":[-87.9048,-95.894096],\"mode\":\"lines\",\"name\":\"ORD \\u2192 OMA\",\"opacity\":0.21816952530069034,\"type\":\"scattergeo\"},{\"lat\":[41.3032,41.9786],\"line\":{\"color\":\"red\",\"width\":1},\"locationmode\":\"USA-states\",\"lon\":[-95.894096,-87.9048],\"mode\":\"lines\",\"name\":\"OMA \\u2192 ORD\",\"opacity\":0.2180627713330012,\"type\":\"scattergeo\"},{\"lat\":[40.692501068115234,39.861698150635],\"line\":{\"color\":\"red\",\"width\":1},\"locationmode\":\"USA-states\",\"lon\":[-74.168701171875,-104.672996521],\"mode\":\"lines\",\"name\":\"EWR \\u2192 DEN\",\"opacity\":0.21802718667710483,\"type\":\"scattergeo\"},{\"lat\":[39.87189865112305,32.896801],\"line\":{\"color\":\"red\",\"width\":1},\"locationmode\":\"USA-states\",\"lon\":[-75.24109649658203,-97.038002],\"mode\":\"lines\",\"name\":\"PHL \\u2192 DFW\",\"opacity\":0.21797380969326027,\"type\":\"scattergeo\"},{\"lat\":[35.39310073852539,39.861698150635],\"line\":{\"color\":\"red\",\"width\":1},\"locationmode\":\"USA-states\",\"lon\":[-97.60070037841795,-104.672996521],\"mode\":\"lines\",\"name\":\"OKC \\u2192 DEN\",\"opacity\":0.21781367874172658,\"type\":\"scattergeo\"},{\"lat\":[37.362598,39.861698150635],\"line\":{\"color\":\"red\",\"width\":1},\"locationmode\":\"USA-states\",\"lon\":[-121.929001,-104.672996521],\"mode\":\"lines\",\"name\":\"SJC \\u2192 DEN\",\"opacity\":0.217760301757882,\"type\":\"scattergeo\"},{\"lat\":[28.429399490356445,41.785999],\"line\":{\"color\":\"red\",\"width\":1},\"locationmode\":\"USA-states\",\"lon\":[-81.30899810791016,-87.752403],\"mode\":\"lines\",\"name\":\"MCO \\u2192 MDW\",\"opacity\":0.21738666287097003,\"type\":\"scattergeo\"},{\"lat\":[40.63980103,18.4393997192],\"line\":{\"color\":\"red\",\"width\":1},\"locationmode\":\"USA-states\",\"lon\":[-73.77890015,-66.0018005371],\"mode\":\"lines\",\"name\":\"JFK \\u2192 SJU\",\"opacity\":0.2169952316561099,\"type\":\"scattergeo\"},{\"lat\":[39.861698150635,37.362598],\"line\":{\"color\":\"red\",\"width\":1},\"locationmode\":\"USA-states\",\"lon\":[-104.672996521,-121.929001],\"mode\":\"lines\",\"name\":\"DEN \\u2192 SJC\",\"opacity\":0.21674613906483525,\"type\":\"scattergeo\"},{\"lat\":[41.785999,28.429399490356445],\"line\":{\"color\":\"red\",\"width\":1},\"locationmode\":\"USA-states\",\"lon\":[-87.752403,-81.30899810791016],\"mode\":\"lines\",\"name\":\"MDW \\u2192 MCO\",\"opacity\":0.21667496975304248,\"type\":\"scattergeo\"},{\"lat\":[45.58869934,37.362598],\"line\":{\"color\":\"red\",\"width\":1},\"locationmode\":\"USA-states\",\"lon\":[-122.5979996,-121.929001],\"mode\":\"lines\",\"name\":\"PDX \\u2192 SJC\",\"opacity\":0.21644366948971602,\"type\":\"scattergeo\"},{\"lat\":[37.362598,45.58869934],\"line\":{\"color\":\"red\",\"width\":1},\"locationmode\":\"USA-states\",\"lon\":[-121.929001,-122.5979996],\"mode\":\"lines\",\"name\":\"SJC \\u2192 PDX\",\"opacity\":0.2163547078499751,\"type\":\"scattergeo\"},{\"lat\":[33.6367,47.449001],\"line\":{\"color\":\"red\",\"width\":1},\"locationmode\":\"USA-states\",\"lon\":[-84.428101,-122.308998],\"mode\":\"lines\",\"name\":\"ATL \\u2192 SEA\",\"opacity\":0.21603444594690768,\"type\":\"scattergeo\"},{\"lat\":[47.449001,33.6367],\"line\":{\"color\":\"red\",\"width\":1},\"locationmode\":\"USA-states\",\"lon\":[-122.308998,-84.428101],\"mode\":\"lines\",\"name\":\"SEA \\u2192 ATL\",\"opacity\":0.21592769197921857,\"type\":\"scattergeo\"},{\"lat\":[25.79319953918457,29.984399795532227],\"line\":{\"color\":\"red\",\"width\":1},\"locationmode\":\"USA-states\",\"lon\":[-80.29060363769531,-95.34140014648438],\"mode\":\"lines\",\"name\":\"MIA \\u2192 IAH\",\"opacity\":0.21566080705999574,\"type\":\"scattergeo\"},{\"lat\":[29.984399795532227,25.79319953918457],\"line\":{\"color\":\"red\",\"width\":1},\"locationmode\":\"USA-states\",\"lon\":[-95.34140014648438,-80.29060363769531],\"mode\":\"lines\",\"name\":\"IAH \\u2192 MIA\",\"opacity\":0.21564301473204753,\"type\":\"scattergeo\"},{\"lat\":[33.6367,32.12760162],\"line\":{\"color\":\"red\",\"width\":1},\"locationmode\":\"USA-states\",\"lon\":[-84.428101,-81.20210266],\"mode\":\"lines\",\"name\":\"ATL \\u2192 SAV\",\"opacity\":0.21480677531848266,\"type\":\"scattergeo\"},{\"lat\":[32.12760162,33.6367],\"line\":{\"color\":\"red\",\"width\":1},\"locationmode\":\"USA-states\",\"lon\":[-81.20210266,-84.428101],\"mode\":\"lines\",\"name\":\"SAV \\u2192 ATL\",\"opacity\":0.21480677531848266,\"type\":\"scattergeo\"},{\"lat\":[41.9786,35.877601623535156],\"line\":{\"color\":\"red\",\"width\":1},\"locationmode\":\"USA-states\",\"lon\":[-87.9048,-78.7874984741211],\"mode\":\"lines\",\"name\":\"ORD \\u2192 RDU\",\"opacity\":0.21478898299053448,\"type\":\"scattergeo\"},{\"lat\":[35.877601623535156,41.9786],\"line\":{\"color\":\"red\",\"width\":1},\"locationmode\":\"USA-states\",\"lon\":[-78.7874984741211,-87.9048],\"mode\":\"lines\",\"name\":\"RDU \\u2192 ORD\",\"opacity\":0.21468222902284534,\"type\":\"scattergeo\"},{\"lat\":[44.2541008,47.449001],\"line\":{\"color\":\"red\",\"width\":1},\"locationmode\":\"USA-states\",\"lon\":[-121.1500015,-122.308998],\"mode\":\"lines\",\"name\":\"RDM \\u2192 SEA\",\"opacity\":0.214273005480037,\"type\":\"scattergeo\"},{\"lat\":[47.449001,44.2541008],\"line\":{\"color\":\"red\",\"width\":1},\"locationmode\":\"USA-states\",\"lon\":[-122.308998,-121.1500015],\"mode\":\"lines\",\"name\":\"SEA \\u2192 RDM\",\"opacity\":0.21420183616824426,\"type\":\"scattergeo\"},{\"lat\":[32.847099,39.861698150635],\"line\":{\"color\":\"red\",\"width\":1},\"locationmode\":\"USA-states\",\"lon\":[-96.851799,-104.672996521],\"mode\":\"lines\",\"name\":\"DAL \\u2192 DEN\",\"opacity\":0.21409508220055512,\"type\":\"scattergeo\"},{\"lat\":[33.43429946899414,45.58869934],\"line\":{\"color\":\"red\",\"width\":1},\"locationmode\":\"USA-states\",\"lon\":[-112.01200103759766,-122.5979996],\"mode\":\"lines\",\"name\":\"PHX \\u2192 PDX\",\"opacity\":0.21354352003416127,\"type\":\"scattergeo\"},{\"lat\":[41.88470077514648,41.9786],\"line\":{\"color\":\"red\",\"width\":1},\"locationmode\":\"USA-states\",\"lon\":[-91.71080017089844,-87.9048],\"mode\":\"lines\",\"name\":\"CID \\u2192 ORD\",\"opacity\":0.21340118141057576,\"type\":\"scattergeo\"},{\"lat\":[41.9786,41.88470077514648],\"line\":{\"color\":\"red\",\"width\":1},\"locationmode\":\"USA-states\",\"lon\":[-87.9048,-91.71080017089844],\"mode\":\"lines\",\"name\":\"ORD \\u2192 CID\",\"opacity\":0.21340118141057576,\"type\":\"scattergeo\"},{\"lat\":[32.896801,40.692501068115234],\"line\":{\"color\":\"red\",\"width\":1},\"locationmode\":\"USA-states\",\"lon\":[-97.038002,-74.168701171875],\"mode\":\"lines\",\"name\":\"DFW \\u2192 EWR\",\"opacity\":0.2131876734751975,\"type\":\"scattergeo\"},{\"lat\":[40.692501068115234,32.896801],\"line\":{\"color\":\"red\",\"width\":1},\"locationmode\":\"USA-states\",\"lon\":[-74.168701171875,-97.038002],\"mode\":\"lines\",\"name\":\"EWR \\u2192 DFW\",\"opacity\":0.2131876734751975,\"type\":\"scattergeo\"},{\"lat\":[39.861698150635,32.847099],\"line\":{\"color\":\"red\",\"width\":1},\"locationmode\":\"USA-states\",\"lon\":[-104.672996521,-96.851799],\"mode\":\"lines\",\"name\":\"DEN \\u2192 DAL\",\"opacity\":0.21315208881930112,\"type\":\"scattergeo\"},{\"lat\":[29.984399795532227,35.2140007019043],\"line\":{\"color\":\"red\",\"width\":1},\"locationmode\":\"USA-states\",\"lon\":[-95.34140014648438,-80.94309997558594],\"mode\":\"lines\",\"name\":\"IAH \\u2192 CLT\",\"opacity\":0.21277844993238915,\"type\":\"scattergeo\"},{\"lat\":[35.2140007019043,29.984399795532227],\"line\":{\"color\":\"red\",\"width\":1},\"locationmode\":\"USA-states\",\"lon\":[-80.94309997558594,-95.34140014648438],\"mode\":\"lines\",\"name\":\"CLT \\u2192 IAH\",\"opacity\":0.21274286527649278,\"type\":\"scattergeo\"},{\"lat\":[32.7336006165,32.896801],\"line\":{\"color\":\"red\",\"width\":1},\"locationmode\":\"USA-states\",\"lon\":[-117.190002441,-97.038002],\"mode\":\"lines\",\"name\":\"SAN \\u2192 DFW\",\"opacity\":0.21260052665290727,\"type\":\"scattergeo\"},{\"lat\":[32.896801,32.7336006165],\"line\":{\"color\":\"red\",\"width\":1},\"locationmode\":\"USA-states\",\"lon\":[-97.038002,-117.190002441],\"mode\":\"lines\",\"name\":\"DFW \\u2192 SAN\",\"opacity\":0.2125471496690627,\"type\":\"scattergeo\"},{\"lat\":[45.58869934,33.43429946899414],\"line\":{\"color\":\"red\",\"width\":1},\"locationmode\":\"USA-states\",\"lon\":[-122.5979996,-112.01200103759766],\"mode\":\"lines\",\"name\":\"PDX \\u2192 PHX\",\"opacity\":0.21251156501316631,\"type\":\"scattergeo\"},{\"lat\":[36.1245002746582,35.2140007019043],\"line\":{\"color\":\"red\",\"width\":1},\"locationmode\":\"USA-states\",\"lon\":[-86.6781997680664,-80.94309997558594],\"mode\":\"lines\",\"name\":\"BNA \\u2192 CLT\",\"opacity\":0.21201337983061705,\"type\":\"scattergeo\"},{\"lat\":[35.2140007019043,36.1245002746582],\"line\":{\"color\":\"red\",\"width\":1},\"locationmode\":\"USA-states\",\"lon\":[-80.94309997558594,-86.6781997680664],\"mode\":\"lines\",\"name\":\"CLT \\u2192 BNA\",\"opacity\":0.211728702583446,\"type\":\"scattergeo\"},{\"lat\":[39.861698150635,35.2140007019043],\"line\":{\"color\":\"red\",\"width\":1},\"locationmode\":\"USA-states\",\"lon\":[-104.672996521,-80.94309997558594],\"mode\":\"lines\",\"name\":\"DEN \\u2192 CLT\",\"opacity\":0.21119493274500037,\"type\":\"scattergeo\"},{\"lat\":[35.2140007019043,39.861698150635],\"line\":{\"color\":\"red\",\"width\":1},\"locationmode\":\"USA-states\",\"lon\":[-80.94309997558594,-104.672996521],\"mode\":\"lines\",\"name\":\"CLT \\u2192 DEN\",\"opacity\":0.2108212938580884,\"type\":\"scattergeo\"},{\"lat\":[34.20069885253906,37.61899948120117],\"line\":{\"color\":\"red\",\"width\":1},\"locationmode\":\"USA-states\",\"lon\":[-118.35900115966795,-122.375],\"mode\":\"lines\",\"name\":\"BUR \\u2192 SFO\",\"opacity\":0.21046544729912461,\"type\":\"scattergeo\"},{\"lat\":[39.861698150635,39.1754],\"line\":{\"color\":\"red\",\"width\":1},\"locationmode\":\"USA-states\",\"lon\":[-104.672996521,-76.668297],\"mode\":\"lines\",\"name\":\"DEN \\u2192 BWI\",\"opacity\":0.21019856237990178,\"type\":\"scattergeo\"},{\"lat\":[37.61899948120117,34.20069885253906],\"line\":{\"color\":\"red\",\"width\":1},\"locationmode\":\"USA-states\",\"lon\":[-122.375,-118.35900115966795],\"mode\":\"lines\",\"name\":\"SFO \\u2192 BUR\",\"opacity\":0.2101807700519536,\"type\":\"scattergeo\"},{\"lat\":[40.63980103,35.877601623535156],\"line\":{\"color\":\"red\",\"width\":1},\"locationmode\":\"USA-states\",\"lon\":[-73.77890015,-78.7874984741211],\"mode\":\"lines\",\"name\":\"JFK \\u2192 RDU\",\"opacity\":0.2100206391004199,\"type\":\"scattergeo\"},{\"lat\":[35.877601623535156,40.63980103],\"line\":{\"color\":\"red\",\"width\":1},\"locationmode\":\"USA-states\",\"lon\":[-78.7874984741211,-73.77890015],\"mode\":\"lines\",\"name\":\"RDU \\u2192 JFK\",\"opacity\":0.20978933883709344,\"type\":\"scattergeo\"},{\"lat\":[39.87189865112305,42.212398529052734],\"line\":{\"color\":\"red\",\"width\":1},\"locationmode\":\"USA-states\",\"lon\":[-75.24109649658203,-83.35340118408203],\"mode\":\"lines\",\"name\":\"PHL \\u2192 DTW\",\"opacity\":0.2097359618532489,\"type\":\"scattergeo\"},{\"lat\":[42.212398529052734,39.87189865112305],\"line\":{\"color\":\"red\",\"width\":1},\"locationmode\":\"USA-states\",\"lon\":[-83.35340118408203,-75.24109649658203],\"mode\":\"lines\",\"name\":\"DTW \\u2192 PHL\",\"opacity\":0.2097003771973525,\"type\":\"scattergeo\"},{\"lat\":[38.69540023803711,34.20069885253906],\"line\":{\"color\":\"red\",\"width\":1},\"locationmode\":\"USA-states\",\"lon\":[-121.59100341796876,-118.35900115966795],\"mode\":\"lines\",\"name\":\"SMF \\u2192 BUR\",\"opacity\":0.2093801152942851,\"type\":\"scattergeo\"},{\"lat\":[34.20069885253906,38.69540023803711],\"line\":{\"color\":\"red\",\"width\":1},\"locationmode\":\"USA-states\",\"lon\":[-118.35900115966795,-121.59100341796876],\"mode\":\"lines\",\"name\":\"BUR \\u2192 SMF\",\"opacity\":0.2084193295850829,\"type\":\"scattergeo\"},{\"lat\":[39.1754,39.861698150635],\"line\":{\"color\":\"red\",\"width\":1},\"locationmode\":\"USA-states\",\"lon\":[-76.668297,-104.672996521],\"mode\":\"lines\",\"name\":\"BWI \\u2192 DEN\",\"opacity\":0.20840153725713473,\"type\":\"scattergeo\"},{\"lat\":[33.6367,33.56290054],\"line\":{\"color\":\"red\",\"width\":1},\"locationmode\":\"USA-states\",\"lon\":[-84.428101,-86.75350189],\"mode\":\"lines\",\"name\":\"ATL \\u2192 BHM\",\"opacity\":0.2079745213863782,\"type\":\"scattergeo\"},{\"lat\":[35.2140007019043,27.975500106811523],\"line\":{\"color\":\"red\",\"width\":1},\"locationmode\":\"USA-states\",\"lon\":[-80.94309997558594,-82.533203125],\"mode\":\"lines\",\"name\":\"CLT \\u2192 TPA\",\"opacity\":0.20790335207458543,\"type\":\"scattergeo\"},{\"lat\":[33.56290054,33.6367],\"line\":{\"color\":\"red\",\"width\":1},\"locationmode\":\"USA-states\",\"lon\":[-86.75350189,-84.428101],\"mode\":\"lines\",\"name\":\"BHM \\u2192 ATL\",\"opacity\":0.20784997509074088,\"type\":\"scattergeo\"},{\"lat\":[27.975500106811523,35.2140007019043],\"line\":{\"color\":\"red\",\"width\":1},\"locationmode\":\"USA-states\",\"lon\":[-82.533203125,-80.94309997558594],\"mode\":\"lines\",\"name\":\"TPA \\u2192 CLT\",\"opacity\":0.20781439043484448,\"type\":\"scattergeo\"},{\"lat\":[29.984399795532227,44.882],\"line\":{\"color\":\"red\",\"width\":1},\"locationmode\":\"USA-states\",\"lon\":[-95.34140014648438,-93.221802],\"mode\":\"lines\",\"name\":\"IAH \\u2192 MSP\",\"opacity\":0.20767205181125897,\"type\":\"scattergeo\"},{\"lat\":[44.882,29.984399795532227],\"line\":{\"color\":\"red\",\"width\":1},\"locationmode\":\"USA-states\",\"lon\":[-93.221802,-95.34140014648438],\"mode\":\"lines\",\"name\":\"MSP \\u2192 IAH\",\"opacity\":0.20736958223613977,\"type\":\"scattergeo\"},{\"lat\":[30.194499969482425,29.984399795532227],\"line\":{\"color\":\"red\",\"width\":1},\"locationmode\":\"USA-states\",\"lon\":[-97.6698989868164,-95.34140014648438],\"mode\":\"lines\",\"name\":\"AUS \\u2192 IAH\",\"opacity\":0.20692477403743506,\"type\":\"scattergeo\"},{\"lat\":[26.53619956970215,41.9786],\"line\":{\"color\":\"red\",\"width\":1},\"locationmode\":\"USA-states\",\"lon\":[-81.75520324707031,-87.9048],\"mode\":\"lines\",\"name\":\"RSW \\u2192 ORD\",\"opacity\":0.20681802006974592,\"type\":\"scattergeo\"},{\"lat\":[29.984399795532227,30.194499969482425],\"line\":{\"color\":\"red\",\"width\":1},\"locationmode\":\"USA-states\",\"lon\":[-95.34140014648438,-97.6698989868164],\"mode\":\"lines\",\"name\":\"IAH \\u2192 AUS\",\"opacity\":0.20671126610205678,\"type\":\"scattergeo\"},{\"lat\":[40.49150085,33.6367],\"line\":{\"color\":\"red\",\"width\":1},\"locationmode\":\"USA-states\",\"lon\":[-80.23290253,-84.428101],\"mode\":\"lines\",\"name\":\"PIT \\u2192 ATL\",\"opacity\":0.2066934737741086,\"type\":\"scattergeo\"},{\"lat\":[41.9786,26.53619956970215],\"line\":{\"color\":\"red\",\"width\":1},\"locationmode\":\"USA-states\",\"lon\":[-87.9048,-81.75520324707031],\"mode\":\"lines\",\"name\":\"ORD \\u2192 RSW\",\"opacity\":0.20647996583873035,\"type\":\"scattergeo\"},{\"lat\":[40.692501068115234,38.8521],\"line\":{\"color\":\"red\",\"width\":1},\"locationmode\":\"USA-states\",\"lon\":[-74.168701171875,-77.037697],\"mode\":\"lines\",\"name\":\"EWR \\u2192 DCA\",\"opacity\":0.2049854102910825,\"type\":\"scattergeo\"},{\"lat\":[33.6367,40.49150085],\"line\":{\"color\":\"red\",\"width\":1},\"locationmode\":\"USA-states\",\"lon\":[-84.428101,-80.23290253],\"mode\":\"lines\",\"name\":\"ATL \\u2192 PIT\",\"opacity\":0.2049498256351861,\"type\":\"scattergeo\"},{\"lat\":[38.8521,40.692501068115234],\"line\":{\"color\":\"red\",\"width\":1},\"locationmode\":\"USA-states\",\"lon\":[-77.037697,-74.168701171875],\"mode\":\"lines\",\"name\":\"DCA \\u2192 EWR\",\"opacity\":0.2047896946836524,\"type\":\"scattergeo\"},{\"lat\":[32.896801,26.072599],\"line\":{\"color\":\"red\",\"width\":1},\"locationmode\":\"USA-states\",\"lon\":[-97.038002,-80.152702],\"mode\":\"lines\",\"name\":\"DFW \\u2192 FLL\",\"opacity\":0.2041491708775176,\"type\":\"scattergeo\"},{\"lat\":[26.072599,32.896801],\"line\":{\"color\":\"red\",\"width\":1},\"locationmode\":\"USA-states\",\"lon\":[-80.152702,-97.038002],\"mode\":\"lines\",\"name\":\"FLL \\u2192 DFW\",\"opacity\":0.20395345527008754,\"type\":\"scattergeo\"},{\"lat\":[33.43429946899414,37.721298],\"line\":{\"color\":\"red\",\"width\":1},\"locationmode\":\"USA-states\",\"lon\":[-112.01200103759766,-122.221001],\"mode\":\"lines\",\"name\":\"PHX \\u2192 OAK\",\"opacity\":0.20286812326524803,\"type\":\"scattergeo\"},{\"lat\":[41.9786,32.7336006165],\"line\":{\"color\":\"red\",\"width\":1},\"locationmode\":\"USA-states\",\"lon\":[-87.9048,-117.190002441],\"mode\":\"lines\",\"name\":\"ORD \\u2192 SAN\",\"opacity\":0.20279695395345526,\"type\":\"scattergeo\"},{\"lat\":[32.7336006165,41.9786],\"line\":{\"color\":\"red\",\"width\":1},\"locationmode\":\"USA-states\",\"lon\":[-117.190002441,-87.9048],\"mode\":\"lines\",\"name\":\"SAN \\u2192 ORD\",\"opacity\":0.20272578464166252,\"type\":\"scattergeo\"},{\"lat\":[39.87189865112305,26.072599],\"line\":{\"color\":\"red\",\"width\":1},\"locationmode\":\"USA-states\",\"lon\":[-75.24109649658203,-80.152702],\"mode\":\"lines\",\"name\":\"PHL \\u2192 FLL\",\"opacity\":0.2019607145398904,\"type\":\"scattergeo\"},{\"lat\":[37.721298,33.43429946899414],\"line\":{\"color\":\"red\",\"width\":1},\"locationmode\":\"USA-states\",\"lon\":[-122.221001,-112.01200103759766],\"mode\":\"lines\",\"name\":\"OAK \\u2192 PHX\",\"opacity\":0.20190733755604584,\"type\":\"scattergeo\"},{\"lat\":[42.36429977,32.896801],\"line\":{\"color\":\"red\",\"width\":1},\"locationmode\":\"USA-states\",\"lon\":[-71.00520325,-97.038002],\"mode\":\"lines\",\"name\":\"BOS \\u2192 DFW\",\"opacity\":0.2018005835883567,\"type\":\"scattergeo\"},{\"lat\":[33.8297004699707,37.61899948120117],\"line\":{\"color\":\"red\",\"width\":1},\"locationmode\":\"USA-states\",\"lon\":[-116.50700378417967,-122.375],\"mode\":\"lines\",\"name\":\"PSP \\u2192 SFO\",\"opacity\":0.20169382962066756,\"type\":\"scattergeo\"},{\"lat\":[35.877601623535156,35.2140007019043],\"line\":{\"color\":\"red\",\"width\":1},\"locationmode\":\"USA-states\",\"lon\":[-78.7874984741211,-80.94309997558594],\"mode\":\"lines\",\"name\":\"RDU \\u2192 CLT\",\"opacity\":0.20169382962066756,\"type\":\"scattergeo\"},{\"lat\":[41.9786,44.258098602299995],\"line\":{\"color\":\"red\",\"width\":1},\"locationmode\":\"USA-states\",\"lon\":[-87.9048,-88.5190963745],\"mode\":\"lines\",\"name\":\"ORD \\u2192 ATW\",\"opacity\":0.20169382962066756,\"type\":\"scattergeo\"},{\"lat\":[44.258098602299995,41.9786],\"line\":{\"color\":\"red\",\"width\":1},\"locationmode\":\"USA-states\",\"lon\":[-88.5190963745,-87.9048],\"mode\":\"lines\",\"name\":\"ATW \\u2192 ORD\",\"opacity\":0.20167603729271938,\"type\":\"scattergeo\"},{\"lat\":[37.61899948120117,33.8297004699707],\"line\":{\"color\":\"red\",\"width\":1},\"locationmode\":\"USA-states\",\"lon\":[-122.375,-116.50700378417967],\"mode\":\"lines\",\"name\":\"SFO \\u2192 PSP\",\"opacity\":0.20162266030887482,\"type\":\"scattergeo\"},{\"lat\":[35.2140007019043,35.877601623535156],\"line\":{\"color\":\"red\",\"width\":1},\"locationmode\":\"USA-states\",\"lon\":[-80.94309997558594,-78.7874984741211],\"mode\":\"lines\",\"name\":\"CLT \\u2192 RDU\",\"opacity\":0.20148032168528932,\"type\":\"scattergeo\"},{\"lat\":[26.072599,39.87189865112305],\"line\":{\"color\":\"red\",\"width\":1},\"locationmode\":\"USA-states\",\"lon\":[-80.152702,-75.24109649658203],\"mode\":\"lines\",\"name\":\"FLL \\u2192 PHL\",\"opacity\":0.201355775389652,\"type\":\"scattergeo\"},{\"lat\":[35.035301208496094,33.6367],\"line\":{\"color\":\"red\",\"width\":1},\"locationmode\":\"USA-states\",\"lon\":[-85.20379638671875,-84.428101],\"mode\":\"lines\",\"name\":\"CHA \\u2192 ATL\",\"opacity\":0.20105330581453276,\"type\":\"scattergeo\"},{\"lat\":[33.6367,35.035301208496094],\"line\":{\"color\":\"red\",\"width\":1},\"locationmode\":\"USA-states\",\"lon\":[-84.428101,-85.20379638671875],\"mode\":\"lines\",\"name\":\"ATL \\u2192 CHA\",\"opacity\":0.2009999288306882,\"type\":\"scattergeo\"},{\"lat\":[32.896801,42.36429977],\"line\":{\"color\":\"red\",\"width\":1},\"locationmode\":\"USA-states\",\"lon\":[-97.038002,-71.00520325],\"mode\":\"lines\",\"name\":\"DFW \\u2192 BOS\",\"opacity\":0.20087538253505088,\"type\":\"scattergeo\"},{\"lat\":[47.449001,44.12459945678711],\"line\":{\"color\":\"red\",\"width\":1},\"locationmode\":\"USA-states\",\"lon\":[-122.308998,-123.21199798583984],\"mode\":\"lines\",\"name\":\"SEA \\u2192 EUG\",\"opacity\":0.200697459255569,\"type\":\"scattergeo\"},{\"lat\":[33.43429946899414,41.785999],\"line\":{\"color\":\"red\",\"width\":1},\"locationmode\":\"USA-states\",\"lon\":[-112.01200103759766,-87.752403],\"mode\":\"lines\",\"name\":\"PHX \\u2192 MDW\",\"opacity\":0.200697459255569,\"type\":\"scattergeo\"},{\"lat\":[44.12459945678711,47.449001],\"line\":{\"color\":\"red\",\"width\":1},\"locationmode\":\"USA-states\",\"lon\":[-123.21199798583984,-122.308998],\"mode\":\"lines\",\"name\":\"EUG \\u2192 SEA\",\"opacity\":0.200697459255569,\"type\":\"scattergeo\"},{\"lat\":[32.896801,35.39310073852539],\"line\":{\"color\":\"red\",\"width\":1},\"locationmode\":\"USA-states\",\"lon\":[-97.038002,-97.60070037841795],\"mode\":\"lines\",\"name\":\"DFW \\u2192 OKC\",\"opacity\":0.19993238915379688,\"type\":\"scattergeo\"},{\"lat\":[33.94250107,28.429399490356445],\"line\":{\"color\":\"red\",\"width\":1},\"locationmode\":\"USA-states\",\"lon\":[-118.4079971,-81.30899810791016],\"mode\":\"lines\",\"name\":\"LAX \\u2192 MCO\",\"opacity\":0.19987901216995232,\"type\":\"scattergeo\"},{\"lat\":[35.39310073852539,32.896801],\"line\":{\"color\":\"red\",\"width\":1},\"locationmode\":\"USA-states\",\"lon\":[-97.60070037841795,-97.038002],\"mode\":\"lines\",\"name\":\"OKC \\u2192 DFW\",\"opacity\":0.19982563518610774,\"type\":\"scattergeo\"},{\"lat\":[40.63980103,47.449001],\"line\":{\"color\":\"red\",\"width\":1},\"locationmode\":\"USA-states\",\"lon\":[-73.77890015,-122.308998],\"mode\":\"lines\",\"name\":\"JFK \\u2192 SEA\",\"opacity\":0.19979005053021137,\"type\":\"scattergeo\"},{\"lat\":[28.429399490356445,33.94250107],\"line\":{\"color\":\"red\",\"width\":1},\"locationmode\":\"USA-states\",\"lon\":[-81.30899810791016,-118.4079971],\"mode\":\"lines\",\"name\":\"MCO \\u2192 LAX\",\"opacity\":0.199754465874315,\"type\":\"scattergeo\"},{\"lat\":[47.449001,40.63980103],\"line\":{\"color\":\"red\",\"width\":1},\"locationmode\":\"USA-states\",\"lon\":[-122.308998,-73.77890015],\"mode\":\"lines\",\"name\":\"SEA \\u2192 JFK\",\"opacity\":0.19973667354636682,\"type\":\"scattergeo\"},{\"lat\":[41.785999,33.43429946899414],\"line\":{\"color\":\"red\",\"width\":1},\"locationmode\":\"USA-states\",\"lon\":[-87.752403,-112.01200103759766],\"mode\":\"lines\",\"name\":\"MDW \\u2192 PHX\",\"opacity\":0.19970108889047042,\"type\":\"scattergeo\"},{\"lat\":[30.194499969482425,33.43429946899414],\"line\":{\"color\":\"red\",\"width\":1},\"locationmode\":\"USA-states\",\"lon\":[-97.6698989868164,-112.01200103759766],\"mode\":\"lines\",\"name\":\"AUS \\u2192 PHX\",\"opacity\":0.19939861931535122,\"type\":\"scattergeo\"},{\"lat\":[33.6367,29.533700942993164],\"line\":{\"color\":\"red\",\"width\":1},\"locationmode\":\"USA-states\",\"lon\":[-84.428101,-98.46980285644533],\"mode\":\"lines\",\"name\":\"ATL \\u2192 SAT\",\"opacity\":0.19914952672407657,\"type\":\"scattergeo\"},{\"lat\":[41.9786,30.194499969482425],\"line\":{\"color\":\"red\",\"width\":1},\"locationmode\":\"USA-states\",\"lon\":[-87.9048,-97.6698989868164],\"mode\":\"lines\",\"name\":\"ORD \\u2192 AUS\",\"opacity\":0.19913173439612838,\"type\":\"scattergeo\"},{\"lat\":[44.882,47.449001],\"line\":{\"color\":\"red\",\"width\":1},\"locationmode\":\"USA-states\",\"lon\":[-93.221802,-122.308998],\"mode\":\"lines\",\"name\":\"MSP \\u2192 SEA\",\"opacity\":0.19907835741228383,\"type\":\"scattergeo\"},{\"lat\":[30.194499969482425,41.9786],\"line\":{\"color\":\"red\",\"width\":1},\"locationmode\":\"USA-states\",\"lon\":[-97.6698989868164,-87.9048],\"mode\":\"lines\",\"name\":\"AUS \\u2192 ORD\",\"opacity\":0.19906056508433564,\"type\":\"scattergeo\"},{\"lat\":[31.80719948,32.896801],\"line\":{\"color\":\"red\",\"width\":1},\"locationmode\":\"USA-states\",\"lon\":[-106.3779984,-97.038002],\"mode\":\"lines\",\"name\":\"ELP \\u2192 DFW\",\"opacity\":0.19906056508433564,\"type\":\"scattergeo\"},{\"lat\":[47.449001,44.882],\"line\":{\"color\":\"red\",\"width\":1},\"locationmode\":\"USA-states\",\"lon\":[-122.308998,-93.221802],\"mode\":\"lines\",\"name\":\"SEA \\u2192 MSP\",\"opacity\":0.19906056508433564,\"type\":\"scattergeo\"},{\"lat\":[42.212398529052734,42.36429977],\"line\":{\"color\":\"red\",\"width\":1},\"locationmode\":\"USA-states\",\"lon\":[-83.35340118408203,-71.00520325],\"mode\":\"lines\",\"name\":\"DTW \\u2192 BOS\",\"opacity\":0.19898939577254288,\"type\":\"scattergeo\"},{\"lat\":[32.896801,31.80719948],\"line\":{\"color\":\"red\",\"width\":1},\"locationmode\":\"USA-states\",\"lon\":[-97.038002,-106.3779984],\"mode\":\"lines\",\"name\":\"DFW \\u2192 ELP\",\"opacity\":0.1989538111166465,\"type\":\"scattergeo\"},{\"lat\":[42.36429977,42.212398529052734],\"line\":{\"color\":\"red\",\"width\":1},\"locationmode\":\"USA-states\",\"lon\":[-71.00520325,-83.35340118408203],\"mode\":\"lines\",\"name\":\"BOS \\u2192 DTW\",\"opacity\":0.19893601878869832,\"type\":\"scattergeo\"},{\"lat\":[33.94250107,38.94449997],\"line\":{\"color\":\"red\",\"width\":1},\"locationmode\":\"USA-states\",\"lon\":[-118.4079971,-77.45580292],\"mode\":\"lines\",\"name\":\"LAX \\u2192 IAD\",\"opacity\":0.1984734182620454,\"type\":\"scattergeo\"},{\"lat\":[38.94449997,33.94250107],\"line\":{\"color\":\"red\",\"width\":1},\"locationmode\":\"USA-states\",\"lon\":[-77.45580292,-118.4079971],\"mode\":\"lines\",\"name\":\"IAD \\u2192 LAX\",\"opacity\":0.19825991032666715,\"type\":\"scattergeo\"},{\"lat\":[29.533700942993164,33.6367],\"line\":{\"color\":\"red\",\"width\":1},\"locationmode\":\"USA-states\",\"lon\":[-98.46980285644533,-84.428101],\"mode\":\"lines\",\"name\":\"SAT \\u2192 ATL\",\"opacity\":0.19813536403102983,\"type\":\"scattergeo\"},{\"lat\":[29.984399795532227,33.43429946899414],\"line\":{\"color\":\"red\",\"width\":1},\"locationmode\":\"USA-states\",\"lon\":[-95.34140014648438,-112.01200103759766],\"mode\":\"lines\",\"name\":\"IAH \\u2192 PHX\",\"opacity\":0.19783289445591062,\"type\":\"scattergeo\"},{\"lat\":[33.43429946899414,29.984399795532227],\"line\":{\"color\":\"red\",\"width\":1},\"locationmode\":\"USA-states\",\"lon\":[-112.01200103759766,-95.34140014648438],\"mode\":\"lines\",\"name\":\"PHX \\u2192 IAH\",\"opacity\":0.19761938652053235,\"type\":\"scattergeo\"},{\"lat\":[32.896801,38.8521],\"line\":{\"color\":\"red\",\"width\":1},\"locationmode\":\"USA-states\",\"lon\":[-97.038002,-77.037697],\"mode\":\"lines\",\"name\":\"DFW \\u2192 DCA\",\"opacity\":0.1975660095366878,\"type\":\"scattergeo\"},{\"lat\":[38.8521,32.896801],\"line\":{\"color\":\"red\",\"width\":1},\"locationmode\":\"USA-states\",\"lon\":[-77.037697,-97.038002],\"mode\":\"lines\",\"name\":\"DCA \\u2192 DFW\",\"opacity\":0.1975660095366878,\"type\":\"scattergeo\"},{\"lat\":[33.43429946899414,30.194499969482425],\"line\":{\"color\":\"red\",\"width\":1},\"locationmode\":\"USA-states\",\"lon\":[-112.01200103759766,-97.6698989868164],\"mode\":\"lines\",\"name\":\"PHX \\u2192 AUS\",\"opacity\":0.19749484022489502,\"type\":\"scattergeo\"},{\"lat\":[42.212398529052734,26.072599],\"line\":{\"color\":\"red\",\"width\":1},\"locationmode\":\"USA-states\",\"lon\":[-83.35340118408203,-80.152702],\"mode\":\"lines\",\"name\":\"DTW \\u2192 FLL\",\"opacity\":0.1972279553056722,\"type\":\"scattergeo\"},{\"lat\":[40.63980103,42.94049835],\"line\":{\"color\":\"red\",\"width\":1},\"locationmode\":\"USA-states\",\"lon\":[-73.77890015,-78.73220062],\"mode\":\"lines\",\"name\":\"JFK \\u2192 BUF\",\"opacity\":0.1970678243541385,\"type\":\"scattergeo\"},{\"lat\":[26.072599,42.212398529052734],\"line\":{\"color\":\"red\",\"width\":1},\"locationmode\":\"USA-states\",\"lon\":[-80.152702,-83.35340118408203],\"mode\":\"lines\",\"name\":\"FLL \\u2192 DTW\",\"opacity\":0.19703223969824213,\"type\":\"scattergeo\"},{\"lat\":[42.94049835,40.63980103],\"line\":{\"color\":\"red\",\"width\":1},\"locationmode\":\"USA-states\",\"lon\":[-78.73220062,-73.77890015],\"mode\":\"lines\",\"name\":\"BUF \\u2192 JFK\",\"opacity\":0.19699665504234573,\"type\":\"scattergeo\"},{\"lat\":[38.8521,35.2140007019043],\"line\":{\"color\":\"red\",\"width\":1},\"locationmode\":\"USA-states\",\"lon\":[-77.037697,-80.94309997558594],\"mode\":\"lines\",\"name\":\"DCA \\u2192 CLT\",\"opacity\":0.19653405451569284,\"type\":\"scattergeo\"},{\"lat\":[35.040199,39.861698150635],\"line\":{\"color\":\"red\",\"width\":1},\"locationmode\":\"USA-states\",\"lon\":[-106.609001,-104.672996521],\"mode\":\"lines\",\"name\":\"ABQ \\u2192 DEN\",\"opacity\":0.1964273005480037,\"type\":\"scattergeo\"},{\"lat\":[35.2140007019043,38.8521],\"line\":{\"color\":\"red\",\"width\":1},\"locationmode\":\"USA-states\",\"lon\":[-80.94309997558594,-77.037697],\"mode\":\"lines\",\"name\":\"CLT \\u2192 DCA\",\"opacity\":0.19632054658031456,\"type\":\"scattergeo\"},{\"lat\":[39.861698150635,35.040199],\"line\":{\"color\":\"red\",\"width\":1},\"locationmode\":\"USA-states\",\"lon\":[-104.672996521,-106.609001],\"mode\":\"lines\",\"name\":\"DEN \\u2192 ABQ\",\"opacity\":0.19626716959647,\"type\":\"scattergeo\"},{\"lat\":[25.79319953918457,42.36429977],\"line\":{\"color\":\"red\",\"width\":1},\"locationmode\":\"USA-states\",\"lon\":[-80.29060363769531,-71.00520325],\"mode\":\"lines\",\"name\":\"MIA \\u2192 BOS\",\"opacity\":0.19600028467724717,\"type\":\"scattergeo\"},{\"lat\":[33.6367,35.81100082],\"line\":{\"color\":\"red\",\"width\":1},\"locationmode\":\"USA-states\",\"lon\":[-84.428101,-83.9940033],\"mode\":\"lines\",\"name\":\"ATL \\u2192 TYS\",\"opacity\":0.19560885346238702,\"type\":\"scattergeo\"},{\"lat\":[42.36429977,25.79319953918457],\"line\":{\"color\":\"red\",\"width\":1},\"locationmode\":\"USA-states\",\"lon\":[-71.00520325,-80.29060363769531],\"mode\":\"lines\",\"name\":\"BOS \\u2192 MIA\",\"opacity\":0.19553768415059428,\"type\":\"scattergeo\"},{\"lat\":[35.81100082,33.6367],\"line\":{\"color\":\"red\",\"width\":1},\"locationmode\":\"USA-states\",\"lon\":[-83.9940033,-84.428101],\"mode\":\"lines\",\"name\":\"TYS \\u2192 ATL\",\"opacity\":0.1954843071667497,\"type\":\"scattergeo\"},{\"lat\":[44.48509979248047,41.9786],\"line\":{\"color\":\"red\",\"width\":1},\"locationmode\":\"USA-states\",\"lon\":[-88.12960052490234,-87.9048],\"mode\":\"lines\",\"name\":\"GRB \\u2192 ORD\",\"opacity\":0.1954665148388015,\"type\":\"scattergeo\"},{\"lat\":[41.9786,44.48509979248047],\"line\":{\"color\":\"red\",\"width\":1},\"locationmode\":\"USA-states\",\"lon\":[-87.9048,-88.12960052490234],\"mode\":\"lines\",\"name\":\"ORD \\u2192 GRB\",\"opacity\":0.1954665148388015,\"type\":\"scattergeo\"},{\"lat\":[38.1744,33.6367],\"line\":{\"color\":\"red\",\"width\":1},\"locationmode\":\"USA-states\",\"lon\":[-85.736,-84.428101],\"mode\":\"lines\",\"name\":\"SDF \\u2192 ATL\",\"opacity\":0.195324176215216,\"type\":\"scattergeo\"},{\"lat\":[33.6367,38.1744],\"line\":{\"color\":\"red\",\"width\":1},\"locationmode\":\"USA-states\",\"lon\":[-84.428101,-85.736],\"mode\":\"lines\",\"name\":\"ATL \\u2192 SDF\",\"opacity\":0.19523521457547505,\"type\":\"scattergeo\"},{\"lat\":[44.74140167236328,41.9786],\"line\":{\"color\":\"red\",\"width\":1},\"locationmode\":\"USA-states\",\"lon\":[-85.58219909667969,-87.9048],\"mode\":\"lines\",\"name\":\"TVC \\u2192 ORD\",\"opacity\":0.19459469076934027,\"type\":\"scattergeo\"},{\"lat\":[41.9786,44.74140167236328],\"line\":{\"color\":\"red\",\"width\":1},\"locationmode\":\"USA-states\",\"lon\":[-87.9048,-85.58219909667969],\"mode\":\"lines\",\"name\":\"ORD \\u2192 TVC\",\"opacity\":0.19457689844139206,\"type\":\"scattergeo\"},{\"lat\":[35.2140007019043,34.8956985474],\"line\":{\"color\":\"red\",\"width\":1},\"locationmode\":\"USA-states\",\"lon\":[-80.94309997558594,-82.2189025879],\"mode\":\"lines\",\"name\":\"CLT \\u2192 GSP\",\"opacity\":0.19443455981780655,\"type\":\"scattergeo\"},{\"lat\":[34.8956985474,35.2140007019043],\"line\":{\"color\":\"red\",\"width\":1},\"locationmode\":\"USA-states\",\"lon\":[-82.2189025879,-80.94309997558594],\"mode\":\"lines\",\"name\":\"GSP \\u2192 CLT\",\"opacity\":0.19441676748985837,\"type\":\"scattergeo\"},{\"lat\":[40.77719879,39.998001],\"line\":{\"color\":\"red\",\"width\":1},\"locationmode\":\"USA-states\",\"lon\":[-73.87259674,-82.891899],\"mode\":\"lines\",\"name\":\"LGA \\u2192 CMH\",\"opacity\":0.19439897516191018,\"type\":\"scattergeo\"},{\"lat\":[39.998001,40.77719879],\"line\":{\"color\":\"red\",\"width\":1},\"locationmode\":\"USA-states\",\"lon\":[-82.891899,-73.87259674],\"mode\":\"lines\",\"name\":\"CMH \\u2192 LGA\",\"opacity\":0.194381182833962,\"type\":\"scattergeo\"},{\"lat\":[35.2140007019043,32.89860153],\"line\":{\"color\":\"red\",\"width\":1},\"locationmode\":\"USA-states\",\"lon\":[-80.94309997558594,-80.04049683],\"mode\":\"lines\",\"name\":\"CLT \\u2192 CHS\",\"opacity\":0.19431001352216923,\"type\":\"scattergeo\"},{\"lat\":[33.67570114,37.721298],\"line\":{\"color\":\"red\",\"width\":1},\"locationmode\":\"USA-states\",\"lon\":[-117.8679962,-122.221001],\"mode\":\"lines\",\"name\":\"SNA \\u2192 OAK\",\"opacity\":0.19429222119422104,\"type\":\"scattergeo\"},{\"lat\":[32.89860153,35.2140007019043],\"line\":{\"color\":\"red\",\"width\":1},\"locationmode\":\"USA-states\",\"lon\":[-80.04049683,-80.94309997558594],\"mode\":\"lines\",\"name\":\"CHS \\u2192 CLT\",\"opacity\":0.19427442886627286,\"type\":\"scattergeo\"},{\"lat\":[38.8521,36.1245002746582],\"line\":{\"color\":\"red\",\"width\":1},\"locationmode\":\"USA-states\",\"lon\":[-77.037697,-86.6781997680664],\"mode\":\"lines\",\"name\":\"DCA \\u2192 BNA\",\"opacity\":0.1942388442103765,\"type\":\"scattergeo\"},{\"lat\":[44.882,40.692501068115234],\"line\":{\"color\":\"red\",\"width\":1},\"locationmode\":\"USA-states\",\"lon\":[-93.221802,-74.168701171875],\"mode\":\"lines\",\"name\":\"MSP \\u2192 EWR\",\"opacity\":0.19414988257063553,\"type\":\"scattergeo\"},{\"lat\":[36.08010101,40.63980103],\"line\":{\"color\":\"red\",\"width\":1},\"locationmode\":\"USA-states\",\"lon\":[-115.1520004,-73.77890015],\"mode\":\"lines\",\"name\":\"LAS \\u2192 JFK\",\"opacity\":0.19398975161910184,\"type\":\"scattergeo\"},{\"lat\":[40.692501068115234,44.882],\"line\":{\"color\":\"red\",\"width\":1},\"locationmode\":\"USA-states\",\"lon\":[-74.168701171875,-93.221802],\"mode\":\"lines\",\"name\":\"EWR \\u2192 MSP\",\"opacity\":0.19397195929115366,\"type\":\"scattergeo\"},{\"lat\":[37.721298,33.67570114],\"line\":{\"color\":\"red\",\"width\":1},\"locationmode\":\"USA-states\",\"lon\":[-122.221001,-117.8679962],\"mode\":\"lines\",\"name\":\"OAK \\u2192 SNA\",\"opacity\":0.19393637463525729,\"type\":\"scattergeo\"},{\"lat\":[29.64539909,29.99340057373047],\"line\":{\"color\":\"red\",\"width\":1},\"locationmode\":\"USA-states\",\"lon\":[-95.27890015,-90.25800323486328],\"mode\":\"lines\",\"name\":\"HOU \\u2192 MSY\",\"opacity\":0.1939185823073091,\"type\":\"scattergeo\"},{\"lat\":[40.63980103,36.08010101],\"line\":{\"color\":\"red\",\"width\":1},\"locationmode\":\"USA-states\",\"lon\":[-73.77890015,-115.1520004],\"mode\":\"lines\",\"name\":\"JFK \\u2192 LAS\",\"opacity\":0.1939185823073091,\"type\":\"scattergeo\"},{\"lat\":[29.99340057373047,29.64539909],\"line\":{\"color\":\"red\",\"width\":1},\"locationmode\":\"USA-states\",\"lon\":[-90.25800323486328,-95.27890015],\"mode\":\"lines\",\"name\":\"MSY \\u2192 HOU\",\"opacity\":0.1938829976514127,\"type\":\"scattergeo\"},{\"lat\":[36.1245002746582,38.8521],\"line\":{\"color\":\"red\",\"width\":1},\"locationmode\":\"USA-states\",\"lon\":[-86.6781997680664,-77.037697],\"mode\":\"lines\",\"name\":\"BNA \\u2192 DCA\",\"opacity\":0.193722866699879,\"type\":\"scattergeo\"},{\"lat\":[32.896801,36.19839859008789],\"line\":{\"color\":\"red\",\"width\":1},\"locationmode\":\"USA-states\",\"lon\":[-97.038002,-95.88809967041016],\"mode\":\"lines\",\"name\":\"DFW \\u2192 TUL\",\"opacity\":0.19363390506013806,\"type\":\"scattergeo\"},{\"lat\":[36.19839859008789,32.896801],\"line\":{\"color\":\"red\",\"width\":1},\"locationmode\":\"USA-states\",\"lon\":[-95.88809967041016,-97.038002],\"mode\":\"lines\",\"name\":\"TUL \\u2192 DFW\",\"opacity\":0.19361611273218987,\"type\":\"scattergeo\"},{\"lat\":[32.896801,33.67570114],\"line\":{\"color\":\"red\",\"width\":1},\"locationmode\":\"USA-states\",\"lon\":[-97.038002,-117.8679962],\"mode\":\"lines\",\"name\":\"DFW \\u2192 SNA\",\"opacity\":0.19352715109244895,\"type\":\"scattergeo\"},{\"lat\":[33.67570114,32.896801],\"line\":{\"color\":\"red\",\"width\":1},\"locationmode\":\"USA-states\",\"lon\":[-117.8679962,-97.038002],\"mode\":\"lines\",\"name\":\"SNA \\u2192 DFW\",\"opacity\":0.19349156643655255,\"type\":\"scattergeo\"},{\"lat\":[25.79319953918457,28.429399490356445],\"line\":{\"color\":\"red\",\"width\":1},\"locationmode\":\"USA-states\",\"lon\":[-80.29060363769531,-81.30899810791016],\"mode\":\"lines\",\"name\":\"MIA \\u2192 MCO\",\"opacity\":0.19333143548501885,\"type\":\"scattergeo\"},{\"lat\":[28.429399490356445,25.79319953918457],\"line\":{\"color\":\"red\",\"width\":1},\"locationmode\":\"USA-states\",\"lon\":[-81.30899810791016,-80.29060363769531],\"mode\":\"lines\",\"name\":\"MCO \\u2192 MIA\",\"opacity\":0.1932780585011743,\"type\":\"scattergeo\"},{\"lat\":[27.975500106811523,39.861698150635],\"line\":{\"color\":\"red\",\"width\":1},\"locationmode\":\"USA-states\",\"lon\":[-82.533203125,-104.672996521],\"mode\":\"lines\",\"name\":\"TPA \\u2192 DEN\",\"opacity\":0.19317130453348516,\"type\":\"scattergeo\"},{\"lat\":[25.79319953918457,38.8521],\"line\":{\"color\":\"red\",\"width\":1},\"locationmode\":\"USA-states\",\"lon\":[-80.29060363769531,-77.037697],\"mode\":\"lines\",\"name\":\"MIA \\u2192 DCA\",\"opacity\":0.19285104263041777,\"type\":\"scattergeo\"},{\"lat\":[38.8521,25.79319953918457],\"line\":{\"color\":\"red\",\"width\":1},\"locationmode\":\"USA-states\",\"lon\":[-77.037697,-80.29060363769531],\"mode\":\"lines\",\"name\":\"DCA \\u2192 MIA\",\"opacity\":0.192779873318625,\"type\":\"scattergeo\"},{\"lat\":[39.861698150635,27.975500106811523],\"line\":{\"color\":\"red\",\"width\":1},\"locationmode\":\"USA-states\",\"lon\":[-104.672996521,-82.533203125],\"mode\":\"lines\",\"name\":\"DEN \\u2192 TPA\",\"opacity\":0.1923172727919721,\"type\":\"scattergeo\"},{\"lat\":[35.2140007019043,36.097801208496094],\"line\":{\"color\":\"red\",\"width\":1},\"locationmode\":\"USA-states\",\"lon\":[-80.94309997558594,-79.93730163574219],\"mode\":\"lines\",\"name\":\"CLT \\u2192 GSO\",\"opacity\":0.1922816881360757,\"type\":\"scattergeo\"},{\"lat\":[36.097801208496094,35.2140007019043],\"line\":{\"color\":\"red\",\"width\":1},\"locationmode\":\"USA-states\",\"lon\":[-79.93730163574219,-80.94309997558594],\"mode\":\"lines\",\"name\":\"GSO \\u2192 CLT\",\"opacity\":0.19221051882428297,\"type\":\"scattergeo\"},{\"lat\":[38.94449997,37.61899948120117],\"line\":{\"color\":\"red\",\"width\":1},\"locationmode\":\"USA-states\",\"lon\":[-77.45580292,-122.375],\"mode\":\"lines\",\"name\":\"IAD \\u2192 SFO\",\"opacity\":0.19221051882428297,\"type\":\"scattergeo\"},{\"lat\":[36.281898,32.896801],\"line\":{\"color\":\"red\",\"width\":1},\"locationmode\":\"USA-states\",\"lon\":[-94.306801,-97.038002],\"mode\":\"lines\",\"name\":\"XNA \\u2192 DFW\",\"opacity\":0.19187246459326737,\"type\":\"scattergeo\"},{\"lat\":[29.984399795532227,29.533700942993164],\"line\":{\"color\":\"red\",\"width\":1},\"locationmode\":\"USA-states\",\"lon\":[-95.34140014648438,-98.46980285644533],\"mode\":\"lines\",\"name\":\"IAH \\u2192 SAT\",\"opacity\":0.191836879937371,\"type\":\"scattergeo\"},{\"lat\":[32.896801,36.281898],\"line\":{\"color\":\"red\",\"width\":1},\"locationmode\":\"USA-states\",\"lon\":[-97.038002,-94.306801],\"mode\":\"lines\",\"name\":\"DFW \\u2192 XNA\",\"opacity\":0.19181908760942282,\"type\":\"scattergeo\"},{\"lat\":[29.533700942993164,29.984399795532227],\"line\":{\"color\":\"red\",\"width\":1},\"locationmode\":\"USA-states\",\"lon\":[-98.46980285644533,-95.34140014648438],\"mode\":\"lines\",\"name\":\"SAT \\u2192 IAH\",\"opacity\":0.19174791829763005,\"type\":\"scattergeo\"},{\"lat\":[39.861698150635,29.533700942993164],\"line\":{\"color\":\"red\",\"width\":1},\"locationmode\":\"USA-states\",\"lon\":[-104.672996521,-98.46980285644533],\"mode\":\"lines\",\"name\":\"DEN \\u2192 SAT\",\"opacity\":0.1916945413137855,\"type\":\"scattergeo\"},{\"lat\":[29.533700942993164,39.861698150635],\"line\":{\"color\":\"red\",\"width\":1},\"locationmode\":\"USA-states\",\"lon\":[-98.46980285644533,-104.672996521],\"mode\":\"lines\",\"name\":\"SAT \\u2192 DEN\",\"opacity\":0.19158778734609636,\"type\":\"scattergeo\"},{\"lat\":[40.692501068115234,36.08010101],\"line\":{\"color\":\"red\",\"width\":1},\"locationmode\":\"USA-states\",\"lon\":[-74.168701171875,-115.1520004],\"mode\":\"lines\",\"name\":\"EWR \\u2192 LAS\",\"opacity\":0.1912141484591844,\"type\":\"scattergeo\"},{\"lat\":[36.08010101,40.692501068115234],\"line\":{\"color\":\"red\",\"width\":1},\"locationmode\":\"USA-states\",\"lon\":[-115.1520004,-74.168701171875],\"mode\":\"lines\",\"name\":\"LAS \\u2192 EWR\",\"opacity\":0.19114297914739165,\"type\":\"scattergeo\"},{\"lat\":[39.861698150635,39.87189865112305],\"line\":{\"color\":\"red\",\"width\":1},\"locationmode\":\"USA-states\",\"lon\":[-104.672996521,-75.24109649658203],\"mode\":\"lines\",\"name\":\"DEN \\u2192 PHL\",\"opacity\":0.1904490783574123,\"type\":\"scattergeo\"},{\"lat\":[35.2140007019043,25.79319953918457],\"line\":{\"color\":\"red\",\"width\":1},\"locationmode\":\"USA-states\",\"lon\":[-80.94309997558594,-80.29060363769531],\"mode\":\"lines\",\"name\":\"CLT \\u2192 MIA\",\"opacity\":0.19021777809408583,\"type\":\"scattergeo\"},{\"lat\":[25.79319953918457,35.2140007019043],\"line\":{\"color\":\"red\",\"width\":1},\"locationmode\":\"USA-states\",\"lon\":[-80.29060363769531,-80.94309997558594],\"mode\":\"lines\",\"name\":\"MIA \\u2192 CLT\",\"opacity\":0.19019998576613764,\"type\":\"scattergeo\"},{\"lat\":[41.785999,32.847099],\"line\":{\"color\":\"red\",\"width\":1},\"locationmode\":\"USA-states\",\"lon\":[-87.752403,-96.851799],\"mode\":\"lines\",\"name\":\"MDW \\u2192 DAL\",\"opacity\":0.19003985481460395,\"type\":\"scattergeo\"},{\"lat\":[39.87189865112305,39.861698150635],\"line\":{\"color\":\"red\",\"width\":1},\"locationmode\":\"USA-states\",\"lon\":[-75.24109649658203,-104.672996521],\"mode\":\"lines\",\"name\":\"PHL \\u2192 DEN\",\"opacity\":0.18895452280976444,\"type\":\"scattergeo\"},{\"lat\":[39.87189865112305,27.975500106811523],\"line\":{\"color\":\"red\",\"width\":1},\"locationmode\":\"USA-states\",\"lon\":[-75.24109649658203,-82.533203125],\"mode\":\"lines\",\"name\":\"PHL \\u2192 TPA\",\"opacity\":0.18865205323464523,\"type\":\"scattergeo\"},{\"lat\":[32.847099,41.785999],\"line\":{\"color\":\"red\",\"width\":1},\"locationmode\":\"USA-states\",\"lon\":[-96.851799,-87.752403],\"mode\":\"lines\",\"name\":\"DAL \\u2192 MDW\",\"opacity\":0.18856309159490428,\"type\":\"scattergeo\"},{\"lat\":[27.975500106811523,39.87189865112305],\"line\":{\"color\":\"red\",\"width\":1},\"locationmode\":\"USA-states\",\"lon\":[-82.533203125,-75.24109649658203],\"mode\":\"lines\",\"name\":\"TPA \\u2192 PHL\",\"opacity\":0.18845633762721514,\"type\":\"scattergeo\"},{\"lat\":[35.2140007019043,34.270599365234375],\"line\":{\"color\":\"red\",\"width\":1},\"locationmode\":\"USA-states\",\"lon\":[-80.94309997558594,-77.90260314941406],\"mode\":\"lines\",\"name\":\"CLT \\u2192 ILM\",\"opacity\":0.188349583659526,\"type\":\"scattergeo\"},{\"lat\":[34.270599365234375,35.2140007019043],\"line\":{\"color\":\"red\",\"width\":1},\"locationmode\":\"USA-states\",\"lon\":[-77.90260314941406,-80.94309997558594],\"mode\":\"lines\",\"name\":\"ILM \\u2192 CLT\",\"opacity\":0.18831399900362963,\"type\":\"scattergeo\"},{\"lat\":[32.896801,27.975500106811523],\"line\":{\"color\":\"red\",\"width\":1},\"locationmode\":\"USA-states\",\"lon\":[-97.038002,-82.533203125],\"mode\":\"lines\",\"name\":\"DFW \\u2192 TPA\",\"opacity\":0.18831399900362963,\"type\":\"scattergeo\"},{\"lat\":[27.975500106811523,32.896801],\"line\":{\"color\":\"red\",\"width\":1},\"locationmode\":\"USA-states\",\"lon\":[-82.533203125,-97.038002],\"mode\":\"lines\",\"name\":\"TPA \\u2192 DFW\",\"opacity\":0.1881894527079923,\"type\":\"scattergeo\"},{\"lat\":[29.984399795532227,40.78839874267578],\"line\":{\"color\":\"red\",\"width\":1},\"locationmode\":\"USA-states\",\"lon\":[-95.34140014648438,-111.97799682617188],\"mode\":\"lines\",\"name\":\"IAH \\u2192 SLC\",\"opacity\":0.18742438260622019,\"type\":\"scattergeo\"},{\"lat\":[32.896801,29.99340057373047],\"line\":{\"color\":\"red\",\"width\":1},\"locationmode\":\"USA-states\",\"lon\":[-97.038002,-90.25800323486328],\"mode\":\"lines\",\"name\":\"DFW \\u2192 MSY\",\"opacity\":0.18738879795032382,\"type\":\"scattergeo\"},{\"lat\":[40.78839874267578,29.984399795532227],\"line\":{\"color\":\"red\",\"width\":1},\"locationmode\":\"USA-states\",\"lon\":[-111.97799682617188,-95.34140014648438],\"mode\":\"lines\",\"name\":\"SLC \\u2192 IAH\",\"opacity\":0.18737100562237563,\"type\":\"scattergeo\"},{\"lat\":[29.99340057373047,32.896801],\"line\":{\"color\":\"red\",\"width\":1},\"locationmode\":\"USA-states\",\"lon\":[-90.25800323486328,-97.038002],\"mode\":\"lines\",\"name\":\"MSY \\u2192 DFW\",\"opacity\":0.18712191303110098,\"type\":\"scattergeo\"},{\"lat\":[29.984399795532227,35.39310073852539],\"line\":{\"color\":\"red\",\"width\":1},\"locationmode\":\"USA-states\",\"lon\":[-95.34140014648438,-97.60070037841795],\"mode\":\"lines\",\"name\":\"IAH \\u2192 OKC\",\"opacity\":0.1867838588000854,\"type\":\"scattergeo\"},{\"lat\":[35.39310073852539,29.984399795532227],\"line\":{\"color\":\"red\",\"width\":1},\"locationmode\":\"USA-states\",\"lon\":[-97.60070037841795,-95.34140014648438],\"mode\":\"lines\",\"name\":\"OKC \\u2192 IAH\",\"opacity\":0.1867838588000854,\"type\":\"scattergeo\"},{\"lat\":[44.882,36.08010101],\"line\":{\"color\":\"red\",\"width\":1},\"locationmode\":\"USA-states\",\"lon\":[-93.221802,-115.1520004],\"mode\":\"lines\",\"name\":\"MSP \\u2192 LAS\",\"opacity\":0.18655255853675895,\"type\":\"scattergeo\"},{\"lat\":[36.08010101,44.882],\"line\":{\"color\":\"red\",\"width\":1},\"locationmode\":\"USA-states\",\"lon\":[-115.1520004,-93.221802],\"mode\":\"lines\",\"name\":\"LAS \\u2192 MSP\",\"opacity\":0.18655255853675895,\"type\":\"scattergeo\"},{\"lat\":[33.43429946899414,31.80719948],\"line\":{\"color\":\"red\",\"width\":1},\"locationmode\":\"USA-states\",\"lon\":[-112.01200103759766,-106.3779984],\"mode\":\"lines\",\"name\":\"PHX \\u2192 ELP\",\"opacity\":0.18587645007472778,\"type\":\"scattergeo\"},{\"lat\":[35.2140007019043,37.50519943237305],\"line\":{\"color\":\"red\",\"width\":1},\"locationmode\":\"USA-states\",\"lon\":[-80.94309997558594,-77.3197021484375],\"mode\":\"lines\",\"name\":\"CLT \\u2192 RIC\",\"opacity\":0.1858408654188314,\"type\":\"scattergeo\"},{\"lat\":[37.50519943237305,35.2140007019043],\"line\":{\"color\":\"red\",\"width\":1},\"locationmode\":\"USA-states\",\"lon\":[-77.3197021484375,-80.94309997558594],\"mode\":\"lines\",\"name\":\"RIC \\u2192 CLT\",\"opacity\":0.18576969610703864,\"type\":\"scattergeo\"},{\"lat\":[37.61899948120117,38.94449997],\"line\":{\"color\":\"red\",\"width\":1},\"locationmode\":\"USA-states\",\"lon\":[-122.375,-77.45580292],\"mode\":\"lines\",\"name\":\"SFO \\u2192 IAD\",\"opacity\":0.18571631912319408,\"type\":\"scattergeo\"},{\"lat\":[45.58869934,38.69540023803711],\"line\":{\"color\":\"red\",\"width\":1},\"locationmode\":\"USA-states\",\"lon\":[-122.5979996,-121.59100341796876],\"mode\":\"lines\",\"name\":\"PDX \\u2192 SMF\",\"opacity\":0.1856629421393495,\"type\":\"scattergeo\"},{\"lat\":[31.80719948,33.43429946899414],\"line\":{\"color\":\"red\",\"width\":1},\"locationmode\":\"USA-states\",\"lon\":[-106.3779984,-112.01200103759766],\"mode\":\"lines\",\"name\":\"ELP \\u2192 PHX\",\"opacity\":0.18559177282755676,\"type\":\"scattergeo\"},{\"lat\":[33.6367,30.473400115967],\"line\":{\"color\":\"red\",\"width\":1},\"locationmode\":\"USA-states\",\"lon\":[-84.428101,-87.186599731445],\"mode\":\"lines\",\"name\":\"ATL \\u2192 PNS\",\"opacity\":0.185520603515764,\"type\":\"scattergeo\"},{\"lat\":[38.69540023803711,45.58869934],\"line\":{\"color\":\"red\",\"width\":1},\"locationmode\":\"USA-states\",\"lon\":[-121.59100341796876,-122.5979996],\"mode\":\"lines\",\"name\":\"SMF \\u2192 PDX\",\"opacity\":0.1855028111878158,\"type\":\"scattergeo\"},{\"lat\":[30.473400115967,33.6367],\"line\":{\"color\":\"red\",\"width\":1},\"locationmode\":\"USA-states\",\"lon\":[-87.186599731445,-84.428101],\"mode\":\"lines\",\"name\":\"PNS \\u2192 ATL\",\"opacity\":0.18546722653191944,\"type\":\"scattergeo\"},{\"lat\":[32.12760162,35.2140007019043],\"line\":{\"color\":\"red\",\"width\":1},\"locationmode\":\"USA-states\",\"lon\":[-81.20210266,-80.94309997558594],\"mode\":\"lines\",\"name\":\"SAV \\u2192 CLT\",\"opacity\":0.18532488790833393,\"type\":\"scattergeo\"},{\"lat\":[35.2140007019043,32.12760162],\"line\":{\"color\":\"red\",\"width\":1},\"locationmode\":\"USA-states\",\"lon\":[-80.94309997558594,-81.20210266],\"mode\":\"lines\",\"name\":\"CLT \\u2192 SAV\",\"opacity\":0.18527151092448935,\"type\":\"scattergeo\"},{\"lat\":[33.43429946899414,32.847099],\"line\":{\"color\":\"red\",\"width\":1},\"locationmode\":\"USA-states\",\"lon\":[-112.01200103759766,-96.851799],\"mode\":\"lines\",\"name\":\"PHX \\u2192 DAL\",\"opacity\":0.1850580029891111,\"type\":\"scattergeo\"},{\"lat\":[35.2140007019043,26.072599],\"line\":{\"color\":\"red\",\"width\":1},\"locationmode\":\"USA-states\",\"lon\":[-80.94309997558594,-80.152702],\"mode\":\"lines\",\"name\":\"CLT \\u2192 FLL\",\"opacity\":0.18479111806988827,\"type\":\"scattergeo\"},{\"lat\":[26.072599,35.2140007019043],\"line\":{\"color\":\"red\",\"width\":1},\"locationmode\":\"USA-states\",\"lon\":[-80.152702,-80.94309997558594],\"mode\":\"lines\",\"name\":\"FLL \\u2192 CLT\",\"opacity\":0.1847199487580955,\"type\":\"scattergeo\"},{\"lat\":[35.2140007019043,36.89459991455078],\"line\":{\"color\":\"red\",\"width\":1},\"locationmode\":\"USA-states\",\"lon\":[-80.94309997558594,-76.20120239257812],\"mode\":\"lines\",\"name\":\"CLT \\u2192 ORF\",\"opacity\":0.18429293288733897,\"type\":\"scattergeo\"},{\"lat\":[36.89459991455078,35.2140007019043],\"line\":{\"color\":\"red\",\"width\":1},\"locationmode\":\"USA-states\",\"lon\":[-76.20120239257812,-80.94309997558594],\"mode\":\"lines\",\"name\":\"ORF \\u2192 CLT\",\"opacity\":0.18420397124759805,\"type\":\"scattergeo\"},{\"lat\":[29.64539909,39.861698150635],\"line\":{\"color\":\"red\",\"width\":1},\"locationmode\":\"USA-states\",\"lon\":[-95.27890015,-104.672996521],\"mode\":\"lines\",\"name\":\"HOU \\u2192 DEN\",\"opacity\":0.18404384029606433,\"type\":\"scattergeo\"},{\"lat\":[39.1754,42.212398529052734],\"line\":{\"color\":\"red\",\"width\":1},\"locationmode\":\"USA-states\",\"lon\":[-76.668297,-83.35340118408203],\"mode\":\"lines\",\"name\":\"BWI \\u2192 DTW\",\"opacity\":0.18384812468863426,\"type\":\"scattergeo\"},{\"lat\":[32.847099,33.43429946899414],\"line\":{\"color\":\"red\",\"width\":1},\"locationmode\":\"USA-states\",\"lon\":[-96.851799,-112.01200103759766],\"mode\":\"lines\",\"name\":\"DAL \\u2192 PHX\",\"opacity\":0.1838125400327379,\"type\":\"scattergeo\"},{\"lat\":[42.212398529052734,39.1754],\"line\":{\"color\":\"red\",\"width\":1},\"locationmode\":\"USA-states\",\"lon\":[-83.35340118408203,-76.668297],\"mode\":\"lines\",\"name\":\"DTW \\u2192 BWI\",\"opacity\":0.18368799373710057,\"type\":\"scattergeo\"},{\"lat\":[42.212398529052734,33.94250107],\"line\":{\"color\":\"red\",\"width\":1},\"locationmode\":\"USA-states\",\"lon\":[-83.35340118408203,-118.4079971],\"mode\":\"lines\",\"name\":\"DTW \\u2192 LAX\",\"opacity\":0.18349227812967048,\"type\":\"scattergeo\"},{\"lat\":[39.861698150635,29.64539909],\"line\":{\"color\":\"red\",\"width\":1},\"locationmode\":\"USA-states\",\"lon\":[-104.672996521,-95.27890015],\"mode\":\"lines\",\"name\":\"DEN \\u2192 HOU\",\"opacity\":0.1833143548501886,\"type\":\"scattergeo\"},{\"lat\":[33.94250107,42.212398529052734],\"line\":{\"color\":\"red\",\"width\":1},\"locationmode\":\"USA-states\",\"lon\":[-118.4079971,-83.35340118408203],\"mode\":\"lines\",\"name\":\"LAX \\u2192 DTW\",\"opacity\":0.18326097786634404,\"type\":\"scattergeo\"},{\"lat\":[40.49150085,35.2140007019043],\"line\":{\"color\":\"red\",\"width\":1},\"locationmode\":\"USA-states\",\"lon\":[-80.23290253,-80.94309997558594],\"mode\":\"lines\",\"name\":\"PIT \\u2192 CLT\",\"opacity\":0.18306526225891395,\"type\":\"scattergeo\"},{\"lat\":[35.2140007019043,40.49150085],\"line\":{\"color\":\"red\",\"width\":1},\"locationmode\":\"USA-states\",\"lon\":[-80.94309997558594,-80.23290253],\"mode\":\"lines\",\"name\":\"CLT \\u2192 PIT\",\"opacity\":0.18294071596327663,\"type\":\"scattergeo\"},{\"lat\":[37.61899948120117,33.6367],\"line\":{\"color\":\"red\",\"width\":1},\"locationmode\":\"USA-states\",\"lon\":[-122.375,-84.428101],\"mode\":\"lines\",\"name\":\"SFO \\u2192 ATL\",\"opacity\":0.18279837733969112,\"type\":\"scattergeo\"},{\"lat\":[33.6367,37.61899948120117],\"line\":{\"color\":\"red\",\"width\":1},\"locationmode\":\"USA-states\",\"lon\":[-84.428101,-122.375],\"mode\":\"lines\",\"name\":\"ATL \\u2192 SFO\",\"opacity\":0.18274500035584657,\"type\":\"scattergeo\"},{\"lat\":[43.5644,39.861698150635],\"line\":{\"color\":\"red\",\"width\":1},\"locationmode\":\"USA-states\",\"lon\":[-116.223,-104.672996521],\"mode\":\"lines\",\"name\":\"BOI \\u2192 DEN\",\"opacity\":0.18262045406020924,\"type\":\"scattergeo\"},{\"lat\":[45.58869934,40.78839874267578],\"line\":{\"color\":\"red\",\"width\":1},\"locationmode\":\"USA-states\",\"lon\":[-122.5979996,-111.97799682617188],\"mode\":\"lines\",\"name\":\"PDX \\u2192 SLC\",\"opacity\":0.1825314924204683,\"type\":\"scattergeo\"},{\"lat\":[35.2140007019043,33.6796989441],\"line\":{\"color\":\"red\",\"width\":1},\"locationmode\":\"USA-states\",\"lon\":[-80.94309997558594,-78.9282989502],\"mode\":\"lines\",\"name\":\"CLT \\u2192 MYR\",\"opacity\":0.1825137000925201,\"type\":\"scattergeo\"},{\"lat\":[42.94720077514648,33.6367],\"line\":{\"color\":\"red\",\"width\":1},\"locationmode\":\"USA-states\",\"lon\":[-87.89659881591797,-84.428101],\"mode\":\"lines\",\"name\":\"MKE \\u2192 ATL\",\"opacity\":0.18249590776457192,\"type\":\"scattergeo\"},{\"lat\":[33.6796989441,35.2140007019043],\"line\":{\"color\":\"red\",\"width\":1},\"locationmode\":\"USA-states\",\"lon\":[-78.9282989502,-80.94309997558594],\"mode\":\"lines\",\"name\":\"MYR \\u2192 CLT\",\"opacity\":0.18249590776457192,\"type\":\"scattergeo\"},{\"lat\":[40.78839874267578,45.58869934],\"line\":{\"color\":\"red\",\"width\":1},\"locationmode\":\"USA-states\",\"lon\":[-111.97799682617188,-122.5979996],\"mode\":\"lines\",\"name\":\"SLC \\u2192 PDX\",\"opacity\":0.1823713614689346,\"type\":\"scattergeo\"},{\"lat\":[39.861698150635,43.5644],\"line\":{\"color\":\"red\",\"width\":1},\"locationmode\":\"USA-states\",\"lon\":[-104.672996521,-116.223],\"mode\":\"lines\",\"name\":\"DEN \\u2192 BOI\",\"opacity\":0.18214006120560813,\"type\":\"scattergeo\"},{\"lat\":[32.896801,34.729400634799994],\"line\":{\"color\":\"red\",\"width\":1},\"locationmode\":\"USA-states\",\"lon\":[-97.038002,-92.2242965698],\"mode\":\"lines\",\"name\":\"DFW \\u2192 LIT\",\"opacity\":0.1820155149099708,\"type\":\"scattergeo\"},{\"lat\":[42.37419891357422,47.449001],\"line\":{\"color\":\"red\",\"width\":1},\"locationmode\":\"USA-states\",\"lon\":[-122.8730010986328,-122.308998],\"mode\":\"lines\",\"name\":\"MFR \\u2192 SEA\",\"opacity\":0.1820155149099708,\"type\":\"scattergeo\"},{\"lat\":[34.729400634799994,32.896801],\"line\":{\"color\":\"red\",\"width\":1},\"locationmode\":\"USA-states\",\"lon\":[-92.2242965698,-97.038002],\"mode\":\"lines\",\"name\":\"LIT \\u2192 DFW\",\"opacity\":0.18196213792612626,\"type\":\"scattergeo\"},{\"lat\":[47.449001,42.37419891357422],\"line\":{\"color\":\"red\",\"width\":1},\"locationmode\":\"USA-states\",\"lon\":[-122.308998,-122.8730010986328],\"mode\":\"lines\",\"name\":\"SEA \\u2192 MFR\",\"opacity\":0.18196213792612626,\"type\":\"scattergeo\"},{\"lat\":[44.882,42.212398529052734],\"line\":{\"color\":\"red\",\"width\":1},\"locationmode\":\"USA-states\",\"lon\":[-93.221802,-83.35340118408203],\"mode\":\"lines\",\"name\":\"MSP \\u2192 DTW\",\"opacity\":0.18149953739947336,\"type\":\"scattergeo\"},{\"lat\":[42.212398529052734,44.882],\"line\":{\"color\":\"red\",\"width\":1},\"locationmode\":\"USA-states\",\"lon\":[-83.35340118408203,-93.221802],\"mode\":\"lines\",\"name\":\"DTW \\u2192 MSP\",\"opacity\":0.18148174507152515,\"type\":\"scattergeo\"},{\"lat\":[33.6367,42.94720077514648],\"line\":{\"color\":\"red\",\"width\":1},\"locationmode\":\"USA-states\",\"lon\":[-84.428101,-87.89659881591797],\"mode\":\"lines\",\"name\":\"ATL \\u2192 MKE\",\"opacity\":0.18146395274357696,\"type\":\"scattergeo\"},{\"lat\":[39.861698150635,39.7173],\"line\":{\"color\":\"red\",\"width\":1},\"locationmode\":\"USA-states\",\"lon\":[-104.672996521,-86.294403],\"mode\":\"lines\",\"name\":\"DEN \\u2192 IND\",\"opacity\":0.1809301829051313,\"type\":\"scattergeo\"},{\"lat\":[33.94250107,25.79319953918457],\"line\":{\"color\":\"red\",\"width\":1},\"locationmode\":\"USA-states\",\"lon\":[-118.4079971,-80.29060363769531],\"mode\":\"lines\",\"name\":\"LAX \\u2192 MIA\",\"opacity\":0.18039641306668563,\"type\":\"scattergeo\"},{\"lat\":[39.7173,39.861698150635],\"line\":{\"color\":\"red\",\"width\":1},\"locationmode\":\"USA-states\",\"lon\":[-86.294403,-104.672996521],\"mode\":\"lines\",\"name\":\"IND \\u2192 DEN\",\"opacity\":0.18037862073873745,\"type\":\"scattergeo\"},{\"lat\":[43.11119842529297,41.9786],\"line\":{\"color\":\"red\",\"width\":1},\"locationmode\":\"USA-states\",\"lon\":[-76.1063003540039,-87.9048],\"mode\":\"lines\",\"name\":\"SYR \\u2192 ORD\",\"opacity\":0.18034303608284108,\"type\":\"scattergeo\"},{\"lat\":[41.9786,43.11119842529297],\"line\":{\"color\":\"red\",\"width\":1},\"locationmode\":\"USA-states\",\"lon\":[-87.9048,-76.1063003540039],\"mode\":\"lines\",\"name\":\"ORD \\u2192 SYR\",\"opacity\":0.18034303608284108,\"type\":\"scattergeo\"},{\"lat\":[36.89459991455078,33.6367],\"line\":{\"color\":\"red\",\"width\":1},\"locationmode\":\"USA-states\",\"lon\":[-76.20120239257812,-84.428101],\"mode\":\"lines\",\"name\":\"ORF \\u2192 ATL\",\"opacity\":0.18028965909899652,\"type\":\"scattergeo\"},{\"lat\":[33.6367,36.89459991455078],\"line\":{\"color\":\"red\",\"width\":1},\"locationmode\":\"USA-states\",\"lon\":[-84.428101,-76.20120239257812],\"mode\":\"lines\",\"name\":\"ATL \\u2192 ORF\",\"opacity\":0.18023628211515194,\"type\":\"scattergeo\"},{\"lat\":[25.79319953918457,33.94250107],\"line\":{\"color\":\"red\",\"width\":1},\"locationmode\":\"USA-states\",\"lon\":[-80.29060363769531,-118.4079971],\"mode\":\"lines\",\"name\":\"MIA \\u2192 LAX\",\"opacity\":0.18011173581951462,\"type\":\"scattergeo\"},{\"lat\":[36.1245002746582,32.896801],\"line\":{\"color\":\"red\",\"width\":1},\"locationmode\":\"USA-states\",\"lon\":[-86.6781997680664,-97.038002],\"mode\":\"lines\",\"name\":\"BNA \\u2192 DFW\",\"opacity\":0.17979147391644723,\"type\":\"scattergeo\"},{\"lat\":[38.8521,42.212398529052734],\"line\":{\"color\":\"red\",\"width\":1},\"locationmode\":\"USA-states\",\"lon\":[-77.037697,-83.35340118408203],\"mode\":\"lines\",\"name\":\"DCA \\u2192 DTW\",\"opacity\":0.17972030460465446,\"type\":\"scattergeo\"},{\"lat\":[42.212398529052734,38.8521],\"line\":{\"color\":\"red\",\"width\":1},\"locationmode\":\"USA-states\",\"lon\":[-83.35340118408203,-77.037697],\"mode\":\"lines\",\"name\":\"DTW \\u2192 DCA\",\"opacity\":0.17964913529286172,\"type\":\"scattergeo\"},{\"lat\":[32.896801,36.1245002746582],\"line\":{\"color\":\"red\",\"width\":1},\"locationmode\":\"USA-states\",\"lon\":[-97.038002,-86.6781997680664],\"mode\":\"lines\",\"name\":\"DFW \\u2192 BNA\",\"opacity\":0.17961355063696535,\"type\":\"scattergeo\"},{\"lat\":[32.1161003112793,39.861698150635],\"line\":{\"color\":\"red\",\"width\":1},\"locationmode\":\"USA-states\",\"lon\":[-110.94100189208984,-104.672996521],\"mode\":\"lines\",\"name\":\"TUS \\u2192 DEN\",\"opacity\":0.17957796598106895,\"type\":\"scattergeo\"},{\"lat\":[42.212398529052734,38.94449997],\"line\":{\"color\":\"red\",\"width\":1},\"locationmode\":\"USA-states\",\"lon\":[-83.35340118408203,-77.45580292],\"mode\":\"lines\",\"name\":\"DTW \\u2192 IAD\",\"opacity\":0.1788662728631414,\"type\":\"scattergeo\"},{\"lat\":[38.94449997,42.212398529052734],\"line\":{\"color\":\"red\",\"width\":1},\"locationmode\":\"USA-states\",\"lon\":[-77.45580292,-83.35340118408203],\"mode\":\"lines\",\"name\":\"IAD \\u2192 DTW\",\"opacity\":0.17883068820724504,\"type\":\"scattergeo\"},{\"lat\":[39.861698150635,32.1161003112793],\"line\":{\"color\":\"red\",\"width\":1},\"locationmode\":\"USA-states\",\"lon\":[-104.672996521,-110.94100189208984],\"mode\":\"lines\",\"name\":\"DEN \\u2192 TUS\",\"opacity\":0.17865276492776314,\"type\":\"scattergeo\"},{\"lat\":[37.50519943237305,41.9786],\"line\":{\"color\":\"red\",\"width\":1},\"locationmode\":\"USA-states\",\"lon\":[-77.3197021484375,-87.9048],\"mode\":\"lines\",\"name\":\"RIC \\u2192 ORD\",\"opacity\":0.17835029535264393,\"type\":\"scattergeo\"},{\"lat\":[33.93880081176758,33.6367],\"line\":{\"color\":\"red\",\"width\":1},\"locationmode\":\"USA-states\",\"lon\":[-81.11949920654297,-84.428101],\"mode\":\"lines\",\"name\":\"CAE \\u2192 ATL\",\"opacity\":0.17813678741726569,\"type\":\"scattergeo\"},{\"lat\":[33.6367,33.93880081176758],\"line\":{\"color\":\"red\",\"width\":1},\"locationmode\":\"USA-states\",\"lon\":[-84.428101,-81.11949920654297],\"mode\":\"lines\",\"name\":\"ATL \\u2192 CAE\",\"opacity\":0.1781012027613693,\"type\":\"scattergeo\"},{\"lat\":[36.1245002746582,28.429399490356445],\"line\":{\"color\":\"red\",\"width\":1},\"locationmode\":\"USA-states\",\"lon\":[-86.6781997680664,-81.30899810791016],\"mode\":\"lines\",\"name\":\"BNA \\u2192 MCO\",\"opacity\":0.1781012027613693,\"type\":\"scattergeo\"},{\"lat\":[41.9786,37.50519943237305],\"line\":{\"color\":\"red\",\"width\":1},\"locationmode\":\"USA-states\",\"lon\":[-87.9048,-77.3197021484375],\"mode\":\"lines\",\"name\":\"ORD \\u2192 RIC\",\"opacity\":0.17795886413778378,\"type\":\"scattergeo\"},{\"lat\":[33.6367,39.0488014221],\"line\":{\"color\":\"red\",\"width\":1},\"locationmode\":\"USA-states\",\"lon\":[-84.428101,-84.6678009033],\"mode\":\"lines\",\"name\":\"ATL \\u2192 CVG\",\"opacity\":0.17790548715393922,\"type\":\"scattergeo\"},{\"lat\":[42.94720077514648,39.861698150635],\"line\":{\"color\":\"red\",\"width\":1},\"locationmode\":\"USA-states\",\"lon\":[-87.89659881591797,-104.672996521],\"mode\":\"lines\",\"name\":\"MKE \\u2192 DEN\",\"opacity\":0.17783431784214646,\"type\":\"scattergeo\"},{\"lat\":[39.0488014221,33.6367],\"line\":{\"color\":\"red\",\"width\":1},\"locationmode\":\"USA-states\",\"lon\":[-84.6678009033,-84.428101],\"mode\":\"lines\",\"name\":\"CVG \\u2192 ATL\",\"opacity\":0.1777809408583019,\"type\":\"scattergeo\"},{\"lat\":[35.2140007019043,33.43429946899414],\"line\":{\"color\":\"red\",\"width\":1},\"locationmode\":\"USA-states\",\"lon\":[-80.94309997558594,-112.01200103759766],\"mode\":\"lines\",\"name\":\"CLT \\u2192 PHX\",\"opacity\":0.17776314853035372,\"type\":\"scattergeo\"},{\"lat\":[39.861698150635,42.94720077514648],\"line\":{\"color\":\"red\",\"width\":1},\"locationmode\":\"USA-states\",\"lon\":[-104.672996521,-87.89659881591797],\"mode\":\"lines\",\"name\":\"DEN \\u2192 MKE\",\"opacity\":0.17754964059497544,\"type\":\"scattergeo\"},{\"lat\":[33.43429946899414,35.2140007019043],\"line\":{\"color\":\"red\",\"width\":1},\"locationmode\":\"USA-states\",\"lon\":[-112.01200103759766,-80.94309997558594],\"mode\":\"lines\",\"name\":\"PHX \\u2192 CLT\",\"opacity\":0.17751405593907907,\"type\":\"scattergeo\"},{\"lat\":[27.975500106811523,42.36429977],\"line\":{\"color\":\"red\",\"width\":1},\"locationmode\":\"USA-states\",\"lon\":[-82.533203125,-71.00520325],\"mode\":\"lines\",\"name\":\"TPA \\u2192 BOS\",\"opacity\":0.1774784712831827,\"type\":\"scattergeo\"},{\"lat\":[42.36429977,27.975500106811523],\"line\":{\"color\":\"red\",\"width\":1},\"locationmode\":\"USA-states\",\"lon\":[-71.00520325,-82.533203125],\"mode\":\"lines\",\"name\":\"BOS \\u2192 TPA\",\"opacity\":0.17738950964344175,\"type\":\"scattergeo\"},{\"lat\":[28.429399490356445,36.1245002746582],\"line\":{\"color\":\"red\",\"width\":1},\"locationmode\":\"USA-states\",\"lon\":[-81.30899810791016,-86.6781997680664],\"mode\":\"lines\",\"name\":\"MCO \\u2192 BNA\",\"opacity\":0.1773361326595972,\"type\":\"scattergeo\"},{\"lat\":[37.721298,45.58869934],\"line\":{\"color\":\"red\",\"width\":1},\"locationmode\":\"USA-states\",\"lon\":[-122.221001,-122.5979996],\"mode\":\"lines\",\"name\":\"OAK \\u2192 PDX\",\"opacity\":0.17721158636395987,\"type\":\"scattergeo\"},{\"lat\":[36.1245002746582,42.212398529052734],\"line\":{\"color\":\"red\",\"width\":1},\"locationmode\":\"USA-states\",\"lon\":[-86.6781997680664,-83.35340118408203],\"mode\":\"lines\",\"name\":\"BNA \\u2192 DTW\",\"opacity\":0.17692690911678885,\"type\":\"scattergeo\"},{\"lat\":[39.861698150635,39.22320175],\"line\":{\"color\":\"red\",\"width\":1},\"locationmode\":\"USA-states\",\"lon\":[-104.672996521,-106.8690033],\"mode\":\"lines\",\"name\":\"DEN \\u2192 ASE\",\"opacity\":0.17687353213294427,\"type\":\"scattergeo\"},{\"lat\":[38.69540023803711,33.67570114],\"line\":{\"color\":\"red\",\"width\":1},\"locationmode\":\"USA-states\",\"lon\":[-121.59100341796876,-117.8679962],\"mode\":\"lines\",\"name\":\"SMF \\u2192 SNA\",\"opacity\":0.17674898583730694,\"type\":\"scattergeo\"},{\"lat\":[39.22320175,39.861698150635],\"line\":{\"color\":\"red\",\"width\":1},\"locationmode\":\"USA-states\",\"lon\":[-106.8690033,-104.672996521],\"mode\":\"lines\",\"name\":\"ASE \\u2192 DEN\",\"opacity\":0.17671340118141057,\"type\":\"scattergeo\"},{\"lat\":[33.67570114,38.69540023803711],\"line\":{\"color\":\"red\",\"width\":1},\"locationmode\":\"USA-states\",\"lon\":[-117.8679962,-121.59100341796876],\"mode\":\"lines\",\"name\":\"SNA \\u2192 SMF\",\"opacity\":0.17666002419756602,\"type\":\"scattergeo\"},{\"lat\":[42.212398529052734,36.1245002746582],\"line\":{\"color\":\"red\",\"width\":1},\"locationmode\":\"USA-states\",\"lon\":[-83.35340118408203,-86.6781997680664],\"mode\":\"lines\",\"name\":\"DTW \\u2192 BNA\",\"opacity\":0.17660664721372143,\"type\":\"scattergeo\"},{\"lat\":[21.32062,37.61899948120117],\"line\":{\"color\":\"red\",\"width\":1},\"locationmode\":\"USA-states\",\"lon\":[-157.924228,-122.375],\"mode\":\"lines\",\"name\":\"HNL \\u2192 SFO\",\"opacity\":0.17649989324603232,\"type\":\"scattergeo\"},{\"lat\":[37.61899948120117,21.32062],\"line\":{\"color\":\"red\",\"width\":1},\"locationmode\":\"USA-states\",\"lon\":[-122.375,-157.924228],\"mode\":\"lines\",\"name\":\"SFO \\u2192 HNL\",\"opacity\":0.17641093160629137,\"type\":\"scattergeo\"},{\"lat\":[38.8521,29.984399795532227],\"line\":{\"color\":\"red\",\"width\":1},\"locationmode\":\"USA-states\",\"lon\":[-77.037697,-95.34140014648438],\"mode\":\"lines\",\"name\":\"DCA \\u2192 IAH\",\"opacity\":0.17632196996655042,\"type\":\"scattergeo\"},{\"lat\":[29.984399795532227,38.8521],\"line\":{\"color\":\"red\",\"width\":1},\"locationmode\":\"USA-states\",\"lon\":[-95.34140014648438,-77.037697],\"mode\":\"lines\",\"name\":\"IAH \\u2192 DCA\",\"opacity\":0.17630417763860223,\"type\":\"scattergeo\"},{\"lat\":[39.87189865112305,36.1245002746582],\"line\":{\"color\":\"red\",\"width\":1},\"locationmode\":\"USA-states\",\"lon\":[-75.24109649658203,-86.6781997680664],\"mode\":\"lines\",\"name\":\"PHL \\u2192 BNA\",\"opacity\":0.17569923848836383,\"type\":\"scattergeo\"},{\"lat\":[40.78839874267578,32.7336006165],\"line\":{\"color\":\"red\",\"width\":1},\"locationmode\":\"USA-states\",\"lon\":[-111.97799682617188,-117.190002441],\"mode\":\"lines\",\"name\":\"SLC \\u2192 SAN\",\"opacity\":0.17566365383246743,\"type\":\"scattergeo\"},{\"lat\":[32.7336006165,40.78839874267578],\"line\":{\"color\":\"red\",\"width\":1},\"locationmode\":\"USA-states\",\"lon\":[-117.190002441,-111.97799682617188],\"mode\":\"lines\",\"name\":\"SAN \\u2192 SLC\",\"opacity\":0.1755391075368301,\"type\":\"scattergeo\"},{\"lat\":[45.58869934,37.721298],\"line\":{\"color\":\"red\",\"width\":1},\"locationmode\":\"USA-states\",\"lon\":[-122.5979996,-122.221001],\"mode\":\"lines\",\"name\":\"PDX \\u2192 OAK\",\"opacity\":0.175432353569141,\"type\":\"scattergeo\"},{\"lat\":[33.6367,36.097801208496094],\"line\":{\"color\":\"red\",\"width\":1},\"locationmode\":\"USA-states\",\"lon\":[-84.428101,-79.93730163574219],\"mode\":\"lines\",\"name\":\"ATL \\u2192 GSO\",\"opacity\":0.17527222261760728,\"type\":\"scattergeo\"},{\"lat\":[36.097801208496094,33.6367],\"line\":{\"color\":\"red\",\"width\":1},\"locationmode\":\"USA-states\",\"lon\":[-79.93730163574219,-84.428101],\"mode\":\"lines\",\"name\":\"GSO \\u2192 ATL\",\"opacity\":0.1752366379617109,\"type\":\"scattergeo\"},{\"lat\":[41.9388999939,28.429399490356445],\"line\":{\"color\":\"red\",\"width\":1},\"locationmode\":\"USA-states\",\"lon\":[-72.68319702149999,-81.30899810791016],\"mode\":\"lines\",\"name\":\"BDL \\u2192 MCO\",\"opacity\":0.1747918297630062,\"type\":\"scattergeo\"},{\"lat\":[36.1245002746582,39.87189865112305],\"line\":{\"color\":\"red\",\"width\":1},\"locationmode\":\"USA-states\",\"lon\":[-86.6781997680664,-75.24109649658203],\"mode\":\"lines\",\"name\":\"BNA \\u2192 PHL\",\"opacity\":0.17452494484378336,\"type\":\"scattergeo\"},{\"lat\":[25.79319953918457,39.87189865112305],\"line\":{\"color\":\"red\",\"width\":1},\"locationmode\":\"USA-states\",\"lon\":[-80.29060363769531,-75.24109649658203],\"mode\":\"lines\",\"name\":\"MIA \\u2192 PHL\",\"opacity\":0.17440039854814604,\"type\":\"scattergeo\"},{\"lat\":[28.429399490356445,41.9388999939],\"line\":{\"color\":\"red\",\"width\":1},\"locationmode\":\"USA-states\",\"lon\":[-81.30899810791016,-72.68319702149999],\"mode\":\"lines\",\"name\":\"MCO \\u2192 BDL\",\"opacity\":0.17420468294071598,\"type\":\"scattergeo\"},{\"lat\":[39.87189865112305,25.79319953918457],\"line\":{\"color\":\"red\",\"width\":1},\"locationmode\":\"USA-states\",\"lon\":[-75.24109649658203,-80.29060363769531],\"mode\":\"lines\",\"name\":\"PHL \\u2192 MIA\",\"opacity\":0.17418689061276776,\"type\":\"scattergeo\"},{\"lat\":[44.882,33.94250107],\"line\":{\"color\":\"red\",\"width\":1},\"locationmode\":\"USA-states\",\"lon\":[-93.221802,-118.4079971],\"mode\":\"lines\",\"name\":\"MSP \\u2192 LAX\",\"opacity\":0.17392000569354493,\"type\":\"scattergeo\"},{\"lat\":[39.0488014221,35.2140007019043],\"line\":{\"color\":\"red\",\"width\":1},\"locationmode\":\"USA-states\",\"lon\":[-84.6678009033,-80.94309997558594],\"mode\":\"lines\",\"name\":\"CVG \\u2192 CLT\",\"opacity\":0.17377766706995942,\"type\":\"scattergeo\"},{\"lat\":[33.94250107,44.882],\"line\":{\"color\":\"red\",\"width\":1},\"locationmode\":\"USA-states\",\"lon\":[-118.4079971,-93.221802],\"mode\":\"lines\",\"name\":\"LAX \\u2192 MSP\",\"opacity\":0.17375987474201124,\"type\":\"scattergeo\"},{\"lat\":[35.2140007019043,39.0488014221],\"line\":{\"color\":\"red\",\"width\":1},\"locationmode\":\"USA-states\",\"lon\":[-80.94309997558594,-84.6678009033],\"mode\":\"lines\",\"name\":\"CLT \\u2192 CVG\",\"opacity\":0.17372429008611487,\"type\":\"scattergeo\"},{\"lat\":[33.36989974975586,33.6367],\"line\":{\"color\":\"red\",\"width\":1},\"locationmode\":\"USA-states\",\"lon\":[-81.9645004272461,-84.428101],\"mode\":\"lines\",\"name\":\"AGS \\u2192 ATL\",\"opacity\":0.17308376627998007,\"type\":\"scattergeo\"},{\"lat\":[39.2976,32.896801],\"line\":{\"color\":\"red\",\"width\":1},\"locationmode\":\"USA-states\",\"lon\":[-94.713898,-97.038002],\"mode\":\"lines\",\"name\":\"MCI \\u2192 DFW\",\"opacity\":0.17306597395203188,\"type\":\"scattergeo\"},{\"lat\":[32.896801,39.2976],\"line\":{\"color\":\"red\",\"width\":1},\"locationmode\":\"USA-states\",\"lon\":[-97.038002,-94.713898],\"mode\":\"lines\",\"name\":\"DFW \\u2192 MCI\",\"opacity\":0.17306597395203188,\"type\":\"scattergeo\"},{\"lat\":[33.6367,33.36989974975586],\"line\":{\"color\":\"red\",\"width\":1},\"locationmode\":\"USA-states\",\"lon\":[-84.428101,-81.9645004272461],\"mode\":\"lines\",\"name\":\"ATL \\u2192 AGS\",\"opacity\":0.17299480464023914,\"type\":\"scattergeo\"},{\"lat\":[29.984399795532227,36.1245002746582],\"line\":{\"color\":\"red\",\"width\":1},\"locationmode\":\"USA-states\",\"lon\":[-95.34140014648438,-86.6781997680664],\"mode\":\"lines\",\"name\":\"IAH \\u2192 BNA\",\"opacity\":0.1725855810974308,\"type\":\"scattergeo\"},{\"lat\":[40.692501068115234,26.53619956970215],\"line\":{\"color\":\"red\",\"width\":1},\"locationmode\":\"USA-states\",\"lon\":[-74.168701171875,-81.75520324707031],\"mode\":\"lines\",\"name\":\"EWR \\u2192 RSW\",\"opacity\":0.17217635755462243,\"type\":\"scattergeo\"},{\"lat\":[26.53619956970215,40.692501068115234],\"line\":{\"color\":\"red\",\"width\":1},\"locationmode\":\"USA-states\",\"lon\":[-81.75520324707031,-74.168701171875],\"mode\":\"lines\",\"name\":\"RSW \\u2192 EWR\",\"opacity\":0.17215856522667425,\"type\":\"scattergeo\"},{\"lat\":[32.847099,29.99340057373047],\"line\":{\"color\":\"red\",\"width\":1},\"locationmode\":\"USA-states\",\"lon\":[-96.851799,-90.25800323486328],\"mode\":\"lines\",\"name\":\"DAL \\u2192 MSY\",\"opacity\":0.17190947263539963,\"type\":\"scattergeo\"},{\"lat\":[35.040199,32.896801],\"line\":{\"color\":\"red\",\"width\":1},\"locationmode\":\"USA-states\",\"lon\":[-106.609001,-97.038002],\"mode\":\"lines\",\"name\":\"ABQ \\u2192 DFW\",\"opacity\":0.17151804142053947,\"type\":\"scattergeo\"},{\"lat\":[32.896801,35.040199],\"line\":{\"color\":\"red\",\"width\":1},\"locationmode\":\"USA-states\",\"lon\":[-97.038002,-106.609001],\"mode\":\"lines\",\"name\":\"DFW \\u2192 ABQ\",\"opacity\":0.17151804142053947,\"type\":\"scattergeo\"},{\"lat\":[35.2140007019043,30.49410057067871],\"line\":{\"color\":\"red\",\"width\":1},\"locationmode\":\"USA-states\",\"lon\":[-80.94309997558594,-81.68789672851562],\"mode\":\"lines\",\"name\":\"CLT \\u2192 JAX\",\"opacity\":0.17142907978079852,\"type\":\"scattergeo\"},{\"lat\":[29.99340057373047,32.847099],\"line\":{\"color\":\"red\",\"width\":1},\"locationmode\":\"USA-states\",\"lon\":[-90.25800323486328,-96.851799],\"mode\":\"lines\",\"name\":\"MSY \\u2192 DAL\",\"opacity\":0.17142907978079852,\"type\":\"scattergeo\"},{\"lat\":[30.49410057067871,35.2140007019043],\"line\":{\"color\":\"red\",\"width\":1},\"locationmode\":\"USA-states\",\"lon\":[-81.68789672851562,-80.94309997558594],\"mode\":\"lines\",\"name\":\"JAX \\u2192 CLT\",\"opacity\":0.17132232581310938,\"type\":\"scattergeo\"},{\"lat\":[64.81510162,61.17440032958984],\"line\":{\"color\":\"red\",\"width\":1},\"locationmode\":\"USA-states\",\"lon\":[-147.8560028,-149.99600219726562],\"mode\":\"lines\",\"name\":\"FAI \\u2192 ANC\",\"opacity\":0.1713045334851612,\"type\":\"scattergeo\"},{\"lat\":[35.04240036010742,32.896801],\"line\":{\"color\":\"red\",\"width\":1},\"locationmode\":\"USA-states\",\"lon\":[-89.97669982910156,-97.038002],\"mode\":\"lines\",\"name\":\"MEM \\u2192 DFW\",\"opacity\":0.17125115650131664,\"type\":\"scattergeo\"},{\"lat\":[41.9786,35.04240036010742],\"line\":{\"color\":\"red\",\"width\":1},\"locationmode\":\"USA-states\",\"lon\":[-87.9048,-89.97669982910156],\"mode\":\"lines\",\"name\":\"ORD \\u2192 MEM\",\"opacity\":0.17125115650131664,\"type\":\"scattergeo\"},{\"lat\":[36.1245002746582,29.984399795532227],\"line\":{\"color\":\"red\",\"width\":1},\"locationmode\":\"USA-states\",\"lon\":[-86.6781997680664,-95.34140014648438],\"mode\":\"lines\",\"name\":\"BNA \\u2192 IAH\",\"opacity\":0.17125115650131664,\"type\":\"scattergeo\"},{\"lat\":[42.94049835,41.9786],\"line\":{\"color\":\"red\",\"width\":1},\"locationmode\":\"USA-states\",\"lon\":[-78.73220062,-87.9048],\"mode\":\"lines\",\"name\":\"BUF \\u2192 ORD\",\"opacity\":0.1711621948615757,\"type\":\"scattergeo\"},{\"lat\":[36.1245002746582,42.36429977],\"line\":{\"color\":\"red\",\"width\":1},\"locationmode\":\"USA-states\",\"lon\":[-86.6781997680664,-71.00520325],\"mode\":\"lines\",\"name\":\"BNA \\u2192 BOS\",\"opacity\":0.1711621948615757,\"type\":\"scattergeo\"},{\"lat\":[41.9786,42.94049835],\"line\":{\"color\":\"red\",\"width\":1},\"locationmode\":\"USA-states\",\"lon\":[-87.9048,-78.73220062],\"mode\":\"lines\",\"name\":\"ORD \\u2192 BUF\",\"opacity\":0.1711444025336275,\"type\":\"scattergeo\"},{\"lat\":[32.896801,35.04240036010742],\"line\":{\"color\":\"red\",\"width\":1},\"locationmode\":\"USA-states\",\"lon\":[-97.038002,-89.97669982910156],\"mode\":\"lines\",\"name\":\"DFW \\u2192 MEM\",\"opacity\":0.1711444025336275,\"type\":\"scattergeo\"},{\"lat\":[35.04240036010742,41.9786],\"line\":{\"color\":\"red\",\"width\":1},\"locationmode\":\"USA-states\",\"lon\":[-89.97669982910156,-87.9048],\"mode\":\"lines\",\"name\":\"MEM \\u2192 ORD\",\"opacity\":0.17110881787773113,\"type\":\"scattergeo\"},{\"lat\":[29.984399795532227,26.072599],\"line\":{\"color\":\"red\",\"width\":1},\"locationmode\":\"USA-states\",\"lon\":[-95.34140014648438,-80.152702],\"mode\":\"lines\",\"name\":\"IAH \\u2192 FLL\",\"opacity\":0.17107323322183474,\"type\":\"scattergeo\"},{\"lat\":[26.072599,29.984399795532227],\"line\":{\"color\":\"red\",\"width\":1},\"locationmode\":\"USA-states\",\"lon\":[-80.152702,-95.34140014648438],\"mode\":\"lines\",\"name\":\"FLL \\u2192 IAH\",\"opacity\":0.1709486869261974,\"type\":\"scattergeo\"},{\"lat\":[42.36429977,36.1245002746582],\"line\":{\"color\":\"red\",\"width\":1},\"locationmode\":\"USA-states\",\"lon\":[-71.00520325,-86.6781997680664],\"mode\":\"lines\",\"name\":\"BOS \\u2192 BNA\",\"opacity\":0.17089530994235286,\"type\":\"scattergeo\"},{\"lat\":[39.2976,41.785999],\"line\":{\"color\":\"red\",\"width\":1},\"locationmode\":\"USA-states\",\"lon\":[-94.713898,-87.752403],\"mode\":\"lines\",\"name\":\"MCI \\u2192 MDW\",\"opacity\":0.1708597252864565,\"type\":\"scattergeo\"},{\"lat\":[32.847099,33.94250107],\"line\":{\"color\":\"red\",\"width\":1},\"locationmode\":\"USA-states\",\"lon\":[-96.851799,-118.4079971],\"mode\":\"lines\",\"name\":\"DAL \\u2192 LAX\",\"opacity\":0.17059284036723366,\"type\":\"scattergeo\"},{\"lat\":[41.9786,41.9388999939],\"line\":{\"color\":\"red\",\"width\":1},\"locationmode\":\"USA-states\",\"lon\":[-87.9048,-72.68319702149999],\"mode\":\"lines\",\"name\":\"ORD \\u2192 BDL\",\"opacity\":0.17032595544801082,\"type\":\"scattergeo\"},{\"lat\":[41.9388999939,41.9786],\"line\":{\"color\":\"red\",\"width\":1},\"locationmode\":\"USA-states\",\"lon\":[-72.68319702149999,-87.9048],\"mode\":\"lines\",\"name\":\"BDL \\u2192 ORD\",\"opacity\":0.17032595544801082,\"type\":\"scattergeo\"},{\"lat\":[41.785999,39.2976],\"line\":{\"color\":\"red\",\"width\":1},\"locationmode\":\"USA-states\",\"lon\":[-87.752403,-94.713898],\"mode\":\"lines\",\"name\":\"MDW \\u2192 MCI\",\"opacity\":0.17027257846416624,\"type\":\"scattergeo\"},{\"lat\":[29.533700942993164,33.43429946899414],\"line\":{\"color\":\"red\",\"width\":1},\"locationmode\":\"USA-states\",\"lon\":[-98.46980285644533,-112.01200103759766],\"mode\":\"lines\",\"name\":\"SAT \\u2192 PHX\",\"opacity\":0.1697032239698242,\"type\":\"scattergeo\"},{\"lat\":[33.94250107,32.847099],\"line\":{\"color\":\"red\",\"width\":1},\"locationmode\":\"USA-states\",\"lon\":[-118.4079971,-96.851799],\"mode\":\"lines\",\"name\":\"LAX \\u2192 DAL\",\"opacity\":0.1689203615401039,\"type\":\"scattergeo\"},{\"lat\":[37.721298,40.78839874267578],\"line\":{\"color\":\"red\",\"width\":1},\"locationmode\":\"USA-states\",\"lon\":[-122.221001,-111.97799682617188],\"mode\":\"lines\",\"name\":\"OAK \\u2192 SLC\",\"opacity\":0.16884919222831116,\"type\":\"scattergeo\"},{\"lat\":[36.08010101,30.194499969482425],\"line\":{\"color\":\"red\",\"width\":1},\"locationmode\":\"USA-states\",\"lon\":[-115.1520004,-97.6698989868164],\"mode\":\"lines\",\"name\":\"LAS \\u2192 AUS\",\"opacity\":0.1688136075724148,\"type\":\"scattergeo\"},{\"lat\":[30.194499969482425,36.08010101],\"line\":{\"color\":\"red\",\"width\":1},\"locationmode\":\"USA-states\",\"lon\":[-97.6698989868164,-115.1520004],\"mode\":\"lines\",\"name\":\"AUS \\u2192 LAS\",\"opacity\":0.1687780229165184,\"type\":\"scattergeo\"},{\"lat\":[32.1161003112793,33.94250107],\"line\":{\"color\":\"red\",\"width\":1},\"locationmode\":\"USA-states\",\"lon\":[-110.94100189208984,-118.4079971],\"mode\":\"lines\",\"name\":\"TUS \\u2192 LAX\",\"opacity\":0.1687602305885702,\"type\":\"scattergeo\"},{\"lat\":[40.78839874267578,37.721298],\"line\":{\"color\":\"red\",\"width\":1},\"locationmode\":\"USA-states\",\"lon\":[-111.97799682617188,-122.221001],\"mode\":\"lines\",\"name\":\"SLC \\u2192 OAK\",\"opacity\":0.16858230730908833,\"type\":\"scattergeo\"},{\"lat\":[32.896801,37.24570084],\"line\":{\"color\":\"red\",\"width\":1},\"locationmode\":\"USA-states\",\"lon\":[-97.038002,-93.38860321],\"mode\":\"lines\",\"name\":\"DFW \\u2192 SGF\",\"opacity\":0.168457761013451,\"type\":\"scattergeo\"},{\"lat\":[37.24570084,32.896801],\"line\":{\"color\":\"red\",\"width\":1},\"locationmode\":\"USA-states\",\"lon\":[-93.38860321,-97.038002],\"mode\":\"lines\",\"name\":\"SGF \\u2192 DFW\",\"opacity\":0.1683154223898655,\"type\":\"scattergeo\"},{\"lat\":[40.49150085,42.36429977],\"line\":{\"color\":\"red\",\"width\":1},\"locationmode\":\"USA-states\",\"lon\":[-80.23290253,-71.00520325],\"mode\":\"lines\",\"name\":\"PIT \\u2192 BOS\",\"opacity\":0.16820866842217636,\"type\":\"scattergeo\"},{\"lat\":[42.36429977,40.49150085],\"line\":{\"color\":\"red\",\"width\":1},\"locationmode\":\"USA-states\",\"lon\":[-71.00520325,-80.23290253],\"mode\":\"lines\",\"name\":\"BOS \\u2192 PIT\",\"opacity\":0.1681197067824354,\"type\":\"scattergeo\"},{\"lat\":[33.94250107,32.1161003112793],\"line\":{\"color\":\"red\",\"width\":1},\"locationmode\":\"USA-states\",\"lon\":[-118.4079971,-110.94100189208984],\"mode\":\"lines\",\"name\":\"LAX \\u2192 TUS\",\"opacity\":0.1680129528147463,\"type\":\"scattergeo\"},{\"lat\":[39.1754,41.785999],\"line\":{\"color\":\"red\",\"width\":1},\"locationmode\":\"USA-states\",\"lon\":[-76.668297,-87.752403],\"mode\":\"lines\",\"name\":\"BWI \\u2192 MDW\",\"opacity\":0.16771048323962706,\"type\":\"scattergeo\"},{\"lat\":[61.17440032958984,64.81510162],\"line\":{\"color\":\"red\",\"width\":1},\"locationmode\":\"USA-states\",\"lon\":[-149.99600219726562,-147.8560028],\"mode\":\"lines\",\"name\":\"ANC \\u2192 FAI\",\"opacity\":0.167514767632197,\"type\":\"scattergeo\"},{\"lat\":[33.43429946899414,29.533700942993164],\"line\":{\"color\":\"red\",\"width\":1},\"locationmode\":\"USA-states\",\"lon\":[-112.01200103759766,-98.46980285644533],\"mode\":\"lines\",\"name\":\"PHX \\u2192 SAT\",\"opacity\":0.16746139064835244,\"type\":\"scattergeo\"},{\"lat\":[39.7173,35.2140007019043],\"line\":{\"color\":\"red\",\"width\":1},\"locationmode\":\"USA-states\",\"lon\":[-86.294403,-80.94309997558594],\"mode\":\"lines\",\"name\":\"IND \\u2192 CLT\",\"opacity\":0.16746139064835244,\"type\":\"scattergeo\"},{\"lat\":[35.2140007019043,39.7173],\"line\":{\"color\":\"red\",\"width\":1},\"locationmode\":\"USA-states\",\"lon\":[-80.94309997558594,-86.294403],\"mode\":\"lines\",\"name\":\"CLT \\u2192 IND\",\"opacity\":0.16744359832040423,\"type\":\"scattergeo\"},{\"lat\":[40.63980103,27.975500106811523],\"line\":{\"color\":\"red\",\"width\":1},\"locationmode\":\"USA-states\",\"lon\":[-73.77890015,-82.533203125],\"mode\":\"lines\",\"name\":\"JFK \\u2192 TPA\",\"opacity\":0.1670699594334923,\"type\":\"scattergeo\"},{\"lat\":[33.6367,32.3111991882],\"line\":{\"color\":\"red\",\"width\":1},\"locationmode\":\"USA-states\",\"lon\":[-84.428101,-90.0758972168],\"mode\":\"lines\",\"name\":\"ATL \\u2192 JAN\",\"opacity\":0.1670699594334923,\"type\":\"scattergeo\"},{\"lat\":[32.896801,26.17580032],\"line\":{\"color\":\"red\",\"width\":1},\"locationmode\":\"USA-states\",\"lon\":[-97.038002,-98.23860168],\"mode\":\"lines\",\"name\":\"DFW \\u2192 MFE\",\"opacity\":0.1670343747775959,\"type\":\"scattergeo\"},{\"lat\":[26.17580032,32.896801],\"line\":{\"color\":\"red\",\"width\":1},\"locationmode\":\"USA-states\",\"lon\":[-98.23860168,-97.038002],\"mode\":\"lines\",\"name\":\"MFE \\u2192 DFW\",\"opacity\":0.1670343747775959,\"type\":\"scattergeo\"},{\"lat\":[27.975500106811523,40.63980103],\"line\":{\"color\":\"red\",\"width\":1},\"locationmode\":\"USA-states\",\"lon\":[-82.533203125,-73.77890015],\"mode\":\"lines\",\"name\":\"TPA \\u2192 JFK\",\"opacity\":0.1670165824496477,\"type\":\"scattergeo\"},{\"lat\":[32.3111991882,33.6367],\"line\":{\"color\":\"red\",\"width\":1},\"locationmode\":\"USA-states\",\"lon\":[-90.0758972168,-84.428101],\"mode\":\"lines\",\"name\":\"JAN \\u2192 ATL\",\"opacity\":0.16699879012169952,\"type\":\"scattergeo\"},{\"lat\":[33.6367,38.0364990234375],\"line\":{\"color\":\"red\",\"width\":1},\"locationmode\":\"USA-states\",\"lon\":[-84.428101,-84.60590362548828],\"mode\":\"lines\",\"name\":\"ATL \\u2192 LEX\",\"opacity\":0.16682086684221764,\"type\":\"scattergeo\"},{\"lat\":[38.0364990234375,33.6367],\"line\":{\"color\":\"red\",\"width\":1},\"locationmode\":\"USA-states\",\"lon\":[-84.60590362548828,-84.428101],\"mode\":\"lines\",\"name\":\"LEX \\u2192 ATL\",\"opacity\":0.16680307451426946,\"type\":\"scattergeo\"},{\"lat\":[40.692501068115234,40.49150085],\"line\":{\"color\":\"red\",\"width\":1},\"locationmode\":\"USA-states\",\"lon\":[-74.168701171875,-80.23290253],\"mode\":\"lines\",\"name\":\"EWR \\u2192 PIT\",\"opacity\":0.16612696605223828,\"type\":\"scattergeo\"},{\"lat\":[40.49150085,40.692501068115234],\"line\":{\"color\":\"red\",\"width\":1},\"locationmode\":\"USA-states\",\"lon\":[-80.23290253,-74.168701171875],\"mode\":\"lines\",\"name\":\"PIT \\u2192 EWR\",\"opacity\":0.16598462742865278,\"type\":\"scattergeo\"},{\"lat\":[32.896801,38.748697],\"line\":{\"color\":\"red\",\"width\":1},\"locationmode\":\"USA-states\",\"lon\":[-97.038002,-90.370003],\"mode\":\"lines\",\"name\":\"DFW \\u2192 STL\",\"opacity\":0.16566436552558536,\"type\":\"scattergeo\"},{\"lat\":[38.748697,32.896801],\"line\":{\"color\":\"red\",\"width\":1},\"locationmode\":\"USA-states\",\"lon\":[-90.370003,-97.038002],\"mode\":\"lines\",\"name\":\"STL \\u2192 DFW\",\"opacity\":0.16564657319763718,\"type\":\"scattergeo\"},{\"lat\":[33.93880081176758,35.2140007019043],\"line\":{\"color\":\"red\",\"width\":1},\"locationmode\":\"USA-states\",\"lon\":[-81.11949920654297,-80.94309997558594],\"mode\":\"lines\",\"name\":\"CAE \\u2192 CLT\",\"opacity\":0.16559319621379262,\"type\":\"scattergeo\"},{\"lat\":[35.2140007019043,33.93880081176758],\"line\":{\"color\":\"red\",\"width\":1},\"locationmode\":\"USA-states\",\"lon\":[-80.94309997558594,-81.11949920654297],\"mode\":\"lines\",\"name\":\"CLT \\u2192 CAE\",\"opacity\":0.1654508575902071,\"type\":\"scattergeo\"},{\"lat\":[35.43619918823242,35.2140007019043],\"line\":{\"color\":\"red\",\"width\":1},\"locationmode\":\"USA-states\",\"lon\":[-82.54180145263672,-80.94309997558594],\"mode\":\"lines\",\"name\":\"AVL \\u2192 CLT\",\"opacity\":0.16536189595046616,\"type\":\"scattergeo\"},{\"lat\":[35.2140007019043,35.43619918823242],\"line\":{\"color\":\"red\",\"width\":1},\"locationmode\":\"USA-states\",\"lon\":[-80.94309997558594,-82.54180145263672],\"mode\":\"lines\",\"name\":\"CLT \\u2192 AVL\",\"opacity\":0.16534410362251797,\"type\":\"scattergeo\"},{\"lat\":[43.118900299072266,41.9786],\"line\":{\"color\":\"red\",\"width\":1},\"locationmode\":\"USA-states\",\"lon\":[-77.67240142822266,-87.9048],\"mode\":\"lines\",\"name\":\"ROC \\u2192 ORD\",\"opacity\":0.16520176499893247,\"type\":\"scattergeo\"},{\"lat\":[41.9786,43.118900299072266],\"line\":{\"color\":\"red\",\"width\":1},\"locationmode\":\"USA-states\",\"lon\":[-87.9048,-77.67240142822266],\"mode\":\"lines\",\"name\":\"ORD \\u2192 ROC\",\"opacity\":0.16509501103124333,\"type\":\"scattergeo\"},{\"lat\":[35.2140007019043,39.998001],\"line\":{\"color\":\"red\",\"width\":1},\"locationmode\":\"USA-states\",\"lon\":[-80.94309997558594,-82.891899],\"mode\":\"lines\",\"name\":\"CLT \\u2192 CMH\",\"opacity\":0.1649882570635542,\"type\":\"scattergeo\"},{\"lat\":[35.877601623535156,28.429399490356445],\"line\":{\"color\":\"red\",\"width\":1},\"locationmode\":\"USA-states\",\"lon\":[-78.7874984741211,-81.30899810791016],\"mode\":\"lines\",\"name\":\"RDU \\u2192 MCO\",\"opacity\":0.164970464735606,\"type\":\"scattergeo\"},{\"lat\":[39.998001,35.2140007019043],\"line\":{\"color\":\"red\",\"width\":1},\"locationmode\":\"USA-states\",\"lon\":[-82.891899,-80.94309997558594],\"mode\":\"lines\",\"name\":\"CMH \\u2192 CLT\",\"opacity\":0.16493488007970963,\"type\":\"scattergeo\"},{\"lat\":[28.429399490356445,35.877601623535156],\"line\":{\"color\":\"red\",\"width\":1},\"locationmode\":\"USA-states\",\"lon\":[-81.30899810791016,-78.7874984741211],\"mode\":\"lines\",\"name\":\"MCO \\u2192 RDU\",\"opacity\":0.16486371076791687,\"type\":\"scattergeo\"},{\"lat\":[41.9786,40.63980103],\"line\":{\"color\":\"red\",\"width\":1},\"locationmode\":\"USA-states\",\"lon\":[-87.9048,-73.77890015],\"mode\":\"lines\",\"name\":\"ORD \\u2192 JFK\",\"opacity\":0.16484591843996868,\"type\":\"scattergeo\"},{\"lat\":[41.785999,39.1754],\"line\":{\"color\":\"red\",\"width\":1},\"locationmode\":\"USA-states\",\"lon\":[-87.752403,-76.668297],\"mode\":\"lines\",\"name\":\"MDW \\u2192 BWI\",\"opacity\":0.16473916447227954,\"type\":\"scattergeo\"},{\"lat\":[40.63980103,41.9786],\"line\":{\"color\":\"red\",\"width\":1},\"locationmode\":\"USA-states\",\"lon\":[-73.77890015,-87.9048],\"mode\":\"lines\",\"name\":\"JFK \\u2192 ORD\",\"opacity\":0.16457903352074585,\"type\":\"scattergeo\"},{\"lat\":[39.861698150635,29.99340057373047],\"line\":{\"color\":\"red\",\"width\":1},\"locationmode\":\"USA-states\",\"lon\":[-104.672996521,-90.25800323486328],\"mode\":\"lines\",\"name\":\"DEN \\u2192 MSY\",\"opacity\":0.16409864066614477,\"type\":\"scattergeo\"},{\"lat\":[42.212398529052734,27.975500106811523],\"line\":{\"color\":\"red\",\"width\":1},\"locationmode\":\"USA-states\",\"lon\":[-83.35340118408203,-82.533203125],\"mode\":\"lines\",\"name\":\"DTW \\u2192 TPA\",\"opacity\":0.16393850971461105,\"type\":\"scattergeo\"},{\"lat\":[27.975500106811523,42.212398529052734],\"line\":{\"color\":\"red\",\"width\":1},\"locationmode\":\"USA-states\",\"lon\":[-82.533203125,-83.35340118408203],\"mode\":\"lines\",\"name\":\"TPA \\u2192 DTW\",\"opacity\":0.1638673404028183,\"type\":\"scattergeo\"},{\"lat\":[44.882,42.36429977],\"line\":{\"color\":\"red\",\"width\":1},\"locationmode\":\"USA-states\",\"lon\":[-93.221802,-71.00520325],\"mode\":\"lines\",\"name\":\"MSP \\u2192 BOS\",\"opacity\":0.16360045548359547,\"type\":\"scattergeo\"},{\"lat\":[42.36429977,44.882],\"line\":{\"color\":\"red\",\"width\":1},\"locationmode\":\"USA-states\",\"lon\":[-71.00520325,-93.221802],\"mode\":\"lines\",\"name\":\"BOS \\u2192 MSP\",\"opacity\":0.1635292861718027,\"type\":\"scattergeo\"},{\"lat\":[29.984399795532227,31.9424991607666],\"line\":{\"color\":\"red\",\"width\":1},\"locationmode\":\"USA-states\",\"lon\":[-95.34140014648438,-102.2020034790039],\"mode\":\"lines\",\"name\":\"IAH \\u2192 MAF\",\"opacity\":0.16329798590847627,\"type\":\"scattergeo\"},{\"lat\":[41.785999,42.212398529052734],\"line\":{\"color\":\"red\",\"width\":1},\"locationmode\":\"USA-states\",\"lon\":[-87.752403,-83.35340118408203],\"mode\":\"lines\",\"name\":\"MDW \\u2192 DTW\",\"opacity\":0.1632801935805281,\"type\":\"scattergeo\"},{\"lat\":[29.99340057373047,39.861698150635],\"line\":{\"color\":\"red\",\"width\":1},\"locationmode\":\"USA-states\",\"lon\":[-90.25800323486328,-104.672996521],\"mode\":\"lines\",\"name\":\"MSY \\u2192 DEN\",\"opacity\":0.1632268165966835,\"type\":\"scattergeo\"},{\"lat\":[31.9424991607666,29.984399795532227],\"line\":{\"color\":\"red\",\"width\":1},\"locationmode\":\"USA-states\",\"lon\":[-102.2020034790039,-95.34140014648438],\"mode\":\"lines\",\"name\":\"MAF \\u2192 IAH\",\"opacity\":0.16319123194078713,\"type\":\"scattergeo\"},{\"lat\":[36.281898,41.9786],\"line\":{\"color\":\"red\",\"width\":1},\"locationmode\":\"USA-states\",\"lon\":[-94.306801,-87.9048],\"mode\":\"lines\",\"name\":\"XNA \\u2192 ORD\",\"opacity\":0.16312006262899437,\"type\":\"scattergeo\"},{\"lat\":[41.9786,36.281898],\"line\":{\"color\":\"red\",\"width\":1},\"locationmode\":\"USA-states\",\"lon\":[-87.9048,-94.306801],\"mode\":\"lines\",\"name\":\"ORD \\u2192 XNA\",\"opacity\":0.16312006262899437,\"type\":\"scattergeo\"},{\"lat\":[33.6367,27.39539909362793],\"line\":{\"color\":\"red\",\"width\":1},\"locationmode\":\"USA-states\",\"lon\":[-84.428101,-82.55439758300781],\"mode\":\"lines\",\"name\":\"ATL \\u2192 SRQ\",\"opacity\":0.163084477973098,\"type\":\"scattergeo\"},{\"lat\":[39.87189865112305,33.94250107],\"line\":{\"color\":\"red\",\"width\":1},\"locationmode\":\"USA-states\",\"lon\":[-75.24109649658203,-118.4079971],\"mode\":\"lines\",\"name\":\"PHL \\u2192 LAX\",\"opacity\":0.16283538538182335,\"type\":\"scattergeo\"},{\"lat\":[26.53619956970215,42.212398529052734],\"line\":{\"color\":\"red\",\"width\":1},\"locationmode\":\"USA-states\",\"lon\":[-81.75520324707031,-83.35340118408203],\"mode\":\"lines\",\"name\":\"RSW \\u2192 DTW\",\"opacity\":0.16283538538182335,\"type\":\"scattergeo\"},{\"lat\":[33.94250107,39.87189865112305],\"line\":{\"color\":\"red\",\"width\":1},\"locationmode\":\"USA-states\",\"lon\":[-118.4079971,-75.24109649658203],\"mode\":\"lines\",\"name\":\"LAX \\u2192 PHL\",\"opacity\":0.16281759305387516,\"type\":\"scattergeo\"},{\"lat\":[27.39539909362793,33.6367],\"line\":{\"color\":\"red\",\"width\":1},\"locationmode\":\"USA-states\",\"lon\":[-82.55439758300781,-84.428101],\"mode\":\"lines\",\"name\":\"SRQ \\u2192 ATL\",\"opacity\":0.1627820083979788,\"type\":\"scattergeo\"},{\"lat\":[42.212398529052734,26.53619956970215],\"line\":{\"color\":\"red\",\"width\":1},\"locationmode\":\"USA-states\",\"lon\":[-83.35340118408203,-81.75520324707031],\"mode\":\"lines\",\"name\":\"DTW \\u2192 RSW\",\"opacity\":0.1627820083979788,\"type\":\"scattergeo\"},{\"lat\":[39.0488014221,40.692501068115234],\"line\":{\"color\":\"red\",\"width\":1},\"locationmode\":\"USA-states\",\"lon\":[-84.6678009033,-74.168701171875],\"mode\":\"lines\",\"name\":\"CVG \\u2192 EWR\",\"opacity\":0.16271083908618603,\"type\":\"scattergeo\"},{\"lat\":[40.692501068115234,39.0488014221],\"line\":{\"color\":\"red\",\"width\":1},\"locationmode\":\"USA-states\",\"lon\":[-74.168701171875,-84.6678009033],\"mode\":\"lines\",\"name\":\"EWR \\u2192 CVG\",\"opacity\":0.16260408511849692,\"type\":\"scattergeo\"},{\"lat\":[29.64539909,32.896801],\"line\":{\"color\":\"red\",\"width\":1},\"locationmode\":\"USA-states\",\"lon\":[-95.27890015,-97.038002],\"mode\":\"lines\",\"name\":\"HOU \\u2192 DFW\",\"opacity\":0.16253291580670415,\"type\":\"scattergeo\"},{\"lat\":[32.896801,29.64539909],\"line\":{\"color\":\"red\",\"width\":1},\"locationmode\":\"USA-states\",\"lon\":[-97.038002,-95.27890015],\"mode\":\"lines\",\"name\":\"DFW \\u2192 HOU\",\"opacity\":0.16253291580670415,\"type\":\"scattergeo\"},{\"lat\":[38.748697,28.429399490356445],\"line\":{\"color\":\"red\",\"width\":1},\"locationmode\":\"USA-states\",\"lon\":[-90.370003,-81.30899810791016],\"mode\":\"lines\",\"name\":\"STL \\u2192 MCO\",\"opacity\":0.16251512347875596,\"type\":\"scattergeo\"},{\"lat\":[43.5820007324,41.9786],\"line\":{\"color\":\"red\",\"width\":1},\"locationmode\":\"USA-states\",\"lon\":[-96.741897583,-87.9048],\"mode\":\"lines\",\"name\":\"FSD \\u2192 ORD\",\"opacity\":0.16235499252722227,\"type\":\"scattergeo\"},{\"lat\":[41.9786,43.5820007324],\"line\":{\"color\":\"red\",\"width\":1},\"locationmode\":\"USA-states\",\"lon\":[-87.9048,-96.741897583],\"mode\":\"lines\",\"name\":\"ORD \\u2192 FSD\",\"opacity\":0.1623016155433777,\"type\":\"scattergeo\"},{\"lat\":[42.212398529052734,41.785999],\"line\":{\"color\":\"red\",\"width\":1},\"locationmode\":\"USA-states\",\"lon\":[-83.35340118408203,-87.752403],\"mode\":\"lines\",\"name\":\"DTW \\u2192 MDW\",\"opacity\":0.16221265390363676,\"type\":\"scattergeo\"},{\"lat\":[26.53619956970215,42.36429977],\"line\":{\"color\":\"red\",\"width\":1},\"locationmode\":\"USA-states\",\"lon\":[-81.75520324707031,-71.00520325],\"mode\":\"lines\",\"name\":\"RSW \\u2192 BOS\",\"opacity\":0.16196356131236211,\"type\":\"scattergeo\"},{\"lat\":[42.36429977,26.53619956970215],\"line\":{\"color\":\"red\",\"width\":1},\"locationmode\":\"USA-states\",\"lon\":[-71.00520325,-81.75520324707031],\"mode\":\"lines\",\"name\":\"BOS \\u2192 RSW\",\"opacity\":0.16187459967262116,\"type\":\"scattergeo\"},{\"lat\":[28.429399490356445,38.748697],\"line\":{\"color\":\"red\",\"width\":1},\"locationmode\":\"USA-states\",\"lon\":[-81.30899810791016,-90.370003],\"mode\":\"lines\",\"name\":\"MCO \\u2192 STL\",\"opacity\":0.1618390150167248,\"type\":\"scattergeo\"},{\"lat\":[35.2140007019043,38.13859939575195],\"line\":{\"color\":\"red\",\"width\":1},\"locationmode\":\"USA-states\",\"lon\":[-80.94309997558594,-78.4529037475586],\"mode\":\"lines\",\"name\":\"CLT \\u2192 CHO\",\"opacity\":0.1613408298341755,\"type\":\"scattergeo\"},{\"lat\":[39.861698150635,37.1515007019],\"line\":{\"color\":\"red\",\"width\":1},\"locationmode\":\"USA-states\",\"lon\":[-104.672996521,-107.753997803],\"mode\":\"lines\",\"name\":\"DEN \\u2192 DRO\",\"opacity\":0.1613408298341755,\"type\":\"scattergeo\"},{\"lat\":[37.1515007019,39.861698150635],\"line\":{\"color\":\"red\",\"width\":1},\"locationmode\":\"USA-states\",\"lon\":[-107.753997803,-104.672996521],\"mode\":\"lines\",\"name\":\"DRO \\u2192 DEN\",\"opacity\":0.16130524517827913,\"type\":\"scattergeo\"},{\"lat\":[38.13859939575195,35.2140007019043],\"line\":{\"color\":\"red\",\"width\":1},\"locationmode\":\"USA-states\",\"lon\":[-78.4529037475586,-80.94309997558594],\"mode\":\"lines\",\"name\":\"CHO \\u2192 CLT\",\"opacity\":0.16128745285033094,\"type\":\"scattergeo\"},{\"lat\":[38.8521,44.882],\"line\":{\"color\":\"red\",\"width\":1},\"locationmode\":\"USA-states\",\"lon\":[-77.037697,-93.221802],\"mode\":\"lines\",\"name\":\"DCA \\u2192 MSP\",\"opacity\":0.16100277560315993,\"type\":\"scattergeo\"},{\"lat\":[34.637199401855,33.6367],\"line\":{\"color\":\"red\",\"width\":1},\"locationmode\":\"USA-states\",\"lon\":[-86.775100708008,-84.428101],\"mode\":\"lines\",\"name\":\"HSV \\u2192 ATL\",\"opacity\":0.16084264465162623,\"type\":\"scattergeo\"},{\"lat\":[44.882,38.8521],\"line\":{\"color\":\"red\",\"width\":1},\"locationmode\":\"USA-states\",\"lon\":[-93.221802,-77.037697],\"mode\":\"lines\",\"name\":\"MSP \\u2192 DCA\",\"opacity\":0.16080705999572983,\"type\":\"scattergeo\"},{\"lat\":[33.6367,34.637199401855],\"line\":{\"color\":\"red\",\"width\":1},\"locationmode\":\"USA-states\",\"lon\":[-84.428101,-86.775100708008],\"mode\":\"lines\",\"name\":\"ATL \\u2192 HSV\",\"opacity\":0.16080705999572983,\"type\":\"scattergeo\"},{\"lat\":[34.055999755859375,38.69540023803711],\"line\":{\"color\":\"red\",\"width\":1},\"locationmode\":\"USA-states\",\"lon\":[-117.60099792480467,-121.59100341796876],\"mode\":\"lines\",\"name\":\"ONT \\u2192 SMF\",\"opacity\":0.1607003060280407,\"type\":\"scattergeo\"},{\"lat\":[26.072599,38.8521],\"line\":{\"color\":\"red\",\"width\":1},\"locationmode\":\"USA-states\",\"lon\":[-80.152702,-77.037697],\"mode\":\"lines\",\"name\":\"FLL \\u2192 DCA\",\"opacity\":0.1607003060280407,\"type\":\"scattergeo\"},{\"lat\":[38.69540023803711,34.055999755859375],\"line\":{\"color\":\"red\",\"width\":1},\"locationmode\":\"USA-states\",\"lon\":[-121.59100341796876,-117.60099792480467],\"mode\":\"lines\",\"name\":\"SMF \\u2192 ONT\",\"opacity\":0.16061134438829977,\"type\":\"scattergeo\"},{\"lat\":[35.2140007019043,38.1744],\"line\":{\"color\":\"red\",\"width\":1},\"locationmode\":\"USA-states\",\"lon\":[-80.94309997558594,-85.736],\"mode\":\"lines\",\"name\":\"CLT \\u2192 SDF\",\"opacity\":0.16061134438829977,\"type\":\"scattergeo\"},{\"lat\":[38.1744,35.2140007019043],\"line\":{\"color\":\"red\",\"width\":1},\"locationmode\":\"USA-states\",\"lon\":[-85.736,-80.94309997558594],\"mode\":\"lines\",\"name\":\"SDF \\u2192 CLT\",\"opacity\":0.16052238274855882,\"type\":\"scattergeo\"},{\"lat\":[35.2140007019043,35.81100082],\"line\":{\"color\":\"red\",\"width\":1},\"locationmode\":\"USA-states\",\"lon\":[-80.94309997558594,-83.9940033],\"mode\":\"lines\",\"name\":\"CLT \\u2192 TYS\",\"opacity\":0.16030887481318057,\"type\":\"scattergeo\"},{\"lat\":[35.81100082,35.2140007019043],\"line\":{\"color\":\"red\",\"width\":1},\"locationmode\":\"USA-states\",\"lon\":[-83.9940033,-80.94309997558594],\"mode\":\"lines\",\"name\":\"TYS \\u2192 CLT\",\"opacity\":0.16027329015728417,\"type\":\"scattergeo\"},{\"lat\":[29.64539909,41.785999],\"line\":{\"color\":\"red\",\"width\":1},\"locationmode\":\"USA-states\",\"lon\":[-95.27890015,-87.752403],\"mode\":\"lines\",\"name\":\"HOU \\u2192 MDW\",\"opacity\":0.16027329015728417,\"type\":\"scattergeo\"},{\"lat\":[38.8521,26.072599],\"line\":{\"color\":\"red\",\"width\":1},\"locationmode\":\"USA-states\",\"lon\":[-77.037697,-80.152702],\"mode\":\"lines\",\"name\":\"DCA \\u2192 FLL\",\"opacity\":0.16014874386164685,\"type\":\"scattergeo\"},{\"lat\":[37.3255,35.2140007019043],\"line\":{\"color\":\"red\",\"width\":1},\"locationmode\":\"USA-states\",\"lon\":[-79.975403,-80.94309997558594],\"mode\":\"lines\",\"name\":\"ROA \\u2192 CLT\",\"opacity\":0.1600953668778023,\"type\":\"scattergeo\"},{\"lat\":[32.896801,31.9424991607666],\"line\":{\"color\":\"red\",\"width\":1},\"locationmode\":\"USA-states\",\"lon\":[-97.038002,-102.2020034790039],\"mode\":\"lines\",\"name\":\"DFW \\u2192 MAF\",\"opacity\":0.16002419756600952,\"type\":\"scattergeo\"},{\"lat\":[31.9424991607666,32.896801],\"line\":{\"color\":\"red\",\"width\":1},\"locationmode\":\"USA-states\",\"lon\":[-102.2020034790039,-97.038002],\"mode\":\"lines\",\"name\":\"MAF \\u2192 DFW\",\"opacity\":0.15997082058216497,\"type\":\"scattergeo\"},{\"lat\":[35.2140007019043,37.3255],\"line\":{\"color\":\"red\",\"width\":1},\"locationmode\":\"USA-states\",\"lon\":[-80.94309997558594,-79.975403],\"mode\":\"lines\",\"name\":\"CLT \\u2192 ROA\",\"opacity\":0.15997082058216497,\"type\":\"scattergeo\"},{\"lat\":[44.882,35.2140007019043],\"line\":{\"color\":\"red\",\"width\":1},\"locationmode\":\"USA-states\",\"lon\":[-93.221802,-80.94309997558594],\"mode\":\"lines\",\"name\":\"MSP \\u2192 CLT\",\"opacity\":0.1597751049747349,\"type\":\"scattergeo\"},{\"lat\":[35.2140007019043,44.882],\"line\":{\"color\":\"red\",\"width\":1},\"locationmode\":\"USA-states\",\"lon\":[-80.94309997558594,-93.221802],\"mode\":\"lines\",\"name\":\"CLT \\u2192 MSP\",\"opacity\":0.1597573126467867,\"type\":\"scattergeo\"},{\"lat\":[42.36429977,47.449001],\"line\":{\"color\":\"red\",\"width\":1},\"locationmode\":\"USA-states\",\"lon\":[-71.00520325,-122.308998],\"mode\":\"lines\",\"name\":\"BOS \\u2192 SEA\",\"opacity\":0.15972172799089032,\"type\":\"scattergeo\"},{\"lat\":[33.663601,32.896801],\"line\":{\"color\":\"red\",\"width\":1},\"locationmode\":\"USA-states\",\"lon\":[-101.822998,-97.038002],\"mode\":\"lines\",\"name\":\"LBB \\u2192 DFW\",\"opacity\":0.15970393566294214,\"type\":\"scattergeo\"},{\"lat\":[47.449001,42.36429977],\"line\":{\"color\":\"red\",\"width\":1},\"locationmode\":\"USA-states\",\"lon\":[-122.308998,-71.00520325],\"mode\":\"lines\",\"name\":\"SEA \\u2192 BOS\",\"opacity\":0.15968614333499395,\"type\":\"scattergeo\"},{\"lat\":[32.896801,33.663601],\"line\":{\"color\":\"red\",\"width\":1},\"locationmode\":\"USA-states\",\"lon\":[-97.038002,-101.822998],\"mode\":\"lines\",\"name\":\"DFW \\u2192 LBB\",\"opacity\":0.15968614333499395,\"type\":\"scattergeo\"},{\"lat\":[41.785999,29.64539909],\"line\":{\"color\":\"red\",\"width\":1},\"locationmode\":\"USA-states\",\"lon\":[-87.752403,-95.27890015],\"mode\":\"lines\",\"name\":\"MDW \\u2192 HOU\",\"opacity\":0.15954380471140844,\"type\":\"scattergeo\"},{\"lat\":[36.19839859008789,39.861698150635],\"line\":{\"color\":\"red\",\"width\":1},\"locationmode\":\"USA-states\",\"lon\":[-95.88809967041016,-104.672996521],\"mode\":\"lines\",\"name\":\"TUL \\u2192 DEN\",\"opacity\":0.1594548430716675,\"type\":\"scattergeo\"},{\"lat\":[42.212398529052734,33.43429946899414],\"line\":{\"color\":\"red\",\"width\":1},\"locationmode\":\"USA-states\",\"lon\":[-83.35340118408203,-112.01200103759766],\"mode\":\"lines\",\"name\":\"DTW \\u2192 PHX\",\"opacity\":0.1592947121201338,\"type\":\"scattergeo\"},{\"lat\":[41.785999,36.1245002746582],\"line\":{\"color\":\"red\",\"width\":1},\"locationmode\":\"USA-states\",\"lon\":[-87.752403,-86.6781997680664],\"mode\":\"lines\",\"name\":\"MDW \\u2192 BNA\",\"opacity\":0.15920575048039284,\"type\":\"scattergeo\"},{\"lat\":[36.19839859008789,29.984399795532227],\"line\":{\"color\":\"red\",\"width\":1},\"locationmode\":\"USA-states\",\"lon\":[-95.88809967041016,-95.34140014648438],\"mode\":\"lines\",\"name\":\"TUL \\u2192 IAH\",\"opacity\":0.15895665788911822,\"type\":\"scattergeo\"},{\"lat\":[33.43429946899414,42.212398529052734],\"line\":{\"color\":\"red\",\"width\":1},\"locationmode\":\"USA-states\",\"lon\":[-112.01200103759766,-83.35340118408203],\"mode\":\"lines\",\"name\":\"PHX \\u2192 DTW\",\"opacity\":0.15888548857732546,\"type\":\"scattergeo\"},{\"lat\":[39.861698150635,36.19839859008789],\"line\":{\"color\":\"red\",\"width\":1},\"locationmode\":\"USA-states\",\"lon\":[-104.672996521,-95.88809967041016],\"mode\":\"lines\",\"name\":\"DEN \\u2192 TUL\",\"opacity\":0.1588143192655327,\"type\":\"scattergeo\"},{\"lat\":[29.984399795532227,36.19839859008789],\"line\":{\"color\":\"red\",\"width\":1},\"locationmode\":\"USA-states\",\"lon\":[-95.34140014648438,-95.88809967041016],\"mode\":\"lines\",\"name\":\"IAH \\u2192 TUL\",\"opacity\":0.15874314995373995,\"type\":\"scattergeo\"},{\"lat\":[35.2140007019043,33.94250107],\"line\":{\"color\":\"red\",\"width\":1},\"locationmode\":\"USA-states\",\"lon\":[-80.94309997558594,-118.4079971],\"mode\":\"lines\",\"name\":\"CLT \\u2192 LAX\",\"opacity\":0.158654188313999,\"type\":\"scattergeo\"},{\"lat\":[36.1245002746582,41.785999],\"line\":{\"color\":\"red\",\"width\":1},\"locationmode\":\"USA-states\",\"lon\":[-86.6781997680664,-87.752403],\"mode\":\"lines\",\"name\":\"BNA \\u2192 MDW\",\"opacity\":0.15856522667425807,\"type\":\"scattergeo\"},{\"lat\":[33.94250107,35.2140007019043],\"line\":{\"color\":\"red\",\"width\":1},\"locationmode\":\"USA-states\",\"lon\":[-118.4079971,-80.94309997558594],\"mode\":\"lines\",\"name\":\"LAX \\u2192 CLT\",\"opacity\":0.15854743434630988,\"type\":\"scattergeo\"},{\"lat\":[36.08010101,32.847099],\"line\":{\"color\":\"red\",\"width\":1},\"locationmode\":\"USA-states\",\"lon\":[-115.1520004,-96.851799],\"mode\":\"lines\",\"name\":\"LAS \\u2192 DAL\",\"opacity\":0.15820938011529428,\"type\":\"scattergeo\"},{\"lat\":[44.882,40.77719879],\"line\":{\"color\":\"red\",\"width\":1},\"locationmode\":\"USA-states\",\"lon\":[-93.221802,-73.87259674],\"mode\":\"lines\",\"name\":\"MSP \\u2192 LGA\",\"opacity\":0.15820938011529428,\"type\":\"scattergeo\"},{\"lat\":[40.77719879,44.882],\"line\":{\"color\":\"red\",\"width\":1},\"locationmode\":\"USA-states\",\"lon\":[-73.87259674,-93.221802],\"mode\":\"lines\",\"name\":\"LGA \\u2192 MSP\",\"opacity\":0.15794249519607145,\"type\":\"scattergeo\"},{\"lat\":[38.748697,41.785999],\"line\":{\"color\":\"red\",\"width\":1},\"locationmode\":\"USA-states\",\"lon\":[-90.370003,-87.752403],\"mode\":\"lines\",\"name\":\"STL \\u2192 MDW\",\"opacity\":0.1578713258842787,\"type\":\"scattergeo\"},{\"lat\":[32.896801,27.77039909362793],\"line\":{\"color\":\"red\",\"width\":1},\"locationmode\":\"USA-states\",\"lon\":[-97.038002,-97.5011978149414],\"mode\":\"lines\",\"name\":\"DFW \\u2192 CRP\",\"opacity\":0.1578535335563305,\"type\":\"scattergeo\"},{\"lat\":[27.77039909362793,32.896801],\"line\":{\"color\":\"red\",\"width\":1},\"locationmode\":\"USA-states\",\"lon\":[-97.5011978149414,-97.038002],\"mode\":\"lines\",\"name\":\"CRP \\u2192 DFW\",\"opacity\":0.15783574122838231,\"type\":\"scattergeo\"},{\"lat\":[38.8521,38.748697],\"line\":{\"color\":\"red\",\"width\":1},\"locationmode\":\"USA-states\",\"lon\":[-77.037697,-90.370003],\"mode\":\"lines\",\"name\":\"DCA \\u2192 STL\",\"opacity\":0.1577467795886414,\"type\":\"scattergeo\"},{\"lat\":[32.847099,36.08010101],\"line\":{\"color\":\"red\",\"width\":1},\"locationmode\":\"USA-states\",\"lon\":[-96.851799,-115.1520004],\"mode\":\"lines\",\"name\":\"DAL \\u2192 LAS\",\"opacity\":0.15765781794890044,\"type\":\"scattergeo\"},{\"lat\":[28.429399490356445,44.882],\"line\":{\"color\":\"red\",\"width\":1},\"locationmode\":\"USA-states\",\"lon\":[-81.30899810791016,-93.221802],\"mode\":\"lines\",\"name\":\"MCO \\u2192 MSP\",\"opacity\":0.15760444096505588,\"type\":\"scattergeo\"},{\"lat\":[44.882,28.429399490356445],\"line\":{\"color\":\"red\",\"width\":1},\"locationmode\":\"USA-states\",\"lon\":[-93.221802,-81.30899810791016],\"mode\":\"lines\",\"name\":\"MSP \\u2192 MCO\",\"opacity\":0.15758664863710767,\"type\":\"scattergeo\"},{\"lat\":[41.9786,37.24570084],\"line\":{\"color\":\"red\",\"width\":1},\"locationmode\":\"USA-states\",\"lon\":[-87.9048,-93.38860321],\"mode\":\"lines\",\"name\":\"ORD \\u2192 SGF\",\"opacity\":0.15756885630915948,\"type\":\"scattergeo\"},{\"lat\":[37.61899948120117,30.194499969482425],\"line\":{\"color\":\"red\",\"width\":1},\"locationmode\":\"USA-states\",\"lon\":[-122.375,-97.6698989868164],\"mode\":\"lines\",\"name\":\"SFO \\u2192 AUS\",\"opacity\":0.1575332716532631,\"type\":\"scattergeo\"},{\"lat\":[37.24570084,41.9786],\"line\":{\"color\":\"red\",\"width\":1},\"locationmode\":\"USA-states\",\"lon\":[-93.38860321,-87.9048],\"mode\":\"lines\",\"name\":\"SGF \\u2192 ORD\",\"opacity\":0.15746210234147034,\"type\":\"scattergeo\"},{\"lat\":[30.194499969482425,37.61899948120117],\"line\":{\"color\":\"red\",\"width\":1},\"locationmode\":\"USA-states\",\"lon\":[-97.6698989868164,-122.375],\"mode\":\"lines\",\"name\":\"AUS \\u2192 SFO\",\"opacity\":0.15735534837378123,\"type\":\"scattergeo\"},{\"lat\":[38.748697,38.8521],\"line\":{\"color\":\"red\",\"width\":1},\"locationmode\":\"USA-states\",\"lon\":[-90.370003,-77.037697],\"mode\":\"lines\",\"name\":\"STL \\u2192 DCA\",\"opacity\":0.15717742509429933,\"type\":\"scattergeo\"},{\"lat\":[26.072599,39.861698150635],\"line\":{\"color\":\"red\",\"width\":1},\"locationmode\":\"USA-states\",\"lon\":[-80.152702,-104.672996521],\"mode\":\"lines\",\"name\":\"FLL \\u2192 DEN\",\"opacity\":0.1569283325030247,\"type\":\"scattergeo\"},{\"lat\":[41.785999,38.748697],\"line\":{\"color\":\"red\",\"width\":1},\"locationmode\":\"USA-states\",\"lon\":[-87.752403,-90.370003],\"mode\":\"lines\",\"name\":\"MDW \\u2192 STL\",\"opacity\":0.15682157853533557,\"type\":\"scattergeo\"},{\"lat\":[39.861698150635,26.072599],\"line\":{\"color\":\"red\",\"width\":1},\"locationmode\":\"USA-states\",\"lon\":[-104.672996521,-80.152702],\"mode\":\"lines\",\"name\":\"DEN \\u2192 FLL\",\"opacity\":0.15678599387943917,\"type\":\"scattergeo\"},{\"lat\":[40.63980103,33.43429946899414],\"line\":{\"color\":\"red\",\"width\":1},\"locationmode\":\"USA-states\",\"lon\":[-73.77890015,-112.01200103759766],\"mode\":\"lines\",\"name\":\"JFK \\u2192 PHX\",\"opacity\":0.15603871610561526,\"type\":\"scattergeo\"},{\"lat\":[33.43429946899414,40.63980103],\"line\":{\"color\":\"red\",\"width\":1},\"locationmode\":\"USA-states\",\"lon\":[-112.01200103759766,-73.77890015],\"mode\":\"lines\",\"name\":\"PHX \\u2192 JFK\",\"opacity\":0.1559853391217707,\"type\":\"scattergeo\"},{\"lat\":[32.896801,31.067199707],\"line\":{\"color\":\"red\",\"width\":1},\"locationmode\":\"USA-states\",\"lon\":[-97.038002,-97.8289031982],\"mode\":\"lines\",\"name\":\"DFW \\u2192 GRK\",\"opacity\":0.15582520817023698,\"type\":\"scattergeo\"},{\"lat\":[31.067199707,32.896801],\"line\":{\"color\":\"red\",\"width\":1},\"locationmode\":\"USA-states\",\"lon\":[-97.8289031982,-97.038002],\"mode\":\"lines\",\"name\":\"GRK \\u2192 DFW\",\"opacity\":0.1558074158422888,\"type\":\"scattergeo\"},{\"lat\":[35.877601623535156,39.1754],\"line\":{\"color\":\"red\",\"width\":1},\"locationmode\":\"USA-states\",\"lon\":[-78.7874984741211,-76.668297],\"mode\":\"lines\",\"name\":\"RDU \\u2192 BWI\",\"opacity\":0.15575403885844424,\"type\":\"scattergeo\"},{\"lat\":[33.94250107,35.040199],\"line\":{\"color\":\"red\",\"width\":1},\"locationmode\":\"USA-states\",\"lon\":[-118.4079971,-106.609001],\"mode\":\"lines\",\"name\":\"LAX \\u2192 ABQ\",\"opacity\":0.15530923065973953,\"type\":\"scattergeo\"},{\"lat\":[41.9786,45.58869934],\"line\":{\"color\":\"red\",\"width\":1},\"locationmode\":\"USA-states\",\"lon\":[-87.9048,-122.5979996],\"mode\":\"lines\",\"name\":\"ORD \\u2192 PDX\",\"opacity\":0.15525585367589495,\"type\":\"scattergeo\"},{\"lat\":[45.58869934,41.9786],\"line\":{\"color\":\"red\",\"width\":1},\"locationmode\":\"USA-states\",\"lon\":[-122.5979996,-87.9048],\"mode\":\"lines\",\"name\":\"PDX \\u2192 ORD\",\"opacity\":0.15523806134794677,\"type\":\"scattergeo\"},{\"lat\":[41.9786,35.81100082],\"line\":{\"color\":\"red\",\"width\":1},\"locationmode\":\"USA-states\",\"lon\":[-87.9048,-83.9940033],\"mode\":\"lines\",\"name\":\"ORD \\u2192 TYS\",\"opacity\":0.15511351505230944,\"type\":\"scattergeo\"},{\"lat\":[35.040199,33.94250107],\"line\":{\"color\":\"red\",\"width\":1},\"locationmode\":\"USA-states\",\"lon\":[-106.609001,-118.4079971],\"mode\":\"lines\",\"name\":\"ABQ \\u2192 LAX\",\"opacity\":0.15495338410077575,\"type\":\"scattergeo\"},{\"lat\":[30.357106,33.6367],\"line\":{\"color\":\"red\",\"width\":1},\"locationmode\":\"USA-states\",\"lon\":[-85.795414,-84.428101],\"mode\":\"lines\",\"name\":\"ECP \\u2192 ATL\",\"opacity\":0.15475766849334566,\"type\":\"scattergeo\"},{\"lat\":[33.6367,30.357106],\"line\":{\"color\":\"red\",\"width\":1},\"locationmode\":\"USA-states\",\"lon\":[-84.428101,-85.795414],\"mode\":\"lines\",\"name\":\"ATL \\u2192 ECP\",\"opacity\":0.15468649918155292,\"type\":\"scattergeo\"},{\"lat\":[35.81100082,41.9786],\"line\":{\"color\":\"red\",\"width\":1},\"locationmode\":\"USA-states\",\"lon\":[-83.9940033,-87.9048],\"mode\":\"lines\",\"name\":\"TYS \\u2192 ORD\",\"opacity\":0.15465091452565655,\"type\":\"scattergeo\"},{\"lat\":[35.877601623535156,38.8521],\"line\":{\"color\":\"red\",\"width\":1},\"locationmode\":\"USA-states\",\"lon\":[-78.7874984741211,-77.037697],\"mode\":\"lines\",\"name\":\"RDU \\u2192 DCA\",\"opacity\":0.15461532986976015,\"type\":\"scattergeo\"},{\"lat\":[38.8521,35.877601623535156],\"line\":{\"color\":\"red\",\"width\":1},\"locationmode\":\"USA-states\",\"lon\":[-77.037697,-78.7874984741211],\"mode\":\"lines\",\"name\":\"DCA \\u2192 RDU\",\"opacity\":0.15452636823001922,\"type\":\"scattergeo\"},{\"lat\":[26.072599,33.94250107],\"line\":{\"color\":\"red\",\"width\":1},\"locationmode\":\"USA-states\",\"lon\":[-80.152702,-118.4079971],\"mode\":\"lines\",\"name\":\"FLL \\u2192 LAX\",\"opacity\":0.15417052167105544,\"type\":\"scattergeo\"},{\"lat\":[33.94250107,26.072599],\"line\":{\"color\":\"red\",\"width\":1},\"locationmode\":\"USA-states\",\"lon\":[-118.4079971,-80.152702],\"mode\":\"lines\",\"name\":\"LAX \\u2192 FLL\",\"opacity\":0.15411714468721088,\"type\":\"scattergeo\"},{\"lat\":[39.1754,35.877601623535156],\"line\":{\"color\":\"red\",\"width\":1},\"locationmode\":\"USA-states\",\"lon\":[-76.668297,-78.7874984741211],\"mode\":\"lines\",\"name\":\"BWI \\u2192 RDU\",\"opacity\":0.1540993523592627,\"type\":\"scattergeo\"},{\"lat\":[33.6367,30.4832],\"line\":{\"color\":\"red\",\"width\":1},\"locationmode\":\"USA-states\",\"lon\":[-84.428101,-86.525398],\"mode\":\"lines\",\"name\":\"ATL \\u2192 VPS\",\"opacity\":0.15408156003131449,\"type\":\"scattergeo\"},{\"lat\":[30.4832,33.6367],\"line\":{\"color\":\"red\",\"width\":1},\"locationmode\":\"USA-states\",\"lon\":[-86.525398,-84.428101],\"mode\":\"lines\",\"name\":\"VPS \\u2192 ATL\",\"opacity\":0.1540637677033663,\"type\":\"scattergeo\"},{\"lat\":[40.692501068115234,33.43429946899414],\"line\":{\"color\":\"red\",\"width\":1},\"locationmode\":\"USA-states\",\"lon\":[-74.168701171875,-112.01200103759766],\"mode\":\"lines\",\"name\":\"EWR \\u2192 PHX\",\"opacity\":0.15367233648850614,\"type\":\"scattergeo\"},{\"lat\":[20.8986,37.61899948120117],\"line\":{\"color\":\"red\",\"width\":1},\"locationmode\":\"USA-states\",\"lon\":[-156.429993,-122.375],\"mode\":\"lines\",\"name\":\"OGG \\u2192 SFO\",\"opacity\":0.1536189595046616,\"type\":\"scattergeo\"},{\"lat\":[37.61899948120117,20.8986],\"line\":{\"color\":\"red\",\"width\":1},\"locationmode\":\"USA-states\",\"lon\":[-122.375,-156.429993],\"mode\":\"lines\",\"name\":\"SFO \\u2192 OGG\",\"opacity\":0.1536189595046616,\"type\":\"scattergeo\"},{\"lat\":[39.49909973144531,33.43429946899414],\"line\":{\"color\":\"red\",\"width\":1},\"locationmode\":\"USA-states\",\"lon\":[-119.76799774169922,-112.01200103759766],\"mode\":\"lines\",\"name\":\"RNO \\u2192 PHX\",\"opacity\":0.15358337484876522,\"type\":\"scattergeo\"},{\"lat\":[33.43429946899414,40.692501068115234],\"line\":{\"color\":\"red\",\"width\":1},\"locationmode\":\"USA-states\",\"lon\":[-112.01200103759766,-74.168701171875],\"mode\":\"lines\",\"name\":\"PHX \\u2192 EWR\",\"opacity\":0.15358337484876522,\"type\":\"scattergeo\"},{\"lat\":[33.43429946899414,39.49909973144531],\"line\":{\"color\":\"red\",\"width\":1},\"locationmode\":\"USA-states\",\"lon\":[-112.01200103759766,-119.76799774169922],\"mode\":\"lines\",\"name\":\"PHX \\u2192 RNO\",\"opacity\":0.15287168173083765,\"type\":\"scattergeo\"},{\"lat\":[34.055999755859375,37.721298],\"line\":{\"color\":\"red\",\"width\":1},\"locationmode\":\"USA-states\",\"lon\":[-117.60099792480467,-122.221001],\"mode\":\"lines\",\"name\":\"ONT \\u2192 OAK\",\"opacity\":0.15283609707494128,\"type\":\"scattergeo\"},{\"lat\":[39.49909973144531,39.861698150635],\"line\":{\"color\":\"red\",\"width\":1},\"locationmode\":\"USA-states\",\"lon\":[-119.76799774169922,-104.672996521],\"mode\":\"lines\",\"name\":\"RNO \\u2192 DEN\",\"opacity\":0.1524980428439257,\"type\":\"scattergeo\"},{\"lat\":[29.984399795532227,26.17580032],\"line\":{\"color\":\"red\",\"width\":1},\"locationmode\":\"USA-states\",\"lon\":[-95.34140014648438,-98.23860168],\"mode\":\"lines\",\"name\":\"IAH \\u2192 MFE\",\"opacity\":0.15230232723649562,\"type\":\"scattergeo\"},{\"lat\":[26.17580032,29.984399795532227],\"line\":{\"color\":\"red\",\"width\":1},\"locationmode\":\"USA-states\",\"lon\":[-98.23860168,-95.34140014648438],\"mode\":\"lines\",\"name\":\"MFE \\u2192 IAH\",\"opacity\":0.15226674258059925,\"type\":\"scattergeo\"},{\"lat\":[34.729400634799994,33.6367],\"line\":{\"color\":\"red\",\"width\":1},\"locationmode\":\"USA-states\",\"lon\":[-92.2242965698,-84.428101],\"mode\":\"lines\",\"name\":\"LIT \\u2192 ATL\",\"opacity\":0.15219557326880648,\"type\":\"scattergeo\"},{\"lat\":[39.7173,28.429399490356445],\"line\":{\"color\":\"red\",\"width\":1},\"locationmode\":\"USA-states\",\"lon\":[-86.294403,-81.30899810791016],\"mode\":\"lines\",\"name\":\"IND \\u2192 MCO\",\"opacity\":0.1521777809408583,\"type\":\"scattergeo\"},{\"lat\":[39.861698150635,39.49909973144531],\"line\":{\"color\":\"red\",\"width\":1},\"locationmode\":\"USA-states\",\"lon\":[-104.672996521,-119.76799774169922],\"mode\":\"lines\",\"name\":\"DEN \\u2192 RNO\",\"opacity\":0.15196427300548004,\"type\":\"scattergeo\"},{\"lat\":[41.44850158691406,41.9786],\"line\":{\"color\":\"red\",\"width\":1},\"locationmode\":\"USA-states\",\"lon\":[-90.50749969482422,-87.9048],\"mode\":\"lines\",\"name\":\"MLI \\u2192 ORD\",\"opacity\":0.15196427300548004,\"type\":\"scattergeo\"},{\"lat\":[41.9786,41.44850158691406],\"line\":{\"color\":\"red\",\"width\":1},\"locationmode\":\"USA-states\",\"lon\":[-87.9048,-90.50749969482422],\"mode\":\"lines\",\"name\":\"ORD \\u2192 MLI\",\"opacity\":0.15192868834958365,\"type\":\"scattergeo\"},{\"lat\":[33.6367,34.729400634799994],\"line\":{\"color\":\"red\",\"width\":1},\"locationmode\":\"USA-states\",\"lon\":[-84.428101,-92.2242965698],\"mode\":\"lines\",\"name\":\"ATL \\u2192 LIT\",\"opacity\":0.15189310369368728,\"type\":\"scattergeo\"},{\"lat\":[41.9786,37.649899],\"line\":{\"color\":\"red\",\"width\":1},\"locationmode\":\"USA-states\",\"lon\":[-87.9048,-97.433098],\"mode\":\"lines\",\"name\":\"ORD \\u2192 ICT\",\"opacity\":0.15182193438189454,\"type\":\"scattergeo\"},{\"lat\":[37.649899,41.9786],\"line\":{\"color\":\"red\",\"width\":1},\"locationmode\":\"USA-states\",\"lon\":[-97.433098,-87.9048],\"mode\":\"lines\",\"name\":\"ICT \\u2192 ORD\",\"opacity\":0.15180414205394635,\"type\":\"scattergeo\"},{\"lat\":[40.692501068115234,36.1245002746582],\"line\":{\"color\":\"red\",\"width\":1},\"locationmode\":\"USA-states\",\"lon\":[-74.168701171875,-86.6781997680664],\"mode\":\"lines\",\"name\":\"EWR \\u2192 BNA\",\"opacity\":0.15175076507010177,\"type\":\"scattergeo\"},{\"lat\":[36.1245002746582,40.692501068115234],\"line\":{\"color\":\"red\",\"width\":1},\"locationmode\":\"USA-states\",\"lon\":[-86.6781997680664,-74.168701171875],\"mode\":\"lines\",\"name\":\"BNA \\u2192 EWR\",\"opacity\":0.1517151804142054,\"type\":\"scattergeo\"},{\"lat\":[28.429399490356445,39.7173],\"line\":{\"color\":\"red\",\"width\":1},\"locationmode\":\"USA-states\",\"lon\":[-81.30899810791016,-86.294403],\"mode\":\"lines\",\"name\":\"MCO \\u2192 IND\",\"opacity\":0.15166180343036084,\"type\":\"scattergeo\"},{\"lat\":[39.87189865112305,35.877601623535156],\"line\":{\"color\":\"red\",\"width\":1},\"locationmode\":\"USA-states\",\"lon\":[-75.24109649658203,-78.7874984741211],\"mode\":\"lines\",\"name\":\"PHL \\u2192 RDU\",\"opacity\":0.15148388015087894,\"type\":\"scattergeo\"},{\"lat\":[35.877601623535156,39.87189865112305],\"line\":{\"color\":\"red\",\"width\":1},\"locationmode\":\"USA-states\",\"lon\":[-78.7874984741211,-75.24109649658203],\"mode\":\"lines\",\"name\":\"RDU \\u2192 PHL\",\"opacity\":0.1513593338552416,\"type\":\"scattergeo\"},{\"lat\":[45.58869934,47.61989974975586],\"line\":{\"color\":\"red\",\"width\":1},\"locationmode\":\"USA-states\",\"lon\":[-122.5979996,-117.53399658203124],\"mode\":\"lines\",\"name\":\"PDX \\u2192 GEG\",\"opacity\":0.15128816454344887,\"type\":\"scattergeo\"},{\"lat\":[47.61989974975586,45.58869934],\"line\":{\"color\":\"red\",\"width\":1},\"locationmode\":\"USA-states\",\"lon\":[-117.53399658203124,-122.5979996],\"mode\":\"lines\",\"name\":\"GEG \\u2192 PDX\",\"opacity\":0.1512347875596043,\"type\":\"scattergeo\"},{\"lat\":[36.1245002746582,33.94250107],\"line\":{\"color\":\"red\",\"width\":1},\"locationmode\":\"USA-states\",\"lon\":[-86.6781997680664,-118.4079971],\"mode\":\"lines\",\"name\":\"BNA \\u2192 LAX\",\"opacity\":0.15119920290370792,\"type\":\"scattergeo\"},{\"lat\":[29.984399795532227,47.449001],\"line\":{\"color\":\"red\",\"width\":1},\"locationmode\":\"USA-states\",\"lon\":[-95.34140014648438,-122.308998],\"mode\":\"lines\",\"name\":\"IAH \\u2192 SEA\",\"opacity\":0.1507721870329514,\"type\":\"scattergeo\"},{\"lat\":[47.449001,29.984399795532227],\"line\":{\"color\":\"red\",\"width\":1},\"locationmode\":\"USA-states\",\"lon\":[-122.308998,-95.34140014648438],\"mode\":\"lines\",\"name\":\"SEA \\u2192 IAH\",\"opacity\":0.1507721870329514,\"type\":\"scattergeo\"},{\"lat\":[41.732601,38.8521],\"line\":{\"color\":\"red\",\"width\":1},\"locationmode\":\"USA-states\",\"lon\":[-71.420403,-77.037697],\"mode\":\"lines\",\"name\":\"PVD \\u2192 DCA\",\"opacity\":0.1506120560814177,\"type\":\"scattergeo\"},{\"lat\":[33.94250107,36.1245002746582],\"line\":{\"color\":\"red\",\"width\":1},\"locationmode\":\"USA-states\",\"lon\":[-118.4079971,-86.6781997680664],\"mode\":\"lines\",\"name\":\"LAX \\u2192 BNA\",\"opacity\":0.15059426375346951,\"type\":\"scattergeo\"},{\"lat\":[33.43429946899414,39.87189865112305],\"line\":{\"color\":\"red\",\"width\":1},\"locationmode\":\"USA-states\",\"lon\":[-112.01200103759766,-75.24109649658203],\"mode\":\"lines\",\"name\":\"PHX \\u2192 PHL\",\"opacity\":0.1505764714255213,\"type\":\"scattergeo\"},{\"lat\":[39.87189865112305,33.43429946899414],\"line\":{\"color\":\"red\",\"width\":1},\"locationmode\":\"USA-states\",\"lon\":[-75.24109649658203,-112.01200103759766],\"mode\":\"lines\",\"name\":\"PHL \\u2192 PHX\",\"opacity\":0.15050530211372856,\"type\":\"scattergeo\"},{\"lat\":[47.449001,21.32062],\"line\":{\"color\":\"red\",\"width\":1},\"locationmode\":\"USA-states\",\"lon\":[-122.308998,-157.924228],\"mode\":\"lines\",\"name\":\"SEA \\u2192 HNL\",\"opacity\":0.15050530211372856,\"type\":\"scattergeo\"},{\"lat\":[21.32062,47.449001],\"line\":{\"color\":\"red\",\"width\":1},\"locationmode\":\"USA-states\",\"lon\":[-157.924228,-122.308998],\"mode\":\"lines\",\"name\":\"HNL \\u2192 SEA\",\"opacity\":0.15050530211372856,\"type\":\"scattergeo\"},{\"lat\":[32.1161003112793,32.896801],\"line\":{\"color\":\"red\",\"width\":1},\"locationmode\":\"USA-states\",\"lon\":[-110.94100189208984,-97.038002],\"mode\":\"lines\",\"name\":\"TUS \\u2192 DFW\",\"opacity\":0.150451925129884,\"type\":\"scattergeo\"},{\"lat\":[32.896801,32.1161003112793],\"line\":{\"color\":\"red\",\"width\":1},\"locationmode\":\"USA-states\",\"lon\":[-97.038002,-110.94100189208984],\"mode\":\"lines\",\"name\":\"DFW \\u2192 TUS\",\"opacity\":0.1504341328019358,\"type\":\"scattergeo\"},{\"lat\":[32.847099,39.2976],\"line\":{\"color\":\"red\",\"width\":1},\"locationmode\":\"USA-states\",\"lon\":[-96.851799,-94.713898],\"mode\":\"lines\",\"name\":\"DAL \\u2192 MCI\",\"opacity\":0.15029179417835029,\"type\":\"scattergeo\"},{\"lat\":[38.8521,41.732601],\"line\":{\"color\":\"red\",\"width\":1},\"locationmode\":\"USA-states\",\"lon\":[-77.037697,-71.420403],\"mode\":\"lines\",\"name\":\"DCA \\u2192 PVD\",\"opacity\":0.15023841719450573,\"type\":\"scattergeo\"},{\"lat\":[25.79319953918457,18.4393997192],\"line\":{\"color\":\"red\",\"width\":1},\"locationmode\":\"USA-states\",\"lon\":[-80.29060363769531,-66.0018005371],\"mode\":\"lines\",\"name\":\"MIA \\u2192 SJU\",\"opacity\":0.15016724788271296,\"type\":\"scattergeo\"},{\"lat\":[18.4393997192,25.79319953918457],\"line\":{\"color\":\"red\",\"width\":1},\"locationmode\":\"USA-states\",\"lon\":[-66.0018005371,-80.29060363769531],\"mode\":\"lines\",\"name\":\"SJU \\u2192 MIA\",\"opacity\":0.15014945555476478,\"type\":\"scattergeo\"},{\"lat\":[41.9786,40.1935005188],\"line\":{\"color\":\"red\",\"width\":1},\"locationmode\":\"USA-states\",\"lon\":[-87.9048,-76.7633972168],\"mode\":\"lines\",\"name\":\"ORD \\u2192 MDT\",\"opacity\":0.15014945555476478,\"type\":\"scattergeo\"},{\"lat\":[41.9786,38.0364990234375],\"line\":{\"color\":\"red\",\"width\":1},\"locationmode\":\"USA-states\",\"lon\":[-87.9048,-84.60590362548828],\"mode\":\"lines\",\"name\":\"ORD \\u2192 LEX\",\"opacity\":0.1501138708988684,\"type\":\"scattergeo\"},{\"lat\":[41.9786,42.74829864501953],\"line\":{\"color\":\"red\",\"width\":1},\"locationmode\":\"USA-states\",\"lon\":[-87.9048,-73.80169677734375],\"mode\":\"lines\",\"name\":\"ORD \\u2192 ALB\",\"opacity\":0.15007828624297204,\"type\":\"scattergeo\"},{\"lat\":[40.1935005188,41.9786],\"line\":{\"color\":\"red\",\"width\":1},\"locationmode\":\"USA-states\",\"lon\":[-76.7633972168,-87.9048],\"mode\":\"lines\",\"name\":\"MDT \\u2192 ORD\",\"opacity\":0.15006049391502385,\"type\":\"scattergeo\"},{\"lat\":[42.74829864501953,41.9786],\"line\":{\"color\":\"red\",\"width\":1},\"locationmode\":\"USA-states\",\"lon\":[-73.80169677734375,-87.9048],\"mode\":\"lines\",\"name\":\"ALB \\u2192 ORD\",\"opacity\":0.15002490925912745,\"type\":\"scattergeo\"},{\"lat\":[38.0364990234375,41.9786],\"line\":{\"color\":\"red\",\"width\":1},\"locationmode\":\"USA-states\",\"lon\":[-84.60590362548828,-87.9048],\"mode\":\"lines\",\"name\":\"LEX \\u2192 ORD\",\"opacity\":0.14998932460323108,\"type\":\"scattergeo\"}],                        {\"template\":{\"data\":{\"histogram2dcontour\":[{\"type\":\"histogram2dcontour\",\"colorbar\":{\"outlinewidth\":0,\"ticks\":\"\"},\"colorscale\":[[0.0,\"#0d0887\"],[0.1111111111111111,\"#46039f\"],[0.2222222222222222,\"#7201a8\"],[0.3333333333333333,\"#9c179e\"],[0.4444444444444444,\"#bd3786\"],[0.5555555555555556,\"#d8576b\"],[0.6666666666666666,\"#ed7953\"],[0.7777777777777778,\"#fb9f3a\"],[0.8888888888888888,\"#fdca26\"],[1.0,\"#f0f921\"]]}],\"choropleth\":[{\"type\":\"choropleth\",\"colorbar\":{\"outlinewidth\":0,\"ticks\":\"\"}}],\"histogram2d\":[{\"type\":\"histogram2d\",\"colorbar\":{\"outlinewidth\":0,\"ticks\":\"\"},\"colorscale\":[[0.0,\"#0d0887\"],[0.1111111111111111,\"#46039f\"],[0.2222222222222222,\"#7201a8\"],[0.3333333333333333,\"#9c179e\"],[0.4444444444444444,\"#bd3786\"],[0.5555555555555556,\"#d8576b\"],[0.6666666666666666,\"#ed7953\"],[0.7777777777777778,\"#fb9f3a\"],[0.8888888888888888,\"#fdca26\"],[1.0,\"#f0f921\"]]}],\"heatmap\":[{\"type\":\"heatmap\",\"colorbar\":{\"outlinewidth\":0,\"ticks\":\"\"},\"colorscale\":[[0.0,\"#0d0887\"],[0.1111111111111111,\"#46039f\"],[0.2222222222222222,\"#7201a8\"],[0.3333333333333333,\"#9c179e\"],[0.4444444444444444,\"#bd3786\"],[0.5555555555555556,\"#d8576b\"],[0.6666666666666666,\"#ed7953\"],[0.7777777777777778,\"#fb9f3a\"],[0.8888888888888888,\"#fdca26\"],[1.0,\"#f0f921\"]]}],\"contourcarpet\":[{\"type\":\"contourcarpet\",\"colorbar\":{\"outlinewidth\":0,\"ticks\":\"\"}}],\"contour\":[{\"type\":\"contour\",\"colorbar\":{\"outlinewidth\":0,\"ticks\":\"\"},\"colorscale\":[[0.0,\"#0d0887\"],[0.1111111111111111,\"#46039f\"],[0.2222222222222222,\"#7201a8\"],[0.3333333333333333,\"#9c179e\"],[0.4444444444444444,\"#bd3786\"],[0.5555555555555556,\"#d8576b\"],[0.6666666666666666,\"#ed7953\"],[0.7777777777777778,\"#fb9f3a\"],[0.8888888888888888,\"#fdca26\"],[1.0,\"#f0f921\"]]}],\"surface\":[{\"type\":\"surface\",\"colorbar\":{\"outlinewidth\":0,\"ticks\":\"\"},\"colorscale\":[[0.0,\"#0d0887\"],[0.1111111111111111,\"#46039f\"],[0.2222222222222222,\"#7201a8\"],[0.3333333333333333,\"#9c179e\"],[0.4444444444444444,\"#bd3786\"],[0.5555555555555556,\"#d8576b\"],[0.6666666666666666,\"#ed7953\"],[0.7777777777777778,\"#fb9f3a\"],[0.8888888888888888,\"#fdca26\"],[1.0,\"#f0f921\"]]}],\"mesh3d\":[{\"type\":\"mesh3d\",\"colorbar\":{\"outlinewidth\":0,\"ticks\":\"\"}}],\"scatter\":[{\"fillpattern\":{\"fillmode\":\"overlay\",\"size\":10,\"solidity\":0.2},\"type\":\"scatter\"}],\"parcoords\":[{\"type\":\"parcoords\",\"line\":{\"colorbar\":{\"outlinewidth\":0,\"ticks\":\"\"}}}],\"scatterpolargl\":[{\"type\":\"scatterpolargl\",\"marker\":{\"colorbar\":{\"outlinewidth\":0,\"ticks\":\"\"}}}],\"bar\":[{\"error_x\":{\"color\":\"#2a3f5f\"},\"error_y\":{\"color\":\"#2a3f5f\"},\"marker\":{\"line\":{\"color\":\"#E5ECF6\",\"width\":0.5},\"pattern\":{\"fillmode\":\"overlay\",\"size\":10,\"solidity\":0.2}},\"type\":\"bar\"}],\"scattergeo\":[{\"type\":\"scattergeo\",\"marker\":{\"colorbar\":{\"outlinewidth\":0,\"ticks\":\"\"}}}],\"scatterpolar\":[{\"type\":\"scatterpolar\",\"marker\":{\"colorbar\":{\"outlinewidth\":0,\"ticks\":\"\"}}}],\"histogram\":[{\"marker\":{\"pattern\":{\"fillmode\":\"overlay\",\"size\":10,\"solidity\":0.2}},\"type\":\"histogram\"}],\"scattergl\":[{\"type\":\"scattergl\",\"marker\":{\"colorbar\":{\"outlinewidth\":0,\"ticks\":\"\"}}}],\"scatter3d\":[{\"type\":\"scatter3d\",\"line\":{\"colorbar\":{\"outlinewidth\":0,\"ticks\":\"\"}},\"marker\":{\"colorbar\":{\"outlinewidth\":0,\"ticks\":\"\"}}}],\"scattermap\":[{\"type\":\"scattermap\",\"marker\":{\"colorbar\":{\"outlinewidth\":0,\"ticks\":\"\"}}}],\"scattermapbox\":[{\"type\":\"scattermapbox\",\"marker\":{\"colorbar\":{\"outlinewidth\":0,\"ticks\":\"\"}}}],\"scatterternary\":[{\"type\":\"scatterternary\",\"marker\":{\"colorbar\":{\"outlinewidth\":0,\"ticks\":\"\"}}}],\"scattercarpet\":[{\"type\":\"scattercarpet\",\"marker\":{\"colorbar\":{\"outlinewidth\":0,\"ticks\":\"\"}}}],\"carpet\":[{\"aaxis\":{\"endlinecolor\":\"#2a3f5f\",\"gridcolor\":\"white\",\"linecolor\":\"white\",\"minorgridcolor\":\"white\",\"startlinecolor\":\"#2a3f5f\"},\"baxis\":{\"endlinecolor\":\"#2a3f5f\",\"gridcolor\":\"white\",\"linecolor\":\"white\",\"minorgridcolor\":\"white\",\"startlinecolor\":\"#2a3f5f\"},\"type\":\"carpet\"}],\"table\":[{\"cells\":{\"fill\":{\"color\":\"#EBF0F8\"},\"line\":{\"color\":\"white\"}},\"header\":{\"fill\":{\"color\":\"#C8D4E3\"},\"line\":{\"color\":\"white\"}},\"type\":\"table\"}],\"barpolar\":[{\"marker\":{\"line\":{\"color\":\"#E5ECF6\",\"width\":0.5},\"pattern\":{\"fillmode\":\"overlay\",\"size\":10,\"solidity\":0.2}},\"type\":\"barpolar\"}],\"pie\":[{\"automargin\":true,\"type\":\"pie\"}]},\"layout\":{\"autotypenumbers\":\"strict\",\"colorway\":[\"#636efa\",\"#EF553B\",\"#00cc96\",\"#ab63fa\",\"#FFA15A\",\"#19d3f3\",\"#FF6692\",\"#B6E880\",\"#FF97FF\",\"#FECB52\"],\"font\":{\"color\":\"#2a3f5f\"},\"hovermode\":\"closest\",\"hoverlabel\":{\"align\":\"left\"},\"paper_bgcolor\":\"white\",\"plot_bgcolor\":\"#E5ECF6\",\"polar\":{\"bgcolor\":\"#E5ECF6\",\"angularaxis\":{\"gridcolor\":\"white\",\"linecolor\":\"white\",\"ticks\":\"\"},\"radialaxis\":{\"gridcolor\":\"white\",\"linecolor\":\"white\",\"ticks\":\"\"}},\"ternary\":{\"bgcolor\":\"#E5ECF6\",\"aaxis\":{\"gridcolor\":\"white\",\"linecolor\":\"white\",\"ticks\":\"\"},\"baxis\":{\"gridcolor\":\"white\",\"linecolor\":\"white\",\"ticks\":\"\"},\"caxis\":{\"gridcolor\":\"white\",\"linecolor\":\"white\",\"ticks\":\"\"}},\"coloraxis\":{\"colorbar\":{\"outlinewidth\":0,\"ticks\":\"\"}},\"colorscale\":{\"sequential\":[[0.0,\"#0d0887\"],[0.1111111111111111,\"#46039f\"],[0.2222222222222222,\"#7201a8\"],[0.3333333333333333,\"#9c179e\"],[0.4444444444444444,\"#bd3786\"],[0.5555555555555556,\"#d8576b\"],[0.6666666666666666,\"#ed7953\"],[0.7777777777777778,\"#fb9f3a\"],[0.8888888888888888,\"#fdca26\"],[1.0,\"#f0f921\"]],\"sequentialminus\":[[0.0,\"#0d0887\"],[0.1111111111111111,\"#46039f\"],[0.2222222222222222,\"#7201a8\"],[0.3333333333333333,\"#9c179e\"],[0.4444444444444444,\"#bd3786\"],[0.5555555555555556,\"#d8576b\"],[0.6666666666666666,\"#ed7953\"],[0.7777777777777778,\"#fb9f3a\"],[0.8888888888888888,\"#fdca26\"],[1.0,\"#f0f921\"]],\"diverging\":[[0,\"#8e0152\"],[0.1,\"#c51b7d\"],[0.2,\"#de77ae\"],[0.3,\"#f1b6da\"],[0.4,\"#fde0ef\"],[0.5,\"#f7f7f7\"],[0.6,\"#e6f5d0\"],[0.7,\"#b8e186\"],[0.8,\"#7fbc41\"],[0.9,\"#4d9221\"],[1,\"#276419\"]]},\"xaxis\":{\"gridcolor\":\"white\",\"linecolor\":\"white\",\"ticks\":\"\",\"title\":{\"standoff\":15},\"zerolinecolor\":\"white\",\"automargin\":true,\"zerolinewidth\":2},\"yaxis\":{\"gridcolor\":\"white\",\"linecolor\":\"white\",\"ticks\":\"\",\"title\":{\"standoff\":15},\"zerolinecolor\":\"white\",\"automargin\":true,\"zerolinewidth\":2},\"scene\":{\"xaxis\":{\"backgroundcolor\":\"#E5ECF6\",\"gridcolor\":\"white\",\"linecolor\":\"white\",\"showbackground\":true,\"ticks\":\"\",\"zerolinecolor\":\"white\",\"gridwidth\":2},\"yaxis\":{\"backgroundcolor\":\"#E5ECF6\",\"gridcolor\":\"white\",\"linecolor\":\"white\",\"showbackground\":true,\"ticks\":\"\",\"zerolinecolor\":\"white\",\"gridwidth\":2},\"zaxis\":{\"backgroundcolor\":\"#E5ECF6\",\"gridcolor\":\"white\",\"linecolor\":\"white\",\"showbackground\":true,\"ticks\":\"\",\"zerolinecolor\":\"white\",\"gridwidth\":2}},\"shapedefaults\":{\"line\":{\"color\":\"#2a3f5f\"}},\"annotationdefaults\":{\"arrowcolor\":\"#2a3f5f\",\"arrowhead\":0,\"arrowwidth\":1},\"geo\":{\"bgcolor\":\"white\",\"landcolor\":\"#E5ECF6\",\"subunitcolor\":\"white\",\"showland\":true,\"showlakes\":true,\"lakecolor\":\"white\"},\"title\":{\"x\":0.05},\"mapbox\":{\"style\":\"light\"}}},\"title\":{\"text\":\"Top Flight Routes (Interactive Map)\"},\"geo\":{\"projection\":{\"type\":\"azimuthal equal area\"},\"scope\":\"north america\",\"showland\":true,\"landcolor\":\"rgb(243, 243, 243)\",\"countrycolor\":\"rgb(204, 204, 204)\"},\"showlegend\":true,\"height\":800},                        {\"responsive\": true}                    ).then(function(){\n",
       "                            \n",
       "var gd = document.getElementById('46641ed4-093a-4a7b-b69d-791735d0b532');\n",
       "var x = new MutationObserver(function (mutations, observer) {{\n",
       "        var display = window.getComputedStyle(gd).display;\n",
       "        if (!display || display === 'none') {{\n",
       "            console.log([gd, 'removed!']);\n",
       "            Plotly.purge(gd);\n",
       "            observer.disconnect();\n",
       "        }}\n",
       "}});\n",
       "\n",
       "// Listen for the removal of the full notebook cells\n",
       "var notebookContainer = gd.closest('#notebook-container');\n",
       "if (notebookContainer) {{\n",
       "    x.observe(notebookContainer, {childList: true});\n",
       "}}\n",
       "\n",
       "// Listen for the clearing of the current output cell\n",
       "var outputEl = gd.closest('.output');\n",
       "if (outputEl) {{\n",
       "    x.observe(outputEl, {childList: true});\n",
       "}}\n",
       "\n",
       "                        })                };            </script>        </div>"
      ]
     },
     "metadata": {},
     "output_type": "display_data"
    }
   ],
   "source": [
    "fig = go.Figure()\n",
    "\n",
    "# ─── Add Airport Markers ─────────────────────────────────────────────\n",
    "# Collect unique airport locations from both Origin and Dest\n",
    "airport_df = pd.concat([\n",
    "    top_routes_pd[['Origin', 'Origin_Lat', 'Origin_Lon']].rename(\n",
    "        columns={\"Origin\": \"IATA\", \"Origin_Lat\": \"lat\", \"Origin_Lon\": \"lon\"}),\n",
    "    top_routes_pd[['Dest', 'Dest_Lat', 'Dest_Lon']].rename(\n",
    "        columns={\"Dest\": \"IATA\", \"Dest_Lat\": \"lat\", \"Dest_Lon\": \"lon\"})\n",
    "]).drop_duplicates(subset=[\"IATA\"])\n",
    "\n",
    "fig.add_trace(go.Scattergeo(\n",
    "    locationmode='USA-states',\n",
    "    lon=airport_df[\"lon\"],\n",
    "    lat=airport_df[\"lat\"],\n",
    "    hoverinfo='text',\n",
    "    text=airport_df[\"IATA\"],\n",
    "    mode='markers',\n",
    "    marker=dict(\n",
    "        size=4,\n",
    "        color='blue',\n",
    "        line=dict(width=1, color='rgba(68, 68, 68, 0)')\n",
    "    ),\n",
    "    name=\"Airports\"\n",
    "))\n",
    "\n",
    "# ─── Add Flight Routes ───────────────────────────────────────────────\n",
    "for _, row in top_routes_pd.iterrows():\n",
    "    fig.add_trace(go.Scattergeo(\n",
    "        locationmode='USA-states',\n",
    "        lon=[row[\"Origin_Lon\"], row[\"Dest_Lon\"]],\n",
    "        lat=[row[\"Origin_Lat\"], row[\"Dest_Lat\"]],\n",
    "        mode='lines',\n",
    "        line=dict(width=1, color='red'),\n",
    "        opacity=row[\"num_flights\"] / top_routes_pd[\"num_flights\"].max(),\n",
    "        name=f\"{row['Origin']} → {row['Dest']}\"\n",
    "    ))\n",
    "\n",
    "# ─── Layout & Display ────────────────────────────────────────────────\n",
    "fig.update_layout(\n",
    "    title_text='Top 1000 Flight Routes (Interactive Map)',\n",
    "    showlegend=True,\n",
    "    geo=dict(\n",
    "        scope='north america',\n",
    "        projection_type='azimuthal equal area',\n",
    "        showland=True,\n",
    "        landcolor='rgb(243, 243, 243)',\n",
    "        countrycolor='rgb(204, 204, 204)',\n",
    "    ),\n",
    "    height=500\n",
    ")\n",
    "\n",
    "fig.show()"
   ]
  },
  {
   "cell_type": "code",
   "execution_count": null,
   "id": "f1d175e6-30f4-476c-90c7-92c94afca2cf",
   "metadata": {},
   "outputs": [],
   "source": [
    "# import plotly.graph_objects as go\n",
    "# import plotly.io as pio\n",
    "\n",
    "# pio.renderers.default = 'notebook'\n",
    "\n",
    "# fig = go.Figure()\n",
    "\n",
    "# for _, row in top_routes_pd.iterrows():\n",
    "#     fig.add_trace(go.Scattergeo(\n",
    "#         locationmode='ISO-3',\n",
    "#         lon=[row[\"Origin_Lon\"], row[\"Dest_Lon\"]],\n",
    "#         lat=[row[\"Origin_Lat\"], row[\"Dest_Lat\"]],\n",
    "#         mode='lines',\n",
    "#         line=dict(width=min(0.01 + row['num_flights'] / top_routes_pd['num_flights'].max(), 1), color='blue'),\n",
    "#         opacity=min(0.01 + row['num_flights'] / top_routes_pd['num_flights'].max(), 1),\n",
    "#         hoverinfo='text',\n",
    "#         text=f\"{row['Origin']} → {row['Dest']} ({row['num_flights']} flights)\",\n",
    "#         name=f\"{row['Origin']} → {row['Dest']}\"  # ✅ this makes it show up in legend\n",
    "#     ))\n",
    "\n",
    "# fig.update_geos(\n",
    "#     scope=\"north america\",  # ✅ focus only on the USA\n",
    "#     showland=True,\n",
    "#     landcolor=\"rgb(243, 243, 243)\",\n",
    "#     countrycolor=\"rgb(204, 204, 204)\"\n",
    "# )\n",
    "\n",
    "# fig.update_layout(\n",
    "#     title_text=\"Top 1000 Most Frequent Flight Routes\",\n",
    "#     showlegend=True,  # ✅ Ensure legend is visible\n",
    "#     height=500,\n",
    "#     margin={\"r\":0,\"t\":30,\"l\":0,\"b\":0}\n",
    "# )\n",
    "\n",
    "# fig.show()"
   ]
  },
  {
   "cell_type": "markdown",
   "id": "54a9b1a7-04a2-4203-b9d0-3083f61cf9d7",
   "metadata": {},
   "source": [
    "## 2. Train First Model: Random Forest Classifier + Feature Selection\n",
    "\n",
    "- RF cannot handle missing values\n",
    "- Values must be numeric (categorical features must be indexed)\n",
    "- Define Label column (Classification df['ArrDelayGroups'] or Regression df['ArrDelay'])"
   ]
  },
  {
   "cell_type": "markdown",
   "id": "369517c4-5406-4df2-898b-dc1d08b4d456",
   "metadata": {},
   "source": [
    "### Split dataset into train, test, validation set (x & y)"
   ]
  },
  {
   "cell_type": "code",
   "execution_count": null,
   "id": "aa28b92b-f190-4d27-a3fd-438b5783abc9",
   "metadata": {},
   "outputs": [],
   "source": []
  },
  {
   "cell_type": "markdown",
   "id": "2c279693-1d3f-4ea8-9eda-46ab5cc6909b",
   "metadata": {},
   "source": [
    "### Optimize Random Forest Classifier Using Validation Dataset\n",
    "\n",
    "- numTrees\n",
    "- maxDepth\n",
    "- minInstancesPerNode"
   ]
  },
  {
   "cell_type": "code",
   "execution_count": null,
   "id": "2ac0b92f-913e-4f00-ba2d-64964bb7fda2",
   "metadata": {},
   "outputs": [],
   "source": []
  },
  {
   "cell_type": "markdown",
   "id": "8cde5a81-40a3-4589-a547-b2f5ae049f2d",
   "metadata": {},
   "source": [
    "### Train RF Classifier & Apply to Test Dataset"
   ]
  },
  {
   "cell_type": "code",
   "execution_count": null,
   "id": "da8fe409-cdb2-4d0a-905f-88eb10d4466a",
   "metadata": {},
   "outputs": [],
   "source": []
  }
 ],
 "metadata": {
  "kernelspec": {
   "display_name": "Python 3 (ipykernel)",
   "language": "python",
   "name": "python3"
  },
  "language_info": {
   "codemirror_mode": {
    "name": "ipython",
    "version": 3
   },
   "file_extension": ".py",
   "mimetype": "text/x-python",
   "name": "python",
   "nbconvert_exporter": "python",
   "pygments_lexer": "ipython3",
   "version": "3.9.6"
  }
 },
 "nbformat": 4,
 "nbformat_minor": 5
}
