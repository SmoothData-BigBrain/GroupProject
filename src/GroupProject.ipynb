{
 "cells": [
  {
   "cell_type": "code",
   "execution_count": 1,
   "id": "1d8cc60b-8fd9-4a6a-b979-c114ba13dd8f",
   "metadata": {},
   "outputs": [],
   "source": [
    "from pyspark import SparkContext\n",
    "from pyspark.sql import SparkSession"
   ]
  },
  {
   "cell_type": "code",
   "execution_count": 2,
   "id": "f6ab8167-b027-4ed9-b731-a7b89df5aef4",
   "metadata": {},
   "outputs": [],
   "source": [
    "from pyspark.sql import functions as F\n",
    "from pyspark.sql.functions import col, isnan, when, count, isnull"
   ]
  },
  {
   "cell_type": "code",
   "execution_count": 3,
   "id": "033ab181-107c-4f77-a3ad-652f6c3ed218",
   "metadata": {},
   "outputs": [],
   "source": [
    "import seaborn as sns\n",
    "import pandas as pd\n",
    "import numpy as np\n",
    "import matplotlib.pyplot as plt"
   ]
  },
  {
   "cell_type": "code",
   "execution_count": 4,
   "id": "40e41cd7-f31e-46cd-bcf1-138b597e7944",
   "metadata": {},
   "outputs": [],
   "source": [
    "spark = SparkSession.builder \\\n",
    "    .appName(\"Flight Data Analysis\") \\\n",
    "    .getOrCreate()"
   ]
  },
  {
   "cell_type": "code",
   "execution_count": 5,
   "id": "07d57f5c-651e-40f1-90fd-5fd30ce2fa18",
   "metadata": {},
   "outputs": [],
   "source": [
    "import glob\n",
    "import os\n",
    "os.getcwd()\n",
    "folder_path = 'raw'\n",
    "csv_files = glob.glob(os.path.join(folder_path, '*.csv'))\n",
    "df = spark.read.csv(csv_files,\n",
    "                       sep = ',',\n",
    "                       inferSchema = True,\n",
    "                       header = True)"
   ]
  },
  {
   "cell_type": "code",
   "execution_count": 8,
   "id": "35740a54-1abf-4d8b-9840-ebd4b670f67d",
   "metadata": {},
   "outputs": [],
   "source": [
    "num_entries = 29193782"
   ]
  },
  {
   "cell_type": "code",
   "execution_count": 22,
   "id": "bbc98c34-1dc1-45ee-921e-cb7c2534331d",
   "metadata": {},
   "outputs": [
    {
     "name": "stdout",
     "output_type": "stream",
     "text": [
      "{'Year': 29193782, 'Quarter': 29193782, 'Month': 29193782, 'DayofMonth': 29193782, 'DayOfWeek': 29193782, 'FlightDate': 29193782, 'Marketing_Airline_Network': 29193782, 'Operated_or_Branded_Code_Share_Partners': 29193782, 'DOT_ID_Marketing_Airline': 29193782, 'IATA_Code_Marketing_Airline': 29193782, 'Flight_Number_Marketing_Airline': 29193782, 'Originally_Scheduled_Code_Share_Airline': 3873, 'DOT_ID_Originally_Scheduled_Code_Share_Airline': 3873, 'IATA_Code_Originally_Scheduled_Code_Share_Airline': 3873, 'Flight_Num_Originally_Scheduled_Code_Share_Airline': 3873, 'Operating_Airline ': 29193782, 'DOT_ID_Operating_Airline': 29193782, 'IATA_Code_Operating_Airline': 29193782, 'Tail_Number': 28926171, 'Flight_Number_Operating_Airline': 29193782, 'OriginAirportID': 29193782, 'OriginAirportSeqID': 29193782, 'OriginCityMarketID': 29193782, 'Origin': 29193782, 'OriginCityName': 29193782, 'OriginState': 29193782, 'OriginStateFips': 29193782, 'OriginStateName': 29193782, 'OriginWac': 29193782, 'DestAirportID': 29193782, 'DestAirportSeqID': 29193782, 'DestCityMarketID': 29193782, 'Dest': 29193782, 'DestCityName': 29193782, 'DestState': 29193782, 'DestStateFips': 29193782, 'DestStateName': 29193782, 'DestWac': 29193782, 'CRSDepTime': 29193782, 'DepTime': 28432130, 'DepDelay': 28430698, 'DepDelayMinutes': 28430698, 'DepDel15': 28430698, 'DepartureDelayGroups': 28430698, 'DepTimeBlk': 29193782, 'TaxiOut': 28413221, 'WheelsOff': 28413231, 'WheelsOn': 28400649, 'TaxiIn': 28400639, 'CRSArrTime': 29193782, 'ArrTime': 28407605, 'ArrDelay': 28347599, 'ArrDelayMinutes': 28347599, 'ArrDel15': 28347599, 'ArrivalDelayGroups': 28347599, 'ArrTimeBlk': 29193782, 'Cancelled': 29193782, 'CancellationCode': 777267, 'Diverted': 29193782, 'CRSElapsedTime': 29193760, 'ActualElapsedTime': 28348145, 'AirTime': 28341221, 'Flights': 29193782, 'Distance': 29193782, 'DistanceGroup': 29193782, 'CarrierDelay': 5006771, 'WeatherDelay': 5006768, 'NASDelay': 5006768, 'SecurityDelay': 5006768, 'LateAircraftDelay': 5006768, 'FirstDepTime': 183136, 'TotalAddGTime': 183116, 'LongestAddGTime': 183117, 'DivAirportLandings': 29193692, 'DivReachedDest': 68349, 'DivActualElapsedTime': 59393, 'DivArrDelay': 59451, 'DivDistance': 68337, 'Div1Airport': 72164, 'Div1AirportID': 72164, 'Div1AirportSeqID': 72164, 'Div1WheelsOn': 72136, 'Div1TotalGTime': 72137, 'Div1LongestGTime': 72137, 'Div1WheelsOff': 59793, 'Div1TailNum': 59812, 'Div2Airport': 607, 'Div2AirportID': 612, 'Div2AirportSeqID': 612, 'Div2WheelsOn': 607, 'Div2TotalGTime': 607, 'Div2LongestGTime': 607, 'Div2WheelsOff': 240, 'Div2TailNum': 240, 'Div3Airport': 4, 'Div3AirportID': 4, 'Div3AirportSeqID': 4, 'Div3WheelsOn': 4, 'Div3TotalGTime': 4, 'Div3LongestGTime': 4, 'Div3WheelsOff': 1, 'Div3TailNum': 1, 'Div4Airport': 0, 'Div4AirportID': 0, 'Div4AirportSeqID': 0, 'Div4WheelsOn': 0, 'Div4TotalGTime': 0, 'Div4LongestGTime': 0, 'Div4WheelsOff': 0, 'Div4TailNum': 0, 'Div5Airport': 0, 'Div5AirportID': 0, 'Div5AirportSeqID': 0, 'Div5WheelsOn': 0, 'Div5TotalGTime': 0, 'Div5LongestGTime': 0, 'Div5WheelsOff': 0, 'Div5TailNum': 0, 'Duplicate': 29193782, '_c119': 0}\n"
     ]
    }
   ],
   "source": [
    "null_counts = df.select([count(col(c)).alias(c) for c in df.columns]).collect()[0].asDict()\n",
    "print(null_counts)"
   ]
  },
  {
   "cell_type": "code",
   "execution_count": 36,
   "id": "8a226561-f033-41d1-a543-c186e73fc152",
   "metadata": {},
   "outputs": [
    {
     "name": "stdout",
     "output_type": "stream",
     "text": [
      "['Year', 'Quarter', 'Month', 'DayofMonth', 'DayOfWeek', 'FlightDate', 'Marketing_Airline_Network', 'Operated_or_Branded_Code_Share_Partners', 'DOT_ID_Marketing_Airline', 'IATA_Code_Marketing_Airline', 'Flight_Number_Marketing_Airline', 'Operating_Airline ', 'DOT_ID_Operating_Airline', 'IATA_Code_Operating_Airline', 'Tail_Number', 'Flight_Number_Operating_Airline', 'OriginAirportID', 'OriginAirportSeqID', 'OriginCityMarketID', 'Origin', 'OriginCityName', 'OriginState', 'OriginStateFips', 'OriginStateName', 'OriginWac', 'DestAirportID', 'DestAirportSeqID', 'DestCityMarketID', 'Dest', 'DestCityName', 'DestState', 'DestStateFips', 'DestStateName', 'DestWac', 'CRSDepTime', 'DepTime', 'DepDelay', 'DepDelayMinutes', 'DepDel15', 'DepartureDelayGroups', 'DepTimeBlk', 'TaxiOut', 'WheelsOff', 'WheelsOn', 'TaxiIn', 'CRSArrTime', 'ArrTime', 'ArrDelay', 'ArrDelayMinutes', 'ArrDel15', 'ArrivalDelayGroups', 'ArrTimeBlk', 'Cancelled', 'Diverted', 'CRSElapsedTime', 'ActualElapsedTime', 'AirTime', 'Flights', 'Distance', 'DistanceGroup', 'DivAirportLandings', 'Duplicate']\n"
     ]
    }
   ],
   "source": [
    "columns_with_few_nulls = [col_name for col_name, count_val in null_counts.items() if count_val > 0.9*num_entries]\n",
    "#columns_with_no_nulls = [col_name for col_name, count_val in null_counts.items() if count_val != 0]\n",
    "print(columns_with_few_nulls)\n",
    "#print(columns_with_all_nulls)\n",
    "#df.select(*columns_with_nulls).show()"
   ]
  },
  {
   "cell_type": "code",
   "execution_count": 41,
   "id": "04dfc3df-a68b-426b-8401-bfbd6fe09ee9",
   "metadata": {},
   "outputs": [
    {
     "name": "stdout",
     "output_type": "stream",
     "text": [
      "+----+-------+-----+----------+---------+----------+-------------------------+---------------------------------------+------------------------+---------------------------+\n",
      "|Year|Quarter|Month|DayofMonth|DayOfWeek|FlightDate|Marketing_Airline_Network|Operated_or_Branded_Code_Share_Partners|DOT_ID_Marketing_Airline|IATA_Code_Marketing_Airline|\n",
      "+----+-------+-----+----------+---------+----------+-------------------------+---------------------------------------+------------------------+---------------------------+\n",
      "|2019|      3|    7|        24|        3|2019-07-24|                       G4|                                     G4|                   20368|                         G4|\n",
      "|2019|      3|    7|        29|        1|2019-07-29|                       G4|                                     G4|                   20368|                         G4|\n",
      "|2019|      3|    7|         7|        7|2019-07-07|                       G4|                                     G4|                   20368|                         G4|\n",
      "|2019|      3|    7|         7|        7|2019-07-07|                       G4|                                     G4|                   20368|                         G4|\n",
      "|2019|      3|    7|         8|        1|2019-07-08|                       G4|                                     G4|                   20368|                         G4|\n",
      "|2019|      3|    7|        20|        6|2019-07-20|                       G4|                                     G4|                   20368|                         G4|\n",
      "|2019|      3|    7|        25|        4|2019-07-25|                       G4|                                     G4|                   20368|                         G4|\n",
      "|2019|      3|    7|        31|        3|2019-07-31|                       G4|                                     G4|                   20368|                         G4|\n",
      "|2019|      3|    7|         2|        2|2019-07-02|                       G4|                                     G4|                   20368|                         G4|\n",
      "|2019|      3|    7|         2|        2|2019-07-02|                       G4|                                     G4|                   20368|                         G4|\n",
      "|2019|      3|    7|         4|        4|2019-07-04|                       G4|                                     G4|                   20368|                         G4|\n",
      "|2019|      3|    7|        18|        4|2019-07-18|                       G4|                                     G4|                   20368|                         G4|\n",
      "|2019|      3|    7|        19|        5|2019-07-19|                       G4|                                     G4|                   20368|                         G4|\n",
      "|2019|      3|    7|        19|        5|2019-07-19|                       G4|                                     G4|                   20368|                         G4|\n",
      "|2019|      3|    7|        21|        7|2019-07-21|                       G4|                                     G4|                   20368|                         G4|\n",
      "|2019|      3|    7|         2|        2|2019-07-02|                       G4|                                     G4|                   20368|                         G4|\n",
      "|2019|      3|    7|        15|        1|2019-07-15|                       G4|                                     G4|                   20368|                         G4|\n",
      "|2019|      3|    7|        12|        5|2019-07-12|                       G4|                                     G4|                   20368|                         G4|\n",
      "|2019|      3|    7|        16|        2|2019-07-16|                       G4|                                     G4|                   20368|                         G4|\n",
      "|2019|      3|    7|        17|        3|2019-07-17|                       G4|                                     G4|                   20368|                         G4|\n",
      "+----+-------+-----+----------+---------+----------+-------------------------+---------------------------------------+------------------------+---------------------------+\n",
      "only showing top 20 rows\n",
      "\n"
     ]
    }
   ],
   "source": [
    "newdf = df.select(columns_with_few_nulls)\n",
    "newdf.select(newdf.columns[0:10]).show()"
   ]
  },
  {
   "cell_type": "code",
   "execution_count": 43,
   "id": "4984a017-d287-4271-a46e-75a4f6069ee0",
   "metadata": {},
   "outputs": [
    {
     "name": "stdout",
     "output_type": "stream",
     "text": [
      "+-------------------------------+------------------+------------------------+---------------------------+-----------+-------------------------------+---------------+------------------+------------------+\n",
      "|Flight_Number_Marketing_Airline|Operating_Airline |DOT_ID_Operating_Airline|IATA_Code_Operating_Airline|Tail_Number|Flight_Number_Operating_Airline|OriginAirportID|OriginAirportSeqID|OriginCityMarketID|\n",
      "+-------------------------------+------------------+------------------------+---------------------------+-----------+-------------------------------+---------------+------------------+------------------+\n",
      "|                           1246|                G4|                   20368|                         G4|      249NV|                           1246|          14112|           1411206|             33195|\n",
      "|                           2106|                G4|                   20368|                         G4|      319NV|                           2106|          10423|           1042302|             30423|\n",
      "|                            112|                G4|                   20368|                         G4|      324NV|                            112|          11980|           1198002|             31980|\n",
      "|                            802|                G4|                   20368|                         G4|      325NV|                            802|          10423|           1042302|             30423|\n",
      "|                            833|                G4|                   20368|                         G4|      261NV|                            833|          12339|           1233904|             32337|\n",
      "|                           1729|                G4|                   20368|                         G4|      222NV|                           1729|          14025|           1402501|             34025|\n",
      "|                           2400|                G4|                   20368|                         G4|      229NV|                           2400|          11986|           1198603|             31986|\n",
      "|                           2941|                G4|                   20368|                         G4|      304NV|                           2941|          10693|           1069302|             30693|\n",
      "|                           2196|                G4|                   20368|                         G4|      316NV|                           2196|          14761|           1476107|             34761|\n",
      "|                           2296|                G4|                   20368|                         G4|      329NV|                           2296|          14761|           1476107|             34761|\n",
      "|                            371|                G4|                   20368|                         G4|      271NV|                            371|          14252|           1425202|             34252|\n",
      "|                           1590|                G4|                   20368|                         G4|      250NV|                           1590|          14512|           1451202|             34512|\n",
      "|                            683|                G4|                   20368|                         G4|      282NV|                            683|          15376|           1537604|             30436|\n",
      "|                            767|                G4|                   20368|                         G4|      309NV|                            767|          14112|           1411206|             33195|\n",
      "|                             83|                G4|                   20368|                         G4|      324NV|                             83|          10676|           1067602|             30676|\n",
      "|                            954|                G4|                   20368|                         G4|      312NV|                            954|          12917|           1291703|             31066|\n",
      "|                            428|                G4|                   20368|                         G4|      245NV|                            428|          15412|           1541205|             35412|\n",
      "|                           1640|                G4|                   20368|                         G4|      244NV|                           1640|          14082|           1408202|             34082|\n",
      "|                            819|                G4|                   20368|                         G4|      226NV|                            819|          11003|           1100303|             31003|\n",
      "|                             42|                G4|                   20368|                         G4|      306NV|                             42|          10466|           1046602|             30466|\n",
      "+-------------------------------+------------------+------------------------+---------------------------+-----------+-------------------------------+---------------+------------------+------------------+\n",
      "only showing top 20 rows\n",
      "\n"
     ]
    }
   ],
   "source": [
    "newdf.select(newdf.columns[10:19]).show()"
   ]
  },
  {
   "cell_type": "code",
   "execution_count": 47,
   "id": "a7c131ea-1371-442f-a13b-e20fef619f96",
   "metadata": {},
   "outputs": [
    {
     "name": "stdout",
     "output_type": "stream",
     "text": [
      "+------+--------------------+-----------+---------------+---------------+---------+-------------+----------------+----------------+----+--------------------+---------+-------------+--------------+\n",
      "|Origin|      OriginCityName|OriginState|OriginStateFips|OriginStateName|OriginWac|DestAirportID|DestAirportSeqID|DestCityMarketID|Dest|        DestCityName|DestState|DestStateFips| DestStateName|\n",
      "+------+--------------------+-----------+---------------+---------------+---------+-------------+----------------+----------------+----+--------------------+---------+-------------+--------------+\n",
      "|   PIE|  St. Petersburg, FL|         FL|             12|        Florida|       33|        10431|         1043105|           30431| AVL|       Asheville, NC|       NC|           37|North Carolina|\n",
      "|   AUS|          Austin, TX|         TX|             48|          Texas|       74|        14761|         1476107|           34761| SFB|         Sanford, FL|       FL|           12|       Florida|\n",
      "|   GRI|    Grand Island, NE|         NE|             31|       Nebraska|       65|        12889|         1288903|           32211| LAS|       Las Vegas, NV|       NV|           32|        Nevada|\n",
      "|   AUS|          Austin, TX|         TX|             48|          Texas|       74|        13244|         1324402|           33244| MEM|         Memphis, TN|       TN|           47|     Tennessee|\n",
      "|   IND|    Indianapolis, IN|         IN|             18|        Indiana|       42|        14112|         1411206|           33195| PIE|  St. Petersburg, FL|       FL|           12|       Florida|\n",
      "|   PBG|     Plattsburgh, NY|         NY|             36|       New York|       22|        11697|         1169706|           32467| FLL| Fort Lauderdale, FL|       FL|           12|       Florida|\n",
      "|   GRR|    Grand Rapids, MI|         MI|             26|       Michigan|       43|        10466|         1046602|           30466| AZA|         Phoenix, AZ|       AZ|            4|       Arizona|\n",
      "|   BNA|       Nashville, TN|         TN|             47|      Tennessee|       54|        11003|         1100303|           31003| CID|Cedar Rapids/Iowa...|       IA|           19|          Iowa|\n",
      "|   SFB|         Sanford, FL|         FL|             12|        Florida|       33|        12992|         1299206|           32600| LIT|     Little Rock, AR|       AR|            5|      Arkansas|\n",
      "|   SFB|         Sanford, FL|         FL|             12|        Florida|       33|        11423|         1142307|           31423| DSM|      Des Moines, IA|       IA|           19|          Iowa|\n",
      "|   PSC|Pasco/Kennewick/R...|         WA|             53|     Washington|       93|        12892|         1289208|           32575| LAX|     Los Angeles, CA|       CA|            6|    California|\n",
      "|   RFD|        Rockford, IL|         IL|             17|       Illinois|       41|        14082|         1408202|           34082| PGD|     Punta Gorda, FL|       FL|           12|       Florida|\n",
      "|   TUS|          Tucson, AZ|         AZ|              4|        Arizona|       81|        14314|         1431402|           34314| PVU|           Provo, UT|       UT|           49|          Utah|\n",
      "|   PIE|  St. Petersburg, FL|         FL|             12|        Florida|       33|        11823|         1182304|           31823| FWA|      Fort Wayne, IN|       IN|           18|       Indiana|\n",
      "|   BLV|      Belleville, IL|         IL|             17|       Illinois|       41|        12889|         1288903|           32211| LAS|       Las Vegas, NV|       NV|           32|        Nevada|\n",
      "|   LCK|        Columbus, OH|         OH|             39|           Ohio|       44|        14112|         1411206|           33195| PIE|  St. Petersburg, FL|       FL|           12|       Florida|\n",
      "|   TYS|       Knoxville, TN|         TN|             47|      Tennessee|       54|        10821|         1082106|           30852| BWI|       Baltimore, MD|       MD|           24|      Maryland|\n",
      "|   PGD|     Punta Gorda, FL|         FL|             12|        Florida|       33|        10693|         1069302|           30693| BNA|       Nashville, TN|       TN|           47|     Tennessee|\n",
      "|   CID|Cedar Rapids/Iowa...|         IA|             19|           Iowa|       61|        14112|         1411206|           33195| PIE|  St. Petersburg, FL|       FL|           12|       Florida|\n",
      "|   AZA|         Phoenix, AZ|         AZ|              4|        Arizona|       81|        12889|         1288903|           32211| LAS|       Las Vegas, NV|       NV|           32|        Nevada|\n",
      "+------+--------------------+-----------+---------------+---------------+---------+-------------+----------------+----------------+----+--------------------+---------+-------------+--------------+\n",
      "only showing top 20 rows\n",
      "\n"
     ]
    }
   ],
   "source": [
    "newdf.select(newdf.columns[19:33]).show()"
   ]
  },
  {
   "cell_type": "code",
   "execution_count": 49,
   "id": "560f9315-25d8-4014-9d29-ad13d882340f",
   "metadata": {},
   "outputs": [
    {
     "name": "stdout",
     "output_type": "stream",
     "text": [
      "+-------+----------+-------+--------+---------------+--------+--------------------+----------+-------+---------+--------+------+----------+-------+--------+---------------+--------+\n",
      "|DestWac|CRSDepTime|DepTime|DepDelay|DepDelayMinutes|DepDel15|DepartureDelayGroups|DepTimeBlk|TaxiOut|WheelsOff|WheelsOn|TaxiIn|CRSArrTime|ArrTime|ArrDelay|ArrDelayMinutes|ArrDel15|\n",
      "+-------+----------+-------+--------+---------------+--------+--------------------+----------+-------+---------+--------+------+----------+-------+--------+---------------+--------+\n",
      "|     36|      1511|   1533|    22.0|           22.0|     1.0|                   1| 1500-1559|   13.0|     1546|    1652|   7.0|      1644|   1659|    15.0|           15.0|     1.0|\n",
      "|     33|      2002|   2010|     8.0|            8.0|     0.0|                   0| 2000-2059|   16.0|     2026|    2338|   6.0|      2335|   2344|     9.0|            9.0|     0.0|\n",
      "|     85|      1118|   1118|     0.0|            0.0|     0.0|                   0| 1100-1159|    7.0|     1125|    1133|   6.0|      1144|   1139|    -5.0|            0.0|     0.0|\n",
      "|     54|      1643|   1726|    43.0|           43.0|     1.0|                   2| 1600-1659|   12.0|     1738|    1913|   9.0|      1827|   1922|    55.0|           55.0|     1.0|\n",
      "|     33|       858|    905|     7.0|            7.0|     0.0|                   0| 0800-0859|   10.0|      915|    1113|   6.0|      1107|   1119|    12.0|           12.0|     0.0|\n",
      "|     33|      1139|   1135|    -4.0|            0.0|     0.0|                  -1| 1100-1159|    5.0|     1140|    1428|   8.0|      1457|   1436|   -21.0|            0.0|     0.0|\n",
      "|     81|      1233|   1240|     7.0|            7.0|     0.0|                   0| 1200-1259|   11.0|     1251|    1302|  12.0|      1315|   1314|    -1.0|            0.0|     0.0|\n",
      "|     61|      1529|   1528|    -1.0|            0.0|     0.0|                  -1| 1500-1559|   11.0|     1539|    1647|   7.0|      1701|   1654|    -7.0|            0.0|     0.0|\n",
      "|     71|      1800|   1907|    67.0|           67.0|     1.0|                   4| 1800-1859|   14.0|     1921|    2008|   8.0|      1911|   2016|    65.0|           65.0|     1.0|\n",
      "|     61|      1141|   1136|    -5.0|            0.0|     0.0|                  -1| 1100-1159|   21.0|     1157|    1322|   5.0|      1330|   1327|    -3.0|            0.0|     0.0|\n",
      "|     91|      1842|   1854|    12.0|           12.0|     0.0|                   0| 1800-1859|   12.0|     1906|    2103|  22.0|      2104|   2125|    21.0|           21.0|     1.0|\n",
      "|     33|      1639|   1652|    13.0|           13.0|     0.0|                   0| 1600-1659|   12.0|     1704|    2029|   6.0|      2019|   2035|    16.0|           16.0|     1.0|\n",
      "|     87|      1528|   1527|    -1.0|            0.0|     0.0|                  -1| 1500-1559|   12.0|     1539|    1751|   5.0|      1808|   1756|   -12.0|            0.0|     0.0|\n",
      "|     42|      1817|   1813|    -4.0|            0.0|     0.0|                  -1| 1800-1859|    9.0|     1822|    2016|   7.0|      2034|   2023|   -11.0|            0.0|     0.0|\n",
      "|     85|      1242|   1231|   -11.0|            0.0|     0.0|                  -1| 1200-1259|    7.0|     1238|    1335|   5.0|      1405|   1340|   -25.0|            0.0|     0.0|\n",
      "|     33|      1021|   1014|    -7.0|            0.0|     0.0|                  -1| 1000-1059|    9.0|     1023|    1211|   7.0|      1231|   1218|   -13.0|            0.0|     0.0|\n",
      "|     35|      1348|   1344|    -4.0|            0.0|     0.0|                  -1| 1300-1359|   13.0|     1357|    1510|   9.0|      1516|   1519|     3.0|            3.0|     0.0|\n",
      "|     54|      1036|   1028|    -8.0|            0.0|     0.0|                  -1| 1000-1059|    8.0|     1036|    1102|   7.0|      1132|   1109|   -23.0|            0.0|     0.0|\n",
      "|     33|      1720|   1835|    75.0|           75.0|     1.0|                   5| 1700-1759|    7.0|     1842|    2205|   8.0|      2056|   2213|    77.0|           77.0|     1.0|\n",
      "|     85|       930|   1018|    48.0|           48.0|     1.0|                   3| 0900-0959|   12.0|     1030|    1115|   6.0|      1036|   1121|    45.0|           45.0|     1.0|\n",
      "+-------+----------+-------+--------+---------------+--------+--------------------+----------+-------+---------+--------+------+----------+-------+--------+---------------+--------+\n",
      "only showing top 20 rows\n",
      "\n"
     ]
    }
   ],
   "source": [
    "newdf.select(newdf.columns[33:50]).show()"
   ]
  },
  {
   "cell_type": "code",
   "execution_count": 50,
   "id": "ede22348-c44c-442d-a28d-c54149a9d1a3",
   "metadata": {},
   "outputs": [
    {
     "name": "stdout",
     "output_type": "stream",
     "text": [
      "+------------------+----------+---------+--------+--------------+-----------------+-------+-------+--------+-------------+------------------+---------+\n",
      "|ArrivalDelayGroups|ArrTimeBlk|Cancelled|Diverted|CRSElapsedTime|ActualElapsedTime|AirTime|Flights|Distance|DistanceGroup|DivAirportLandings|Duplicate|\n",
      "+------------------+----------+---------+--------+--------------+-----------------+-------+-------+--------+-------------+------------------+---------+\n",
      "|                 1| 1600-1659|      0.0|     0.0|          93.0|             86.0|   66.0|    1.0|   519.0|            3|                 0|        N|\n",
      "|                 0| 2300-2359|      0.0|     0.0|         153.0|            154.0|  132.0|    1.0|   994.0|            4|                 0|        N|\n",
      "|                -1| 1100-1159|      0.0|     0.0|         146.0|            141.0|  128.0|    1.0|   971.0|            4|                 0|        N|\n",
      "|                 3| 1800-1859|      0.0|     0.0|         104.0|            116.0|   95.0|    1.0|   559.0|            3|                 0|        N|\n",
      "|                 0| 1100-1159|      0.0|     0.0|         129.0|            134.0|  118.0|    1.0|   840.0|            4|                 0|        N|\n",
      "|                -2| 1400-1459|      0.0|     0.0|         198.0|            181.0|  168.0|    1.0|  1334.0|            6|                 0|        N|\n",
      "|                -1| 1300-1359|      0.0|     0.0|         222.0|            214.0|  191.0|    1.0|  1561.0|            7|                 0|        N|\n",
      "|                -1| 1700-1759|      0.0|     0.0|          92.0|             86.0|   68.0|    1.0|   481.0|            2|                 0|        N|\n",
      "|                 4| 1900-1959|      0.0|     0.0|         131.0|            129.0|  107.0|    1.0|   765.0|            4|                 0|        N|\n",
      "|                -1| 1300-1359|      0.0|     0.0|         169.0|            171.0|  145.0|    1.0|  1124.0|            5|                 0|        N|\n",
      "|                 1| 2100-2159|      0.0|     0.0|         142.0|            151.0|  117.0|    1.0|   851.0|            4|                 0|        N|\n",
      "|                 1| 2000-2059|      0.0|     0.0|         160.0|            163.0|  145.0|    1.0|  1127.0|            5|                 0|        N|\n",
      "|                -1| 1800-1859|      0.0|     0.0|         100.0|             89.0|   72.0|    1.0|   560.0|            3|                 0|        N|\n",
      "|                -1| 2000-2059|      0.0|     0.0|         137.0|            130.0|  114.0|    1.0|   912.0|            4|                 0|        N|\n",
      "|                -2| 1400-1459|      0.0|     0.0|         203.0|            189.0|  177.0|    1.0|  1400.0|            6|                 0|        N|\n",
      "|                -1| 1200-1259|      0.0|     0.0|         130.0|            124.0|  108.0|    1.0|   821.0|            4|                 0|        N|\n",
      "|                 0| 1500-1559|      0.0|     0.0|          88.0|             95.0|   73.0|    1.0|   465.0|            2|                 0|        N|\n",
      "|                -2| 1100-1159|      0.0|     0.0|         116.0|            101.0|   86.0|    1.0|   692.0|            3|                 0|        N|\n",
      "|                 5| 2000-2059|      0.0|     0.0|         156.0|            158.0|  143.0|    1.0|  1090.0|            5|                 0|        N|\n",
      "|                 3| 1000-1059|      0.0|     0.0|          66.0|             63.0|   45.0|    1.0|   276.0|            2|                 0|        N|\n",
      "+------------------+----------+---------+--------+--------------+-----------------+-------+-------+--------+-------------+------------------+---------+\n",
      "only showing top 20 rows\n",
      "\n"
     ]
    }
   ],
   "source": [
    "newdf.select(newdf.columns[50:62]).show()"
   ]
  },
  {
   "cell_type": "code",
   "execution_count": 53,
   "id": "533bed13-34fe-4b6a-b198-bd4e4061d0fe",
   "metadata": {},
   "outputs": [
    {
     "name": "stdout",
     "output_type": "stream",
     "text": [
      "{'Marketing_Airline_Network': 29193782, 'Operated_or_Branded_Code_Share_Partners': 29193782, 'IATA_Code_Marketing_Airline': 29193782, 'Operating_Airline ': 29193782, 'IATA_Code_Operating_Airline': 29193782}\n"
     ]
    }
   ],
   "source": [
    "repeat_cols = [\"Marketing_Airline_Network\", \"Operated_or_Branded_Code_Share_Partners\", \"IATA_Code_Marketing_Airline\", \"Operating_Airline \", \"IATA_Code_Operating_Airline\"]\n",
    "print(newdf.select([count(col(c)).alias(c) for c in repeat_cols]).collect()[0].asDict())"
   ]
  },
  {
   "cell_type": "code",
   "execution_count": 55,
   "id": "49c159cf-e0ed-4518-bf66-f720cca4d5a8",
   "metadata": {},
   "outputs": [
    {
     "name": "stdout",
     "output_type": "stream",
     "text": [
      "39\n"
     ]
    }
   ],
   "source": [
    "print(newdf.select(repeat_cols).distinct().count())"
   ]
  },
  {
   "cell_type": "code",
   "execution_count": 61,
   "id": "f6ed8394-1381-429b-ac3c-80b52c520c8c",
   "metadata": {},
   "outputs": [
    {
     "name": "stdout",
     "output_type": "stream",
     "text": [
      "+----+-----+----------+------+--------------------+--------------------+--------+--------+---------+--------------+-----------------+\n",
      "|Year|Month|DayofMonth|Origin|      OriginCityName|        DestCityName|DepDelay|ArrDelay|Cancelled|CRSElapsedTime|ActualElapsedTime|\n",
      "+----+-----+----------+------+--------------------+--------------------+--------+--------+---------+--------------+-----------------+\n",
      "|2019|    7|        24|   PIE|  St. Petersburg, FL|       Asheville, NC|    22.0|    15.0|      0.0|          93.0|             86.0|\n",
      "|2019|    7|        29|   AUS|          Austin, TX|         Sanford, FL|     8.0|     9.0|      0.0|         153.0|            154.0|\n",
      "|2019|    7|         7|   GRI|    Grand Island, NE|       Las Vegas, NV|     0.0|    -5.0|      0.0|         146.0|            141.0|\n",
      "|2019|    7|         7|   AUS|          Austin, TX|         Memphis, TN|    43.0|    55.0|      0.0|         104.0|            116.0|\n",
      "|2019|    7|         8|   IND|    Indianapolis, IN|  St. Petersburg, FL|     7.0|    12.0|      0.0|         129.0|            134.0|\n",
      "|2019|    7|        20|   PBG|     Plattsburgh, NY| Fort Lauderdale, FL|    -4.0|   -21.0|      0.0|         198.0|            181.0|\n",
      "|2019|    7|        25|   GRR|    Grand Rapids, MI|         Phoenix, AZ|     7.0|    -1.0|      0.0|         222.0|            214.0|\n",
      "|2019|    7|        31|   BNA|       Nashville, TN|Cedar Rapids/Iowa...|    -1.0|    -7.0|      0.0|          92.0|             86.0|\n",
      "|2019|    7|         2|   SFB|         Sanford, FL|     Little Rock, AR|    67.0|    65.0|      0.0|         131.0|            129.0|\n",
      "|2019|    7|         2|   SFB|         Sanford, FL|      Des Moines, IA|    -5.0|    -3.0|      0.0|         169.0|            171.0|\n",
      "|2019|    7|         4|   PSC|Pasco/Kennewick/R...|     Los Angeles, CA|    12.0|    21.0|      0.0|         142.0|            151.0|\n",
      "|2019|    7|        18|   RFD|        Rockford, IL|     Punta Gorda, FL|    13.0|    16.0|      0.0|         160.0|            163.0|\n",
      "|2019|    7|        19|   TUS|          Tucson, AZ|           Provo, UT|    -1.0|   -12.0|      0.0|         100.0|             89.0|\n",
      "|2019|    7|        19|   PIE|  St. Petersburg, FL|      Fort Wayne, IN|    -4.0|   -11.0|      0.0|         137.0|            130.0|\n",
      "|2019|    7|        21|   BLV|      Belleville, IL|       Las Vegas, NV|   -11.0|   -25.0|      0.0|         203.0|            189.0|\n",
      "|2019|    7|         2|   LCK|        Columbus, OH|  St. Petersburg, FL|    -7.0|   -13.0|      0.0|         130.0|            124.0|\n",
      "|2019|    7|        15|   TYS|       Knoxville, TN|       Baltimore, MD|    -4.0|     3.0|      0.0|          88.0|             95.0|\n",
      "|2019|    7|        12|   PGD|     Punta Gorda, FL|       Nashville, TN|    -8.0|   -23.0|      0.0|         116.0|            101.0|\n",
      "|2019|    7|        16|   CID|Cedar Rapids/Iowa...|  St. Petersburg, FL|    75.0|    77.0|      0.0|         156.0|            158.0|\n",
      "|2019|    7|        17|   AZA|         Phoenix, AZ|       Las Vegas, NV|    48.0|    45.0|      0.0|          66.0|             63.0|\n",
      "+----+-----+----------+------+--------------------+--------------------+--------+--------+---------+--------------+-----------------+\n",
      "only showing top 20 rows\n",
      "\n"
     ]
    }
   ],
   "source": [
    "cols_to_keep = [\"Year\", \"Month\", \"DayofMonth\", \"Origin\", \"OriginCityName\", \"DestCityName\", \"DepDelay\", \"ArrDelay\", \"Cancelled\", \"CRSElapsedTime\", \"ActualElapsedTime\"]\n",
    "my_df = newdf.select(cols_to_keep)\n",
    "my_df.show()"
   ]
  },
  {
   "cell_type": "markdown",
   "id": "592d62d5-2d3d-48ec-929b-0427d1f3b30f",
   "metadata": {},
   "source": [
    "## Which Origin Cities had the most delayed flights?"
   ]
  },
  {
   "cell_type": "code",
   "execution_count": 79,
   "id": "1286ba36-aade-4551-a29b-ad5bd5647f19",
   "metadata": {},
   "outputs": [],
   "source": [
    "count_delay = my_df.select([\"Origin\", \"DepDelay\"]).groupBy(\"Origin\")\\\n",
    "        .agg(count(F.when(col(\"DepDelay\") > 0, 1)).alias(\"DelayCount\"), \n",
    "             count(F.when(col(\"DepDelay\") < 0, 1)).alias(\"EarlyCount\"),\n",
    "            count(\"*\").alias(\"TotalCount\")).orderBy(col(\"TotalCount\").desc())\n",
    "pandas_delay = count_delay.toPandas()"
   ]
  },
  {
   "cell_type": "code",
   "execution_count": 92,
   "id": "601ba217-a37f-484a-9c80-e11017cb7fd9",
   "metadata": {},
   "outputs": [],
   "source": [
    "pdf = pandas_delay.copy()\n",
    "pdf[\"OnTimeCount\"] = pdf[\"TotalCount\"] - pdf[\"DelayCount\"] - pdf[\"EarlyCount\"]"
   ]
  },
  {
   "cell_type": "code",
   "execution_count": 93,
   "id": "c48fe210-a7d8-4bba-98ca-575e46bbb5e8",
   "metadata": {},
   "outputs": [
    {
     "data": {
      "text/html": [
       "<div>\n",
       "<style scoped>\n",
       "    .dataframe tbody tr th:only-of-type {\n",
       "        vertical-align: middle;\n",
       "    }\n",
       "\n",
       "    .dataframe tbody tr th {\n",
       "        vertical-align: top;\n",
       "    }\n",
       "\n",
       "    .dataframe thead th {\n",
       "        text-align: right;\n",
       "    }\n",
       "</style>\n",
       "<table border=\"1\" class=\"dataframe\">\n",
       "  <thead>\n",
       "    <tr style=\"text-align: right;\">\n",
       "      <th></th>\n",
       "      <th>Origin</th>\n",
       "      <th>DelayCount</th>\n",
       "      <th>EarlyCount</th>\n",
       "      <th>TotalCount</th>\n",
       "      <th>OnTimeCount</th>\n",
       "    </tr>\n",
       "  </thead>\n",
       "  <tbody>\n",
       "    <tr>\n",
       "      <th>0</th>\n",
       "      <td>ORD</td>\n",
       "      <td>423172</td>\n",
       "      <td>854619</td>\n",
       "      <td>1375187</td>\n",
       "      <td>97396</td>\n",
       "    </tr>\n",
       "    <tr>\n",
       "      <th>1</th>\n",
       "      <td>ATL</td>\n",
       "      <td>431582</td>\n",
       "      <td>828942</td>\n",
       "      <td>1371796</td>\n",
       "      <td>111272</td>\n",
       "    </tr>\n",
       "    <tr>\n",
       "      <th>2</th>\n",
       "      <td>DEN</td>\n",
       "      <td>465001</td>\n",
       "      <td>616559</td>\n",
       "      <td>1170585</td>\n",
       "      <td>89025</td>\n",
       "    </tr>\n",
       "    <tr>\n",
       "      <th>3</th>\n",
       "      <td>DFW</td>\n",
       "      <td>381306</td>\n",
       "      <td>643151</td>\n",
       "      <td>1104266</td>\n",
       "      <td>79809</td>\n",
       "    </tr>\n",
       "    <tr>\n",
       "      <th>4</th>\n",
       "      <td>CLT</td>\n",
       "      <td>269963</td>\n",
       "      <td>579589</td>\n",
       "      <td>907841</td>\n",
       "      <td>58289</td>\n",
       "    </tr>\n",
       "    <tr>\n",
       "      <th>5</th>\n",
       "      <td>LAX</td>\n",
       "      <td>284043</td>\n",
       "      <td>507672</td>\n",
       "      <td>851262</td>\n",
       "      <td>59547</td>\n",
       "    </tr>\n",
       "    <tr>\n",
       "      <th>6</th>\n",
       "      <td>SEA</td>\n",
       "      <td>233671</td>\n",
       "      <td>443438</td>\n",
       "      <td>725350</td>\n",
       "      <td>48241</td>\n",
       "    </tr>\n",
       "    <tr>\n",
       "      <th>7</th>\n",
       "      <td>IAH</td>\n",
       "      <td>198517</td>\n",
       "      <td>441003</td>\n",
       "      <td>689477</td>\n",
       "      <td>49957</td>\n",
       "    </tr>\n",
       "    <tr>\n",
       "      <th>8</th>\n",
       "      <td>PHX</td>\n",
       "      <td>248009</td>\n",
       "      <td>380043</td>\n",
       "      <td>677155</td>\n",
       "      <td>49103</td>\n",
       "    </tr>\n",
       "    <tr>\n",
       "      <th>9</th>\n",
       "      <td>LAS</td>\n",
       "      <td>262752</td>\n",
       "      <td>349872</td>\n",
       "      <td>666148</td>\n",
       "      <td>53524</td>\n",
       "    </tr>\n",
       "    <tr>\n",
       "      <th>10</th>\n",
       "      <td>SFO</td>\n",
       "      <td>189873</td>\n",
       "      <td>369807</td>\n",
       "      <td>599413</td>\n",
       "      <td>39733</td>\n",
       "    </tr>\n",
       "    <tr>\n",
       "      <th>11</th>\n",
       "      <td>DTW</td>\n",
       "      <td>153785</td>\n",
       "      <td>395539</td>\n",
       "      <td>593392</td>\n",
       "      <td>44068</td>\n",
       "    </tr>\n",
       "    <tr>\n",
       "      <th>12</th>\n",
       "      <td>EWR</td>\n",
       "      <td>209558</td>\n",
       "      <td>322843</td>\n",
       "      <td>578014</td>\n",
       "      <td>45613</td>\n",
       "    </tr>\n",
       "    <tr>\n",
       "      <th>13</th>\n",
       "      <td>MCO</td>\n",
       "      <td>213479</td>\n",
       "      <td>317468</td>\n",
       "      <td>574361</td>\n",
       "      <td>43414</td>\n",
       "    </tr>\n",
       "    <tr>\n",
       "      <th>14</th>\n",
       "      <td>MSP</td>\n",
       "      <td>138000</td>\n",
       "      <td>362708</td>\n",
       "      <td>544492</td>\n",
       "      <td>43784</td>\n",
       "    </tr>\n",
       "    <tr>\n",
       "      <th>15</th>\n",
       "      <td>LGA</td>\n",
       "      <td>158512</td>\n",
       "      <td>325566</td>\n",
       "      <td>527881</td>\n",
       "      <td>43803</td>\n",
       "    </tr>\n",
       "    <tr>\n",
       "      <th>16</th>\n",
       "      <td>BOS</td>\n",
       "      <td>162191</td>\n",
       "      <td>313970</td>\n",
       "      <td>512522</td>\n",
       "      <td>36361</td>\n",
       "    </tr>\n",
       "    <tr>\n",
       "      <th>17</th>\n",
       "      <td>PHL</td>\n",
       "      <td>126084</td>\n",
       "      <td>334511</td>\n",
       "      <td>492259</td>\n",
       "      <td>31664</td>\n",
       "    </tr>\n",
       "    <tr>\n",
       "      <th>18</th>\n",
       "      <td>DCA</td>\n",
       "      <td>136375</td>\n",
       "      <td>297622</td>\n",
       "      <td>467788</td>\n",
       "      <td>33791</td>\n",
       "    </tr>\n",
       "    <tr>\n",
       "      <th>19</th>\n",
       "      <td>SLC</td>\n",
       "      <td>135618</td>\n",
       "      <td>293671</td>\n",
       "      <td>467546</td>\n",
       "      <td>38257</td>\n",
       "    </tr>\n",
       "  </tbody>\n",
       "</table>\n",
       "</div>"
      ],
      "text/plain": [
       "   Origin  DelayCount  EarlyCount  TotalCount  OnTimeCount\n",
       "0     ORD      423172      854619     1375187        97396\n",
       "1     ATL      431582      828942     1371796       111272\n",
       "2     DEN      465001      616559     1170585        89025\n",
       "3     DFW      381306      643151     1104266        79809\n",
       "4     CLT      269963      579589      907841        58289\n",
       "5     LAX      284043      507672      851262        59547\n",
       "6     SEA      233671      443438      725350        48241\n",
       "7     IAH      198517      441003      689477        49957\n",
       "8     PHX      248009      380043      677155        49103\n",
       "9     LAS      262752      349872      666148        53524\n",
       "10    SFO      189873      369807      599413        39733\n",
       "11    DTW      153785      395539      593392        44068\n",
       "12    EWR      209558      322843      578014        45613\n",
       "13    MCO      213479      317468      574361        43414\n",
       "14    MSP      138000      362708      544492        43784\n",
       "15    LGA      158512      325566      527881        43803\n",
       "16    BOS      162191      313970      512522        36361\n",
       "17    PHL      126084      334511      492259        31664\n",
       "18    DCA      136375      297622      467788        33791\n",
       "19    SLC      135618      293671      467546        38257"
      ]
     },
     "execution_count": 93,
     "metadata": {},
     "output_type": "execute_result"
    }
   ],
   "source": [
    "top_20 = pdf.head(20)\n",
    "top_20"
   ]
  },
  {
   "cell_type": "code",
   "execution_count": 94,
   "id": "0920fa31-f3bc-4ab1-b651-276377055d9c",
   "metadata": {},
   "outputs": [
    {
     "data": {
      "image/png": "[encoded data removed]",
      "text/plain": [
       "<Figure size 1200x600 with 1 Axes>"
      ]
     },
     "metadata": {},
     "output_type": "display_data"
    }
   ],
   "source": [
    "count_delay = my_df.select([\"Origin\", \"DepDelay\"]).groupBy(\"Origin\")\\\n",
    "        .agg(count(F.when(col(\"DepDelay\") > 0, 1)).alias(\"DelayCount\"), \n",
    "             count(F.when(col(\"DepDelay\") < 0, 1)).alias(\"EarlyCount\"),\n",
    "            count(\"*\").alias(\"TotalCount\")).orderBy(col(\"TotalCount\").desc())\n",
    "pandas_delay = count_delay.toPandas()# Assuming pdf has these columns: OriginCity, DelayedFlights, EarlyFlights, OnTimeFlights\n",
    "\n",
    "# Bar positions\n",
    "cities = top_20[\"Origin\"]\n",
    "x = np.arange(len(cities))\n",
    "\n",
    "# Heights\n",
    "early = top_20[\"EarlyCount\"]\n",
    "on_time = top_20[\"OnTimeCount\"]\n",
    "delayed = top_20[\"DelayCount\"]\n",
    "\n",
    "# Plot\n",
    "plt.figure(figsize=(12, 6))\n",
    "plt.bar(x, early, label=\"Early\", color=\"green\")\n",
    "plt.bar(x, on_time, bottom=early, label=\"On Time\", color=\"gray\")\n",
    "plt.bar(x, delayed, bottom=early + on_time, label=\"Delayed\", color=\"red\")\n",
    "\n",
    "# Labels and formatting\n",
    "plt.xticks(x, cities, rotation=45)\n",
    "plt.ylabel(\"Number of Flights\")\n",
    "plt.title(\"Flight Status by Origin City (Top 20)\")\n",
    "plt.legend(title=\"Flight Status\")\n",
    "plt.tight_layout()\n",
    "plt.show()"
   ]
  },
  {
   "cell_type": "code",
   "execution_count": 6,
   "id": "871d865b-bdc0-4351-baec-9b6b2730cb81",
   "metadata": {},
   "outputs": [
    {
     "ename": "NameError",
     "evalue": "name 'my_df' is not defined",
     "output_type": "error",
     "traceback": [
      "\u001b[0;31m---------------------------------------------------------------------------\u001b[0m",
      "\u001b[0;31mNameError\u001b[0m                                 Traceback (most recent call last)",
      "Cell \u001b[0;32mIn[6], line 1\u001b[0m\n\u001b[0;32m----> 1\u001b[0m year_delay \u001b[38;5;241m=\u001b[39m \u001b[43mmy_df\u001b[49m\u001b[38;5;241m.\u001b[39mselect([\u001b[38;5;124m\"\u001b[39m\u001b[38;5;124mYear\u001b[39m\u001b[38;5;124m\"\u001b[39m, \u001b[38;5;124m\"\u001b[39m\u001b[38;5;124mDepDelay\u001b[39m\u001b[38;5;124m\"\u001b[39m])\u001b[38;5;241m.\u001b[39mgroupBy(\u001b[38;5;124m\"\u001b[39m\u001b[38;5;124mOrigin\u001b[39m\u001b[38;5;124m\"\u001b[39m)\\\n\u001b[1;32m      2\u001b[0m         \u001b[38;5;241m.\u001b[39magg(count(F\u001b[38;5;241m.\u001b[39mwhen(col(\u001b[38;5;124m\"\u001b[39m\u001b[38;5;124mDepDelay\u001b[39m\u001b[38;5;124m\"\u001b[39m) \u001b[38;5;241m>\u001b[39m \u001b[38;5;241m0\u001b[39m, \u001b[38;5;241m1\u001b[39m))\u001b[38;5;241m.\u001b[39malias(\u001b[38;5;124m\"\u001b[39m\u001b[38;5;124mDelayCount\u001b[39m\u001b[38;5;124m\"\u001b[39m), \n\u001b[1;32m      3\u001b[0m              count(F\u001b[38;5;241m.\u001b[39mwhen(col(\u001b[38;5;124m\"\u001b[39m\u001b[38;5;124mDepDelay\u001b[39m\u001b[38;5;124m\"\u001b[39m) \u001b[38;5;241m<\u001b[39m \u001b[38;5;241m0\u001b[39m, \u001b[38;5;241m1\u001b[39m))\u001b[38;5;241m.\u001b[39malias(\u001b[38;5;124m\"\u001b[39m\u001b[38;5;124mEarlyCount\u001b[39m\u001b[38;5;124m\"\u001b[39m),\n\u001b[1;32m      4\u001b[0m             count(\u001b[38;5;124m\"\u001b[39m\u001b[38;5;124m*\u001b[39m\u001b[38;5;124m\"\u001b[39m)\u001b[38;5;241m.\u001b[39malias(\u001b[38;5;124m\"\u001b[39m\u001b[38;5;124mTotalCount\u001b[39m\u001b[38;5;124m\"\u001b[39m))\u001b[38;5;241m.\u001b[39morderBy(col(\u001b[38;5;124m\"\u001b[39m\u001b[38;5;124mTotalCount\u001b[39m\u001b[38;5;124m\"\u001b[39m)\u001b[38;5;241m.\u001b[39mdesc())\n\u001b[1;32m      5\u001b[0m pandas_year_delay \u001b[38;5;241m=\u001b[39m count_delay\u001b[38;5;241m.\u001b[39mtoPandas()\n",
      "\u001b[0;31mNameError\u001b[0m: name 'my_df' is not defined"
     ]
    }
   ],
   "source": [
    "year_delay = my_df.select([\"Year\", \"DepDelay\"]).groupBy(\"Origin\")\\\n",
    "        .agg(count(F.when(col(\"DepDelay\") > 0, 1)).alias(\"DelayCount\"), \n",
    "             count(F.when(col(\"DepDelay\") < 0, 1)).alias(\"EarlyCount\"),\n",
    "            count(\"*\").alias(\"TotalCount\")).orderBy(col(\"TotalCount\").desc())\n",
    "pandas_year_delay = count_delay.toPandas()"
   ]
  },
  {
   "cell_type": "code",
   "execution_count": null,
   "id": "ace54170-ec83-4707-8750-011b5e51397f",
   "metadata": {},
   "outputs": [],
   "source": []
  }
 ],
 "metadata": {
  "kernelspec": {
   "display_name": "Python 3 (ipykernel)",
   "language": "python",
   "name": "python3"
  },
  "language_info": {
   "codemirror_mode": {
    "name": "ipython",
    "version": 3
   },
   "file_extension": ".py",
   "mimetype": "text/x-python",
   "name": "python",
   "nbconvert_exporter": "python",
   "pygments_lexer": "ipython3",
   "version": "3.11.6"
  }
 },
 "nbformat": 4,
 "nbformat_minor": 5
}
